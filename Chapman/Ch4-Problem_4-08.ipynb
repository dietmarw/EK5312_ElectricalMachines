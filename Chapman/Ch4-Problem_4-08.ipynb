{
 "cells": [
  {
   "cell_type": "markdown",
   "metadata": {},
   "source": [
    "# Excercises Electric Machinery Fundamentals\n",
    "## Chapter 4"
   ]
  },
  {
   "cell_type": "markdown",
   "metadata": {},
   "source": [
    "## Problem 4-8"
   ]
  },
  {
   "cell_type": "code",
   "execution_count": 1,
   "metadata": {
    "collapsed": false,
    "slideshow": {
     "slide_type": "skip"
    }
   },
   "outputs": [
    {
     "name": "stdout",
     "output_type": "stream",
     "text": [
      "Populating the interactive namespace from numpy and matplotlib\n"
     ]
    },
    {
     "data": {
      "text/plain": [
       "'%.1f'"
      ]
     },
     "execution_count": 1,
     "metadata": {},
     "output_type": "execute_result"
    }
   ],
   "source": [
    "%pylab inline\n",
    "%precision 1"
   ]
  },
  {
   "cell_type": "markdown",
   "metadata": {},
   "source": [
    "### Description"
   ]
  },
  {
   "cell_type": "markdown",
   "metadata": {},
   "source": [
    "A 200-MVA, 12-kV, 0.85-PF-lagging, 50-Hz, 20-pole, Y-connected water turbine generator has a per-unit synchronous reactance of 0.9 and a per-unit armature resistance of 0.1. This generator is operating in parallel with a large power system (infinite bus)."
   ]
  },
  {
   "cell_type": "code",
   "execution_count": 2,
   "metadata": {
    "collapsed": false
   },
   "outputs": [],
   "source": [
    "S   = 200e6 # [VA]\n",
    "Vl  =  12e3 # [V]\n",
    "PF  = 0.85  # lagging\n",
    "fse = 50 # [Hz]\n",
    "p   = 20\n",
    "ra = 0.1 # [pu]\n",
    "xs = 0.9 # [pu]"
   ]
  },
  {
   "cell_type": "markdown",
   "metadata": {},
   "source": [
    "#### (a)\n",
    " \n",
    " * What is the speed of rotation of this generator’s shaft?\n",
    " \n",
    "#### (b)\n",
    " \n",
    " * What is the magnitude of the internal generated voltage $E_A$ at rated conditions?\n",
    " \n",
    "#### (c)\n",
    " \n",
    " * What is the torque angle of the generator at rated conditions?\n",
    "\n",
    "#### (d)\n",
    " \n",
    " * What are the values of the generator’s synchronous reactance and armature resistance in ohms?\n",
    " \n",
    "#### (e)\n",
    "If the field current is held constant, \n",
    " \n",
    " * What is the maximum power possible out of this generator?\n",
    " * How much reserve power or torque does this generator have at full load?\n",
    " \n",
    "#### (f)\n",
    "At the absolute maximum power possible,\n",
    " \n",
    " * How much reactive power will this generator be supplying or consuming? \n",
    " * Sketch the corresponding phasor diagram. (Assume $I_F$ is still unchanged.)"
   ]
  },
  {
   "cell_type": "markdown",
   "metadata": {},
   "source": [
    "### SOLUTION"
   ]
  },
  {
   "cell_type": "markdown",
   "metadata": {},
   "source": [
    "#### (a)\n",
    "The speed of rotation of this generator’s shaft is:\n",
    "\n",
    "$$n_\\text{sync} = \\frac{120f_{se}}{P}$$"
   ]
  },
  {
   "cell_type": "code",
   "execution_count": 3,
   "metadata": {
    "collapsed": false
   },
   "outputs": [
    {
     "name": "stdout",
     "output_type": "stream",
     "text": [
      "\n",
      "n_sync = 300 r/min\n",
      "==================\n"
     ]
    }
   ],
   "source": [
    "n_sync = 120*fse / p\n",
    "print('''\n",
    "n_sync = {:.0f} r/min\n",
    "=================='''.format(n_sync))"
   ]
  },
  {
   "cell_type": "markdown",
   "metadata": {},
   "source": [
    "#### (b)\n",
    "The per-unit phase voltage at rated conditions is $\\vec{v}_\\phi = 1.0 \\angle 0^\\circ$"
   ]
  },
  {
   "cell_type": "code",
   "execution_count": 4,
   "metadata": {
    "collapsed": true
   },
   "outputs": [],
   "source": [
    "vphase = 1.0"
   ]
  },
  {
   "cell_type": "markdown",
   "metadata": {},
   "source": [
    "and the per-unit phase current $\\vec{i}_A$ at rated conditions is"
   ]
  },
  {
   "cell_type": "code",
   "execution_count": 5,
   "metadata": {
    "collapsed": false
   },
   "outputs": [
    {
     "name": "stdout",
     "output_type": "stream",
     "text": [
      "ia = 1.0 pu ∠-31.8°\n"
     ]
    }
   ],
   "source": [
    "ia_angle = -arccos(PF)  # negative because of lagging PF\n",
    "ia = 1.0 * (cos(ia_angle) + sin(ia_angle)*1j)\n",
    "print('ia = {:.1f} pu ∠{:.1f}°'.format(abs(ia), ia_angle/pi*180))"
   ]
  },
  {
   "cell_type": "markdown",
   "metadata": {},
   "source": [
    ", so the per-unit internal generated voltage is:\n",
    "\n",
    "$$\\vec{e_A} = \\vec{v_\\phi} + r_A\\vec{i_A} + jx_S\\vec{I_A}$$"
   ]
  },
  {
   "cell_type": "code",
   "execution_count": 6,
   "metadata": {
    "collapsed": false
   },
   "outputs": [
    {
     "name": "stdout",
     "output_type": "stream",
     "text": [
      "ea = 1.71 pu ∠24.6°\n"
     ]
    }
   ],
   "source": [
    "ea = vphase + ra*ia + xs*1j*ia\n",
    "ea_angle = arctan(ea.imag/ea.real)\n",
    "print('ea = {:.2f} pu ∠{:.1f}°'.format(abs(ea), ea_angle/pi*180))"
   ]
  },
  {
   "cell_type": "markdown",
   "metadata": {},
   "source": [
    "The base phase voltage is:"
   ]
  },
  {
   "cell_type": "code",
   "execution_count": 7,
   "metadata": {
    "collapsed": false
   },
   "outputs": [
    {
     "name": "stdout",
     "output_type": "stream",
     "text": [
      "Vphase_base = 6928V\n"
     ]
    }
   ],
   "source": [
    "Vphase_base = Vl / sqrt(3)\n",
    "print('Vphase_base = {:.0f}V'.format(Vphase_base))"
   ]
  },
  {
   "cell_type": "markdown",
   "metadata": {},
   "source": [
    "so the internal generated voltage is:"
   ]
  },
  {
   "cell_type": "code",
   "execution_count": 8,
   "metadata": {
    "collapsed": false
   },
   "outputs": [
    {
     "name": "stdout",
     "output_type": "stream",
     "text": [
      "\n",
      "EA = 11876 V ∠24.6°\n",
      "===================\n"
     ]
    }
   ],
   "source": [
    "EA = ea * Vphase_base\n",
    "print('''\n",
    "EA = {:.0f} V ∠{:.1f}°\n",
    "==================='''.format(abs(EA), ea_angle/pi*180))"
   ]
  },
  {
   "cell_type": "markdown",
   "metadata": {},
   "source": [
    "#### (c)\n",
    "The torque angle of the generator is:"
   ]
  },
  {
   "cell_type": "code",
   "execution_count": 9,
   "metadata": {
    "collapsed": false
   },
   "outputs": [
    {
     "name": "stdout",
     "output_type": "stream",
     "text": [
      "\n",
      "δ = 24.6°\n",
      "=========\n"
     ]
    }
   ],
   "source": [
    "delta = ea_angle\n",
    "print('''\n",
    "δ = {:.1f}°\n",
    "========='''.format(delta/pi *180))"
   ]
  },
  {
   "cell_type": "markdown",
   "metadata": {},
   "source": [
    "#### (d)\n",
    "The base impedance of the generator is:\n",
    "\n",
    "$$Z_\\text{base} = \\frac{3V^2_{\\phi_\\text{base}}}{S_\\text{base}}$$"
   ]
  },
  {
   "cell_type": "code",
   "execution_count": 10,
   "metadata": {
    "collapsed": false
   },
   "outputs": [
    {
     "name": "stdout",
     "output_type": "stream",
     "text": [
      "Zbase = 0.72 Ω\n"
     ]
    }
   ],
   "source": [
    "Zbase = (3*Vphase_base**2) / S\n",
    "print('Zbase = {:.2f} Ω'.format(Zbase))"
   ]
  },
  {
   "cell_type": "markdown",
   "metadata": {},
   "source": [
    "Therefore the synchronous reactance is:"
   ]
  },
  {
   "cell_type": "code",
   "execution_count": 11,
   "metadata": {
    "collapsed": false
   },
   "outputs": [
    {
     "name": "stdout",
     "output_type": "stream",
     "text": [
      "\n",
      "Xs = 0.648 Ω\n",
      "============\n"
     ]
    }
   ],
   "source": [
    "Xs = xs * Zbase\n",
    "print('''\n",
    "Xs = {:.3f} Ω\n",
    "============'''.format(Xs))"
   ]
  },
  {
   "cell_type": "markdown",
   "metadata": {},
   "source": [
    "and the armature resistance is:"
   ]
  },
  {
   "cell_type": "code",
   "execution_count": 12,
   "metadata": {
    "collapsed": false
   },
   "outputs": [
    {
     "name": "stdout",
     "output_type": "stream",
     "text": [
      "\n",
      "Ra = 0.072 Ω\n",
      "============\n"
     ]
    }
   ],
   "source": [
    "Ra = ra * Zbase\n",
    "print('''\n",
    "Ra = {:.3f} Ω\n",
    "============'''.format(Ra))"
   ]
  },
  {
   "cell_type": "markdown",
   "metadata": {},
   "source": [
    "#### (e)\n",
    "If the field current is held constant (and the armature resistance is ignored), the power out of this generator is given by:\n",
    "\n",
    "$$P = \\frac{3V_\\phi E_A}{X_S}\\sin{\\delta}$$\n",
    "\n",
    "The max power is given by:\n",
    "\n",
    "$$P_\\text{max} = \\frac{3V_\\phi E_A}{X_S}\\sin{90°}$$"
   ]
  },
  {
   "cell_type": "code",
   "execution_count": 13,
   "metadata": {
    "collapsed": false
   },
   "outputs": [
    {
     "name": "stdout",
     "output_type": "stream",
     "text": [
      "\n",
      "Pmax = 381 MW\n",
      "=============\n"
     ]
    }
   ],
   "source": [
    "Pmax = (3*Vphase_base*abs(EA)) / Xs * sin(pi/2)\n",
    "print('''\n",
    "Pmax = {:.0f} MW\n",
    "============='''.format(Pmax/1e6))"
   ]
  },
  {
   "cell_type": "markdown",
   "metadata": {},
   "source": [
    "Since the full load power is:"
   ]
  },
  {
   "cell_type": "code",
   "execution_count": 14,
   "metadata": {
    "collapsed": false
   },
   "outputs": [
    {
     "data": {
      "text/plain": [
       "170.0"
      ]
     },
     "execution_count": 14,
     "metadata": {},
     "output_type": "execute_result"
    }
   ],
   "source": [
    "P = S*PF\n",
    "P/1e6"
   ]
  },
  {
   "cell_type": "markdown",
   "metadata": {},
   "source": [
    "MW, this generator is supplying"
   ]
  },
  {
   "cell_type": "code",
   "execution_count": 15,
   "metadata": {
    "collapsed": false
   },
   "outputs": [
    {
     "data": {
      "text/plain": [
       "44.6"
      ]
     },
     "execution_count": 15,
     "metadata": {},
     "output_type": "execute_result"
    }
   ],
   "source": [
    "P/Pmax*100"
   ]
  },
  {
   "cell_type": "markdown",
   "metadata": {},
   "source": [
    "percent of the maximum possible power at full load conditions."
   ]
  },
  {
   "cell_type": "markdown",
   "metadata": {},
   "source": [
    "#### (f)\n",
    "\n",
    "At the maximum power possible, the torque angle $\\delta =  90^\\circ$, so the phasor $\\vec{E}_A$ will be at an angle of 90°, and the current flowing will be:\n",
    "\n",
    "$$\\vec{E}_A = \\vec{V}_\\phi + R_A\\vec{I}_A + jX_S\\vec{I}_A$$\n",
    "$$\\vec{I}_A = \\frac{\\vec{E}_A - \\vec{V}_\\phi}{R_A + jX_S}$$"
   ]
  },
  {
   "cell_type": "code",
   "execution_count": 16,
   "metadata": {
    "collapsed": false
   },
   "outputs": [
    {
     "name": "stdout",
     "output_type": "stream",
     "text": [
      "Ia_f = 21088 A ∠36.6°\n"
     ]
    }
   ],
   "source": [
    "EA_angle_f = pi / 2 # [rad]\n",
    "EA_f = abs(EA) * (cos(EA_angle_f) + sin(EA_angle_f)*1j)\n",
    "Ia_f = (EA_f - Vphase_base) / (Ra + Xs *1j)\n",
    "Ia_angle_f = arctan(Ia_f.imag/Ia_f.real)\n",
    "print('Ia_f = {:.0f} A ∠{:.1f}°'.format(abs(Ia_f), Ia_angle_f/pi*180))"
   ]
  },
  {
   "cell_type": "markdown",
   "metadata": {},
   "source": [
    "The impedance angle $\\theta$ is:"
   ]
  },
  {
   "cell_type": "code",
   "execution_count": 17,
   "metadata": {
    "collapsed": false
   },
   "outputs": [
    {
     "data": {
      "text/plain": [
       "36.6"
      ]
     },
     "execution_count": 17,
     "metadata": {},
     "output_type": "execute_result"
    }
   ],
   "source": [
    "Ia_angle_f/pi*180"
   ]
  },
  {
   "cell_type": "markdown",
   "metadata": {},
   "source": [
    "degrees, and the reactive power supplied by the generator is:\n",
    "\n",
    "$$Q = 3V_\\phi I_A\\sin{\\theta}$$"
   ]
  },
  {
   "cell_type": "code",
   "execution_count": 18,
   "metadata": {
    "collapsed": false
   },
   "outputs": [
    {
     "name": "stdout",
     "output_type": "stream",
     "text": [
      "\n",
      "Q = 261 var\n",
      "===========\n"
     ]
    }
   ],
   "source": [
    "Q = 3 * Vphase_base * abs(Ia_f) * sin(Ia_angle_f)\n",
    "print('''\n",
    "Q = {:.0f} var\n",
    "==========='''.format(Q/1e6))"
   ]
  },
  {
   "cell_type": "markdown",
   "metadata": {},
   "source": [
    "<img src=\"figs/Problem_4-08.jpg\" width=\"70%\">"
   ]
  }
 ],
 "metadata": {
  "kernelspec": {
   "display_name": "Python 3",
   "language": "python",
   "name": "python3"
  },
  "language_info": {
   "codemirror_mode": {
    "name": "ipython",
    "version": 3
   },
   "file_extension": ".py",
   "mimetype": "text/x-python",
   "name": "python",
   "nbconvert_exporter": "python",
   "pygments_lexer": "ipython3",
   "version": "3.5.2"
  }
 },
 "nbformat": 4,
 "nbformat_minor": 0
}
