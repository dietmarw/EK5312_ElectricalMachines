{
 "cells": [
  {
   "cell_type": "markdown",
   "metadata": {},
   "source": [
    "# Excercises Electric Machinery Fundamentals\n",
    "## Chapter 1"
   ]
  },
  {
   "cell_type": "markdown",
   "metadata": {},
   "source": [
    "## Problem 1-5"
   ]
  },
  {
   "cell_type": "code",
   "execution_count": 1,
   "metadata": {
    "slideshow": {
     "slide_type": "skip"
    }
   },
   "outputs": [
    {
     "name": "stdout",
     "output_type": "stream",
     "text": [
      "Populating the interactive namespace from numpy and matplotlib\n"
     ]
    }
   ],
   "source": [
    "%pylab inline\n",
    "%precision %.4g\n",
    "from scipy import constants as c   # we like to use some constants"
   ]
  },
  {
   "cell_type": "markdown",
   "metadata": {},
   "source": [
    "### Description"
   ]
  },
  {
   "cell_type": "markdown",
   "metadata": {},
   "source": [
    "A ferromagnetic core is shown in Figure P1-2:"
   ]
  },
  {
   "cell_type": "markdown",
   "metadata": {},
   "source": [
    "<img src=\"figs/FigC_P1-2.jpg\" width=\"50%\">"
   ]
  },
  {
   "cell_type": "markdown",
   "metadata": {},
   "source": [
    "The depth of the core is 5 cm. The other dimensions of the core are as shown in the figure. Find the value of the current that will produce a flux of:"
   ]
  },
  {
   "cell_type": "code",
   "execution_count": 2,
   "metadata": {},
   "outputs": [],
   "source": [
    "phi =  0.005   # Wb"
   ]
  },
  {
   "cell_type": "markdown",
   "metadata": {},
   "source": [
    "With this current, \n",
    "\n",
    " * What is the flux density at the top of the core? \n",
    " * What is the flux density at the right side of the core?\n",
    " \n",
    "Assume that the relative permeability of the core is:"
   ]
  },
  {
   "cell_type": "code",
   "execution_count": 3,
   "metadata": {},
   "outputs": [],
   "source": [
    "mu_r = 800\n",
    "mu = mu_r * c.mu_0"
   ]
  },
  {
   "cell_type": "markdown",
   "metadata": {},
   "source": [
    "The magnetic constant $\\mu_0$ is available from `scipy.constants` (see also import statement) and is simply:"
   ]
  },
  {
   "cell_type": "code",
   "execution_count": 4,
   "metadata": {},
   "outputs": [
    {
     "data": {
      "text/plain": [
       "1.257e-06"
      ]
     },
     "execution_count": 4,
     "metadata": {},
     "output_type": "execute_result"
    }
   ],
   "source": [
    "c.mu_0"
   ]
  },
  {
   "cell_type": "markdown",
   "metadata": {},
   "source": [
    "### SOLUTION "
   ]
  },
  {
   "cell_type": "markdown",
   "metadata": {},
   "source": [
    "There are three regions in this core. The top and bottom form one region, the left side forms a\n",
    "second region, and the right side forms a third region. If we assume that the mean path length of the flux\n",
    "is in the center of each leg of the core, and if we ignore spreading at the corners of the core, then the path\n",
    "lengths are:"
   ]
  },
  {
   "cell_type": "code",
   "execution_count": 5,
   "metadata": {},
   "outputs": [],
   "source": [
    "l1 = 2 * 0.275  # m\n",
    "l2 = 0.3        # m\n",
    "l3 = 0.3        # m"
   ]
  },
  {
   "cell_type": "markdown",
   "metadata": {},
   "source": [
    "The reluctances of these regions are: $\\mathcal{R} = \\frac{l}{\\mu_0 \\mu_r A}$. The areas can be calculated as:"
   ]
  },
  {
   "cell_type": "code",
   "execution_count": 6,
   "metadata": {},
   "outputs": [],
   "source": [
    "A1 = 0.05 * 0.15 # m^2\n",
    "A2 = 0.05 * 0.10 # m^2\n",
    "A3 = 0.05 * 0.05 # m^2"
   ]
  },
  {
   "cell_type": "markdown",
   "metadata": {},
   "source": [
    "And the reluctances are hence:"
   ]
  },
  {
   "cell_type": "code",
   "execution_count": 7,
   "metadata": {},
   "outputs": [
    {
     "name": "stdout",
     "output_type": "stream",
     "text": [
      "R1 = 72.9 kAt/Wb\n",
      "R2 = 59.7 kAt/Wb\n",
      "R3 = 119.4 kAt/Wb\n"
     ]
    }
   ],
   "source": [
    "R1 = l1 / (mu * A1)  # At /Wb  = At/Vs\n",
    "R2 = l2 / (mu * A2)  # At /Wb  = At/Vs\n",
    "R3 = l3 / (mu * A3)  # At /Wb  = At/Vs\n",
    "print('R1 = {:.1f} kAt/Wb'.format(R1/1000) )\n",
    "print('R2 = {:.1f} kAt/Wb'.format(R2/1000) )\n",
    "print('R3 = {:.1f} kAt/Wb'.format(R3/1000) )"
   ]
  },
  {
   "cell_type": "markdown",
   "metadata": {},
   "source": [
    "The total reluctance is thus $\\mathcal{R}_\\text{TOT} = \\mathcal{R}_1 + \\mathcal{R}_2 + \\mathcal{R}_3$:"
   ]
  },
  {
   "cell_type": "code",
   "execution_count": 8,
   "metadata": {},
   "outputs": [
    {
     "name": "stdout",
     "output_type": "stream",
     "text": [
      "Rtot = 252.0 kAt/Wb\n"
     ]
    }
   ],
   "source": [
    "Rtot=  R1 + R2 + R3\n",
    "print('Rtot = {:.1f} kAt/Wb'.format(Rtot/1000) )"
   ]
  },
  {
   "cell_type": "markdown",
   "metadata": {},
   "source": [
    "and the magnetomotive force required to produce a flux of 0.005 Wb is $\\mathcal{F} = \\phi \\mathcal{R}_\\text{TOT}$:"
   ]
  },
  {
   "cell_type": "code",
   "execution_count": 9,
   "metadata": {},
   "outputs": [
    {
     "name": "stdout",
     "output_type": "stream",
     "text": [
      "F = 1260.0 At\n"
     ]
    }
   ],
   "source": [
    "F = phi * Rtot\n",
    "print('F = {:.1f} At'.format(F) )"
   ]
  },
  {
   "cell_type": "markdown",
   "metadata": {},
   "source": [
    "and the required **current is $i = \\frac{\\mathcal{F}}{N}$**:"
   ]
  },
  {
   "cell_type": "code",
   "execution_count": 10,
   "metadata": {},
   "outputs": [
    {
     "name": "stdout",
     "output_type": "stream",
     "text": [
      "\n",
      "i = 2.5 A\n",
      "=========\n"
     ]
    }
   ],
   "source": [
    "N  = 500  # given in Figure P1-2\n",
    "i = F/N\n",
    "print('''\n",
    "i = {:.1f} A\n",
    "========='''.format(i))"
   ]
  },
  {
   "cell_type": "markdown",
   "metadata": {},
   "source": [
    "**The flux density $B = \\frac{\\phi}{A}$ on the top of the core is:**"
   ]
  },
  {
   "cell_type": "code",
   "execution_count": 11,
   "metadata": {},
   "outputs": [
    {
     "name": "stdout",
     "output_type": "stream",
     "text": [
      "\n",
      "B1 = 0.67 T\n",
      "===========\n"
     ]
    }
   ],
   "source": [
    "B1 = phi / A1\n",
    "print('''\n",
    "B1 = {:.2f} T\n",
    "==========='''.format(B1))"
   ]
  },
  {
   "cell_type": "markdown",
   "metadata": {},
   "source": [
    "**The flux density $B = \\frac{\\phi}{A}$ at the right side of the core is:**"
   ]
  },
  {
   "cell_type": "code",
   "execution_count": 12,
   "metadata": {},
   "outputs": [
    {
     "name": "stdout",
     "output_type": "stream",
     "text": [
      "\n",
      "B3 = 2.0 T\n",
      "==========\n"
     ]
    }
   ],
   "source": [
    "B3 = phi / A3\n",
    "print('''\n",
    "B3 = {:.1f} T\n",
    "=========='''.format(B3))"
   ]
  }
 ],
 "metadata": {
  "kernelspec": {
   "display_name": "Python 3",
   "language": "python",
   "name": "python3"
  },
  "language_info": {
   "codemirror_mode": {
    "name": "ipython",
    "version": 3
   },
   "file_extension": ".py",
   "mimetype": "text/x-python",
   "name": "python",
   "nbconvert_exporter": "python",
   "pygments_lexer": "ipython3",
   "version": "3.8.2"
  }
 },
 "nbformat": 4,
 "nbformat_minor": 1
}
