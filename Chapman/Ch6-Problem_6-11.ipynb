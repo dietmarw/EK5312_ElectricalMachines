{
 "cells": [
  {
   "cell_type": "markdown",
   "metadata": {},
   "source": [
    "# Excercises Electric Machinery Fundamentals\n",
    "## Chapter 6"
   ]
  },
  {
   "cell_type": "markdown",
   "metadata": {},
   "source": [
    "## Problem 6-11"
   ]
  },
  {
   "cell_type": "code",
   "execution_count": 1,
   "metadata": {
    "collapsed": false,
    "slideshow": {
     "slide_type": "skip"
    }
   },
   "outputs": [
    {
     "name": "stdout",
     "output_type": "stream",
     "text": [
      "Populating the interactive namespace from numpy and matplotlib\n"
     ]
    }
   ],
   "source": [
    "%pylab inline"
   ]
  },
  {
   "cell_type": "markdown",
   "metadata": {},
   "source": [
    "### Description"
   ]
  },
  {
   "cell_type": "markdown",
   "metadata": {},
   "source": [
    "The input power to the *rotor circuit* of a six-pole, 60 Hz, induction motor running at 1100 r/min is 5&nbsp;kW."
   ]
  },
  {
   "cell_type": "code",
   "execution_count": 2,
   "metadata": {
    "collapsed": false
   },
   "outputs": [],
   "source": [
    "fse  =   60 # [Hz]\n",
    "n_nl = 1100 # [r/min]\n",
    "p    =    6"
   ]
  },
  {
   "cell_type": "markdown",
   "metadata": {},
   "source": [
    " * What is the rotor copper loss in this motor?"
   ]
  },
  {
   "cell_type": "markdown",
   "metadata": {},
   "source": [
    "### SOLUTION"
   ]
  },
  {
   "cell_type": "markdown",
   "metadata": {},
   "source": [
    "This synchronous speed of this motor is:\n",
    "\n",
    "$$n_\\text{sync} = \\frac{120f_{se}}{p}$$"
   ]
  },
  {
   "cell_type": "code",
   "execution_count": 3,
   "metadata": {
    "collapsed": false
   },
   "outputs": [
    {
     "name": "stdout",
     "output_type": "stream",
     "text": [
      "n_sync = 1200 r/min\n"
     ]
    }
   ],
   "source": [
    "n_sync = 120*fse / p\n",
    "print('n_sync = {:.0f} r/min'.format(n_sync))"
   ]
  },
  {
   "cell_type": "markdown",
   "metadata": {},
   "source": [
    "The slip of the rotor is:\n",
    "$$s_{nl} = \\frac{n_\\text{sync}-n_{nl}}{n_\\text{sync}} \\cdot 100\\%$$"
   ]
  },
  {
   "cell_type": "code",
   "execution_count": 4,
   "metadata": {
    "collapsed": false
   },
   "outputs": [
    {
     "name": "stdout",
     "output_type": "stream",
     "text": [
      "s_nl = 8.33 %\n"
     ]
    }
   ],
   "source": [
    "s_nl = (n_sync - n_nl) / n_sync\n",
    "print('s_nl = {:.2f} %'.format(s_nl*100))"
   ]
  },
  {
   "cell_type": "markdown",
   "metadata": {},
   "source": [
    "The air gap power is the input power to the rotor, so:"
   ]
  },
  {
   "cell_type": "code",
   "execution_count": 5,
   "metadata": {
    "collapsed": false
   },
   "outputs": [],
   "source": [
    "Pag = 5000 # [W]"
   ]
  },
  {
   "cell_type": "markdown",
   "metadata": {},
   "source": [
    "The power converted from electrical to mechanical form is:\n",
    "$$P_\\text{conv} = (1-s)P_{AG}$$"
   ]
  },
  {
   "cell_type": "code",
   "execution_count": 6,
   "metadata": {
    "collapsed": false
   },
   "outputs": [
    {
     "name": "stdout",
     "output_type": "stream",
     "text": [
      "Pconv = 4583 W\n"
     ]
    }
   ],
   "source": [
    "Pconv = (1-s_nl) * Pag\n",
    "print('Pconv = {:.0f} W'.format(Pconv))"
   ]
  },
  {
   "cell_type": "markdown",
   "metadata": {},
   "source": [
    "The rotor copper losses are the difference between the air gap power and the power converted to mechanical form, so:\n",
    "\n",
    "$$P_\\text{RCL} = P_{AG}-P_\\text{conv}$$"
   ]
  },
  {
   "cell_type": "code",
   "execution_count": 7,
   "metadata": {
    "collapsed": false
   },
   "outputs": [
    {
     "name": "stdout",
     "output_type": "stream",
     "text": [
      "\n",
      "Prcl = 417 W\n",
      "============\n"
     ]
    }
   ],
   "source": [
    "Prcl = Pag - Pconv\n",
    "print('''\n",
    "Prcl = {:.0f} W\n",
    "============'''.format(Prcl))"
   ]
  }
 ],
 "metadata": {
  "kernelspec": {
   "display_name": "Python 3",
   "language": "python",
   "name": "python3"
  },
  "language_info": {
   "codemirror_mode": {
    "name": "ipython",
    "version": 3
   },
   "file_extension": ".py",
   "mimetype": "text/x-python",
   "name": "python",
   "nbconvert_exporter": "python",
   "pygments_lexer": "ipython3",
   "version": "3.5.2"
  }
 },
 "nbformat": 4,
 "nbformat_minor": 0
}
