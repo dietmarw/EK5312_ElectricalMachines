{
 "cells": [
  {
   "cell_type": "markdown",
   "metadata": {},
   "source": [
    "# Excercises Electric Machinery Fundamentals\n",
    "## Chapter 2"
   ]
  },
  {
   "cell_type": "markdown",
   "metadata": {},
   "source": [
    "## Problem 2-3"
   ]
  },
  {
   "cell_type": "code",
   "execution_count": 1,
   "metadata": {
    "collapsed": false,
    "slideshow": {
     "slide_type": "skip"
    }
   },
   "outputs": [
    {
     "name": "stdout",
     "output_type": "stream",
     "text": [
      "Populating the interactive namespace from numpy and matplotlib\n"
     ]
    },
    {
     "data": {
      "text/plain": [
       "'%.4f'"
      ]
     },
     "execution_count": 1,
     "metadata": {},
     "output_type": "execute_result"
    }
   ],
   "source": [
    "%pylab inline\n",
    "%precision 4"
   ]
  },
  {
   "cell_type": "markdown",
   "metadata": {},
   "source": [
    "### Description"
   ]
  },
  {
   "cell_type": "markdown",
   "metadata": {},
   "source": [
    "Consider a simple power system consisting of an ideal voltage source, an ideal step-up transformer, a transmission line, an ideal step-down transformer, and a load. \n",
    "The voltage of the source is $\\vec{V}_S = 480 \\angle 0° V$ . The impedance of the transmission line is $Z_\\text{line} = 3 + j4 \\,\\Omega$, and the impedance of the load is $Z_\\text{load} = 30 + j40\\,\\Omega$ ."
   ]
  },
  {
   "cell_type": "code",
   "execution_count": 2,
   "metadata": {
    "collapsed": false
   },
   "outputs": [],
   "source": [
    "VS = 480.0 * exp(0j)  # [Ohm] using polar syntax\n",
    "Zline = 3.0 + 4.0j    # [Ohm] using cartesian syntax\n",
    "Zload = 30.0 + 40.0j  # [Ohm] using cartesian syntax"
   ]
  },
  {
   "cell_type": "markdown",
   "metadata": {},
   "source": [
    "#### (a)\n",
    "\n",
    "Assume that the transformers are not present in the circuit. \n",
    "\n",
    " * What is the load voltage and efficiency of the system?\n",
    " \n",
    "#### (b)\n",
    "\n",
    "Assume that transformer 1 is a 1:5 step-up transformer, and transformer 2 is a 5:1 step-down transformer. "
   ]
  },
  {
   "cell_type": "code",
   "execution_count": 3,
   "metadata": {
    "collapsed": false
   },
   "outputs": [
    {
     "data": {
      "text/plain": [
       "0.2000"
      ]
     },
     "execution_count": 3,
     "metadata": {},
     "output_type": "execute_result"
    }
   ],
   "source": [
    "a_b = 1.0/5.0\n",
    "a_b"
   ]
  },
  {
   "cell_type": "markdown",
   "metadata": {},
   "source": [
    "* What is the load voltage and efficiency of the system?\n",
    " \n",
    "#### (c)\n",
    " * What transformer turns ratio would be required to reduce the transmission line losses to 1% of the total power produced by the generator?\n",
    " "
   ]
  },
  {
   "cell_type": "markdown",
   "metadata": {},
   "source": [
    "### SOLUTION"
   ]
  },
  {
   "cell_type": "markdown",
   "metadata": {},
   "source": [
    "#### (a)\n",
    "\n",
    "The equivalent circuit of this power system is shown below:\n",
    "\n",
    "<img src=\"figs/Problem_2-03a.jpg\" width=\"70%\">"
   ]
  },
  {
   "cell_type": "markdown",
   "metadata": {},
   "source": [
    "The load current in this system is:\n",
    "$$\\vec{I}_\\text{load} = \\frac{\\vec{V}_S}{Z_\\text{line} + Z_\\text{load}} $$"
   ]
  },
  {
   "cell_type": "code",
   "execution_count": 4,
   "metadata": {
    "collapsed": false
   },
   "outputs": [
    {
     "name": "stdout",
     "output_type": "stream",
     "text": [
      "Iload_a = 8.727 A ∠-53.13°\n"
     ]
    }
   ],
   "source": [
    "Iload_a = VS / (Zline+Zload)\n",
    "Iload_a_angle = arctan(Iload_a.imag / Iload_a.real) # angle of Iload_a [rad]\n",
    "print('Iload_a = {:.3f} A ∠{:.2f}°'.format(\n",
    "            abs(Iload_a), degrees(Iload_a_angle)))"
   ]
  },
  {
   "cell_type": "markdown",
   "metadata": {},
   "source": [
    "**The load voltage is:**\n",
    "\n",
    "$$\\vec{V}_\\text{load} = \\vec{I}_\\text{load}Z_\\text{load}$$"
   ]
  },
  {
   "cell_type": "code",
   "execution_count": 5,
   "metadata": {
    "collapsed": false
   },
   "outputs": [
    {
     "name": "stdout",
     "output_type": "stream",
     "text": [
      "Vload_a = 436.4 V ∠0°\n"
     ]
    }
   ],
   "source": [
    "Vload_a = Iload_a * Zload  \n",
    "print('Vload_a = {:.1f} V ∠{:.0f}°'.format(\n",
    "            abs(Vload_a), angle(Vload_a, deg=True)))"
   ]
  },
  {
   "cell_type": "markdown",
   "metadata": {},
   "source": [
    "The power consumed by the load is:\n",
    "$$P_\\text{load} = I_\\text{load}^2R_\\text{load}$$"
   ]
  },
  {
   "cell_type": "code",
   "execution_count": 6,
   "metadata": {
    "collapsed": false
   },
   "outputs": [
    {
     "name": "stdout",
     "output_type": "stream",
     "text": [
      "Pload_a = 2285.0 W\n"
     ]
    }
   ],
   "source": [
    "Rload = Zload.real\n",
    "Pload_a = abs(Iload_a)**2 * Rload\n",
    "print('Pload_a = {:.1f} W'.format(Pload_a))"
   ]
  },
  {
   "cell_type": "markdown",
   "metadata": {},
   "source": [
    "The power consumed by the transmission line is:\n",
    "$$P_\\text{line} = I_\\text{load}^2R_\\text{line}$$"
   ]
  },
  {
   "cell_type": "code",
   "execution_count": 7,
   "metadata": {
    "collapsed": false
   },
   "outputs": [
    {
     "name": "stdout",
     "output_type": "stream",
     "text": [
      "Pline_a = 228.5 W\n"
     ]
    }
   ],
   "source": [
    "Rline = Zline.real\n",
    "Pline_a = abs(Iload_a)**2 * Rline\n",
    "print('Pline_a = {:.1f} W'.format(Pline_a))"
   ]
  },
  {
   "cell_type": "markdown",
   "metadata": {},
   "source": [
    "**The efficiency of the power system is:**\n",
    "$$\\eta = \\frac{P_\\text{OUT}}{P_\\text{IN}} \\cdot 100\\% = \\frac{P_\\text{load}}{P_\\text{load}+P_\\text{line}} \\cdot 100\\%$$"
   ]
  },
  {
   "cell_type": "code",
   "execution_count": 8,
   "metadata": {
    "collapsed": false
   },
   "outputs": [
    {
     "name": "stdout",
     "output_type": "stream",
     "text": [
      "η_a = 90.9 %\n"
     ]
    }
   ],
   "source": [
    "eta_a = Pload_a / (Pload_a + Pline_a) * 100  # [%]\n",
    "print('η_a = {:.1f} %'.format(eta_a)) "
   ]
  },
  {
   "cell_type": "markdown",
   "metadata": {},
   "source": [
    "#### (b)\n",
    "\n",
    "The equivalent circuit of this power system is shown below:\n",
    "\n",
    "<img src=\"figs/Problem_2-03b.jpg\" width=\"70%\">"
   ]
  },
  {
   "cell_type": "markdown",
   "metadata": {},
   "source": [
    "The line impedance referred to primary side of $T_1$ is:\n",
    "$$Z'_\\text{line} = a^2Z_\\text{line}$$"
   ]
  },
  {
   "cell_type": "code",
   "execution_count": 9,
   "metadata": {
    "collapsed": false
   },
   "outputs": [
    {
     "name": "stdout",
     "output_type": "stream",
     "text": [
      "Z_line_b = 0.12+0.16j Ω\n"
     ]
    }
   ],
   "source": [
    "Z_line_b = a_b**2 * Zline\n",
    "print('Z_line_b = {:.2f} Ω'.format(Z_line_b))"
   ]
  },
  {
   "cell_type": "markdown",
   "metadata": {},
   "source": [
    "The load impedance referred to primary side of $T_1$ is the same as the actual impedance, since the turns ratios of the step-up and step-down transformers undo each other’s changes."
   ]
  },
  {
   "cell_type": "code",
   "execution_count": 10,
   "metadata": {
    "collapsed": false
   },
   "outputs": [],
   "source": [
    "Z_load_b = Zload"
   ]
  },
  {
   "cell_type": "markdown",
   "metadata": {},
   "source": [
    "The resulting equivalent circuit referred to the primary side of $T_1$ is:\n",
    "\n",
    "<img src=\"figs/Problem_2-03b2.jpg\" width=\"70%\">"
   ]
  },
  {
   "cell_type": "markdown",
   "metadata": {},
   "source": [
    "The load current in this system is:\n",
    "$$\\vec{I}_\\text{load} = \\frac{\\vec{V}_S}{Z'_\\text{line}+Z'_\\text{load}}$$"
   ]
  },
  {
   "cell_type": "code",
   "execution_count": 11,
   "metadata": {
    "collapsed": false
   },
   "outputs": [
    {
     "name": "stdout",
     "output_type": "stream",
     "text": [
      "Iload_b = 9.562 A ∠-53.13°\n"
     ]
    }
   ],
   "source": [
    "Iload_b = VS / (Z_line_b+Z_load_b)\n",
    "Iload_b_angle = arctan(Iload_b.imag/Iload_b.real) # angle of Iload_b [rad]\n",
    "print('Iload_b = {:.3f} A ∠{:.2f}°'.format(\n",
    "          abs(Iload_b), degrees(Iload_b_angle)))"
   ]
  },
  {
   "cell_type": "markdown",
   "metadata": {},
   "source": [
    "**The load voltage is:**"
   ]
  },
  {
   "cell_type": "code",
   "execution_count": 12,
   "metadata": {
    "collapsed": false
   },
   "outputs": [
    {
     "name": "stdout",
     "output_type": "stream",
     "text": [
      "Vload_b = 478 V ∠0.0°\n"
     ]
    }
   ],
   "source": [
    "Vload_b = Iload_b * Z_load_b\n",
    "Vload_b_angle = arctan(Vload_b.imag/Vload_b.real) # angle of Vload_b [rad]\n",
    "print('Vload_b = {:.0f} V ∠{:.1f}°'.format(\n",
    "            abs(Vload_b), degrees(Vload_b_angle)))"
   ]
  },
  {
   "cell_type": "markdown",
   "metadata": {},
   "source": [
    "The power consumed by the load is:"
   ]
  },
  {
   "cell_type": "code",
   "execution_count": 13,
   "metadata": {
    "collapsed": false
   },
   "outputs": [
    {
     "name": "stdout",
     "output_type": "stream",
     "text": [
      "Pload_b = 2742.8 W\n"
     ]
    }
   ],
   "source": [
    "R_load_b = Z_load_b.real\n",
    "Pload_b = abs(Iload_b)**2 * R_load_b\n",
    "print('Pload_b = {:.1f} W'.format(Pload_b))"
   ]
  },
  {
   "cell_type": "markdown",
   "metadata": {},
   "source": [
    "The power consumed by the transmission line is:"
   ]
  },
  {
   "cell_type": "code",
   "execution_count": 14,
   "metadata": {
    "collapsed": false
   },
   "outputs": [
    {
     "name": "stdout",
     "output_type": "stream",
     "text": [
      "Pline_b = 11.0 W\n"
     ]
    }
   ],
   "source": [
    "R_line_b = Z_line_b.real\n",
    "Pline_b = abs(Iload_b)**2 * R_line_b\n",
    "print('Pline_b = {:.1f} W'.format(Pline_b))"
   ]
  },
  {
   "cell_type": "markdown",
   "metadata": {},
   "source": [
    "**The efficiency of the power system is:**"
   ]
  },
  {
   "cell_type": "code",
   "execution_count": 15,
   "metadata": {
    "collapsed": false
   },
   "outputs": [
    {
     "name": "stdout",
     "output_type": "stream",
     "text": [
      "η_b = 99.6 %\n"
     ]
    }
   ],
   "source": [
    "eta_b = Pload_b / (Pload_b+Pline_b) * 100  # [%]\n",
    "print('η_b = {:.1f} %'.format(eta_b)) "
   ]
  },
  {
   "cell_type": "markdown",
   "metadata": {},
   "source": [
    "#### (c)"
   ]
  },
  {
   "cell_type": "markdown",
   "metadata": {},
   "source": [
    "Since the power in a resistor is given by $P = I^2R$, the total power consumed in the line resistance will be directly proportional to the ratio of the line resistance to the total resistance in the circuit. The load resistance is $30\\,\\Omega$, and that must be $99\\,\\%$ of the total resistance in order for the efficient to be $1\\,\\%$.\n",
    "\n",
    "Therefore, the referred line resistance must be:\n",
    "\n",
    "$$\\frac{R'_\\text{line}}{R_\\text{load}} = \\frac{0.01}{0.99}$$"
   ]
  },
  {
   "cell_type": "code",
   "execution_count": 16,
   "metadata": {
    "collapsed": false
   },
   "outputs": [
    {
     "name": "stdout",
     "output_type": "stream",
     "text": [
      "R_line_c = 0.303 Ω\n"
     ]
    }
   ],
   "source": [
    "Rload = Zload.real\n",
    "R_line_c = 0.01/0.99 * Rload\n",
    "print('R_line_c = {:.3f} Ω'.format(R_line_c))"
   ]
  },
  {
   "cell_type": "markdown",
   "metadata": {},
   "source": [
    "Since the referred line resistance is"
   ]
  },
  {
   "cell_type": "code",
   "execution_count": 17,
   "metadata": {
    "collapsed": false
   },
   "outputs": [
    {
     "data": {
      "text/plain": [
       "0.3030"
      ]
     },
     "execution_count": 17,
     "metadata": {},
     "output_type": "execute_result"
    }
   ],
   "source": [
    "R_line_c"
   ]
  },
  {
   "cell_type": "markdown",
   "metadata": {},
   "source": [
    "and the actual line resistance is"
   ]
  },
  {
   "cell_type": "code",
   "execution_count": 18,
   "metadata": {
    "collapsed": false
   },
   "outputs": [
    {
     "data": {
      "text/plain": [
       "30.0000"
      ]
     },
     "execution_count": 18,
     "metadata": {},
     "output_type": "execute_result"
    }
   ],
   "source": [
    "Rload"
   ]
  },
  {
   "cell_type": "markdown",
   "metadata": {},
   "source": [
    "**the turns ration must be:**\n",
    "$$a^2 = \\frac{R'_\\text{line}}{R_\\text{line}}$$"
   ]
  },
  {
   "cell_type": "code",
   "execution_count": 19,
   "metadata": {
    "collapsed": false
   },
   "outputs": [
    {
     "name": "stdout",
     "output_type": "stream",
     "text": [
      "a = 0.318\n"
     ]
    }
   ],
   "source": [
    "Rline = Zline.real\n",
    "a_c = sqrt(R_line_c/ Rline)\n",
    "print('a = {:.3f}'.format(a_c))"
   ]
  },
  {
   "cell_type": "markdown",
   "metadata": {},
   "source": [
    "in order for 1% of the power to be consumed in the tranmission line."
   ]
  }
 ],
 "metadata": {
  "kernelspec": {
   "display_name": "Python 3",
   "language": "python",
   "name": "python3"
  },
  "language_info": {
   "codemirror_mode": {
    "name": "ipython",
    "version": 3
   },
   "file_extension": ".py",
   "mimetype": "text/x-python",
   "name": "python",
   "nbconvert_exporter": "python",
   "pygments_lexer": "ipython3",
   "version": "3.5.1+"
  }
 },
 "nbformat": 4,
 "nbformat_minor": 0
}
