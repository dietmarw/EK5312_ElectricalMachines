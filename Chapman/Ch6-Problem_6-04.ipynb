{
 "cells": [
  {
   "cell_type": "markdown",
   "metadata": {},
   "source": [
    "# Excercises Electric Machinery Fundamentals\n",
    "## Chapter 6"
   ]
  },
  {
   "cell_type": "markdown",
   "metadata": {},
   "source": [
    "## Problem 6-4"
   ]
  },
  {
   "cell_type": "code",
   "execution_count": 1,
   "metadata": {
    "collapsed": false,
    "slideshow": {
     "slide_type": "skip"
    }
   },
   "outputs": [
    {
     "name": "stdout",
     "output_type": "stream",
     "text": [
      "Populating the interactive namespace from numpy and matplotlib\n"
     ]
    }
   ],
   "source": [
    "%pylab inline"
   ]
  },
  {
   "cell_type": "markdown",
   "metadata": {},
   "source": [
    "### Description"
   ]
  },
  {
   "cell_type": "markdown",
   "metadata": {},
   "source": [
    "A 50-kW, 460-V, 50-Hz, two-pole induction motor has a slip of 5 percent when operating a full-load conditions. At full-load conditions, the friction and windage losses are 700 W, and the core losses are 600 W. Find the following values for full-load conditions:"
   ]
  },
  {
   "cell_type": "code",
   "execution_count": 2,
   "metadata": {
    "collapsed": false
   },
   "outputs": [],
   "source": [
    "fse   = 50.0  # [Hz]\n",
    "p     = 2\n",
    "Pout  = 50e3  # [W]\n",
    "s     = 5e-2\n",
    "Pfw   = 700.0 # [W]\n",
    "Pcore = 600.0 # [W]\n",
    "Pmisc = 0.0   # [W]"
   ]
  },
  {
   "cell_type": "markdown",
   "metadata": {},
   "source": [
    "#### (a)\n",
    " * The shaft speed $n_m$\n",
    " \n",
    "#### (b)\n",
    " * The output power in Watts\n",
    " \n",
    "#### (c)\n",
    " * The load torque $\\tau_\\text{load}$ in Newton-metres\n",
    " \n",
    "#### (d)\n",
    " * The induced torque $\\tau_\\text{ind}$ in Newton-metres\n",
    " \n",
    "#### (e)\n",
    " * The rotor frequency in Hertz"
   ]
  },
  {
   "cell_type": "markdown",
   "metadata": {},
   "source": [
    "### SOLUTION"
   ]
  },
  {
   "cell_type": "markdown",
   "metadata": {},
   "source": [
    "#### (a)\n",
    "The synchronous speed of this machine is:\n",
    "\n",
    "$$n_\\text{sync} = \\frac{120f_{se}}{p}$$"
   ]
  },
  {
   "cell_type": "code",
   "execution_count": 3,
   "metadata": {
    "collapsed": false
   },
   "outputs": [
    {
     "name": "stdout",
     "output_type": "stream",
     "text": [
      "n_sync = 3000 r/min\n"
     ]
    }
   ],
   "source": [
    "n_sync = 120*fse / p\n",
    "print('n_sync = {:.0f} r/min'.format(n_sync))"
   ]
  },
  {
   "cell_type": "markdown",
   "metadata": {},
   "source": [
    "Therefore, the shaft speed is:\n",
    "\n",
    "$$n_m = (1-s) n_\\text{sync}$$"
   ]
  },
  {
   "cell_type": "code",
   "execution_count": 4,
   "metadata": {
    "collapsed": false
   },
   "outputs": [
    {
     "name": "stdout",
     "output_type": "stream",
     "text": [
      "\n",
      "n_m = 2850 r/min\n",
      "================\n"
     ]
    }
   ],
   "source": [
    "n_m = (1 - s) * n_sync\n",
    "print('''\n",
    "n_m = {:.0f} r/min\n",
    "================'''.format(n_m))"
   ]
  },
  {
   "cell_type": "markdown",
   "metadata": {},
   "source": [
    "#### (b)\n",
    "The output power in Watts is 50 kW (stated in the problem)."
   ]
  },
  {
   "cell_type": "markdown",
   "metadata": {},
   "source": [
    "#### (c)\n",
    "The load torque is:\n",
    "\n",
    "$$\\tau_\\text{load} = \\frac{P_\\text{OUT}}{\\omega_m}$$"
   ]
  },
  {
   "cell_type": "code",
   "execution_count": 5,
   "metadata": {
    "collapsed": false
   },
   "outputs": [
    {
     "name": "stdout",
     "output_type": "stream",
     "text": [
      "\n",
      "tau_load = 167.5 Nm\n",
      "===================\n"
     ]
    }
   ],
   "source": [
    "w_m = n_m *(2.0*pi/1.0) * (1/60)\n",
    "tau_load = Pout / w_m\n",
    "print('''\n",
    "tau_load = {:.1f} Nm\n",
    "==================='''.format(tau_load))"
   ]
  },
  {
   "cell_type": "markdown",
   "metadata": {},
   "source": [
    "#### (d)\n",
    "The induced torque can be found as follows:\n",
    "\n",
    "$$P_\\text{conv} = P_\\text{OUT} + P_\\text{F\\&W} + P_\\text{core} + P_\\text{misc}$$\n",
    "\n",
    "*Remember that the $P_\\text{core}$ losses can not really be assigned to the stator or the rotor side only, but to both. This basically means that if the $P_\\text{core}$ losses are given they should be considered anyway.*"
   ]
  },
  {
   "cell_type": "code",
   "execution_count": 6,
   "metadata": {
    "collapsed": false
   },
   "outputs": [
    {
     "data": {
      "text/plain": [
       "51300.0"
      ]
     },
     "execution_count": 6,
     "metadata": {},
     "output_type": "execute_result"
    }
   ],
   "source": [
    "Pconv = Pout + Pfw + Pcore + Pmisc\n",
    "Pconv"
   ]
  },
  {
   "cell_type": "markdown",
   "metadata": {},
   "source": [
    "$$\\tau_\\text{ind} = \\frac{P_\\text{conv}}{\\omega_m}$$"
   ]
  },
  {
   "cell_type": "code",
   "execution_count": 7,
   "metadata": {
    "collapsed": false
   },
   "outputs": [
    {
     "name": "stdout",
     "output_type": "stream",
     "text": [
      "\n",
      "tau_ind = 171.9 Nm\n",
      "==================\n"
     ]
    }
   ],
   "source": [
    "tau_ind = Pconv / w_m\n",
    "print('''\n",
    "tau_ind = {:.1f} Nm\n",
    "=================='''.format(tau_ind))"
   ]
  },
  {
   "cell_type": "markdown",
   "metadata": {},
   "source": [
    "#### (e)\n",
    "The rotor frequency is:\n",
    "\n",
    "$$f_r = sf_{se}$$"
   ]
  },
  {
   "cell_type": "code",
   "execution_count": 8,
   "metadata": {
    "collapsed": false
   },
   "outputs": [
    {
     "name": "stdout",
     "output_type": "stream",
     "text": [
      "\n",
      "fr = 2.5 Hz\n",
      "===========\n"
     ]
    }
   ],
   "source": [
    "fr = s*fse\n",
    "print('''\n",
    "fr = {:.1f} Hz\n",
    "==========='''.format(fr))"
   ]
  }
 ],
 "metadata": {
  "kernelspec": {
   "display_name": "Python 3",
   "language": "python",
   "name": "python3"
  },
  "language_info": {
   "codemirror_mode": {
    "name": "ipython",
    "version": 3
   },
   "file_extension": ".py",
   "mimetype": "text/x-python",
   "name": "python",
   "nbconvert_exporter": "python",
   "pygments_lexer": "ipython3",
   "version": "3.5.2"
  }
 },
 "nbformat": 4,
 "nbformat_minor": 0
}
