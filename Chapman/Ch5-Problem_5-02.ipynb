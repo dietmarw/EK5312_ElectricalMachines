{
 "cells": [
  {
   "cell_type": "markdown",
   "metadata": {},
   "source": [
    "# Excercises Electric Machinery Fundamentals\n",
    "## Chapter 5"
   ]
  },
  {
   "cell_type": "markdown",
   "metadata": {},
   "source": [
    "## Problem 5-2"
   ]
  },
  {
   "cell_type": "code",
   "execution_count": 1,
   "metadata": {
    "collapsed": false,
    "slideshow": {
     "slide_type": "skip"
    }
   },
   "outputs": [
    {
     "name": "stdout",
     "output_type": "stream",
     "text": [
      "Populating the interactive namespace from numpy and matplotlib\n"
     ]
    }
   ],
   "source": [
    "%pylab inline\n",
    "%precision %.4g\n",
    "import cmath"
   ]
  },
  {
   "cell_type": "markdown",
   "metadata": {},
   "source": [
    "### Description"
   ]
  },
  {
   "cell_type": "markdown",
   "metadata": {},
   "source": [
    "Assume that the motor of Problem 5-1 is operating at rated conditions."
   ]
  },
  {
   "cell_type": "code",
   "execution_count": 2,
   "metadata": {
    "collapsed": false
   },
   "outputs": [],
   "source": [
    "Vt   = 480       # [V]\n",
    "PF   =   0.8\n",
    "fse  =  60       # [Hz]\n",
    "p    =   8.0\n",
    "Pout = 400 * 746 # [W]\n",
    "Xs   =   0.6     # [Ohm]"
   ]
  },
  {
   "cell_type": "markdown",
   "metadata": {},
   "source": [
    "#### (a)\n",
    "\n",
    " * What are the magnitudes and angles of $\\vec{E}_A$ and $\\vec{I}_A$ , and $I_F$?\n",
    " \n",
    "#### (b)\n",
    "Suppose the load is removed from the motor. \n",
    "\n",
    " * What are the magnitudes and angles of $\\vec{E}_A$ and $\\vec{I}_A$ now?"
   ]
  },
  {
   "cell_type": "markdown",
   "metadata": {},
   "source": [
    "### SOLUTION"
   ]
  },
  {
   "cell_type": "markdown",
   "metadata": {},
   "source": [
    "#### (a)\n",
    "The line current flow at rated conditions is:\n",
    "$$I_L = \\frac{P}{\\sqrt{3}V_TPF}$$"
   ]
  },
  {
   "cell_type": "code",
   "execution_count": 3,
   "metadata": {
    "collapsed": false
   },
   "outputs": [
    {
     "data": {
      "text/plain": [
       "448.6"
      ]
     },
     "execution_count": 3,
     "metadata": {},
     "output_type": "execute_result"
    }
   ],
   "source": [
    "Pin = Pout\n",
    "il = Pin / (sqrt(3) * Vt * PF)\n",
    "il # [A]"
   ]
  },
  {
   "cell_type": "markdown",
   "metadata": {},
   "source": [
    "Because the motor is $\\Delta$-connected, the corresponding phase current is:"
   ]
  },
  {
   "cell_type": "code",
   "execution_count": 4,
   "metadata": {
    "collapsed": false
   },
   "outputs": [
    {
     "data": {
      "text/plain": [
       "259"
      ]
     },
     "execution_count": 4,
     "metadata": {},
     "output_type": "execute_result"
    }
   ],
   "source": [
    "ia = il / sqrt(3)\n",
    "ia # [A]"
   ]
  },
  {
   "cell_type": "markdown",
   "metadata": {},
   "source": [
    "The angle of the current is:"
   ]
  },
  {
   "cell_type": "code",
   "execution_count": 5,
   "metadata": {
    "collapsed": false
   },
   "outputs": [
    {
     "data": {
      "text/plain": [
       "36.87"
      ]
     },
     "execution_count": 5,
     "metadata": {},
     "output_type": "execute_result"
    }
   ],
   "source": [
    "Ia_angle = arccos(PF)\n",
    "Ia_angle /pi *180 # [degrees]"
   ]
  },
  {
   "cell_type": "code",
   "execution_count": 6,
   "metadata": {
    "collapsed": false
   },
   "outputs": [
    {
     "name": "stdout",
     "output_type": "stream",
     "text": [
      "\n",
      "Ia = 259 A ∠36.87°\n",
      "==================\n"
     ]
    }
   ],
   "source": [
    "Ia = ia * (cos(Ia_angle) + sin(Ia_angle)*1j)\n",
    "print('''\n",
    "Ia = {:.0f} A ∠{:.2f}°\n",
    "=================='''.format(abs(Ia), Ia_angle / pi *180))"
   ]
  },
  {
   "cell_type": "markdown",
   "metadata": {},
   "source": [
    "The internal generated voltage $\\vec{E}_A$ is:\n",
    "\n",
    "$$\\vec{E}_A = \\vec{V}_\\phi - jX_S\\vec{I}_A$$"
   ]
  },
  {
   "cell_type": "code",
   "execution_count": 7,
   "metadata": {
    "collapsed": false
   },
   "outputs": [
    {
     "name": "stdout",
     "output_type": "stream",
     "text": [
      "\n",
      "Ea = 587 V ∠-12.2°\n",
      "==================\n"
     ]
    }
   ],
   "source": [
    "EA = Vt - Xs * 1j * Ia\n",
    "EA_angle = arctan(EA.imag/EA.real)\n",
    "print('''\n",
    "Ea = {:.0f} V ∠{:.1f}°\n",
    "=================='''.format(abs(EA), EA_angle / pi *180))"
   ]
  },
  {
   "cell_type": "markdown",
   "metadata": {},
   "source": [
    "The field current is directly proportional to $|\\vec{E}_A|$, which = 480V when $I_F = 4 A$. The required field current is:\n",
    "\n",
    "$$\\frac{|\\vec{E}_{A2}|}{|\\vec{E}_{A1}|} = \\frac{I_{F2}}{I_{F1}}$$"
   ]
  },
  {
   "cell_type": "code",
   "execution_count": 8,
   "metadata": {
    "collapsed": false
   },
   "outputs": [
    {
     "name": "stdout",
     "output_type": "stream",
     "text": [
      "\n",
      "If2 = 4.89 A\n",
      "============\n"
     ]
    }
   ],
   "source": [
    "If1 = 4 # [A]\n",
    "Ea1 = 480 # [V]\n",
    "Ea2 = abs(EA)\n",
    "If2 = (Ea2/Ea1) * If1\n",
    "print('''\n",
    "If2 = {:.2f} A\n",
    "============'''.format(If2))"
   ]
  },
  {
   "cell_type": "markdown",
   "metadata": {},
   "source": [
    "#### (b)\n",
    "When the load is removed from the motor the magnitude of $|\\vec{E}_A|$ remains unchanged but the torque\n",
    "angle goes to $\\delta = 0°$ . The resulting armature current is:\n",
    "\n",
    "$$\\vec{I}_A = \\frac{\\vec{V}_\\phi - \\vec{E}_A}{jX_S}$$"
   ]
  },
  {
   "cell_type": "code",
   "execution_count": 9,
   "metadata": {
    "collapsed": false
   },
   "outputs": [
    {
     "name": "stdout",
     "output_type": "stream",
     "text": [
      "\n",
      "EA_b = 586.6 ∠ 0°\n",
      "Ia_b = 177.6 ∠90°\n",
      "==================\n"
     ]
    },
    {
     "name": "stderr",
     "output_type": "stream",
     "text": [
      "/usr/local/lib/python3.5/dist-packages/ipykernel/__main__.py:6: RuntimeWarning: divide by zero encountered in double_scalars\n"
     ]
    }
   ],
   "source": [
    "delta_b = 0*pi/180 # [rad]\n",
    "EA_b = abs(EA) *(cos(delta_b) + sin(delta_b)*1j)\n",
    "EA_b_angle = arctan(EA_b.imag/EA_b.real)\n",
    "\n",
    "Ia_b = (Vt - EA_b) / (Xs*1j)\n",
    "Ia_b_angle = arctan(Ia_b.imag/Ia_b.real)  # poosible warning might occur because of division by zero\n",
    "\n",
    "print('''\n",
    "EA_b = {:.1f} ∠{:>2.0f}°\n",
    "Ia_b = {:.1f} ∠{:>2.0f}°\n",
    "=================='''.format(abs(EA_b), EA_b_angle/pi*180, \n",
    "                             abs(Ia_b), Ia_b_angle/pi*180))"
   ]
  }
 ],
 "metadata": {
  "kernelspec": {
   "display_name": "Python 3",
   "language": "python",
   "name": "python3"
  },
  "language_info": {
   "codemirror_mode": {
    "name": "ipython",
    "version": 3
   },
   "file_extension": ".py",
   "mimetype": "text/x-python",
   "name": "python",
   "nbconvert_exporter": "python",
   "pygments_lexer": "ipython3",
   "version": "3.5.2"
  }
 },
 "nbformat": 4,
 "nbformat_minor": 0
}
