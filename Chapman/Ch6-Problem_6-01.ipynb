{
 "cells": [
  {
   "cell_type": "markdown",
   "metadata": {},
   "source": [
    "# Excercises Electric Machinery Fundamentals\n",
    "## Chapter 6"
   ]
  },
  {
   "cell_type": "markdown",
   "metadata": {},
   "source": [
    "## Problem 6-1"
   ]
  },
  {
   "cell_type": "code",
   "execution_count": 1,
   "metadata": {
    "collapsed": false,
    "slideshow": {
     "slide_type": "skip"
    }
   },
   "outputs": [
    {
     "name": "stdout",
     "output_type": "stream",
     "text": [
      "Populating the interactive namespace from numpy and matplotlib\n"
     ]
    }
   ],
   "source": [
    "%pylab inline"
   ]
  },
  {
   "cell_type": "markdown",
   "metadata": {},
   "source": [
    "### Description"
   ]
  },
  {
   "cell_type": "markdown",
   "metadata": {},
   "source": [
    "A 220-V three-phase six-pole 50-Hz induction motor is running at a slip of 3.5 percent."
   ]
  },
  {
   "cell_type": "code",
   "execution_count": 2,
   "metadata": {
    "collapsed": false
   },
   "outputs": [],
   "source": [
    "fse = 50 # [Hz]\n",
    "p   = 6\n",
    "s   = 3.5/100            "
   ]
  },
  {
   "cell_type": "markdown",
   "metadata": {},
   "source": [
    "Find:\n",
    "\n",
    "#### (a)\n",
    " * The speed of the magnetic fields in revolutions per minute\n",
    " \n",
    "#### (b)\n",
    " * The speed of the rotor in revolutions per minute\n",
    " \n",
    "#### (c)\n",
    " * The slip speed of the rotor\n",
    " \n",
    "#### (d)\n",
    " * The rotor frequency in hertz"
   ]
  },
  {
   "cell_type": "markdown",
   "metadata": {},
   "source": [
    "### SOLUTION"
   ]
  },
  {
   "cell_type": "markdown",
   "metadata": {},
   "source": [
    "#### (a)\n",
    "The speed of the magnetic fields is:\n",
    "\n",
    "$$n_\\text{sync} = \\frac{120f_{se}}{P}$$"
   ]
  },
  {
   "cell_type": "code",
   "execution_count": 3,
   "metadata": {
    "collapsed": false
   },
   "outputs": [
    {
     "name": "stdout",
     "output_type": "stream",
     "text": [
      "\n",
      "n_sync = 1000 r/min\n",
      "===================\n"
     ]
    }
   ],
   "source": [
    "n_sync = 120*fse / p\n",
    "print('''\n",
    "n_sync = {:.0f} r/min\n",
    "==================='''.format(n_sync))"
   ]
  },
  {
   "cell_type": "markdown",
   "metadata": {},
   "source": [
    "#### (b)\n",
    "The speed of the rotor is:\n",
    "\n",
    "$$n_m = (1-s)n_\\text{sync}$$"
   ]
  },
  {
   "cell_type": "code",
   "execution_count": 4,
   "metadata": {
    "collapsed": false
   },
   "outputs": [
    {
     "name": "stdout",
     "output_type": "stream",
     "text": [
      "\n",
      "n_m = 965 r/min\n",
      "===============\n"
     ]
    }
   ],
   "source": [
    "n_m = (1 - s) * n_sync\n",
    "print('''\n",
    "n_m = {:.0f} r/min\n",
    "==============='''.format(n_m))"
   ]
  },
  {
   "cell_type": "markdown",
   "metadata": {},
   "source": [
    "#### (c)\n",
    "The slip speed of the rotor is:\n",
    "\n",
    "$$n_\\text{slip} = s \\cdot n_\\text{sync}$$"
   ]
  },
  {
   "cell_type": "code",
   "execution_count": 5,
   "metadata": {
    "collapsed": false
   },
   "outputs": [
    {
     "name": "stdout",
     "output_type": "stream",
     "text": [
      "\n",
      "n_slip = 35 r/min\n",
      "=================\n"
     ]
    }
   ],
   "source": [
    "n_slip = s * n_sync\n",
    "print('''\n",
    "n_slip = {:.0f} r/min\n",
    "================='''.format(n_slip))"
   ]
  },
  {
   "cell_type": "markdown",
   "metadata": {},
   "source": [
    "#### (d)\n",
    "The rotor frequency is:\n",
    "\n",
    "$$f_{re} = \\frac{p\\cdot n_\\text{slip}}{120}$$"
   ]
  },
  {
   "cell_type": "code",
   "execution_count": 6,
   "metadata": {
    "collapsed": false
   },
   "outputs": [
    {
     "name": "stdout",
     "output_type": "stream",
     "text": [
      "\n",
      "fre = 1.75 Hz\n",
      "=============\n"
     ]
    }
   ],
   "source": [
    "fre = n_slip*p / 120\n",
    "print('''\n",
    "fre = {:.2f} Hz\n",
    "============='''.format(fre))"
   ]
  }
 ],
 "metadata": {
  "kernelspec": {
   "display_name": "Python 3",
   "language": "python",
   "name": "python3"
  },
  "language_info": {
   "codemirror_mode": {
    "name": "ipython",
    "version": 3
   },
   "file_extension": ".py",
   "mimetype": "text/x-python",
   "name": "python",
   "nbconvert_exporter": "python",
   "pygments_lexer": "ipython3",
   "version": "3.5.2"
  }
 },
 "nbformat": 4,
 "nbformat_minor": 0
}
