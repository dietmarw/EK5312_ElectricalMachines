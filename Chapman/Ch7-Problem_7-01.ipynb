{
 "cells": [
  {
   "cell_type": "markdown",
   "metadata": {},
   "source": [
    "# Excercises Electric Machinery Fundamentals\n",
    "## Chapter 7"
   ]
  },
  {
   "cell_type": "markdown",
   "metadata": {},
   "source": [
    "## Problem 7-1"
   ]
  },
  {
   "cell_type": "code",
   "execution_count": 1,
   "metadata": {
    "slideshow": {
     "slide_type": "skip"
    }
   },
   "outputs": [
    {
     "name": "stdout",
     "output_type": "stream",
     "text": [
      "Populating the interactive namespace from numpy and matplotlib\n"
     ]
    },
    {
     "data": {
      "text/plain": [
       "'%.4g'"
      ]
     },
     "execution_count": 1,
     "metadata": {},
     "output_type": "execute_result"
    }
   ],
   "source": [
    "%pylab inline\n",
    "%precision %.4g"
   ]
  },
  {
   "cell_type": "markdown",
   "metadata": {},
   "source": [
    "### Description"
   ]
  },
  {
   "cell_type": "markdown",
   "metadata": {},
   "source": [
    "The following information is given about the simple rotating loop shown in Figure 7-6:"
   ]
  },
  {
   "cell_type": "markdown",
   "metadata": {},
   "source": [
    "<img src=\"figs/FigC_7-6.jpg\" width=\"70%\">"
   ]
  },
  {
   "cell_type": "markdown",
   "metadata": {},
   "source": [
    "\\begin{equation*}\n",
    "\\begin{array}{ll}\n",
    "B = 0.4\\,T  &    V_B = 48\\,V \\\\\n",
    "l = 0.5\\,m  &      R = 0.4\\,\\Omega \\\\\n",
    "r = 0.25\\,m & \\omega = 500\\,rad/s\n",
    "\\end{array}\n",
    "\\end{equation*}"
   ]
  },
  {
   "cell_type": "code",
   "execution_count": 2,
   "metadata": {},
   "outputs": [],
   "source": [
    "B   =   0.4  # [T]\n",
    "V_B =  48    # [V]\n",
    "l   =   0.5  # [m]\n",
    "R   =   0.4  # [Ohm]\n",
    "r   =   0.25 # [m]\n",
    "w   = 500    # [rad/s]"
   ]
  },
  {
   "cell_type": "markdown",
   "metadata": {},
   "source": [
    "#### (a)\n",
    " \n",
    " * Is this machine operating as a motor or a generator? Explain.\n",
    "\n",
    "#### (b)\n",
    " \n",
    " * What is the current i flowing into or out of the machine? \n",
    " * What is the power flowing into or out of the machine?\n",
    " \n",
    "#### (c)\n",
    "If the speed of the rotor were changed to 550 rad/s\n",
    " \n",
    " * What would happen to the current flow into or out of the machine?\n",
    " \n",
    "#### (d)\n",
    "If the speed of the rotor were changed to 450 rad/s\n",
    " \n",
    " * What would happen to the current flow into or out of the machine?"
   ]
  },
  {
   "cell_type": "markdown",
   "metadata": {},
   "source": [
    "### SOLUTION"
   ]
  },
  {
   "cell_type": "markdown",
   "metadata": {},
   "source": [
    "#### (a)\n",
    "If the speed of rotation $\\omega$ of the shaft is 500 rad/s, then the voltage induced in the rotating loop will be:\n",
    "\n",
    "$$e_\\text{ind} = 2rlB\\omega$$"
   ]
  },
  {
   "cell_type": "code",
   "execution_count": 3,
   "metadata": {},
   "outputs": [
    {
     "name": "stdout",
     "output_type": "stream",
     "text": [
      "e_ind = 50 V\n"
     ]
    }
   ],
   "source": [
    "e_ind = 2*r*l*B*w\n",
    "print('e_ind = {:.0f} V'.format(e_ind))"
   ]
  },
  {
   "cell_type": "markdown",
   "metadata": {},
   "source": [
    "**Since the external battery voltage is only 48 V, this machine is operating as a generator, charging the\n",
    "battery.**"
   ]
  },
  {
   "cell_type": "markdown",
   "metadata": {},
   "source": [
    "#### (b)\n",
    "The current flowing out of the machine is approximately:\n",
    "\n",
    "$$i = \\frac{e_\\text{ind} - V_B}{R}$$\n",
    "<hr>\n",
    "\n",
    "**Note** that this value is the current flowing while the loop is under the pole faces. When the loop goes\n",
    "beyond the pole faces, $e_\\text{ind}$ will momentarily fall to 0 V, and the current flow will momentarily reverse.\n",
    "Therefore, the average current flow over a complete cycle will be somewhat less than 5.0 A.\n",
    "<hr>"
   ]
  },
  {
   "cell_type": "code",
   "execution_count": 4,
   "metadata": {},
   "outputs": [
    {
     "name": "stdout",
     "output_type": "stream",
     "text": [
      "\n",
      "i = 5.0 A\n",
      "=========\n"
     ]
    }
   ],
   "source": [
    "i = (e_ind - V_B) / R\n",
    "print('''\n",
    "i = {:.1f} A\n",
    "========='''.format(i))"
   ]
  },
  {
   "cell_type": "markdown",
   "metadata": {},
   "source": [
    "#### (c)\n",
    "If the speed of the rotor were increased to 550 rad/s, the induced voltage of the loop would increase to:"
   ]
  },
  {
   "cell_type": "code",
   "execution_count": 5,
   "metadata": {},
   "outputs": [
    {
     "data": {
      "text/plain": [
       "55"
      ]
     },
     "execution_count": 5,
     "metadata": {},
     "output_type": "execute_result"
    }
   ],
   "source": [
    "w_c = 550 # [rad/s]\n",
    "e_ind_c = 2*r*l*B*w_c\n",
    "e_ind_c"
   ]
  },
  {
   "cell_type": "markdown",
   "metadata": {},
   "source": [
    "Volts and the current flow out of the machine will increase to"
   ]
  },
  {
   "cell_type": "code",
   "execution_count": 6,
   "metadata": {},
   "outputs": [
    {
     "name": "stdout",
     "output_type": "stream",
     "text": [
      "\n",
      "i_c = 17.5 A\n",
      "============\n"
     ]
    }
   ],
   "source": [
    "i_c = (e_ind_c - V_B) / R\n",
    "print('''\n",
    "i_c = {:.1f} A\n",
    "============'''.format(i_c))"
   ]
  },
  {
   "cell_type": "markdown",
   "metadata": {},
   "source": [
    "#### (d)\n",
    "If the speed of the rotor were decreased to 450 rad/s, the induced voltage of the loop would fall to:"
   ]
  },
  {
   "cell_type": "code",
   "execution_count": 7,
   "metadata": {},
   "outputs": [
    {
     "data": {
      "text/plain": [
       "45"
      ]
     },
     "execution_count": 7,
     "metadata": {},
     "output_type": "execute_result"
    }
   ],
   "source": [
    "w_d = 450 # [rad/s]\n",
    "e_ind_d = 2*r*l*B*w_d\n",
    "e_ind_d"
   ]
  },
  {
   "cell_type": "markdown",
   "metadata": {},
   "source": [
    "Volts. Here, $e_\\text{ind}$ is less than $V_B$ , so current flows into the loop and the machine is acting as a motor. The current\n",
    "flow into the machine would be:\n",
    "\n",
    "$$i = \\frac{V_B - e_\\text{ind}}{R}$$"
   ]
  },
  {
   "cell_type": "code",
   "execution_count": 8,
   "metadata": {},
   "outputs": [
    {
     "name": "stdout",
     "output_type": "stream",
     "text": [
      "\n",
      "i_d = 7.5 A\n",
      "===========\n"
     ]
    }
   ],
   "source": [
    "i_d = (V_B - e_ind_d) / R\n",
    "print('''\n",
    "i_d = {:.1f} A\n",
    "==========='''.format(i_d))"
   ]
  }
 ],
 "metadata": {
  "kernelspec": {
   "display_name": "Python 3",
   "language": "python",
   "name": "python3"
  },
  "language_info": {
   "codemirror_mode": {
    "name": "ipython",
    "version": 3
   },
   "file_extension": ".py",
   "mimetype": "text/x-python",
   "name": "python",
   "nbconvert_exporter": "python",
   "pygments_lexer": "ipython3",
   "version": "3.6.7"
  }
 },
 "nbformat": 4,
 "nbformat_minor": 1
}
