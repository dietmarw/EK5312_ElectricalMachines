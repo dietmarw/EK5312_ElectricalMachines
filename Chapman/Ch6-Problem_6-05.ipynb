{
 "cells": [
  {
   "cell_type": "markdown",
   "metadata": {},
   "source": [
    "# Excercises Electric Machinery Fundamentals\n",
    "## Chapter 6"
   ]
  },
  {
   "cell_type": "markdown",
   "metadata": {},
   "source": [
    "## Problem 6-5"
   ]
  },
  {
   "cell_type": "code",
   "execution_count": 1,
   "metadata": {
    "collapsed": false,
    "slideshow": {
     "slide_type": "skip"
    }
   },
   "outputs": [
    {
     "name": "stdout",
     "output_type": "stream",
     "text": [
      "Populating the interactive namespace from numpy and matplotlib\n"
     ]
    }
   ],
   "source": [
    "%pylab inline"
   ]
  },
  {
   "cell_type": "markdown",
   "metadata": {},
   "source": [
    "### Description"
   ]
  },
  {
   "cell_type": "markdown",
   "metadata": {},
   "source": [
    "A 208-V four-pole 60-Hz Y-connected wound-rotor induction motor is rated at 30 hp. Its equivalent circuit components are:\n",
    "\n",
    "| Stator               | Rotor                | Power\n",
    "|----------------------|----------------------|--------------------------|\n",
    "| $R_1 = 0.10\\,\\Omega$ | $R_2 = 0.07\\,\\Omega$ | $P_\\text{core} = 400\\,W$ |\n",
    "| $X_1 = 0.21\\,\\Omega$ | $X_2 = 0.21\\,\\Omega$ | $P_\\text{f\\&w} = 500\\,W$ |\n",
    "| $X_M = 10.0\\,\\Omega$ |                      | $P_\\text{misc}\\approx 0$ | \n"
   ]
  },
  {
   "cell_type": "code",
   "execution_count": 2,
   "metadata": {
    "collapsed": false
   },
   "outputs": [],
   "source": [
    "R1 =  0.10   # [Ohm]\n",
    "R2 =  0.07   # [Ohm]\n",
    "Xm = 10.0    # [Ohm]\n",
    "X1 =  0.21   # [Ohm]\n",
    "X2 =  0.21   # [Ohm]\n",
    "Pfw   = 500  # [W]\n",
    "Pmisc =   0  # [W]\n",
    "Pcore = 400  # [W]\n",
    "V     = 208  # [V]"
   ]
  },
  {
   "cell_type": "markdown",
   "metadata": {},
   "source": [
    "For a slip of 0.05, find\n",
    "\n",
    "#### (a)\n",
    "\n",
    " * The line current $I_L$\n",
    " \n",
    "#### (b)\n",
    "\n",
    " * The stator copper losses $P_\\text{SCL}$\n",
    " \n",
    "#### (c)\n",
    "\n",
    " * The air-gap power $P_\\text{AG}$\n",
    " \n",
    "#### (d)\n",
    " \n",
    " * The power converted from electrical to mechanical form $P_\\text{conv}$\n",
    " \n",
    "#### (e)\n",
    " \n",
    " * The induced torque $\\tau_\\text{ind}$\n",
    " \n",
    "#### (f)\n",
    " \n",
    " * The load torque $\\tau_\\text{load}$\n",
    " \n",
    "#### (g)\n",
    " \n",
    " * The overall machine efficiency\n",
    " \n",
    "#### (h)\n",
    " \n",
    " * The motor speed in revolutions per minute and radians per second"
   ]
  },
  {
   "cell_type": "markdown",
   "metadata": {},
   "source": [
    "### SOLUTION"
   ]
  },
  {
   "cell_type": "markdown",
   "metadata": {},
   "source": [
    "The equivalent circuit of this induction motor is shown below:"
   ]
  },
  {
   "cell_type": "markdown",
   "metadata": {},
   "source": [
    "<img src=\"figs/Problem_6-05_a.jpg\" width=\"70%\">"
   ]
  },
  {
   "cell_type": "markdown",
   "metadata": {},
   "source": [
    "#### (a)\n",
    "The easiest way to find the line current (or armature current) is to get the equivalent impedance $Z_F$ of the rotor circuit in parallel with $jX_M$ , and then calculate the current as the phase voltage divided by the sum of the series impedances, as shown below."
   ]
  },
  {
   "cell_type": "markdown",
   "metadata": {},
   "source": [
    "<img src=\"figs/Problem_6-05_b.jpg\" width=\"70%\">"
   ]
  },
  {
   "cell_type": "markdown",
   "metadata": {},
   "source": [
    "The equivalent impedance of the rotor circuit in parallel with $jX_M$ is:\n",
    "\n",
    "$$Z_F = \\frac{1}{\\frac{1}{jX_M}+\\frac{1}{Z_2}}$$"
   ]
  },
  {
   "cell_type": "code",
   "execution_count": 3,
   "metadata": {
    "collapsed": false
   },
   "outputs": [
    {
     "name": "stdout",
     "output_type": "stream",
     "text": [
      "Zf = (1.318+0.386j) Ω = 1.374 Ω ∠16.3°\n"
     ]
    }
   ],
   "source": [
    "s = 0.05\n",
    "Z2 = R2 + R2*(1-s)/s + X2*1j\n",
    "Zf = 1/(1/(Xm*1j) + 1/Z2)\n",
    "Zf_angle = arctan(Zf.imag / Zf.real)\n",
    "print('Zf = ({:.3f}) Ω = {:.3f} Ω ∠{:.1f}°'.format(Zf, abs(Zf), Zf_angle/pi*180))"
   ]
  },
  {
   "cell_type": "markdown",
   "metadata": {},
   "source": [
    "The phase voltage is "
   ]
  },
  {
   "cell_type": "code",
   "execution_count": 4,
   "metadata": {
    "collapsed": false
   },
   "outputs": [
    {
     "name": "stdout",
     "output_type": "stream",
     "text": [
      "Vphi = 120 V\n"
     ]
    }
   ],
   "source": [
    "Vphi = V / sqrt(3)\n",
    "print('Vphi = {:.0f} V'.format(Vphi))"
   ]
  },
  {
   "cell_type": "markdown",
   "metadata": {},
   "source": [
    "so line current $I_L$ is:\n",
    "$$I_L = I_A = \\frac{V_\\phi}{R_1+jX_1+R_F+jX_F}$$"
   ]
  },
  {
   "cell_type": "code",
   "execution_count": 5,
   "metadata": {
    "collapsed": false
   },
   "outputs": [
    {
     "name": "stdout",
     "output_type": "stream",
     "text": [
      "\n",
      "Il = Ia = 78.1 A ∠-22.8°\n",
      "========================\n"
     ]
    }
   ],
   "source": [
    "Rf = Zf.real\n",
    "Xf = Zf.imag\n",
    "Ia = Vphi / (R1 + X1*1j + Rf + Xf*1j)\n",
    "Ia_angle = arctan(Ia.imag/Ia.real)\n",
    "Il = Ia\n",
    "print('''\n",
    "Il = Ia = {:.1f} A ∠{:.1f}°\n",
    "========================''' .format(abs(Il), Ia_angle/pi *180))"
   ]
  },
  {
   "cell_type": "markdown",
   "metadata": {},
   "source": [
    "#### (b)\n",
    "The stator copper losses are\n",
    "\n",
    "$$P_\\text{SCL} = 3I_A^2R_1$$"
   ]
  },
  {
   "cell_type": "code",
   "execution_count": 6,
   "metadata": {
    "collapsed": false
   },
   "outputs": [
    {
     "name": "stdout",
     "output_type": "stream",
     "text": [
      "\n",
      "Pscl = 1828 W\n",
      "=============\n"
     ]
    }
   ],
   "source": [
    "Pscl = 3 * abs(Ia)**2 * R1\n",
    "print('''\n",
    "Pscl = {:.0f} W\n",
    "============='''.format(Pscl))"
   ]
  },
  {
   "cell_type": "markdown",
   "metadata": {},
   "source": [
    "#### (c)\n",
    "The equivalent circuit did not take into account the core losses by way of $R_m$, instead they were explicitely given. \n",
    "\n",
    "Now the the air gap power is:\n",
    "\n",
    "$$P_\\text{AG} = P_\\text{in} - P_\\text{SCL} - P_\\text{core}$$\n",
    "\n",
    "$$P_\\text{AG} = 3I_2^2\\frac{R_2}{s} = 3I_A^2R_F - P_\\text{core}$$"
   ]
  },
  {
   "cell_type": "markdown",
   "metadata": {},
   "source": [
    "<hr>\n",
    "Note that $3I_A^2R_F - P_\\text{core}$ is equal to $3I_2^2\\frac{R_2}{s}$, since the only resistance in the original rotor circuit was $\\frac{R_2}{s}$ , and the resistance in the Thevenin equivalent circuit is $R_F$. The power consumed by the Thevenin equivalent circuit should be the same as the power consumed by the original circuit. But the Thevenin circuit we use here is missing the $R_m$ part. As an excercise you could calculate $R_m$ from $P_\\text{core}$ and then determin the Thevenin impedance as follows: \n",
    "\n",
    "$$Z_F = \\frac{1}{\\frac{1}{R_m} + \\frac{1}{jX_M}+\\frac{1}{Z_2}}$$\n",
    "\n",
    "This however is not done here and we simply substract the core losses directly.\n",
    "<hr>"
   ]
  },
  {
   "cell_type": "code",
   "execution_count": 7,
   "metadata": {
    "collapsed": false
   },
   "outputs": [
    {
     "name": "stdout",
     "output_type": "stream",
     "text": [
      "\n",
      "Pag = 23.7 kW\n",
      "=============\n"
     ]
    }
   ],
   "source": [
    "Pag = 3 * abs(Ia)**2 * Rf - Pcore\n",
    "print('''\n",
    "Pag = {:.1f} kW\n",
    "============='''.format(Pag/1000))"
   ]
  },
  {
   "cell_type": "markdown",
   "metadata": {},
   "source": [
    "#### (d)\n",
    "The power converted from electrical to mechanical form is:\n",
    "\n",
    "$$P_\\text{conv} = (1-s)P_\\text{AG}$$"
   ]
  },
  {
   "cell_type": "code",
   "execution_count": 8,
   "metadata": {
    "collapsed": false
   },
   "outputs": [
    {
     "name": "stdout",
     "output_type": "stream",
     "text": [
      "\n",
      "Pconv = 22.5 kW\n",
      "===============\n"
     ]
    }
   ],
   "source": [
    "Pconv = (1 - s) * Pag\n",
    "print('''\n",
    "Pconv = {:.1f} kW\n",
    "==============='''.format(Pconv/1000))"
   ]
  },
  {
   "cell_type": "markdown",
   "metadata": {},
   "source": [
    "#### (e)\n",
    "The induced torque in the motor is:\n",
    "\n",
    "$$\\tau_\\text{ind} = \\frac{P_\\text{AG}}{\\omega_\\text{sync}}$$"
   ]
  },
  {
   "cell_type": "code",
   "execution_count": 9,
   "metadata": {
    "collapsed": false
   },
   "outputs": [
    {
     "name": "stdout",
     "output_type": "stream",
     "text": [
      "\n",
      "tau_ind = 125.7 Nm\n",
      "==================\n"
     ]
    }
   ],
   "source": [
    "n_sync = 1800  # [r/min]\n",
    "w_sync = n_sync * (2.0*pi /1.0) * (1.0 / 60.0)\n",
    "tau_ind = Pag / w_sync\n",
    "print('''\n",
    "tau_ind = {:.1f} Nm\n",
    "=================='''.format(tau_ind))"
   ]
  },
  {
   "cell_type": "markdown",
   "metadata": {},
   "source": [
    "#### (f)\n",
    "The output power of this motor is:\n",
    "\n",
    "$$P_\\text{OUT} = P_\\text{conv} - P_\\text{f\\&w} - P_\\text{core} - P_\\text{misc}$$"
   ]
  },
  {
   "cell_type": "code",
   "execution_count": 10,
   "metadata": {
    "collapsed": false
   },
   "outputs": [
    {
     "name": "stdout",
     "output_type": "stream",
     "text": [
      "Pout = 21.6 kW\n"
     ]
    }
   ],
   "source": [
    "Pout = Pconv - Pfw - Pcore - Pmisc\n",
    "print('Pout = {:.1f} kW'.format(Pout/1000))"
   ]
  },
  {
   "cell_type": "markdown",
   "metadata": {},
   "source": [
    "The output speed is:\n",
    "\n",
    "$$n_m = (1-s)n_\\text{sync}$$"
   ]
  },
  {
   "cell_type": "code",
   "execution_count": 11,
   "metadata": {
    "collapsed": false
   },
   "outputs": [
    {
     "name": "stdout",
     "output_type": "stream",
     "text": [
      "n_m = 1710 r/min\n"
     ]
    }
   ],
   "source": [
    "n_m = (1 - s) * n_sync\n",
    "print('n_m = {:.0f} r/min'.format(n_m))"
   ]
  },
  {
   "cell_type": "markdown",
   "metadata": {},
   "source": [
    "Therefore the load torque is:\n",
    "\n",
    "$$\\tau_\\text{load} = \\frac{P_\\text{OUT}}{\\omega_m}$$"
   ]
  },
  {
   "cell_type": "code",
   "execution_count": 12,
   "metadata": {
    "collapsed": false
   },
   "outputs": [
    {
     "name": "stdout",
     "output_type": "stream",
     "text": [
      "\n",
      "tau_load = 120.7 Nm\n",
      "===================\n"
     ]
    }
   ],
   "source": [
    "w_m = n_m * (2.0*pi /1.0) * (1.0 / 60.0)\n",
    "tau_load = Pout / w_m\n",
    "print('''\n",
    "tau_load = {:.1f} Nm\n",
    "==================='''.format(tau_load))"
   ]
  },
  {
   "cell_type": "markdown",
   "metadata": {},
   "source": [
    "#### (g)\n",
    "The overall efficiency is:\n",
    "\n",
    "$$\\eta = \\frac{P_\\text{OUT}}{P_\\text{IN}} \\cdot 100\\% = \\frac{P_\\text{OUT}}{3V_\\phi I_A\\cos\\theta}$$"
   ]
  },
  {
   "cell_type": "code",
   "execution_count": 13,
   "metadata": {
    "collapsed": false
   },
   "outputs": [
    {
     "name": "stdout",
     "output_type": "stream",
     "text": [
      "\n",
      "η = 83.4 %\n",
      "==========\n"
     ]
    }
   ],
   "source": [
    "eta = Pout / (3 * Vphi * abs(Ia) * cos(Ia_angle)) * 100\n",
    "print('''\n",
    "η = {:.1f} %\n",
    "=========='''.format(eta))"
   ]
  },
  {
   "cell_type": "markdown",
   "metadata": {},
   "source": [
    "#### (h)\n",
    "The motor speed in revolutions per minute is $n_m$. The motor speed in radians per second is:"
   ]
  },
  {
   "cell_type": "code",
   "execution_count": 14,
   "metadata": {
    "collapsed": false
   },
   "outputs": [
    {
     "name": "stdout",
     "output_type": "stream",
     "text": [
      "\n",
      "w_m = 179 rad/s\n",
      "===============\n"
     ]
    }
   ],
   "source": [
    "w_m = n_m * (2*pi / 60.0)\n",
    "print('''\n",
    "w_m = {:.0f} rad/s\n",
    "==============='''.format(w_m))"
   ]
  }
 ],
 "metadata": {
  "kernelspec": {
   "display_name": "Python 3",
   "language": "python",
   "name": "python3"
  },
  "language_info": {
   "codemirror_mode": {
    "name": "ipython",
    "version": 3
   },
   "file_extension": ".py",
   "mimetype": "text/x-python",
   "name": "python",
   "nbconvert_exporter": "python",
   "pygments_lexer": "ipython3",
   "version": "3.5.2"
  }
 },
 "nbformat": 4,
 "nbformat_minor": 0
}
