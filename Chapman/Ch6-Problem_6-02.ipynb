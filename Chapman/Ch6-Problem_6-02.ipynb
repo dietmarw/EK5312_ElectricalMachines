{
 "cells": [
  {
   "cell_type": "markdown",
   "metadata": {},
   "source": [
    "# Excercises Electric Machinery Fundamentals\n",
    "## Chapter 6"
   ]
  },
  {
   "cell_type": "markdown",
   "metadata": {},
   "source": [
    "## Problem 6-2"
   ]
  },
  {
   "cell_type": "code",
   "execution_count": 1,
   "metadata": {
    "collapsed": false,
    "slideshow": {
     "slide_type": "skip"
    }
   },
   "outputs": [
    {
     "name": "stdout",
     "output_type": "stream",
     "text": [
      "Populating the interactive namespace from numpy and matplotlib\n"
     ]
    }
   ],
   "source": [
    "%pylab inline"
   ]
  },
  {
   "cell_type": "markdown",
   "metadata": {},
   "source": [
    "### Description"
   ]
  },
  {
   "cell_type": "markdown",
   "metadata": {},
   "source": [
    "Answer the questions in Problem 6-1 for a 480-V three-phase two-pole 60-Hz induction motor running at a slip of 0.025."
   ]
  },
  {
   "cell_type": "code",
   "execution_count": 2,
   "metadata": {
    "collapsed": false
   },
   "outputs": [],
   "source": [
    "fse = 60.0  # [Hz]\n",
    "p   =  2.0\n",
    "s   =  0.025                "
   ]
  },
  {
   "cell_type": "markdown",
   "metadata": {},
   "source": [
    "### SOLUTION"
   ]
  },
  {
   "cell_type": "markdown",
   "metadata": {},
   "source": [
    "#### (a)\n",
    "The speed of the magnetic fields is:\n",
    "\n",
    "$$n_\\text{sync} = \\frac{120f_{se}}{p}$$"
   ]
  },
  {
   "cell_type": "code",
   "execution_count": 3,
   "metadata": {
    "collapsed": false
   },
   "outputs": [
    {
     "name": "stdout",
     "output_type": "stream",
     "text": [
      "\n",
      "n_sync = 3600 r/min\n",
      "===================\n"
     ]
    }
   ],
   "source": [
    "n_sync = 120*fse / p\n",
    "print('''\n",
    "n_sync = {:.0f} r/min\n",
    "==================='''.format(n_sync))"
   ]
  },
  {
   "cell_type": "markdown",
   "metadata": {},
   "source": [
    "#### (b)\n",
    "The speed of the rotor is:\n",
    "\n",
    "$$n_m = (1-s)n_\\text{sync}$$"
   ]
  },
  {
   "cell_type": "code",
   "execution_count": 4,
   "metadata": {
    "collapsed": false
   },
   "outputs": [
    {
     "name": "stdout",
     "output_type": "stream",
     "text": [
      "\n",
      "n_m = 3510 r/min\n",
      "================\n"
     ]
    }
   ],
   "source": [
    "n_m = (1 - s) * n_sync\n",
    "print('''\n",
    "n_m = {:.0f} r/min\n",
    "================'''.format(n_m))"
   ]
  },
  {
   "cell_type": "markdown",
   "metadata": {},
   "source": [
    "#### (c)\n",
    "The slip speed of the rotor is:\n",
    "\n",
    "$$n_\\text{slip} = s\\cdot n_\\text{sync}$$"
   ]
  },
  {
   "cell_type": "code",
   "execution_count": 5,
   "metadata": {
    "collapsed": false
   },
   "outputs": [
    {
     "name": "stdout",
     "output_type": "stream",
     "text": [
      "\n",
      "n_slip = 90 r/min\n",
      "=================\n"
     ]
    }
   ],
   "source": [
    "n_slip = s * n_sync\n",
    "print('''\n",
    "n_slip = {:.0f} r/min\n",
    "================='''.format(n_slip))"
   ]
  },
  {
   "cell_type": "markdown",
   "metadata": {},
   "source": [
    "#### (d)\n",
    "The rotor frequency is:\n",
    "\n",
    "$$f_{re} = \\frac{p\\cdot n_\\text{slip}}{120}$$"
   ]
  },
  {
   "cell_type": "code",
   "execution_count": 6,
   "metadata": {
    "collapsed": false
   },
   "outputs": [
    {
     "name": "stdout",
     "output_type": "stream",
     "text": [
      "\n",
      "fre = 1.5 Hz\n",
      "============\n"
     ]
    }
   ],
   "source": [
    "fre = p * n_slip / 120\n",
    "print('''\n",
    "fre = {:.1f} Hz\n",
    "============'''.format(fre))"
   ]
  }
 ],
 "metadata": {
  "kernelspec": {
   "display_name": "Python 3",
   "language": "python",
   "name": "python3"
  },
  "language_info": {
   "codemirror_mode": {
    "name": "ipython",
    "version": 3
   },
   "file_extension": ".py",
   "mimetype": "text/x-python",
   "name": "python",
   "nbconvert_exporter": "python",
   "pygments_lexer": "ipython3",
   "version": "3.5.2"
  }
 },
 "nbformat": 4,
 "nbformat_minor": 0
}
