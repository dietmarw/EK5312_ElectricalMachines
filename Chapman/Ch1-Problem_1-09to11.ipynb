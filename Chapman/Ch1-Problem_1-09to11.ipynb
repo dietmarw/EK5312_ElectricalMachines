{
 "cells": [
  {
   "cell_type": "markdown",
   "metadata": {},
   "source": [
    "# Excercises Electric Machinery Fundamentals\n",
    "## Chapter 1\n",
    "### Problem 1-9 to 1-11"
   ]
  },
  {
   "cell_type": "code",
   "execution_count": 16,
   "metadata": {
    "collapsed": false,
    "slideshow": {
     "slide_type": "skip"
    }
   },
   "outputs": [
    {
     "name": "stdout",
     "output_type": "stream",
     "text": [
      "Populating the interactive namespace from numpy and matplotlib\n"
     ]
    },
    {
     "data": {
      "text/plain": [
       "'%.4f'"
      ]
     },
     "execution_count": 16,
     "metadata": {},
     "output_type": "execute_result"
    }
   ],
   "source": [
    "%pylab inline\n",
    "%precision 4"
   ]
  },
  {
   "cell_type": "markdown",
   "metadata": {},
   "source": [
    "## Problem 1-9 \n",
    "### Description"
   ]
  },
  {
   "cell_type": "markdown",
   "metadata": {},
   "source": [
    "A wire is shown in Figure P1-6 below which is carrying 2.0 A in the presence of a magnetic field.  \n",
    "\n",
    "* Calculate the magnitude and direction of the force induced on the wire."
   ]
  },
  {
   "cell_type": "markdown",
   "metadata": {},
   "source": [
    "<img src=\"figs/FigC_P1-6.jpg\" width=\"50%\">"
   ]
  },
  {
   "cell_type": "code",
   "execution_count": 17,
   "metadata": {
    "collapsed": false
   },
   "outputs": [],
   "source": [
    "B = 0.5  #[T]\n",
    "i = 2.0  #[A]\n",
    "l = 1.0  #[m]"
   ]
  },
  {
   "cell_type": "markdown",
   "metadata": {},
   "source": [
    "### SOLUTION"
   ]
  },
  {
   "cell_type": "markdown",
   "metadata": {},
   "source": [
    "The force on this wire can be calculated from the equation\n",
    "$$ \\vec{F} = i(\\vec{l}\\times\\vec{B}) = ilB$$"
   ]
  },
  {
   "cell_type": "code",
   "execution_count": 18,
   "metadata": {
    "collapsed": false
   },
   "outputs": [
    {
     "data": {
      "text/plain": [
       "1.0000"
      ]
     },
     "execution_count": 18,
     "metadata": {},
     "output_type": "execute_result"
    }
   ],
   "source": [
    "F = i*l*B \n",
    "F"
   ]
  },
  {
   "cell_type": "markdown",
   "metadata": {},
   "source": [
    "Newton, into the page."
   ]
  },
  {
   "cell_type": "markdown",
   "metadata": {},
   "source": [
    "## Problem 1-10\n",
    "### Description"
   ]
  },
  {
   "cell_type": "markdown",
   "metadata": {},
   "source": [
    "The wire is shown in Figure P1-7 is moving in the presence of a magnetic field. \n",
    "\n",
    "* With the information given in the figure, determine the magnitude and direction of the induced voltage in the wire.  "
   ]
  },
  {
   "cell_type": "markdown",
   "metadata": {},
   "source": [
    "<img src=\"figs/FigC_P1-7.jpg\" width=\"60%\">"
   ]
  },
  {
   "cell_type": "markdown",
   "metadata": {},
   "source": [
    "### SOLUTION"
   ]
  },
  {
   "cell_type": "code",
   "execution_count": 19,
   "metadata": {
    "collapsed": false
   },
   "outputs": [],
   "source": [
    "v = 10.0    # [m/s]\n",
    "B =  0.2    # [T] \n",
    "l =  0.25   # [m]\n",
    "theta = 45  # [deg]"
   ]
  },
  {
   "cell_type": "markdown",
   "metadata": {},
   "source": [
    "The induced voltage on this wire can be calculated from the equation shown below. The\n",
    "voltage on the wire is positive downward because the vector quantity $\\vec{v}\\times \\vec{B}$ points downward.\n",
    "$$ e_\\text{ind} = (\\vec{v}\\times \\vec{B}) \\cdot \\vec{l} = vBl\\cos(\\theta)$$"
   ]
  },
  {
   "cell_type": "code",
   "execution_count": 20,
   "metadata": {
    "collapsed": false
   },
   "outputs": [
    {
     "data": {
      "text/plain": [
       "0.3536"
      ]
     },
     "execution_count": 20,
     "metadata": {},
     "output_type": "execute_result"
    }
   ],
   "source": [
    "e_ind = v*B*l* cos(deg2rad(theta))\n",
    "e_ind"
   ]
  },
  {
   "cell_type": "markdown",
   "metadata": {},
   "source": [
    "Volt, positive down."
   ]
  },
  {
   "cell_type": "markdown",
   "metadata": {},
   "source": [
    "## Problem 1-11\n",
    "### Description"
   ]
  },
  {
   "cell_type": "markdown",
   "metadata": {},
   "source": [
    "Repeat Problem 1-10 for the wire in Figure P1-8 below:"
   ]
  },
  {
   "cell_type": "markdown",
   "metadata": {},
   "source": [
    "<img src=\"figs/FigC_P1-8.jpg\" width=\"50%\">"
   ]
  },
  {
   "cell_type": "code",
   "execution_count": 21,
   "metadata": {
    "collapsed": false
   },
   "outputs": [],
   "source": [
    "v = 1.0    # [m/s]\n",
    "B =  0.5   # [T] \n",
    "l =  0.5   # [m]\n",
    "theta = 90 # [deg]"
   ]
  },
  {
   "cell_type": "markdown",
   "metadata": {},
   "source": [
    "### SOLUTION"
   ]
  },
  {
   "cell_type": "markdown",
   "metadata": {},
   "source": [
    "The induced voltage on this wire can be calculated from the equation shown below. The total\n",
    "voltage is zero, because the vector quantity $\\vec{v}\\times \\vec{B}$ points into the page, while the wire runs in the plane of the page.\n",
    "\n",
    "$$ e_\\text{ind} = (\\vec{v}\\times \\vec{B}) \\cdot \\vec{l} = vBl\\cos(\\theta)$$"
   ]
  },
  {
   "cell_type": "code",
   "execution_count": 22,
   "metadata": {
    "collapsed": false
   },
   "outputs": [
    {
     "data": {
      "text/plain": [
       "0.0000"
      ]
     },
     "execution_count": 22,
     "metadata": {},
     "output_type": "execute_result"
    }
   ],
   "source": [
    "e_ind = v*B*l* cos(deg2rad(90))\n",
    "e_ind"
   ]
  },
  {
   "cell_type": "markdown",
   "metadata": {},
   "source": [
    "Volts."
   ]
  }
 ],
 "metadata": {
  "kernelspec": {
   "display_name": "Python 3",
   "language": "python",
   "name": "python3"
  },
  "language_info": {
   "codemirror_mode": {
    "name": "ipython",
    "version": 3
   },
   "file_extension": ".py",
   "mimetype": "text/x-python",
   "name": "python",
   "nbconvert_exporter": "python",
   "pygments_lexer": "ipython3",
   "version": "3.4.3"
  }
 },
 "nbformat": 4,
 "nbformat_minor": 0
}
