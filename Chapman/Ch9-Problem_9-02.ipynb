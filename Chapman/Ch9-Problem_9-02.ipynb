{
 "cells": [
  {
   "cell_type": "markdown",
   "metadata": {},
   "source": [
    "# Excercises Electric Machinery Fundamentals\n",
    "## Chapter 9"
   ]
  },
  {
   "cell_type": "markdown",
   "metadata": {},
   "source": [
    "## Problem 9-2"
   ]
  },
  {
   "cell_type": "code",
   "execution_count": 1,
   "metadata": {
    "collapsed": false,
    "slideshow": {
     "slide_type": "skip"
    }
   },
   "outputs": [
    {
     "name": "stdout",
     "output_type": "stream",
     "text": [
      "Populating the interactive namespace from numpy and matplotlib\n"
     ]
    },
    {
     "data": {
      "text/plain": [
       "'%.4g'"
      ]
     },
     "execution_count": 1,
     "metadata": {},
     "output_type": "execute_result"
    }
   ],
   "source": [
    "%pylab inline\n",
    "%precision %.4g"
   ]
  },
  {
   "cell_type": "markdown",
   "metadata": {},
   "source": [
    "### Description"
   ]
  },
  {
   "cell_type": "markdown",
   "metadata": {},
   "source": [
    "Repeat [Problem 9-1](Ch9-Problem_9-01.ipynb) for a rotor slip of 0.025."
   ]
  },
  {
   "cell_type": "code",
   "execution_count": 2,
   "metadata": {
    "collapsed": false
   },
   "outputs": [],
   "source": [
    "V  = 120    # [V]\n",
    "p  =   4\n",
    "R1 =   2.0  # [Ohm]\n",
    "R2 =   2.8  # [Ohm]\n",
    "X1 =   2.56 # [Ohm]\n",
    "X2 =   2.56 # [Ohm]\n",
    "Xm =  60.5  # [Ohm]\n",
    "s  =   0.025\n",
    "Prot = 51   # [W]"
   ]
  },
  {
   "cell_type": "markdown",
   "metadata": {},
   "source": [
    "### SOLUTION"
   ]
  },
  {
   "cell_type": "markdown",
   "metadata": {},
   "source": [
    "The impedances $Z_F$ and $Z_B$ are:\n",
    "$$Z_F = \\frac{(R_2/s + jX_2)(jX_M)}{R_2/s + jX_2 + jX_M}$$"
   ]
  },
  {
   "cell_type": "code",
   "execution_count": 3,
   "metadata": {
    "collapsed": false
   },
   "outputs": [
    {
     "data": {
      "text/plain": [
       "(24.81440766342863+46.528602256644554j)"
      ]
     },
     "execution_count": 3,
     "metadata": {},
     "output_type": "execute_result"
    }
   ],
   "source": [
    "Zf = ((R2/s + X2*1j)*(Xm*1j)) / (R2/s + X2*1j + Xm*1j)\n",
    "Zf"
   ]
  },
  {
   "cell_type": "markdown",
   "metadata": {},
   "source": [
    "$$Z_B = \\frac{(R_2/(2-s) + jX_2)(jX_M)}{R_2/(2-s) + jX_2 + jX_M}$$"
   ]
  },
  {
   "cell_type": "code",
   "execution_count": 4,
   "metadata": {
    "collapsed": false
   },
   "outputs": [
    {
     "data": {
      "text/plain": [
       "(1.3042903807430513+2.485396773545633j)"
      ]
     },
     "execution_count": 4,
     "metadata": {},
     "output_type": "execute_result"
    }
   ],
   "source": [
    "Zb = ((R2/(2-s) + X2*1j)*(Xm*1j)) / (R2/(2-s) + X2*1j + Xm*1j)\n",
    "Zb"
   ]
  },
  {
   "cell_type": "markdown",
   "metadata": {},
   "source": [
    "#### (a)\n",
    "The input current is:\n",
    "$$\\vec{I}_1 = \\frac{\\vec{V}}{R_1 + jX_1 + 0.5Z_F + 0.5Z_B}$$"
   ]
  },
  {
   "cell_type": "code",
   "execution_count": 5,
   "metadata": {
    "collapsed": false
   },
   "outputs": [
    {
     "name": "stdout",
     "output_type": "stream",
     "text": [
      "I1 = 3.874 V ∠-60.9°\n"
     ]
    }
   ],
   "source": [
    "I1 = V / (R1 +X1*1j + 0.5*Zf + 0.5*Zb)\n",
    "I1_angle = arctan(I1.imag/I1.real)\n",
    "print('I1 = {:.3f} V ∠{:.1f}°'.format(abs(I1), I1_angle/pi*180))"
   ]
  },
  {
   "cell_type": "code",
   "execution_count": 6,
   "metadata": {
    "collapsed": false
   },
   "outputs": [
    {
     "name": "stdout",
     "output_type": "stream",
     "text": [
      "\n",
      "Pin = 226.0 W\n",
      "=============\n"
     ]
    }
   ],
   "source": [
    "Pin = V*abs(I1)*cos(I1_angle)\n",
    "print('''\n",
    "Pin = {:.1f} W\n",
    "============='''.format(Pin))"
   ]
  },
  {
   "cell_type": "markdown",
   "metadata": {},
   "source": [
    "#### (b)\n",
    "The air-gap power is:"
   ]
  },
  {
   "cell_type": "code",
   "execution_count": 7,
   "metadata": {
    "collapsed": false
   },
   "outputs": [
    {
     "data": {
      "text/plain": [
       "186.2"
      ]
     },
     "execution_count": 7,
     "metadata": {},
     "output_type": "execute_result"
    }
   ],
   "source": [
    "Pag_f = abs(I1)**2*0.5*Zf.real\n",
    "Pag_f"
   ]
  },
  {
   "cell_type": "code",
   "execution_count": 8,
   "metadata": {
    "collapsed": false
   },
   "outputs": [
    {
     "data": {
      "text/plain": [
       "9.788"
      ]
     },
     "execution_count": 8,
     "metadata": {},
     "output_type": "execute_result"
    }
   ],
   "source": [
    "Pag_b = abs(I1)**2*0.5*Zb.real\n",
    "Pag_b"
   ]
  },
  {
   "cell_type": "code",
   "execution_count": 9,
   "metadata": {
    "collapsed": false
   },
   "outputs": [
    {
     "name": "stdout",
     "output_type": "stream",
     "text": [
      "\n",
      "Pag = 176.4 W\n",
      "=============\n"
     ]
    }
   ],
   "source": [
    "Pag = Pag_f - Pag_b\n",
    "print('''\n",
    "Pag = {:.1f} W\n",
    "============='''.format(Pag))"
   ]
  },
  {
   "cell_type": "markdown",
   "metadata": {},
   "source": [
    "#### (c)\n",
    "The power converted from electrical to mechanical form is:"
   ]
  },
  {
   "cell_type": "code",
   "execution_count": 10,
   "metadata": {
    "collapsed": false
   },
   "outputs": [
    {
     "data": {
      "text/plain": [
       "181.6"
      ]
     },
     "execution_count": 10,
     "metadata": {},
     "output_type": "execute_result"
    }
   ],
   "source": [
    "Pconv_f = (1-s)*Pag_f\n",
    "Pconv_f"
   ]
  },
  {
   "cell_type": "code",
   "execution_count": 11,
   "metadata": {
    "collapsed": false
   },
   "outputs": [
    {
     "data": {
      "text/plain": [
       "9.544"
      ]
     },
     "execution_count": 11,
     "metadata": {},
     "output_type": "execute_result"
    }
   ],
   "source": [
    "Pconv_b = (1-s)*Pag_b\n",
    "Pconv_b"
   ]
  },
  {
   "cell_type": "code",
   "execution_count": 12,
   "metadata": {
    "collapsed": false
   },
   "outputs": [
    {
     "name": "stdout",
     "output_type": "stream",
     "text": [
      "\n",
      "Pconv = 172.0 W\n",
      "===============\n"
     ]
    }
   ],
   "source": [
    "Pconv = Pconv_f - Pconv_b\n",
    "print('''\n",
    "Pconv = {:.1f} W\n",
    "==============='''.format(Pconv))"
   ]
  },
  {
   "cell_type": "markdown",
   "metadata": {},
   "source": [
    "#### (d)\n",
    "The output power is:"
   ]
  },
  {
   "cell_type": "code",
   "execution_count": 13,
   "metadata": {
    "collapsed": false
   },
   "outputs": [
    {
     "name": "stdout",
     "output_type": "stream",
     "text": [
      "\n",
      "Pout = 121.0 W\n",
      "==============\n"
     ]
    }
   ],
   "source": [
    "Pout = Pconv - Prot\n",
    "print('''\n",
    "Pout = {:.1f} W\n",
    "=============='''.format(Pout))"
   ]
  },
  {
   "cell_type": "markdown",
   "metadata": {},
   "source": [
    "#### (e)\n",
    "The induced torque is\n",
    "\n",
    "$$\\tau_\\text{ind} = \\frac{P_\\text{AG}}{\\omega_\\text{sync}}$$"
   ]
  },
  {
   "cell_type": "code",
   "execution_count": 14,
   "metadata": {
    "collapsed": false
   },
   "outputs": [
    {
     "name": "stdout",
     "output_type": "stream",
     "text": [
      "\n",
      "τ_ind = 0.936 Nm\n",
      "================\n"
     ]
    }
   ],
   "source": [
    "n_sync = 1800.0 # [r/min]\n",
    "w_sync = n_sync * (2.0*pi/1.0) * (1.0/60.0)\n",
    "tau_ind = Pag / w_sync\n",
    "print('''\n",
    "τ_ind = {:.3f} Nm\n",
    "================'''.format(tau_ind))"
   ]
  },
  {
   "cell_type": "markdown",
   "metadata": {},
   "source": [
    "#### (f)\n",
    "The load torque is:\n",
    "\n",
    "$$\\tau_\\text{load} = \\frac{P_\\text{out}}{\\omega_m}$$"
   ]
  },
  {
   "cell_type": "code",
   "execution_count": 15,
   "metadata": {
    "collapsed": false
   },
   "outputs": [
    {
     "name": "stdout",
     "output_type": "stream",
     "text": [
      "\n",
      "τ_load = 0.659 Nm\n",
      "=================\n"
     ]
    }
   ],
   "source": [
    "w_m = (1-s)*w_sync\n",
    "tau_load = Pout / w_m\n",
    "print('''\n",
    "τ_load = {:.3f} Nm\n",
    "================='''.format(tau_load))"
   ]
  },
  {
   "cell_type": "markdown",
   "metadata": {},
   "source": [
    "#### (g)\n",
    "The overall efficiency is:\n",
    "\n",
    "$$\\eta = \\frac{P_\\text{out}}{P_\\text{in}} \\cdot 100\\%$$"
   ]
  },
  {
   "cell_type": "code",
   "execution_count": 16,
   "metadata": {
    "collapsed": false
   },
   "outputs": [
    {
     "name": "stdout",
     "output_type": "stream",
     "text": [
      "\n",
      "η = 53.5 %\n",
      "==========\n"
     ]
    }
   ],
   "source": [
    "eta = Pout/Pin\n",
    "print('''\n",
    "η = {:.1f} %\n",
    "=========='''.format(eta*100))"
   ]
  },
  {
   "cell_type": "markdown",
   "metadata": {},
   "source": [
    "#### (h)\n",
    "The stator power factor is:"
   ]
  },
  {
   "cell_type": "code",
   "execution_count": 17,
   "metadata": {
    "collapsed": false
   },
   "outputs": [
    {
     "name": "stdout",
     "output_type": "stream",
     "text": [
      "\n",
      "PF = 0.486 lagging\n",
      "==================\n"
     ]
    }
   ],
   "source": [
    "PF = cos(I1_angle)\n",
    "print('''\n",
    "PF = {:.3f} lagging\n",
    "=================='''.format(PF))"
   ]
  }
 ],
 "metadata": {
  "kernelspec": {
   "display_name": "Python 3",
   "language": "python",
   "name": "python3"
  },
  "language_info": {
   "codemirror_mode": {
    "name": "ipython",
    "version": 3
   },
   "file_extension": ".py",
   "mimetype": "text/x-python",
   "name": "python",
   "nbconvert_exporter": "python",
   "pygments_lexer": "ipython3",
   "version": "3.5.2"
  }
 },
 "nbformat": 4,
 "nbformat_minor": 0
}
