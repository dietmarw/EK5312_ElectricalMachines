{
 "cells": [
  {
   "cell_type": "markdown",
   "metadata": {},
   "source": [
    "# Excercises Electric Machinery Fundamentals\n",
    "## Chapter 4"
   ]
  },
  {
   "cell_type": "markdown",
   "metadata": {},
   "source": [
    "## Problem 4-6"
   ]
  },
  {
   "cell_type": "code",
   "execution_count": 1,
   "metadata": {
    "slideshow": {
     "slide_type": "skip"
    }
   },
   "outputs": [
    {
     "name": "stdout",
     "output_type": "stream",
     "text": [
      "Populating the interactive namespace from numpy and matplotlib\n"
     ]
    }
   ],
   "source": [
    "%pylab inline"
   ]
  },
  {
   "cell_type": "markdown",
   "metadata": {},
   "source": [
    "### Description"
   ]
  },
  {
   "cell_type": "markdown",
   "metadata": {},
   "source": [
    "The internal generated voltage $E_A$ of a 2-pole, $\\Delta$-connected, 60 Hz, three phase synchronous generator is $14.4\\,kV$, and the terminal voltage $V_T$ is $12.8\\,kV$. The synchronous reactance of this machine is $4\\,\\Omega$, and the armature resistance can be ignored."
   ]
  },
  {
   "cell_type": "code",
   "execution_count": 2,
   "metadata": {},
   "outputs": [],
   "source": [
    "p       = 2\n",
    "fm      = 60     # [Hz]\n",
    "Ea      = 14.4e3 # [V]\n",
    "V_phase = 12.8e3 # [V]\n",
    "Xs      = 4.0    # [Ohm]"
   ]
  },
  {
   "cell_type": "markdown",
   "metadata": {},
   "source": [
    "#### (a)\n",
    "If the torque angle of the generator $\\delta = 18^\\circ$\n",
    "\n",
    " * How much power is being supplied by this generator at the current time?\n",
    "\n",
    "#### (b)\n",
    "\n",
    " * What is the power factor of the generator at this time?\n",
    " \n",
    "#### (c)\n",
    " \n",
    " * Sketch the phasor diagram under these circumstances.\n",
    " \n",
    "#### (d)\n",
    "Ignoring losses in this generator\n",
    " \n",
    " * What torque must be applied to its shaft by the prime mover at these conditions?"
   ]
  },
  {
   "cell_type": "markdown",
   "metadata": {},
   "source": [
    "### SOLUTION"
   ]
  },
  {
   "cell_type": "markdown",
   "metadata": {},
   "source": [
    "#### (a)\n",
    "If resistance is ignored, the output power from this generator is given by:\n",
    "\n",
    "$$P = \\frac{3V_\\phi E_A}{X_S} \\sin{\\delta}$$"
   ]
  },
  {
   "cell_type": "code",
   "execution_count": 3,
   "metadata": {},
   "outputs": [
    {
     "name": "stdout",
     "output_type": "stream",
     "text": [
      "\n",
      "P = 42.7 MW\n",
      "===========\n"
     ]
    }
   ],
   "source": [
    "delta = 18 /180.0 * pi # [rad]\n",
    "P = (3*V_phase*Ea) / Xs * sin(delta)\n",
    "print('''\n",
    "P = {:.1f} MW\n",
    "==========='''.format(P/1e6))"
   ]
  },
  {
   "cell_type": "markdown",
   "metadata": {},
   "source": [
    "#### (b)\n",
    "The phase current flowing in this generator can be calculated from:\n",
    "\n",
    "$$\\vec{E}_A = \\vec{V}_\\phi + jX_S\\vec{I}_A$$\n",
    "$$\\vec{I}_A = \\frac{\\vec{E}_A-\\vec{V}_\\phi}{jX_S}$$"
   ]
  },
  {
   "cell_type": "code",
   "execution_count": 4,
   "metadata": {},
   "outputs": [
    {
     "name": "stdout",
     "output_type": "stream",
     "text": [
      "Ia = 1135 ∠-11.4° A\n",
      "\n",
      "Therefore the impedance angle θ = 11.4°, and the power factor is cos(-11.4°) = 0.98 lagging.\n",
      "=============================================================================================\n",
      "\n"
     ]
    }
   ],
   "source": [
    "EA = Ea * (cos(delta) + sin(delta) * 1j)\n",
    "Ia = (EA - V_phase) / (Xs*1j)\n",
    "Ia_angle = arctan(Ia.imag/Ia.real)\n",
    "print('Ia = {:.0f} ∠{:.1f}° A'.format(abs(Ia), Ia_angle/pi*180))\n",
    "print('''\n",
    "Therefore the impedance angle θ = {:.1f}°, and the power factor is cos({:.1f}°) = {:.2} lagging.\n",
    "=============================================================================================\n",
    "'''.format(-Ia_angle/pi*180, Ia_angle/pi*180, cos(Ia_angle)))"
   ]
  },
  {
   "cell_type": "markdown",
   "metadata": {},
   "source": [
    "#### (c)\n",
    "The phasor diagram is:\n",
    "\n",
    "<img src=\"figs/Problem_4-06.jpg\" width=\"70%\">"
   ]
  },
  {
   "cell_type": "markdown",
   "metadata": {},
   "source": [
    "#### (d)\n",
    "The induced torque is given by the equation:\n",
    "\n",
    "$$P_\\text{conv} = \\tau_\\text{ind} \\omega_m$$\n",
    "\n",
    "With no losses,\n",
    "\n",
    "$$\\tau_\\text{app} = \\tau_\\text{ind} = \\frac{P_\\text{conv}}{\\omega_m}$$"
   ]
  },
  {
   "cell_type": "code",
   "execution_count": 5,
   "metadata": {},
   "outputs": [
    {
     "name": "stdout",
     "output_type": "stream",
     "text": [
      "\n",
      "τ_app = 113314 Nm\n",
      "=================\n"
     ]
    }
   ],
   "source": [
    "wm = 2*pi *fm\n",
    "tau = P/ wm\n",
    "print('''\n",
    "τ_app = {:.0f} Nm\n",
    "================='''.format(tau))"
   ]
  }
 ],
 "metadata": {
  "kernelspec": {
   "display_name": "Python 3",
   "language": "python",
   "name": "python3"
  },
  "language_info": {
   "codemirror_mode": {
    "name": "ipython",
    "version": 3
   },
   "file_extension": ".py",
   "mimetype": "text/x-python",
   "name": "python",
   "nbconvert_exporter": "python",
   "pygments_lexer": "ipython3",
   "version": "3.5.2"
  }
 },
 "nbformat": 4,
 "nbformat_minor": 1
}
