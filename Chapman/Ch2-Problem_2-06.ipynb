{
 "cells": [
  {
   "cell_type": "markdown",
   "metadata": {},
   "source": [
    "# Excercises Electric Machinery Fundamentals\n",
    "## Chapter 2"
   ]
  },
  {
   "cell_type": "markdown",
   "metadata": {},
   "source": [
    "## Problem 2-6"
   ]
  },
  {
   "cell_type": "code",
   "execution_count": 1,
   "metadata": {
    "collapsed": false,
    "slideshow": {
     "slide_type": "skip"
    }
   },
   "outputs": [
    {
     "name": "stdout",
     "output_type": "stream",
     "text": [
      "Populating the interactive namespace from numpy and matplotlib\n"
     ]
    },
    {
     "data": {
      "text/plain": [
       "'%.4f'"
      ]
     },
     "execution_count": 1,
     "metadata": {},
     "output_type": "execute_result"
    }
   ],
   "source": [
    "%pylab inline\n",
    "%precision 4"
   ]
  },
  {
   "cell_type": "markdown",
   "metadata": {},
   "source": [
    "### Description\n",
    "\n",
    "A 1000-VA 230/115-V transformer has been tested to determine its equivalent circuit. The results of the\n",
    "tests are shown below:\n",
    "\n",
    "| Open-circuit test   | Short-circuit test |\n",
    "|---------------------|--------------------|\n",
    "| (on secondary side) | (on primary side)  |\n",
    "| $V_{OC} = 115\\,V$   | $V_{SC} = 17.1\\,V$ |\n",
    "| $I_{OC} = 0.11\\,A$  | $I_{SC} = 8.7\\,A$ (should really be 4.35 A) |\n",
    "| $P_{OC} = 3.9\\,W$   | $P_{SC} = 38.1\\,W$ |\n",
    "\n",
    "<hr>\n",
    "\n",
    "**Note:** As was correctly pointed out in the lecture, the current $I_{sc}$ is actually to large by a factor of 2.\n",
    "I assume it simply being an oversight an the correct value given should be $I_{SC} = 4.35\\,A = I_n$ (i.e., equal to the nominal current which can be calculated from $I_n = \\frac{1000\\,VA}{230\\,V}$).\n",
    "\n",
    "The following solution is based on the incorrectly given current of $I_{SC} = 8.7\\,A$ but you can simply set the value of `Isc` below to 4.35 and run \"`Cell` &rarr; `Run all`\" to recaculate all values based on the correct $I_{SC}$.\n",
    "\n",
    "*See also Example 2-2 in the book which is similar to this problem but where the correct values were used.*\n",
    "<hr>"
   ]
  },
  {
   "cell_type": "code",
   "execution_count": 2,
   "metadata": {
    "collapsed": false
   },
   "outputs": [],
   "source": [
    "Voc = 115.0  # [V] \n",
    "Ioc =   0.11 # [A]\n",
    "Poc =   3.9  # [W]\n",
    "Vsc =  17.1  # [V] \n",
    "Isc =   8.7  # [A]   replace with 4.35 so see alternative(correct solutions)\n",
    "Psc =  38.1  # [W]"
   ]
  },
  {
   "cell_type": "markdown",
   "metadata": {},
   "source": [
    "#### (a)\n",
    "\n",
    " * Find the equivalent circuit of this transformer referred to the low-voltage side.\n",
    " \n",
    "#### (b)\n",
    "\n",
    " * Find the transformer’s voltage regulation at rated conditions and \n",
    "   1. for 0.8 PF lagging\n",
    "   2. for 1.0 PF\n",
    "   3. for 0.8 PF leading.\n",
    " \n",
    "#### (c)\n",
    "\n",
    " * Determine the transformer’s efficiency at rated conditions and 0.8 PF lagging."
   ]
  },
  {
   "cell_type": "markdown",
   "metadata": {},
   "source": [
    "### SOLUTION"
   ]
  },
  {
   "cell_type": "markdown",
   "metadata": {},
   "source": [
    "#### (a)\n",
    "**Solution based on active and reactive power:**\n",
    "\n",
    "Open-circuit test results (ignore $R_{EQ}$ and $X_{EQ}$ and all values referred to the secondary side): "
   ]
  },
  {
   "cell_type": "code",
   "execution_count": 3,
   "metadata": {
    "collapsed": false
   },
   "outputs": [
    {
     "data": {
      "text/plain": [
       "3391.0256"
      ]
     },
     "execution_count": 3,
     "metadata": {},
     "output_type": "execute_result"
    }
   ],
   "source": [
    "Rc = Voc**2/Poc\n",
    "Rc"
   ]
  },
  {
   "cell_type": "code",
   "execution_count": 4,
   "metadata": {
    "collapsed": false
   },
   "outputs": [
    {
     "data": {
      "text/plain": [
       "1098.9873"
      ]
     },
     "execution_count": 4,
     "metadata": {},
     "output_type": "execute_result"
    }
   ],
   "source": [
    "Soc = Voc*Ioc\n",
    "Qoc = sqrt(Soc**2 - Poc**2)\n",
    "Xm = Voc**2/Qoc\n",
    "Xm"
   ]
  },
  {
   "cell_type": "markdown",
   "metadata": {},
   "source": [
    "Short-circuit test results (ignore $R_C$ and $X_M$ and all values referred to the primary side):"
   ]
  },
  {
   "cell_type": "code",
   "execution_count": 5,
   "metadata": {
    "collapsed": false
   },
   "outputs": [
    {
     "data": {
      "text/plain": [
       "0.5034"
      ]
     },
     "execution_count": 5,
     "metadata": {},
     "output_type": "execute_result"
    }
   ],
   "source": [
    "Req = Psc/Isc**2\n",
    "Req"
   ]
  },
  {
   "cell_type": "code",
   "execution_count": 6,
   "metadata": {
    "collapsed": false
   },
   "outputs": [
    {
     "data": {
      "text/plain": [
       "1.9000"
      ]
     },
     "execution_count": 6,
     "metadata": {},
     "output_type": "execute_result"
    }
   ],
   "source": [
    "Ssc = Vsc*Isc\n",
    "Qsc = sqrt(Ssc**2 - Psc**2)\n",
    "Xeq = Qsc/Isc**2\n",
    "Xeq"
   ]
  },
  {
   "cell_type": "markdown",
   "metadata": {},
   "source": [
    "**Solution based on complex angle:**"
   ]
  },
  {
   "cell_type": "code",
   "execution_count": 7,
   "metadata": {
    "collapsed": false
   },
   "outputs": [
    {
     "data": {
      "text/plain": [
       "0.0010"
      ]
     },
     "execution_count": 7,
     "metadata": {},
     "output_type": "execute_result"
    }
   ],
   "source": [
    "Yex_amp = Ioc/Voc\n",
    "Yex_amp"
   ]
  },
  {
   "cell_type": "code",
   "execution_count": 8,
   "metadata": {
    "collapsed": false
   },
   "outputs": [
    {
     "data": {
      "text/plain": [
       "(0.00029489603024574667-0.00090992866136550029j)"
      ]
     },
     "execution_count": 8,
     "metadata": {},
     "output_type": "execute_result"
    }
   ],
   "source": [
    "theta_ex = arccos(Poc/Soc)\n",
    "Yex = Yex_amp * exp(-1j*theta_ex)\n",
    "Yex"
   ]
  },
  {
   "cell_type": "code",
   "execution_count": 9,
   "metadata": {
    "collapsed": false
   },
   "outputs": [
    {
     "data": {
      "text/plain": [
       "3391.0256"
      ]
     },
     "execution_count": 9,
     "metadata": {},
     "output_type": "execute_result"
    }
   ],
   "source": [
    "Rc = 1/real(Yex)\n",
    "Rc"
   ]
  },
  {
   "cell_type": "code",
   "execution_count": 10,
   "metadata": {
    "collapsed": false
   },
   "outputs": [
    {
     "data": {
      "text/plain": [
       "1098.9873"
      ]
     },
     "execution_count": 10,
     "metadata": {},
     "output_type": "execute_result"
    }
   ],
   "source": [
    "Xm = -1/imag(Yex)\n",
    "Xm"
   ]
  },
  {
   "cell_type": "code",
   "execution_count": 11,
   "metadata": {
    "collapsed": false
   },
   "outputs": [
    {
     "data": {
      "text/plain": [
       "1.9655"
      ]
     },
     "execution_count": 11,
     "metadata": {},
     "output_type": "execute_result"
    }
   ],
   "source": [
    "Zeq_amp = Vsc/Isc\n",
    "Zeq_amp"
   ]
  },
  {
   "cell_type": "code",
   "execution_count": 12,
   "metadata": {
    "collapsed": false
   },
   "outputs": [
    {
     "data": {
      "text/plain": [
       "(0.50336900515259597+1.8999678078354438j)"
      ]
     },
     "execution_count": 12,
     "metadata": {},
     "output_type": "execute_result"
    }
   ],
   "source": [
    "theta_eq = arccos(Psc/Ssc)\n",
    "Zeq = Zeq_amp * exp(1j*theta_eq)\n",
    "Zeq\n"
   ]
  },
  {
   "cell_type": "code",
   "execution_count": 13,
   "metadata": {
    "collapsed": false
   },
   "outputs": [
    {
     "data": {
      "text/plain": [
       "0.5034"
      ]
     },
     "execution_count": 13,
     "metadata": {},
     "output_type": "execute_result"
    }
   ],
   "source": [
    "Req = 1*real(Zeq)\n",
    "Req"
   ]
  },
  {
   "cell_type": "code",
   "execution_count": 14,
   "metadata": {
    "collapsed": false
   },
   "outputs": [
    {
     "data": {
      "text/plain": [
       "1.9000"
      ]
     },
     "execution_count": 14,
     "metadata": {},
     "output_type": "execute_result"
    }
   ],
   "source": [
    "Xeq = 1*imag(Zeq)\n",
    "Xeq"
   ]
  },
  {
   "cell_type": "markdown",
   "metadata": {},
   "source": [
    "**The resulting equivalent circuit is:**\n",
    "\n",
    "To convert the equivalent circuit to the secondary side, divide each series impedance by the square of the\n",
    "turns ratio ( a = 230/115 = 2). Note that the excitation branch elements are already on the secondary side.\n",
    "The resulting equivalent circuit is shown below:\n",
    "\n",
    "<img src=\"figs/FigC_2-18b.jpg\" width=\"50%\">"
   ]
  },
  {
   "cell_type": "code",
   "execution_count": 15,
   "metadata": {
    "collapsed": false
   },
   "outputs": [
    {
     "data": {
      "text/plain": [
       "2.0000"
      ]
     },
     "execution_count": 15,
     "metadata": {},
     "output_type": "execute_result"
    }
   ],
   "source": [
    "a = 230/115\n",
    "a"
   ]
  },
  {
   "cell_type": "code",
   "execution_count": 16,
   "metadata": {
    "collapsed": false
   },
   "outputs": [
    {
     "data": {
      "text/plain": [
       "3391.0256"
      ]
     },
     "execution_count": 16,
     "metadata": {},
     "output_type": "execute_result"
    }
   ],
   "source": [
    "Rcs = Rc # measurements were already done on the secondary side\n",
    "Rcs"
   ]
  },
  {
   "cell_type": "code",
   "execution_count": 17,
   "metadata": {
    "collapsed": false
   },
   "outputs": [
    {
     "data": {
      "text/plain": [
       "1098.9873"
      ]
     },
     "execution_count": 17,
     "metadata": {},
     "output_type": "execute_result"
    }
   ],
   "source": [
    "Xms = Xm # measurements were already done on the secondary side\n",
    "abs(Xms)"
   ]
  },
  {
   "cell_type": "code",
   "execution_count": 18,
   "metadata": {
    "collapsed": false
   },
   "outputs": [
    {
     "data": {
      "text/plain": [
       "0.1258"
      ]
     },
     "execution_count": 18,
     "metadata": {},
     "output_type": "execute_result"
    }
   ],
   "source": [
    "Reqs = Req/a**2\n",
    "Reqs"
   ]
  },
  {
   "cell_type": "code",
   "execution_count": 19,
   "metadata": {
    "collapsed": false
   },
   "outputs": [
    {
     "data": {
      "text/plain": [
       "0.4750"
      ]
     },
     "execution_count": 19,
     "metadata": {},
     "output_type": "execute_result"
    }
   ],
   "source": [
    "Xeqs = Xeq/a**2\n",
    "Xeqs"
   ]
  },
  {
   "cell_type": "markdown",
   "metadata": {},
   "source": [
    "#### (b)\n",
    "\n",
    "To find the required voltage regulation, we will use the equivalent circuit of the transformer referred to the secondary side. The rated secondary current is"
   ]
  },
  {
   "cell_type": "code",
   "execution_count": 20,
   "metadata": {
    "collapsed": false
   },
   "outputs": [
    {
     "data": {
      "text/plain": [
       "8.6957"
      ]
     },
     "execution_count": 20,
     "metadata": {},
     "output_type": "execute_result"
    }
   ],
   "source": [
    "Sn = 1000.0    # [VA] nominal apparent power\n",
    "Vs = 115.0     # [VA] nominal secondary voltage\n",
    "Is_amp = Sn/Vs # amplitude of the current\n",
    "Is_amp"
   ]
  },
  {
   "cell_type": "markdown",
   "metadata": {},
   "source": [
    "We will now calculate the primary voltage referred to the secondary side and use the voltage regulation equation for each power factor. The calulations are taking the secondary voltage $V_S = 115\\,V\\angle 0^\\circ$ as a reference. \n",
    "$$ \\vec{V_P}' =  \\vec{V_S} + Z_{EQ} \\vec{I_S}$$\n",
    "\n",
    "#### 1) 0.8 PF lagging"
   ]
  },
  {
   "cell_type": "code",
   "execution_count": 21,
   "metadata": {
    "collapsed": false
   },
   "outputs": [
    {
     "name": "stdout",
     "output_type": "stream",
     "text": [
      "Is = 8.7 A ∠-36.9°\n"
     ]
    }
   ],
   "source": [
    "PF = 0.8\n",
    "theta = -arccos(PF)\n",
    "Is = Is_amp *exp(1j*theta)\n",
    "print('Is = {:.1f} A ∠{:.1f}°'.format(\n",
    "            abs(Is), theta/pi*180))"
   ]
  },
  {
   "cell_type": "code",
   "execution_count": 22,
   "metadata": {
    "collapsed": false
   },
   "outputs": [
    {
     "name": "stdout",
     "output_type": "stream",
     "text": [
      "Vps = 118.4 V ∠1.28°\n"
     ]
    }
   ],
   "source": [
    "Vps_lagg = Vs + (Reqs + 1j*Xeqs)*Is\n",
    "Vps_lagg_angle = arctan(imag(Vps_lagg)/real(Vps_lagg))\n",
    "print('Vps = {:.1f} V ∠{:.2f}°'.format(\n",
    "            abs(Vps_lagg), Vps_lagg_angle/pi*180))"
   ]
  },
  {
   "cell_type": "markdown",
   "metadata": {},
   "source": [
    "And the voltage regulation with:\n",
    "$$ VR = \\frac{V_P/a-V_S}{V_S} = \\frac{V_P'-V_S}{V_S} $$\n",
    "is therefore:"
   ]
  },
  {
   "cell_type": "code",
   "execution_count": 23,
   "metadata": {
    "collapsed": false
   },
   "outputs": [
    {
     "name": "stdout",
     "output_type": "stream",
     "text": [
      "VR = 2.94 %\n",
      "===========\n"
     ]
    }
   ],
   "source": [
    "VR = (abs(Vps_lagg) - abs(Vs)) / abs(Vs) * 100  # in percent\n",
    "print('VR = {:.2f} %'.format(VR))\n",
    "print('===========')"
   ]
  },
  {
   "cell_type": "markdown",
   "metadata": {},
   "source": [
    "#### 2) 1.0 PF\n"
   ]
  },
  {
   "cell_type": "code",
   "execution_count": 24,
   "metadata": {
    "collapsed": false
   },
   "outputs": [
    {
     "name": "stdout",
     "output_type": "stream",
     "text": [
      "Is = 8.7 A ∠0.0°\n"
     ]
    }
   ],
   "source": [
    "PF = 1.0\n",
    "theta = arccos(PF)\n",
    "Is = Is_amp *exp(1j*theta)\n",
    "print('Is = {:.1f} A ∠{:.1f}°'.format(\n",
    "            abs(Is), angle(Is, deg=True)))"
   ]
  },
  {
   "cell_type": "code",
   "execution_count": 25,
   "metadata": {
    "collapsed": false
   },
   "outputs": [
    {
     "name": "stdout",
     "output_type": "stream",
     "text": [
      "Vps = 116.2 V ∠2.04°\n"
     ]
    }
   ],
   "source": [
    "Vps = Vs + (Reqs + 1j*Xeqs)*Is\n",
    "Vps_angle = arctan(imag(Vps)/real(Vps))\n",
    "print('Vps = {:.1f} V ∠{:.2f}°'.format(\n",
    "            abs(Vps), Vps_angle/pi*180))"
   ]
  },
  {
   "cell_type": "markdown",
   "metadata": {},
   "source": [
    "And the voltage regulation with:\n",
    "$VR = \\frac{V_P/a-V_S}{V_S} = \\frac{V_P'-V_S}{V_S}$\n",
    "is therefore:"
   ]
  },
  {
   "cell_type": "code",
   "execution_count": 26,
   "metadata": {
    "collapsed": false
   },
   "outputs": [
    {
     "name": "stdout",
     "output_type": "stream",
     "text": [
      "VR = 1.02 %\n",
      "===========\n"
     ]
    }
   ],
   "source": [
    "VR = (abs(Vps) - abs(Vs)) / abs(Vs) * 100  # in percent\n",
    "print('VR = {:.2f} %'.format(VR))\n",
    "print('===========')"
   ]
  },
  {
   "cell_type": "markdown",
   "metadata": {},
   "source": [
    "#### 3) 0.8 PF leading"
   ]
  },
  {
   "cell_type": "code",
   "execution_count": 27,
   "metadata": {
    "collapsed": false
   },
   "outputs": [
    {
     "name": "stdout",
     "output_type": "stream",
     "text": [
      "Is = 8.7 A ∠36.9°\n"
     ]
    }
   ],
   "source": [
    "PF = 0.8\n",
    "theta = +arccos(0.8)\n",
    "Is = Is_amp *exp(1j*theta)\n",
    "print('Is = {:.1f} A ∠{:.1f}°'.format(\n",
    "            abs(Is), theta/pi*180))"
   ]
  },
  {
   "cell_type": "code",
   "execution_count": 28,
   "metadata": {
    "collapsed": false
   },
   "outputs": [
    {
     "name": "stdout",
     "output_type": "stream",
     "text": [
      "Vps = 113.5 V ∠2.0°\n"
     ]
    }
   ],
   "source": [
    "Vps_lead = Vs + (Reqs + 1j*Xeqs)*Is\n",
    "Vps_lead_angle = arctan(imag(Vps_lead)/real(Vps_lead))\n",
    "print('Vps = {:.1f} V ∠{:.1f}°'.format(\n",
    "            abs(Vps_lead), Vps_lead_angle/pi*180))"
   ]
  },
  {
   "cell_type": "markdown",
   "metadata": {},
   "source": [
    "And the voltage regulation with: $VR = \\frac{V_P/a-V_S}{V_S} = \\frac{V_P'-V_S}{V_S}$ is therefore:"
   ]
  },
  {
   "cell_type": "code",
   "execution_count": 29,
   "metadata": {
    "collapsed": false
   },
   "outputs": [
    {
     "name": "stdout",
     "output_type": "stream",
     "text": [
      "VR = -1.33 %\n",
      "============\n"
     ]
    }
   ],
   "source": [
    "VR = (abs(Vps_lead) - abs(Vs)) / abs(Vs) * 100  # in percent\n",
    "print('VR = {:.2f} %'.format(VR))\n",
    "print('============')"
   ]
  },
  {
   "cell_type": "markdown",
   "metadata": {},
   "source": [
    "#### (c)\n",
    "At rated conditions and 0.8 PF lagging, the output power of this transformer is:\n",
    "$$ P_\\text{OUT} = V_s I_s \\cos(\\theta) =  V_s I_s \\cdot PF  $$"
   ]
  },
  {
   "cell_type": "code",
   "execution_count": 30,
   "metadata": {
    "collapsed": false
   },
   "outputs": [
    {
     "data": {
      "text/plain": [
       "800.0000"
      ]
     },
     "execution_count": 30,
     "metadata": {},
     "output_type": "execute_result"
    }
   ],
   "source": [
    "Pout = abs(Vs) * abs(Is) * PF\n",
    "Pout"
   ]
  },
  {
   "cell_type": "markdown",
   "metadata": {},
   "source": [
    "watts. The copper and core losses of this transformer are $P_\\text{CU} = I_s^2 \\cdot R_{\\text{EQ}_s}$:"
   ]
  },
  {
   "cell_type": "code",
   "execution_count": 31,
   "metadata": {
    "collapsed": false
   },
   "outputs": [
    {
     "data": {
      "text/plain": [
       "9.5155"
      ]
     },
     "execution_count": 31,
     "metadata": {},
     "output_type": "execute_result"
    }
   ],
   "source": [
    "Pcu = abs(Is)**2 * Reqs\n",
    "Pcu"
   ]
  },
  {
   "cell_type": "markdown",
   "metadata": {},
   "source": [
    "watts. And the core losses are $P_\\text{core} = V_P'^2/R_c$:"
   ]
  },
  {
   "cell_type": "code",
   "execution_count": 32,
   "metadata": {
    "collapsed": false
   },
   "outputs": [
    {
     "data": {
      "text/plain": [
       "4.1328"
      ]
     },
     "execution_count": 32,
     "metadata": {},
     "output_type": "execute_result"
    }
   ],
   "source": [
    "Pcore = abs(Vps_lagg)**2 / Rcs\n",
    "Pcore"
   ]
  },
  {
   "cell_type": "markdown",
   "metadata": {},
   "source": [
    "watts. Therefore the efficiency of this transformer at these conditions is\n",
    "$$ \\eta = \\frac{P_\\text{OUT}}{P_\\text{OUT}+P_\\text{CU}+P_\\text{core}} \\times 100\\,\\%$$"
   ]
  },
  {
   "cell_type": "code",
   "execution_count": 33,
   "metadata": {
    "collapsed": false
   },
   "outputs": [
    {
     "name": "stdout",
     "output_type": "stream",
     "text": [
      "η = 98.3 %\n",
      "==========\n"
     ]
    }
   ],
   "source": [
    "eta = Pout / (Pout + Pcu + Pcore)\n",
    "print('η = {:.1f} %'.format(eta*100))\n",
    "print('==========')"
   ]
  },
  {
   "cell_type": "markdown",
   "metadata": {},
   "source": [
    "#### Note:"
   ]
  },
  {
   "cell_type": "markdown",
   "metadata": {},
   "source": [
    "One might argue that $115\\,V\\angle 0^\\circ$  really should be seen as the *no-load* voltage on the secondary side and not as the *full-load* voltage. I.e., $V_P/a = 115\\,V\\angle 0^\\circ$. Think about what kind of effect this has on the voltage regulation and efficiency calculations in (b) and (c) above.\n",
    "What would be changed in the equations above in order to calculate this variant?"
   ]
  }
 ],
 "metadata": {
  "kernelspec": {
   "display_name": "Python 3",
   "language": "python",
   "name": "python3"
  },
  "language_info": {
   "codemirror_mode": {
    "name": "ipython",
    "version": 3
   },
   "file_extension": ".py",
   "mimetype": "text/x-python",
   "name": "python",
   "nbconvert_exporter": "python",
   "pygments_lexer": "ipython3",
   "version": "3.5.1+"
  }
 },
 "nbformat": 4,
 "nbformat_minor": 0
}
