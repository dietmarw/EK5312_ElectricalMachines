{
 "cells": [
  {
   "cell_type": "markdown",
   "metadata": {},
   "source": [
    "# Excercises Electric Machinery Fundamentals\n",
    "## Chapter 3"
   ]
  },
  {
   "cell_type": "markdown",
   "metadata": {},
   "source": [
    "## Problem 3-11"
   ]
  },
  {
   "cell_type": "code",
   "execution_count": 1,
   "metadata": {
    "collapsed": false,
    "slideshow": {
     "slide_type": "skip"
    }
   },
   "outputs": [
    {
     "name": "stdout",
     "output_type": "stream",
     "text": [
      "Populating the interactive namespace from numpy and matplotlib\n"
     ]
    }
   ],
   "source": [
    "%pylab inline"
   ]
  },
  {
   "cell_type": "markdown",
   "metadata": {},
   "source": [
    "### Description"
   ]
  },
  {
   "cell_type": "markdown",
   "metadata": {},
   "source": [
    "In later years, motors improved and could be run directly from a 60 Hz power supply. As a result, 25 Hz power systems shrank and disappeared. However, there were many perfectly-good working 25 Hz motors in factories around the country that owners were not ready to discard. To keep them running, some users created their own 25 Hz power in the plant using motor-generator sets. A motor generator set consists of two machines connected on a common shaft, one acting as a motor and the other acting as a generator. If the two machines have different numbers of poles but exactly the same shaft speed, then the electrical frequency of the two machines will be different due to Equation below.\n",
    "\n",
    "$$f_{se} = \\frac{p\\cdot n_{sm}}{120}$$"
   ]
  },
  {
   "cell_type": "code",
   "execution_count": 2,
   "metadata": {
    "collapsed": false
   },
   "outputs": [],
   "source": [
    "fse1 = 60.  # [Hz]\n",
    "fse2 = 25.  # [Hz]"
   ]
  },
  {
   "cell_type": "markdown",
   "metadata": {},
   "source": [
    " * What combination of poles on the two machines could convert 60 Hz power to 25 Hz power?"
   ]
  },
  {
   "cell_type": "markdown",
   "metadata": {},
   "source": [
    "### SOLUTION"
   ]
  },
  {
   "cell_type": "markdown",
   "metadata": {},
   "source": [
    "From Equation, the speed of rotation of the 60 Hz machines would be:\n",
    "\n",
    "$$n_{sm1} = \\frac{120f_{se1}}{p_1} = \\frac{7200}{p_1}$$\n",
    "\n",
    "and the speed of rotation of the 25 Hz machines would be:\n",
    "\n",
    "$$n_{sm2} = \\frac{120f_{se2}}{p_2} = \\frac{3000}{p_2}$$\n",
    "\n",
    "If the machines are tied together in a motor-generator set, the shaft speed must be the same for both machines, so\n",
    "\n",
    "$$n_{sm1} = n_{sm2}$$\n",
    "\n",
    "Which means that\n",
    "\n",
    "$$\\frac{7200}{p_1}=\\frac{3000}{p_2}$$\n",
    "\n",
    "and in turn this means the relation ship of the poles must be\n",
    "\n",
    "$$\\frac{p_1}{p_2}=\\frac{7200}{3000}=\\frac{72}{30}=\\frac{24}{10}$$\n",
    "\n",
    "So the fraction between $p_1$ and $p_2$ needs to be:"
   ]
  },
  {
   "cell_type": "code",
   "execution_count": 3,
   "metadata": {
    "collapsed": false
   },
   "outputs": [
    {
     "data": {
      "text/plain": [
       "2.4"
      ]
     },
     "execution_count": 3,
     "metadata": {},
     "output_type": "execute_result"
    }
   ],
   "source": [
    "P1_P2 =(120*fse1) / (120*fse2)\n",
    "P1_P2"
   ]
  },
  {
   "cell_type": "markdown",
   "metadata": {},
   "source": [
    "Let's take an example where $p_1 = 72$. The mechanical speed for machine 1 is therefore:"
   ]
  },
  {
   "cell_type": "code",
   "execution_count": 4,
   "metadata": {
    "collapsed": false
   },
   "outputs": [
    {
     "data": {
      "text/plain": [
       "100.0"
      ]
     },
     "execution_count": 4,
     "metadata": {},
     "output_type": "execute_result"
    }
   ],
   "source": [
    "p1 = 72\n",
    "n_m1 =  (120*fse1)/p1\n",
    "n_m1"
   ]
  },
  {
   "cell_type": "markdown",
   "metadata": {},
   "source": [
    "Calculating the speed for machine 2 gives:"
   ]
  },
  {
   "cell_type": "code",
   "execution_count": 5,
   "metadata": {
    "collapsed": false
   },
   "outputs": [
    {
     "data": {
      "text/plain": [
       "100.0"
      ]
     },
     "execution_count": 5,
     "metadata": {},
     "output_type": "execute_result"
    }
   ],
   "source": [
    "p2 = p1 / P1_P2\n",
    "n_m2 =  (120*fse2)/p2\n",
    "n_m2"
   ]
  },
  {
   "cell_type": "markdown",
   "metadata": {},
   "source": [
    "This shows that the mechanical speed for this combination of poles is the same. Mind that the number of poles always needs to be **even**."
   ]
  }
 ],
 "metadata": {
  "kernelspec": {
   "display_name": "Python 3",
   "language": "python",
   "name": "python3"
  },
  "language_info": {
   "codemirror_mode": {
    "name": "ipython",
    "version": 3
   },
   "file_extension": ".py",
   "mimetype": "text/x-python",
   "name": "python",
   "nbconvert_exporter": "python",
   "pygments_lexer": "ipython3",
   "version": "3.4.3"
  }
 },
 "nbformat": 4,
 "nbformat_minor": 0
}
