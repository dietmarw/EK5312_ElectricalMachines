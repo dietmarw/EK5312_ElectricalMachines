{
 "cells": [
  {
   "cell_type": "markdown",
   "metadata": {},
   "source": [
    "# Excercises Electric Machinery Fundamentals\n",
    "## Chapter 3"
   ]
  },
  {
   "cell_type": "markdown",
   "metadata": {},
   "source": [
    "## Problem 3-10"
   ]
  },
  {
   "cell_type": "code",
   "execution_count": 1,
   "metadata": {
    "slideshow": {
     "slide_type": "skip"
    }
   },
   "outputs": [
    {
     "name": "stdout",
     "output_type": "stream",
     "text": [
      "Populating the interactive namespace from numpy and matplotlib\n"
     ]
    }
   ],
   "source": [
    "%pylab inline"
   ]
  },
  {
   "cell_type": "markdown",
   "metadata": {},
   "source": [
    "### Description"
   ]
  },
  {
   "cell_type": "markdown",
   "metadata": {},
   "source": [
    "In the early days of ac motor development, machine designers had great difficulty controlling the core losses (hysteresis and eddy currents) in machines. They had not yet developed steels with low hysteresis, and were not making laminations as thin as the ones used today. To help control these losses, early ac motors in the USA were run from a 25 Hz ac power supply, while lighting systems were run from a separate 60 Hz ac power supply."
   ]
  },
  {
   "cell_type": "code",
   "execution_count": 2,
   "metadata": {},
   "outputs": [],
   "source": [
    "fe_25 = 25 # [Hz]\n",
    "fe_60 = 60 # [Hz]"
   ]
  },
  {
   "cell_type": "markdown",
   "metadata": {},
   "source": [
    "#### (a)\n",
    "\n",
    " * Develop a table showing the speed of magnetic field rotation in ac machines of 2, 4, 6, 8, 10, 12, and 14 poles operating at 25 Hz. \n",
    " * What was the fastest rotational speed available to these early motors?\n",
    " \n",
    "#### (b)\n",
    "For a given motor operating at a constant flux density B.\n",
    " \n",
    " * How would the core losses of the motor running at 25 Hz compare to the core losses of the motor running at 60 Hz?\n",
    "\n",
    "#### (c)\n",
    " \n",
    " * Why did the early engineers provide a separate 60 Hz power system for lighting?"
   ]
  },
  {
   "cell_type": "markdown",
   "metadata": {},
   "source": [
    "### SOLUTION"
   ]
  },
  {
   "cell_type": "markdown",
   "metadata": {},
   "source": [
    "#### (a)\n",
    "\n",
    "The equation relating the speed of magnetic field rotation to the number of poles and electrical frequency is:\n",
    "\n",
    "$$n_m = \\frac{120f_e}{p}$$"
   ]
  },
  {
   "cell_type": "code",
   "execution_count": 3,
   "metadata": {},
   "outputs": [
    {
     "name": "stdout",
     "output_type": "stream",
     "text": [
      "\n",
      "|-----------------+--------------|\n",
      "| Number of Poles |     n_m      |\n",
      "|-----------------+--------------|\n",
      "|        2        | 1500.0 r/min |\n",
      "|        4        |  750.0 r/min |\n",
      "|        6        |  500.0 r/min |\n",
      "|        8        |  375.0 r/min |\n",
      "|       10        |  300.0 r/min |\n",
      "|       12        |  250.0 r/min |\n",
      "|       14        |  214.3 r/min |\n",
      "|================================|\n"
     ]
    }
   ],
   "source": [
    "P = array([2.0, 4.0, 6.0, 8.0, 10.0, 12.0, 14.0])\n",
    "n = 120*fe_25 / P\n",
    "print('''\n",
    "|-----------------+--------------|\n",
    "| Number of Poles |     n_m      |\n",
    "|-----------------+--------------|''')\n",
    "# We use a simple for-loop to print a row per result:\n",
    "for i in range(7):\n",
    "    print('|       {:2.0f}        | {:6.1f} r/min |'.format(P[i], n[i]))            \n",
    "print('|================================|') "
   ]
  },
  {
   "cell_type": "code",
   "execution_count": 4,
   "metadata": {},
   "outputs": [
    {
     "name": "stdout",
     "output_type": "stream",
     "text": [
      "\n",
      "The highest possible rotational speed was 1500 r/min.\n",
      "=====================================================\n",
      "\n"
     ]
    }
   ],
   "source": [
    "# for-loop is used to find the max value:\n",
    "n_max_25 = 0\n",
    "for i in range(7):\n",
    "    if n[i] > n_max_25:\n",
    "        n_max_25 = n[i]\n",
    "print('''\n",
    "The highest possible rotational speed was {:.0f} r/min.\n",
    "=====================================================\n",
    "'''.format(n_max_25))"
   ]
  },
  {
   "cell_type": "markdown",
   "metadata": {},
   "source": [
    "Alternatively (and much simpler) you can use the \"`max()`\" function:"
   ]
  },
  {
   "cell_type": "code",
   "execution_count": 5,
   "metadata": {},
   "outputs": [
    {
     "data": {
      "text/plain": [
       "1500.0"
      ]
     },
     "execution_count": 5,
     "metadata": {},
     "output_type": "execute_result"
    }
   ],
   "source": [
    "max(n)"
   ]
  },
  {
   "cell_type": "markdown",
   "metadata": {},
   "source": [
    "#### (b)\n",
    "Core losses scale according to the ${1.5}^{th}$ power of the speed of rotation, so the ratio of the core losses at 25 Hz to the core losses at 60 Hz (for a given machine) would be:\n",
    "\n",
    "$$\\text{ratio} = \\left(\\frac{n_\\text{m,25}}{n_\\text{m,60}}\\right)^{1.5}$$"
   ]
  },
  {
   "cell_type": "code",
   "execution_count": 6,
   "metadata": {},
   "outputs": [
    {
     "name": "stdout",
     "output_type": "stream",
     "text": [
      "\n",
      "ratio = 0.269 or 26.9 %\n",
      "=======================\n",
      "\n"
     ]
    }
   ],
   "source": [
    "r = 1.5         # 1.5th power of the speed of rotation\n",
    "n_max_60 = n_max_25 * (fe_60/fe_25)\n",
    "ratio = (n_max_25 / n_max_60)**r\n",
    "print('''\n",
    "ratio = {:.3f} or {:.1f} %\n",
    "=======================\n",
    "'''.format(ratio ,ratio*100))"
   ]
  },
  {
   "cell_type": "markdown",
   "metadata": {},
   "source": [
    "#### (c)"
   ]
  },
  {
   "cell_type": "markdown",
   "metadata": {},
   "source": [
    "**At 25 Hz, the light from incandescent lamps would visibly flicker in a very annoying way.**"
   ]
  }
 ],
 "metadata": {
  "kernelspec": {
   "display_name": "Python 3",
   "language": "python",
   "name": "python3"
  },
  "language_info": {
   "codemirror_mode": {
    "name": "ipython",
    "version": 3
   },
   "file_extension": ".py",
   "mimetype": "text/x-python",
   "name": "python",
   "nbconvert_exporter": "python",
   "pygments_lexer": "ipython3",
   "version": "3.6.7"
  }
 },
 "nbformat": 4,
 "nbformat_minor": 1
}
