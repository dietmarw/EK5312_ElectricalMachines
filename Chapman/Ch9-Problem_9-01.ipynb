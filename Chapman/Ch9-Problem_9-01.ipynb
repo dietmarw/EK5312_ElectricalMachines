{
 "cells": [
  {
   "cell_type": "markdown",
   "metadata": {},
   "source": [
    "# Excercises Electric Machinery Fundamentals\n",
    "## Chapter 9"
   ]
  },
  {
   "cell_type": "markdown",
   "metadata": {},
   "source": [
    "## Problem 9-1"
   ]
  },
  {
   "cell_type": "code",
   "execution_count": 1,
   "metadata": {
    "collapsed": false,
    "slideshow": {
     "slide_type": "skip"
    }
   },
   "outputs": [
    {
     "name": "stdout",
     "output_type": "stream",
     "text": [
      "Populating the interactive namespace from numpy and matplotlib\n"
     ]
    },
    {
     "data": {
      "text/plain": [
       "'%.4g'"
      ]
     },
     "execution_count": 1,
     "metadata": {},
     "output_type": "execute_result"
    }
   ],
   "source": [
    "%pylab inline\n",
    "%precision %.4g"
   ]
  },
  {
   "cell_type": "markdown",
   "metadata": {},
   "source": [
    "### Description"
   ]
  },
  {
   "cell_type": "markdown",
   "metadata": {},
   "source": [
    "A 120-V 1/4-hp 60-Hz four-pole split-phase induction motor has the following impedances:\n",
    "\n",
    "$$R_1 = 2.00\\,\\Omega \\qquad X_1 = 2.56\\,\\Omega \\qquad X_M = 60.5\\,\\Omega$$\n",
    "$$R_2 = 2.80\\,\\Omega \\qquad X_2 = 2.56\\,\\Omega$$\n",
    "\n",
    "At a slip of 0.05, the motor's rotational losses are 51 W. The rotational losses may be assumed constant over the normal operating range of the motor."
   ]
  },
  {
   "cell_type": "code",
   "execution_count": 2,
   "metadata": {
    "collapsed": false
   },
   "outputs": [],
   "source": [
    "V  = 120    # [V]\n",
    "p  =   4\n",
    "R1 =   2.0  # [Ohm]\n",
    "R2 =   2.8  # [Ohm]\n",
    "X1 =   2.56 # [Ohm]\n",
    "X2 =   2.56 # [Ohm]\n",
    "Xm =  60.5  # [Ohm]\n",
    "s  =   0.05\n",
    "Prot = 51   # [W]"
   ]
  },
  {
   "cell_type": "markdown",
   "metadata": {},
   "source": [
    "If the slip is 0.05, find the following quantities for this motor:\n",
    "\n",
    "#### (a)\n",
    "\n",
    " * Input power\n",
    " \n",
    "#### (b)\n",
    "\n",
    " * Air-gap power\n",
    "  \n",
    "#### (c)\n",
    " \n",
    " * $P_\\text{inv}$\n",
    " \n",
    "#### (d)\n",
    " \n",
    " * $P_\\text{out}$\n",
    "\n",
    "#### (e)\n",
    " \n",
    " * $\\tau_\\text{ind}$\n",
    " \n",
    "#### (f)\n",
    " \n",
    " * $\\tau_\\text{load}$\n",
    " \n",
    "#### (g)\n",
    " \n",
    " * Overall motor efficiency\n",
    "\n",
    "#### (h)\n",
    " \n",
    " * Stator power factor"
   ]
  },
  {
   "cell_type": "markdown",
   "metadata": {},
   "source": [
    "### SOLUTION"
   ]
  },
  {
   "cell_type": "markdown",
   "metadata": {},
   "source": [
    "The equivalent circuit of the motor is shown below:"
   ]
  },
  {
   "cell_type": "markdown",
   "metadata": {},
   "source": [
    "<img src=\"figs/FigC_9-28.jpg\" width=\"70%\">"
   ]
  },
  {
   "cell_type": "markdown",
   "metadata": {},
   "source": [
    "The impedances $Z_F$ and $Z_B$ are:\n",
    "\n",
    "$$Z_F = \\frac{(R_2/s + jX_2)(jX_M)}{R_2/s + jX_2 + jX_M}$$"
   ]
  },
  {
   "cell_type": "code",
   "execution_count": 3,
   "metadata": {
    "collapsed": false
   },
   "outputs": [
    {
     "data": {
      "text/plain": [
       "(28.81858237443388+28.048217776217843j)"
      ]
     },
     "execution_count": 3,
     "metadata": {},
     "output_type": "execute_result"
    }
   ],
   "source": [
    "Zf = ((R2/s + X2*1j)*(Xm*1j)) / (R2/s + X2*1j + Xm*1j)\n",
    "Zf"
   ]
  },
  {
   "cell_type": "markdown",
   "metadata": {},
   "source": [
    "$$Z_B = \\frac{(R_2/(2-s) + jX_2)(jX_M)}{R_2/(2-s) + jX_2 + jX_M}$$"
   ]
  },
  {
   "cell_type": "code",
   "execution_count": 4,
   "metadata": {
    "collapsed": false
   },
   "outputs": [
    {
     "data": {
      "text/plain": [
       "(1.320994830986823+2.486153077872625j)"
      ]
     },
     "execution_count": 4,
     "metadata": {},
     "output_type": "execute_result"
    }
   ],
   "source": [
    "Zb = ((R2/(2-s) + X2*1j)*(Xm*1j)) / (R2/(2-s) + X2*1j + Xm*1j)\n",
    "Zb"
   ]
  },
  {
   "cell_type": "markdown",
   "metadata": {},
   "source": [
    "#### (a)\n",
    "The input current is:\n",
    "$$\\vec{I}_1 = \\frac{\\vec{V}}{R_1 + jX_1 + 0.5Z_F + 0.5Z_B}$$"
   ]
  },
  {
   "cell_type": "code",
   "execution_count": 5,
   "metadata": {
    "collapsed": false
   },
   "outputs": [
    {
     "name": "stdout",
     "output_type": "stream",
     "text": [
      "I1 = 4.862 V ∠-46.2°\n"
     ]
    }
   ],
   "source": [
    "I1 = V / (R1 +X1*1j + 0.5*Zf + 0.5*Zb)\n",
    "I1_angle = arctan(I1.imag/I1.real)\n",
    "print('I1 = {:.3f} V ∠{:.1f}°'.format(abs(I1), I1_angle/pi*180))"
   ]
  },
  {
   "cell_type": "code",
   "execution_count": 6,
   "metadata": {
    "collapsed": false
   },
   "outputs": [
    {
     "name": "stdout",
     "output_type": "stream",
     "text": [
      "\n",
      "Pin = 403.5 W\n",
      "=============\n"
     ]
    }
   ],
   "source": [
    "Pin = V*abs(I1)*cos(I1_angle)\n",
    "print('''\n",
    "Pin = {:.1f} W\n",
    "============='''.format(Pin))"
   ]
  },
  {
   "cell_type": "markdown",
   "metadata": {},
   "source": [
    "#### (b)\n",
    "The air-gap power is:"
   ]
  },
  {
   "cell_type": "code",
   "execution_count": 7,
   "metadata": {
    "collapsed": false
   },
   "outputs": [
    {
     "data": {
      "text/plain": [
       "340.6"
      ]
     },
     "execution_count": 7,
     "metadata": {},
     "output_type": "execute_result"
    }
   ],
   "source": [
    "Pag_f = abs(I1)**2*0.5*Zf.real\n",
    "Pag_f"
   ]
  },
  {
   "cell_type": "code",
   "execution_count": 8,
   "metadata": {
    "collapsed": false
   },
   "outputs": [
    {
     "data": {
      "text/plain": [
       "15.61"
      ]
     },
     "execution_count": 8,
     "metadata": {},
     "output_type": "execute_result"
    }
   ],
   "source": [
    "Pag_b = abs(I1)**2*0.5*Zb.real\n",
    "Pag_b"
   ]
  },
  {
   "cell_type": "code",
   "execution_count": 9,
   "metadata": {
    "collapsed": false
   },
   "outputs": [
    {
     "name": "stdout",
     "output_type": "stream",
     "text": [
      "\n",
      "Pag = 325 W\n",
      "===========\n"
     ]
    }
   ],
   "source": [
    "Pag = Pag_f - Pag_b\n",
    "print('''\n",
    "Pag = {:.0f} W\n",
    "==========='''.format(Pag))"
   ]
  },
  {
   "cell_type": "markdown",
   "metadata": {},
   "source": [
    "#### (c)\n",
    "The power converted from electrical to mechanical form is:"
   ]
  },
  {
   "cell_type": "code",
   "execution_count": 10,
   "metadata": {
    "collapsed": false
   },
   "outputs": [
    {
     "data": {
      "text/plain": [
       "323.6"
      ]
     },
     "execution_count": 10,
     "metadata": {},
     "output_type": "execute_result"
    }
   ],
   "source": [
    "Pconv_f = (1-s)*Pag_f\n",
    "Pconv_f"
   ]
  },
  {
   "cell_type": "code",
   "execution_count": 11,
   "metadata": {
    "collapsed": false
   },
   "outputs": [
    {
     "data": {
      "text/plain": [
       "14.83"
      ]
     },
     "execution_count": 11,
     "metadata": {},
     "output_type": "execute_result"
    }
   ],
   "source": [
    "Pconv_b = (1-s)*Pag_b\n",
    "Pconv_b"
   ]
  },
  {
   "cell_type": "code",
   "execution_count": 12,
   "metadata": {
    "collapsed": false
   },
   "outputs": [
    {
     "name": "stdout",
     "output_type": "stream",
     "text": [
      "\n",
      "Pconv = 309 W\n",
      "=============\n"
     ]
    }
   ],
   "source": [
    "Pconv = Pconv_f - Pconv_b\n",
    "print('''\n",
    "Pconv = {:.0f} W\n",
    "============='''.format(Pconv))"
   ]
  },
  {
   "cell_type": "markdown",
   "metadata": {},
   "source": [
    "#### (d)\n",
    "The output power is:"
   ]
  },
  {
   "cell_type": "code",
   "execution_count": 13,
   "metadata": {
    "collapsed": false
   },
   "outputs": [
    {
     "name": "stdout",
     "output_type": "stream",
     "text": [
      "\n",
      "Pout = 258 W\n",
      "============\n"
     ]
    }
   ],
   "source": [
    "Pout = Pconv - Prot\n",
    "print('''\n",
    "Pout = {:.0f} W\n",
    "============'''.format(Pout))"
   ]
  },
  {
   "cell_type": "markdown",
   "metadata": {},
   "source": [
    "#### (e)\n",
    "The induced torque is\n",
    "\n",
    "$$\\tau_\\text{ind} = \\frac{P_\\text{AG}}{\\omega_\\text{sync}}$$"
   ]
  },
  {
   "cell_type": "code",
   "execution_count": 14,
   "metadata": {
    "collapsed": false
   },
   "outputs": [
    {
     "name": "stdout",
     "output_type": "stream",
     "text": [
      "\n",
      "τ_ind = 1.72 Nm\n",
      "===============\n"
     ]
    }
   ],
   "source": [
    "n_sync = 1800.0 # [r/min]\n",
    "w_sync = n_sync * (2.0*pi/1.0) * (1.0/60.0)\n",
    "tau_ind = Pag / w_sync\n",
    "print('''\n",
    "τ_ind = {:.2f} Nm\n",
    "==============='''.format(tau_ind))"
   ]
  },
  {
   "cell_type": "markdown",
   "metadata": {},
   "source": [
    "#### (f)\n",
    "The load torque is:\n",
    "\n",
    "$$\\tau_\\text{load} = \\frac{P_\\text{out}}{\\omega_m}$$"
   ]
  },
  {
   "cell_type": "code",
   "execution_count": 15,
   "metadata": {
    "collapsed": false
   },
   "outputs": [
    {
     "name": "stdout",
     "output_type": "stream",
     "text": [
      "\n",
      "τ_load = 1.44 Nm\n",
      "================\n"
     ]
    }
   ],
   "source": [
    "w_m = (1-s)*w_sync\n",
    "tau_load = Pout / w_m\n",
    "print('''\n",
    "τ_load = {:.2f} Nm\n",
    "================'''.format(tau_load))"
   ]
  },
  {
   "cell_type": "markdown",
   "metadata": {},
   "source": [
    "#### (g)\n",
    "The overall efficiency is:\n",
    "\n",
    "$$\\eta = \\frac{P_\\text{out}}{P_\\text{in}} \\cdot 100\\%$$"
   ]
  },
  {
   "cell_type": "code",
   "execution_count": 16,
   "metadata": {
    "collapsed": false
   },
   "outputs": [
    {
     "name": "stdout",
     "output_type": "stream",
     "text": [
      "\n",
      "η = 63.9 %\n",
      "==========\n"
     ]
    }
   ],
   "source": [
    "eta = Pout/Pin\n",
    "print('''\n",
    "η = {:.1f} %\n",
    "=========='''.format(eta*100))"
   ]
  },
  {
   "cell_type": "markdown",
   "metadata": {},
   "source": [
    "#### (h)\n",
    "The stator power factor is:"
   ]
  },
  {
   "cell_type": "code",
   "execution_count": 17,
   "metadata": {
    "collapsed": false
   },
   "outputs": [
    {
     "name": "stdout",
     "output_type": "stream",
     "text": [
      "\n",
      "PF = 0.692 lagging\n",
      "==================\n"
     ]
    }
   ],
   "source": [
    "PF = cos(I1_angle)\n",
    "print('''\n",
    "PF = {:.3f} lagging\n",
    "=================='''.format(PF))"
   ]
  }
 ],
 "metadata": {
  "kernelspec": {
   "display_name": "Python 3",
   "language": "python",
   "name": "python3"
  },
  "language_info": {
   "codemirror_mode": {
    "name": "ipython",
    "version": 3
   },
   "file_extension": ".py",
   "mimetype": "text/x-python",
   "name": "python",
   "nbconvert_exporter": "python",
   "pygments_lexer": "ipython3",
   "version": "3.5.2"
  }
 },
 "nbformat": 4,
 "nbformat_minor": 0
}
