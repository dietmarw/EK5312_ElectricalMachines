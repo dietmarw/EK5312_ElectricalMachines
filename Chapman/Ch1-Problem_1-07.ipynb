{
 "cells": [
  {
   "cell_type": "markdown",
   "metadata": {},
   "source": [
    "# Excercises Electric Machinery Fundamentals\n",
    "## Chapter 1"
   ]
  },
  {
   "cell_type": "markdown",
   "metadata": {},
   "source": [
    "## Problem 1-7"
   ]
  },
  {
   "cell_type": "code",
   "execution_count": 1,
   "metadata": {
    "collapsed": false,
    "slideshow": {
     "slide_type": "skip"
    }
   },
   "outputs": [
    {
     "name": "stdout",
     "output_type": "stream",
     "text": [
      "Populating the interactive namespace from numpy and matplotlib\n"
     ]
    }
   ],
   "source": [
    "%pylab inline\n",
    "%precision 4\n",
    "from scipy import constants as c   # we like to use some constants"
   ]
  },
  {
   "cell_type": "markdown",
   "metadata": {},
   "source": [
    "### Description"
   ]
  },
  {
   "cell_type": "markdown",
   "metadata": {},
   "source": [
    "A two-legged core is shown in Figure P1-4 below:"
   ]
  },
  {
   "cell_type": "markdown",
   "metadata": {},
   "source": [
    "<img src=\"figs/FigC_P1-4.jpg\" width=\"70%\">"
   ]
  },
  {
   "cell_type": "markdown",
   "metadata": {},
   "source": [
    "The winding on the left leg of the core ($N_1$) has 600 turns,\n",
    "and the winding on the right ($N_2$) has 200 turns. The coils are wound in the directions shown in the figure. \n",
    "\n",
    " * If the dimensions are as shown, then what flux would be produced by currents $i_1 = 0.5\\,A$ and $i_2 = 1.0\\,A$?\n",
    "\n",
    "Assume $\\mu_r = 1200$ and constant."
   ]
  },
  {
   "cell_type": "code",
   "execution_count": 2,
   "metadata": {
    "collapsed": false
   },
   "outputs": [],
   "source": [
    "N1 = 600\n",
    "N2 = 200\n",
    "i1 = 0.5           # A\n",
    "i2 = 1.0           # A\n",
    "mu_r = 1200\n",
    "mu = mu_r * c.mu_0"
   ]
  },
  {
   "cell_type": "markdown",
   "metadata": {},
   "source": [
    "### SOLUTION"
   ]
  },
  {
   "cell_type": "markdown",
   "metadata": {},
   "source": [
    "The two coils on this core are wound so that their magnetomotive forces are additive, so the\n",
    "total magnetomotive force on this core is\n",
    "$$\\mathcal{F}_\\text{TOT} = N_1 i_1 + N_2 I_2$$"
   ]
  },
  {
   "cell_type": "code",
   "execution_count": 3,
   "metadata": {
    "collapsed": false
   },
   "outputs": [
    {
     "name": "stdout",
     "output_type": "stream",
     "text": [
      "F_tot =  500.0 At\n"
     ]
    }
   ],
   "source": [
    "F_tot = N1 * i1 + N2 * i2 \n",
    "print('F_tot =  {:.1f} At'.format(F_tot))"
   ]
  },
  {
   "cell_type": "markdown",
   "metadata": {},
   "source": [
    "The total reluctance in the core is $\\mathcal{R}_\\text{TOT} = \\frac{l}{\\mu_0 \\mu_r A}$:"
   ]
  },
  {
   "cell_type": "code",
   "execution_count": 4,
   "metadata": {
    "collapsed": false
   },
   "outputs": [
    {
     "name": "stdout",
     "output_type": "stream",
     "text": [
      "R_tot =  76.6 kAt/Wb\n"
     ]
    }
   ],
   "source": [
    "l = 4 * (0.075 + 0.5 + 0.075)   # [m] core length on all 4 sides.\n",
    "A = 0.15**2                     # [m²] \n",
    "R_tot = l / (mu * A)\n",
    "print('R_tot =  {:.1f} kAt/Wb'.format(R_tot/1000))"
   ]
  },
  {
   "cell_type": "markdown",
   "metadata": {},
   "source": [
    "and the flux in the core is $\\phi = \\frac{\\mathcal{F}_\\text{TOT}}{\\mathcal{R}_\\text{TOT}}$:"
   ]
  },
  {
   "cell_type": "code",
   "execution_count": 5,
   "metadata": {
    "collapsed": false
   },
   "outputs": [
    {
     "name": "stdout",
     "output_type": "stream",
     "text": [
      "phi =  6.525 mWb\n"
     ]
    }
   ],
   "source": [
    "phi = F_tot / R_tot\n",
    "print('phi =  {:.3f} mWb'.format(phi*1000))"
   ]
  }
 ],
 "metadata": {
  "kernelspec": {
   "display_name": "Python 3",
   "language": "python",
   "name": "python3"
  },
  "language_info": {
   "codemirror_mode": {
    "name": "ipython",
    "version": 3
   },
   "file_extension": ".py",
   "mimetype": "text/x-python",
   "name": "python",
   "nbconvert_exporter": "python",
   "pygments_lexer": "ipython3",
   "version": "3.5.1+"
  }
 },
 "nbformat": 4,
 "nbformat_minor": 0
}
