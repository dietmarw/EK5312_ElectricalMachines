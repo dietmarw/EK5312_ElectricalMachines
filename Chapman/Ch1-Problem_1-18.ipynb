{
 "cells": [
  {
   "cell_type": "markdown",
   "metadata": {},
   "source": [
    "# Excercises Electric Machinery Fundamentals\n",
    "## Chapter 1"
   ]
  },
  {
   "cell_type": "markdown",
   "metadata": {},
   "source": [
    "## Problem 1-18"
   ]
  },
  {
   "cell_type": "code",
   "execution_count": 1,
   "metadata": {
    "collapsed": false,
    "slideshow": {
     "slide_type": "skip"
    }
   },
   "outputs": [
    {
     "name": "stdout",
     "output_type": "stream",
     "text": [
      "Populating the interactive namespace from numpy and matplotlib\n"
     ]
    }
   ],
   "source": [
    "%pylab inline"
   ]
  },
  {
   "cell_type": "markdown",
   "metadata": {},
   "source": [
    "### Description"
   ]
  },
  {
   "cell_type": "markdown",
   "metadata": {},
   "source": [
    "Assume that the voltage applied to a load is $\\vec{V} = 208\\,V\\angle -30^\\circ$ and the current flowing through the load $\\vec{I} =  2\\,A\\angle 20^\\circ$.\n",
    "\n",
    "#### (a)\n",
    "\n",
    " * Calculate the complex power $S$ consumed by this load.\n",
    " \n",
    "#### (b)\n",
    "\n",
    " * Is this load inductive or capacitive?\n",
    "\n",
    "#### (c)\n",
    "\n",
    " * Calculate the power factor of this load?\n",
    "\n",
    "#### (d)\n",
    "\n",
    " * Calculate the reactive power consumed or supplied by this load. \n",
    " * Does the load consume reactive power from the source or supply it to the source?"
   ]
  },
  {
   "cell_type": "code",
   "execution_count": 2,
   "metadata": {
    "collapsed": false
   },
   "outputs": [],
   "source": [
    "V = 208.0 * exp(-1j*30/180*pi)  # [V]\n",
    "I =   2.0 * exp( 1j*20/180*pi)  # [A]"
   ]
  },
  {
   "cell_type": "markdown",
   "metadata": {},
   "source": [
    "### SOLUTION"
   ]
  },
  {
   "cell_type": "markdown",
   "metadata": {},
   "source": [
    "#### (a)\n",
    "The complex power $S$ consumed by this load is:\n",
    "\n",
    "$$ S = V\\cdot I^* $$"
   ]
  },
  {
   "cell_type": "code",
   "execution_count": 3,
   "metadata": {
    "collapsed": false
   },
   "outputs": [
    {
     "name": "stdout",
     "output_type": "stream",
     "text": [
      "S = 416.0 VA ∠-50.0°\n",
      "====================\n"
     ]
    }
   ],
   "source": [
    "S = V * conjugate(I)   # The complex conjugate of a complex number is\n",
    "                       # obtained by changing the sign of its imaginary part.\n",
    "S_angle = arctan(S.imag/S.real)    \n",
    "print('S = {:.1f} VA ∠{:.1f}°'.format(*(abs(S), S_angle/pi*180)))\n",
    "print('====================')"
   ]
  },
  {
   "cell_type": "markdown",
   "metadata": {},
   "source": [
    "#### (b)\n",
    "\n",
    "This is a capacitive load."
   ]
  },
  {
   "cell_type": "markdown",
   "metadata": {},
   "source": [
    "#### (c)\n",
    "\n",
    "The power factor of this load is **leading** and:"
   ]
  },
  {
   "cell_type": "code",
   "execution_count": 4,
   "metadata": {
    "collapsed": false
   },
   "outputs": [
    {
     "name": "stdout",
     "output_type": "stream",
     "text": [
      "PF = 0.643 leading\n",
      "==================\n"
     ]
    }
   ],
   "source": [
    "PF = cos(S_angle)  \n",
    "print('PF = {:.3f} leading'.format(PF))\n",
    "print('==================')"
   ]
  },
  {
   "cell_type": "markdown",
   "metadata": {},
   "source": [
    "#### (d)\n",
    "\n",
    "This load supplies reactive power to the source. The reactive power of the load is:\n",
    "\n",
    "$$ Q = VI\\sin\\theta = S\\sin\\theta$$"
   ]
  },
  {
   "cell_type": "code",
   "execution_count": 5,
   "metadata": {
    "collapsed": false
   },
   "outputs": [
    {
     "name": "stdout",
     "output_type": "stream",
     "text": [
      "Q = -318.7 var\n",
      "==============\n"
     ]
    }
   ],
   "source": [
    "Q = abs(S)*sin(S_angle)\n",
    "print('Q = {:.1f} var'.format(Q))\n",
    "print('==============')"
   ]
  }
 ],
 "metadata": {
  "kernelspec": {
   "display_name": "Python 3",
   "language": "python",
   "name": "python3"
  },
  "language_info": {
   "codemirror_mode": {
    "name": "ipython",
    "version": 3
   },
   "file_extension": ".py",
   "mimetype": "text/x-python",
   "name": "python",
   "nbconvert_exporter": "python",
   "pygments_lexer": "ipython3",
   "version": "3.5.1+"
  }
 },
 "nbformat": 4,
 "nbformat_minor": 0
}
