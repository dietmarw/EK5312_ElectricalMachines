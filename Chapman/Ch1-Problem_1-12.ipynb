{
 "cells": [
  {
   "cell_type": "markdown",
   "metadata": {},
   "source": [
    "# Excercises Electric Machinery Fundamentals\n",
    "## Chapter 1"
   ]
  },
  {
   "cell_type": "markdown",
   "metadata": {},
   "source": [
    "## Problem 1-12"
   ]
  },
  {
   "cell_type": "code",
   "execution_count": 1,
   "metadata": {
    "collapsed": false,
    "slideshow": {
     "slide_type": "skip"
    }
   },
   "outputs": [
    {
     "name": "stdout",
     "output_type": "stream",
     "text": [
      "Populating the interactive namespace from numpy and matplotlib\n"
     ]
    }
   ],
   "source": [
    "%pylab inline\n",
    "%precision 4\n",
    "from scipy import constants as c   # we like to use some constants"
   ]
  },
  {
   "cell_type": "markdown",
   "metadata": {},
   "source": [
    "### Description"
   ]
  },
  {
   "cell_type": "markdown",
   "metadata": {},
   "source": [
    "The core shown in Figure P1-4 below:"
   ]
  },
  {
   "cell_type": "markdown",
   "metadata": {},
   "source": [
    "<img src=\"figs/FigC_P1-4.jpg\" width=\"70%\">"
   ]
  },
  {
   "cell_type": "markdown",
   "metadata": {},
   "source": [
    " and is made of a steel whose magnetization curve is shown in Figure P1-9 below:"
   ]
  },
  {
   "cell_type": "markdown",
   "metadata": {},
   "source": [
    "<img src=\"figs/FigC_P1-9.jpg\" width=\"60%\">"
   ]
  },
  {
   "cell_type": "markdown",
   "metadata": {},
   "source": [
    "Repeat Problem 1-7, but this time do not assume a constant value of $\\mu_r$. \n",
    "\n",
    "* How much flux is produced in the core by the currents specified? \n",
    "* What is the relative permeability of this core under these conditions?\n",
    "* Was the assumption in Problem 1-7 that the relative permeability was equal to 1200 a good assumption for these conditions?\n",
    "* Is it a good assumption in general?"
   ]
  },
  {
   "cell_type": "code",
   "execution_count": 2,
   "metadata": {
    "collapsed": false
   },
   "outputs": [],
   "source": [
    "N1 = 600\n",
    "N2 = 200\n",
    "i1 = 0.5           # A\n",
    "i2 = 1.0           # A"
   ]
  },
  {
   "cell_type": "markdown",
   "metadata": {},
   "source": [
    "### SOLUTION"
   ]
  },
  {
   "cell_type": "markdown",
   "metadata": {},
   "source": [
    "The two coils on this core are wound so that their magnetomotive forces are additive, so the\n",
    "total magnetomotive force on this core is\n",
    "$$\\mathcal{F}_\\text{TOT} = N_1 i_1 + N_2 I_2$$"
   ]
  },
  {
   "cell_type": "code",
   "execution_count": 3,
   "metadata": {
    "collapsed": false
   },
   "outputs": [
    {
     "name": "stdout",
     "output_type": "stream",
     "text": [
      "F_tot = 500.0 At\n"
     ]
    }
   ],
   "source": [
    "F_tot = N1 * i1 + N2 * i2 \n",
    "print('F_tot = {:.1f} At'.format(F_tot))"
   ]
  },
  {
   "cell_type": "markdown",
   "metadata": {},
   "source": [
    "Therefore, the magnetizing intensity $H$ is:\n",
    "$$ H = \\frac{\\mathcal{F_\\text{TOT}}}{l_c}$$"
   ]
  },
  {
   "cell_type": "code",
   "execution_count": 4,
   "metadata": {
    "collapsed": false
   },
   "outputs": [
    {
     "name": "stdout",
     "output_type": "stream",
     "text": [
      "H = 192.3 At/m\n"
     ]
    }
   ],
   "source": [
    "lc = 4 * (0.075 + 0.5 + 0.075)   # [m] core length on all 4 sides.\n",
    "H = F_tot / lc\n",
    "print('H = {:.1f} At/m'.format(H))"
   ]
  },
  {
   "cell_type": "markdown",
   "metadata": {},
   "source": [
    "From the magnetization curve:"
   ]
  },
  {
   "cell_type": "markdown",
   "metadata": {},
   "source": [
    "<img src=\"figs/FigC_P1-9sol.png\" width=\"60%\">"
   ]
  },
  {
   "cell_type": "code",
   "execution_count": 5,
   "metadata": {
    "collapsed": false
   },
   "outputs": [],
   "source": [
    "B = 0.17 # [T]"
   ]
  },
  {
   "cell_type": "markdown",
   "metadata": {},
   "source": [
    "and the total flux in the core is:\n",
    "$$\\phi_\\text{TOT} = BA$$"
   ]
  },
  {
   "cell_type": "code",
   "execution_count": 6,
   "metadata": {
    "collapsed": false
   },
   "outputs": [
    {
     "name": "stdout",
     "output_type": "stream",
     "text": [
      "ϕ = 3.825 mWb\n"
     ]
    }
   ],
   "source": [
    "A = 0.15**2  # [m²] \n",
    "phi_tot = B*A\n",
    "print('ϕ = {:.3f} mWb'.format(phi_tot*1000))"
   ]
  },
  {
   "cell_type": "markdown",
   "metadata": {},
   "source": [
    "The relative permeability of the core can be found from the reluctance as follows:\n",
    "\n",
    "$$\\mathcal{R}_\\text{TOT} = \\frac{\\mathcal{F}_\\text{TOT}}{\\mathcal{\\phi}_\\text{TOT}} = \\frac{l_c}{\\mu_0 \\mu_r A}$$"
   ]
  },
  {
   "cell_type": "markdown",
   "metadata": {},
   "source": [
    "Solving for $\\mu_r$ yields:\n",
    "\n",
    "$$\\mu_r = \\frac{\\mathcal{\\phi}_\\text{TOT}l_c}{\\mathcal{F}_\\text{TOT}\\mu_0 A}$$"
   ]
  },
  {
   "cell_type": "code",
   "execution_count": 7,
   "metadata": {
    "collapsed": false
   },
   "outputs": [
    {
     "name": "stdout",
     "output_type": "stream",
     "text": [
      "μ = 703.5\n"
     ]
    }
   ],
   "source": [
    "mu_r = phi_tot * lc / (F_tot * c.mu_0 * A)\n",
    "print('μ = {:.1f}'.format(mu_r))"
   ]
  },
  {
   "cell_type": "markdown",
   "metadata": {},
   "source": [
    "The assumption that $\\mu_r = 1200$ is not very good here. Actually, it is not very good in general."
   ]
  }
 ],
 "metadata": {
  "kernelspec": {
   "display_name": "Python 3",
   "language": "python",
   "name": "python3"
  },
  "language_info": {
   "codemirror_mode": {
    "name": "ipython",
    "version": 3
   },
   "file_extension": ".py",
   "mimetype": "text/x-python",
   "name": "python",
   "nbconvert_exporter": "python",
   "pygments_lexer": "ipython3",
   "version": "3.5.2"
  }
 },
 "nbformat": 4,
 "nbformat_minor": 0
}
