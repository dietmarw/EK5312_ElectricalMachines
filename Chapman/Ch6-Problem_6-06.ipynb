{
 "cells": [
  {
   "cell_type": "markdown",
   "metadata": {},
   "source": [
    "# Excercises Electric Machinery Fundamentals\n",
    "## Chapter 6"
   ]
  },
  {
   "cell_type": "markdown",
   "metadata": {},
   "source": [
    "## Problem 6-6"
   ]
  },
  {
   "cell_type": "code",
   "execution_count": 1,
   "metadata": {
    "slideshow": {
     "slide_type": "skip"
    }
   },
   "outputs": [
    {
     "name": "stdout",
     "output_type": "stream",
     "text": [
      "Populating the interactive namespace from numpy and matplotlib\n"
     ]
    }
   ],
   "source": [
    "%pylab inline"
   ]
  },
  {
   "cell_type": "markdown",
   "metadata": {},
   "source": [
    "### Description"
   ]
  },
  {
   "cell_type": "markdown",
   "metadata": {},
   "source": [
    "For the motor in Problem 6-5\n",
    "\n",
    "  * What is the slip at the pullout torque? \n",
    "  * What is the pullout torque of this motor?"
   ]
  },
  {
   "cell_type": "code",
   "execution_count": 2,
   "metadata": {},
   "outputs": [],
   "source": [
    "R1 =  0.10     # [Ohm]\n",
    "R2 =  0.07     # [Ohm]\n",
    "Xm = 10.0      # [Ohm]\n",
    "X1 =  0.21     # [Ohm]\n",
    "X2 =  0.21     # [Ohm]\n",
    "Pmech  = 500   # [W]\n",
    "Pmisc  =   0   # [W]\n",
    "Pcore  = 400   # [W]\n",
    "Vphi   = 120   # [V]\n",
    "w_sync = 188.5 # [rad/s]"
   ]
  },
  {
   "cell_type": "markdown",
   "metadata": {},
   "source": [
    "### SOLUTION"
   ]
  },
  {
   "cell_type": "markdown",
   "metadata": {},
   "source": [
    "The slip at pullout torque is found by calculating the Thevenin equivalent of the input circuit from the rotor back to the power supply, and then using that with the rotor circuit model.\n",
    "\n",
    "<img src=\"figs/FigC_6-18.jpg\" width=\"70%\">\n",
    "\n",
    "$$Z_{TH} = \\frac{jX_M(R_1+jX_1)}{R_1 + j(X_1+X_M)}$$"
   ]
  },
  {
   "cell_type": "code",
   "execution_count": 3,
   "metadata": {},
   "outputs": [
    {
     "name": "stdout",
     "output_type": "stream",
     "text": [
      "Zth = (0.0959+0.2066j)Ω = 0.228 Ω ∠65.1°\n"
     ]
    }
   ],
   "source": [
    "Zth = (Xm*1j * (R1 + X1*1j)) / (R1 + (X1+Xm)*1j)\n",
    "Zth_angle = arctan(Zth.imag/Zth.real)\n",
    "print('Zth = ({:.4f})Ω = {:.3f} Ω ∠{:.1f}°'.format(Zth, abs(Zth), Zth_angle/pi*180))"
   ]
  },
  {
   "cell_type": "markdown",
   "metadata": {},
   "source": [
    "$$\\vec{V_{TH}} = \\frac{jX_M}{R_1 + j(X_1+X_M)} \\vec{V_ \\phi }$$"
   ]
  },
  {
   "cell_type": "code",
   "execution_count": 4,
   "metadata": {},
   "outputs": [
    {
     "name": "stdout",
     "output_type": "stream",
     "text": [
      "Zth = 117.5 V ∠0.6°\n"
     ]
    }
   ],
   "source": [
    "Vth = Xm*1j / (R1 + (X1+Xm)*1j) * Vphi\n",
    "Vth_angle = arctan(Vth.imag/Vth.real)\n",
    "print('Zth = {:.1f} V ∠{:.1f}°'.format(abs(Vth), Vth_angle/pi*180))"
   ]
  },
  {
   "cell_type": "markdown",
   "metadata": {},
   "source": [
    "The slip at pullout torque is:\n",
    "$$S_\\text{max} = \\frac{R_2}{\\sqrt{R_{TH}^2+(X_{TH}+X_2)^2}}$$"
   ]
  },
  {
   "cell_type": "code",
   "execution_count": 5,
   "metadata": {},
   "outputs": [
    {
     "name": "stdout",
     "output_type": "stream",
     "text": [
      "\n",
      "s_max = 0.164\n",
      "=============\n"
     ]
    }
   ],
   "source": [
    "Rth = Zth.real\n",
    "Xth = Zth.imag\n",
    "s_max = R2 / sqrt(Rth**2 + (Xth+X2)**2)\n",
    "print('''\n",
    "s_max = {:.3f}\n",
    "============='''.format(s_max))"
   ]
  },
  {
   "cell_type": "markdown",
   "metadata": {},
   "source": [
    "The pullout torque of the motor is:\n",
    "\n",
    "$$\\tau_\\text{max} = \\frac{3V_{TH}^2}{2\\omega_\\text{sync}[R_{TH}+\\sqrt{R_{TH}^2+(X_{TH}+X_2)^2}]}$$"
   ]
  },
  {
   "cell_type": "code",
   "execution_count": 6,
   "metadata": {},
   "outputs": [
    {
     "name": "stdout",
     "output_type": "stream",
     "text": [
      "\n",
      "tau_max = 210 Nm\n",
      "================\n"
     ]
    }
   ],
   "source": [
    "tau_max = (3* abs(Vth)**2) / (2 * w_sync*(Rth + sqrt(Rth**2 + (Xth+X2)**2)))\n",
    "print('''\n",
    "tau_max = {:.0f} Nm\n",
    "================'''.format(tau_max))"
   ]
  }
 ],
 "metadata": {
  "kernelspec": {
   "display_name": "Python 3",
   "language": "python",
   "name": "python3"
  },
  "language_info": {
   "codemirror_mode": {
    "name": "ipython",
    "version": 3
   },
   "file_extension": ".py",
   "mimetype": "text/x-python",
   "name": "python",
   "nbconvert_exporter": "python",
   "pygments_lexer": "ipython3",
   "version": "3.6.7"
  }
 },
 "nbformat": 4,
 "nbformat_minor": 1
}
