{
 "cells": [
  {
   "cell_type": "markdown",
   "metadata": {},
   "source": [
    "# Excercises Electric Machinery Fundamentals\n",
    "## Chapter 8"
   ]
  },
  {
   "cell_type": "markdown",
   "metadata": {},
   "source": [
    "## Problem 8-1 to Problem 8-9"
   ]
  },
  {
   "cell_type": "code",
   "execution_count": 1,
   "metadata": {
    "slideshow": {
     "slide_type": "skip"
    }
   },
   "outputs": [
    {
     "name": "stdout",
     "output_type": "stream",
     "text": [
      "Populating the interactive namespace from numpy and matplotlib\n"
     ]
    }
   ],
   "source": [
    "%pylab notebook\n",
    "%precision %.4g"
   ]
  },
  {
   "cell_type": "markdown",
   "metadata": {},
   "source": [
    "### Description\n",
    "\n",
    "Problems 8-1 to 8-12 refer to the following dc motor:\n",
    "\n",
    "| .                            | .                                          |\n",
    "|------------------------------|--------------------------------------------|\n",
    "| $P_\\text{rated} = 30\\,hp$    | $I_\\text{L,rated} = 110\\,A$                |\n",
    "| $V_T = 240\\,V$               | $n_\\text{rated} = 1800\\,r/min$             |\n",
    "| $R_A = 0.19\\,\\Omega$         | $R_S = 0.02\\,\\Omega$                       |\n",
    "| $N_F = 2700 \\text{turns per pole}$ | $N_{SE} = 14 \\text{ turns per pole}$ |\n",
    "| $R_F = 75\\,\\Omega$           | $R_\\text{adj} = 100\\text{ to }400\\,\\Omega$ |\n",
    "\n",
    "Rotational losses = 3550 W at full load.\n",
    "\n",
    "Magnetization curve as shown in Figure P8-1:"
   ]
  },
  {
   "cell_type": "markdown",
   "metadata": {},
   "source": [
    "<img src=\"figs/FigC_P8-1.jpg\" width=\"70%\">"
   ]
  },
  {
   "cell_type": "markdown",
   "metadata": {},
   "source": [
    "<hr>\n",
    "**Note:**\n",
    "An electronic version of this magnetization curve can be found in file\n",
    "[p81_mag.dat](data/p81_mag.dat), which can be used with Python programs. Column 1\n",
    "contains field current in amps, and column 2 contains the internal generated\n",
    "voltage $E_A$ in volts.\n",
    "<hr>\n",
    "\n",
    "In Problems 8-1 through 8-7, assume that the motor described above can be connected in shunt. \n",
    "The equivalent circuit of the shunt motor is shown in Figure P8-2."
   ]
  },
  {
   "cell_type": "markdown",
   "metadata": {},
   "source": [
    "<img src=\"figs/FigC_P8-2.jpg\" width=\"70%\">"
   ]
  },
  {
   "cell_type": "code",
   "execution_count": 2,
   "metadata": {},
   "outputs": [],
   "source": [
    "P_rated =   30    # [hp]\n",
    "Il_rated = 110    # [A]\n",
    "Vt =       240    # [V]\n",
    "Nf =      2700\n",
    "n_0     = 1800    # [r/min]\n",
    "Nse =       14\n",
    "Ra =         0.19 # [Ohm]\n",
    "Rf =        75    # [Ohm]\n",
    "Rs =         0.02 # [Ohm]\n",
    "Radj_max = 400    # [Ohm]\n",
    "Radj_min = 100    # [Ohm]"
   ]
  },
  {
   "cell_type": "markdown",
   "metadata": {},
   "source": [
    "## Problem 8-1"
   ]
  },
  {
   "cell_type": "markdown",
   "metadata": {},
   "source": [
    "### Description"
   ]
  },
  {
   "cell_type": "markdown",
   "metadata": {},
   "source": [
    "If the resistor $R_\\text{adj}$ is adjusted to $175\\,\\Omega$\n",
    "\n",
    " * What is the rotational speed of the motor at no-load conditions?"
   ]
  },
  {
   "cell_type": "markdown",
   "metadata": {},
   "source": [
    "### SOLUTION"
   ]
  },
  {
   "cell_type": "markdown",
   "metadata": {},
   "source": [
    "At no-load conditions, $E_A = V_T = 240 V$ . The field current is given by:\n",
    "\n",
    "$$I_F = \\frac{V_T}{R_\\text{adj}+R_F}$$"
   ]
  },
  {
   "cell_type": "code",
   "execution_count": 3,
   "metadata": {},
   "outputs": [
    {
     "data": {
      "text/plain": [
       "0.96"
      ]
     },
     "execution_count": 3,
     "metadata": {},
     "output_type": "execute_result"
    }
   ],
   "source": [
    "Radj_1 = 175 # [Ohm]\n",
    "If_1 = Vt / (Radj_1+Rf)\n",
    "If_1 # [A]"
   ]
  },
  {
   "cell_type": "markdown",
   "metadata": {},
   "source": [
    "From Figure P8-1, this field current would produce an internal generated voltage $E_{A_0}$ of 241 V at a speed $n_0$ of 1800 r/min. Therefore, the speed n with a voltage $E_A$ of 240 V would be:\n",
    "\n",
    "$$\\frac{E_A}{E_{A_0}} = \\frac{n}{n_0}$$"
   ]
  },
  {
   "cell_type": "code",
   "execution_count": 4,
   "metadata": {},
   "outputs": [
    {
     "name": "stdout",
     "output_type": "stream",
     "text": [
      "\n",
      "n_1 = 1792.5 r/min\n",
      "==================\n"
     ]
    }
   ],
   "source": [
    "Ea0 = 241.0 # [V]\n",
    "Ea_1 = 240.0 # [V]\n",
    "n_1 = Ea_1 / Ea0 * n_0\n",
    "print('''\n",
    "n_1 = {:.1f} r/min\n",
    "=================='''.format(n_1))"
   ]
  },
  {
   "cell_type": "markdown",
   "metadata": {},
   "source": [
    "## Problem 8-2"
   ]
  },
  {
   "cell_type": "markdown",
   "metadata": {},
   "source": [
    "### Description"
   ]
  },
  {
   "cell_type": "markdown",
   "metadata": {},
   "source": [
    "Assuming no armature reaction\n",
    "\n",
    " * What is the speed of the motor at full load? \n",
    " * What is the speed regulation of the motor?"
   ]
  },
  {
   "cell_type": "markdown",
   "metadata": {},
   "source": [
    "### SOLUTION"
   ]
  },
  {
   "cell_type": "markdown",
   "metadata": {},
   "source": [
    "At full load, the armature current is:\n",
    "\n",
    "$$I_A = I_L - I_F = I_L - \\frac{V_T}{R_\\text{adj}+R_F}$$"
   ]
  },
  {
   "cell_type": "code",
   "execution_count": 5,
   "metadata": {},
   "outputs": [
    {
     "data": {
      "text/plain": [
       "109"
      ]
     },
     "execution_count": 5,
     "metadata": {},
     "output_type": "execute_result"
    }
   ],
   "source": [
    "Radj_2 = Radj_1\n",
    "Ia = Il_rated - Vt/(Radj_2 + Rf)\n",
    "Ia # [A]"
   ]
  },
  {
   "cell_type": "markdown",
   "metadata": {},
   "source": [
    "The internal generated voltage $E_A$ is:\n",
    "\n",
    "$$E_A = V_T - I_A R_A$$"
   ]
  },
  {
   "cell_type": "code",
   "execution_count": 6,
   "metadata": {},
   "outputs": [
    {
     "data": {
      "text/plain": [
       "219.3"
      ]
     },
     "execution_count": 6,
     "metadata": {},
     "output_type": "execute_result"
    }
   ],
   "source": [
    "Ea_2 = Vt - Ia*Ra\n",
    "Ea_2 # [V]"
   ]
  },
  {
   "cell_type": "markdown",
   "metadata": {},
   "source": [
    "Volts. The field current is the same as before, and there is no armature reaction, so $E_{A_0}$ is still 241 V at a speed $n_0$ of 1800 r/min. Therefore,"
   ]
  },
  {
   "cell_type": "code",
   "execution_count": 7,
   "metadata": {},
   "outputs": [
    {
     "data": {
      "text/plain": [
       "1638"
      ]
     },
     "execution_count": 7,
     "metadata": {},
     "output_type": "execute_result"
    }
   ],
   "source": [
    "n_2 = Ea_2 / Ea0 * n_0\n",
    "n_2  # [rpm]"
   ]
  },
  {
   "cell_type": "markdown",
   "metadata": {},
   "source": [
    "rpm. The speed regulation is:\n",
    "\n",
    "$$SR = \\frac{n_\\text{nl}-n_\\text{fl}}{n_\\text{fl}}$$"
   ]
  },
  {
   "cell_type": "code",
   "execution_count": 8,
   "metadata": {},
   "outputs": [
    {
     "name": "stdout",
     "output_type": "stream",
     "text": [
      "\n",
      "SR = 9.4 %\n",
      "==========\n"
     ]
    }
   ],
   "source": [
    "SR = (n_1 - n_2) / n_2\n",
    "print('''\n",
    "SR = {:.1f} %\n",
    "=========='''.format(SR*100))"
   ]
  },
  {
   "cell_type": "markdown",
   "metadata": {},
   "source": [
    "## Problem 8-3"
   ]
  },
  {
   "cell_type": "markdown",
   "metadata": {},
   "source": [
    "### Description"
   ]
  },
  {
   "cell_type": "markdown",
   "metadata": {},
   "source": [
    "If the motor is operating at full load and if its variable resistance $R_\\text{adj}$ is increased to $250\\,\\Omega$, \n",
    "\n",
    "* What is the new speed of the motor? \n",
    "* Compare the full-load speed of the motor with $R_\\text{adj} = 175\\,\\Omega$ to the full-load speed with $R_\\text{adj} = 250\\,\\Omega$. (Assume no armature reaction, as in the previous problem.)"
   ]
  },
  {
   "cell_type": "markdown",
   "metadata": {},
   "source": [
    "### SOLUTION"
   ]
  },
  {
   "cell_type": "markdown",
   "metadata": {},
   "source": [
    "If $R_\\text{adj}$ is set to $250\\,\\Omega$, the field current is now:"
   ]
  },
  {
   "cell_type": "code",
   "execution_count": 9,
   "metadata": {},
   "outputs": [
    {
     "data": {
      "text/plain": [
       "0.7385"
      ]
     },
     "execution_count": 9,
     "metadata": {},
     "output_type": "execute_result"
    }
   ],
   "source": [
    "Radj_3 = 250 # [Ohm]\n",
    "If_3 = Vt / (Radj_3+Rf)\n",
    "If_3"
   ]
  },
  {
   "cell_type": "markdown",
   "metadata": {},
   "source": [
    "Since the motor is still at full load, $E_A$ is still"
   ]
  },
  {
   "cell_type": "code",
   "execution_count": 10,
   "metadata": {},
   "outputs": [
    {
     "data": {
      "text/plain": [
       "219.3"
      ]
     },
     "execution_count": 10,
     "metadata": {},
     "output_type": "execute_result"
    }
   ],
   "source": [
    "Ea_2"
   ]
  },
  {
   "cell_type": "markdown",
   "metadata": {},
   "source": [
    "V. From the magnetization curve (Figure P8-1), the new field current $I_F$ would produce a voltage $E_{A_0}$ of 212 V at a speed:"
   ]
  },
  {
   "cell_type": "code",
   "execution_count": 11,
   "metadata": {},
   "outputs": [
    {
     "data": {
      "text/plain": [
       "1800"
      ]
     },
     "execution_count": 11,
     "metadata": {},
     "output_type": "execute_result"
    }
   ],
   "source": [
    "n_0"
   ]
  },
  {
   "cell_type": "markdown",
   "metadata": {},
   "source": [
    "r/min."
   ]
  },
  {
   "cell_type": "code",
   "execution_count": 12,
   "metadata": {},
   "outputs": [
    {
     "name": "stdout",
     "output_type": "stream",
     "text": [
      "\n",
      "n_3 = 1862 r/min\n",
      "================\n"
     ]
    }
   ],
   "source": [
    "Ea_3 = Ea_2\n",
    "Ea0_3 = 212.0 # [V]\n",
    "n_3 = (Ea_3 / Ea0_3) * n_0\n",
    "print('''\n",
    "n_3 = {:.0f} r/min\n",
    "================'''.format(n_3))"
   ]
  },
  {
   "cell_type": "markdown",
   "metadata": {},
   "source": [
    "Note that $R_\\text{adj}$ has increased, and as a result the speed of the motor $n$ increased."
   ]
  },
  {
   "cell_type": "markdown",
   "metadata": {},
   "source": [
    "## Problem 8-4"
   ]
  },
  {
   "cell_type": "markdown",
   "metadata": {},
   "source": [
    "### Description"
   ]
  },
  {
   "cell_type": "markdown",
   "metadata": {},
   "source": [
    "Assume that the motor is operating at full load and that the variable resistor $R_\\text{adj}$ is again $175\\,\\Omega$ . \n",
    "\n",
    "If the armature reaction is $1000\\, A\\cdot t$ at full load,\n",
    "\n",
    "* What is the speed of the motor? \n",
    "* How does it compare to the result for [Problem 8-2](#Problem-8-2)?"
   ]
  },
  {
   "cell_type": "code",
   "execution_count": 13,
   "metadata": {},
   "outputs": [],
   "source": [
    "Radj_4 = 175.0 # [Ohm]\n",
    "AR_4   = 1e3   # [A*turns]"
   ]
  },
  {
   "cell_type": "markdown",
   "metadata": {},
   "source": [
    "### SOLUTION"
   ]
  },
  {
   "cell_type": "markdown",
   "metadata": {},
   "source": [
    "The field current is again 0.96 A, and the motor is again at full load conditions. However, this\n",
    "time there is an armature reaction of $1200 A \\cdot turns$, and the effective field current is:\n",
    "\n",
    "$$I_F^* = I_F - \\frac{AR}{N_F}$$"
   ]
  },
  {
   "cell_type": "code",
   "execution_count": 14,
   "metadata": {},
   "outputs": [
    {
     "data": {
      "text/plain": [
       "0.5896"
      ]
     },
     "execution_count": 14,
     "metadata": {},
     "output_type": "execute_result"
    }
   ],
   "source": [
    "If_4 = If_1\n",
    "If_4_ = If_4 - AR_4/Nf\n",
    "If_4_ # [A]"
   ]
  },
  {
   "cell_type": "markdown",
   "metadata": {},
   "source": [
    "From Figure P8-1, this field current would produce an internal generated voltage $E_{A0}$ of 185 V at a speed $n_0$ of"
   ]
  },
  {
   "cell_type": "code",
   "execution_count": 15,
   "metadata": {},
   "outputs": [
    {
     "data": {
      "text/plain": [
       "1800"
      ]
     },
     "execution_count": 15,
     "metadata": {},
     "output_type": "execute_result"
    }
   ],
   "source": [
    "n_0"
   ]
  },
  {
   "cell_type": "markdown",
   "metadata": {},
   "source": [
    "r/min. The actual internal generated voltage $E_A$ at these conditions is:\n",
    "\n",
    "$$E_A = V_T - I_A R_A$$"
   ]
  },
  {
   "cell_type": "code",
   "execution_count": 16,
   "metadata": {},
   "outputs": [
    {
     "data": {
      "text/plain": [
       "219.3"
      ]
     },
     "execution_count": 16,
     "metadata": {},
     "output_type": "execute_result"
    }
   ],
   "source": [
    "Eao_4 = 185.0 # [r/min]\n",
    "Ea_4 = Vt - Ia*Ra\n",
    "Ea_4 # [V]"
   ]
  },
  {
   "cell_type": "markdown",
   "metadata": {},
   "source": [
    "Therefore, the speed n with a voltage of 240 V would be:"
   ]
  },
  {
   "cell_type": "code",
   "execution_count": 17,
   "metadata": {},
   "outputs": [
    {
     "name": "stdout",
     "output_type": "stream",
     "text": [
      "\n",
      "n_4 = 2133.6 r/min\n",
      "==================\n"
     ]
    }
   ],
   "source": [
    "n_4 = (Ea_4 / Eao_4) * n_0\n",
    "print('''\n",
    "n_4 = {:.1f} r/min\n",
    "=================='''.format(n_4))"
   ]
  },
  {
   "cell_type": "markdown",
   "metadata": {},
   "source": [
    "If all other conditions are the same, the motor with armature reaction runs at a higher speed than the motor\n",
    "without armature reaction."
   ]
  },
  {
   "cell_type": "markdown",
   "metadata": {},
   "source": [
    "## Problem 8-5"
   ]
  },
  {
   "cell_type": "markdown",
   "metadata": {},
   "source": [
    "### Description"
   ]
  },
  {
   "cell_type": "markdown",
   "metadata": {},
   "source": [
    "If $R_\\text{adj}$ can be adjusted from 100 to 400 $\\Omega$ \n",
    "\n",
    "* What are the maximum and minimum no-load speeds possible with this motor?"
   ]
  },
  {
   "cell_type": "code",
   "execution_count": 18,
   "metadata": {},
   "outputs": [],
   "source": [
    "Radj_5_min = 100 # [Ohm]\n",
    "Radj_5_max = 400 # [Ohm]"
   ]
  },
  {
   "cell_type": "markdown",
   "metadata": {},
   "source": [
    "### SOLUTION"
   ]
  },
  {
   "cell_type": "markdown",
   "metadata": {},
   "source": [
    "The minimum speed will occur when $R_\\text{adj} = 100 \\Omega$ , and the maximum speed will occur when $R_\\text{adj} = 400 \\Omega$ . The field current when $R_\\text{adj} = 100 \\Omega$ is:"
   ]
  },
  {
   "cell_type": "code",
   "execution_count": 19,
   "metadata": {},
   "outputs": [
    {
     "data": {
      "text/plain": [
       "1.371"
      ]
     },
     "execution_count": 19,
     "metadata": {},
     "output_type": "execute_result"
    }
   ],
   "source": [
    "If_5_max = Vt / (Radj_5_min + Rf)\n",
    "If_5_max # [A]"
   ]
  },
  {
   "cell_type": "markdown",
   "metadata": {},
   "source": [
    "From Figure P8-1, this field current would produce an internal generated voltage $E_{A0}$ of 271.5 V at a speed "
   ]
  },
  {
   "cell_type": "code",
   "execution_count": 20,
   "metadata": {},
   "outputs": [
    {
     "data": {
      "text/plain": [
       "1800"
      ]
     },
     "execution_count": 20,
     "metadata": {},
     "output_type": "execute_result"
    }
   ],
   "source": [
    "n_0"
   ]
  },
  {
   "cell_type": "markdown",
   "metadata": {},
   "source": [
    "r/min. Therefore, the speed n with a voltage of"
   ]
  },
  {
   "cell_type": "code",
   "execution_count": 21,
   "metadata": {},
   "outputs": [
    {
     "data": {
      "text/plain": [
       "240"
      ]
     },
     "execution_count": 21,
     "metadata": {},
     "output_type": "execute_result"
    }
   ],
   "source": [
    "Vt"
   ]
  },
  {
   "cell_type": "markdown",
   "metadata": {},
   "source": [
    "Volts would be:"
   ]
  },
  {
   "cell_type": "code",
   "execution_count": 22,
   "metadata": {},
   "outputs": [
    {
     "name": "stdout",
     "output_type": "stream",
     "text": [
      "\n",
      "n_5_min = 1591.2 r/min\n",
      "======================\n"
     ]
    }
   ],
   "source": [
    "Eao_5_max = 271.5 # [V]\n",
    "n_5_min = (Vt/Eao_5_max)*n_0\n",
    "print('''\n",
    "n_5_min = {:.1f} r/min\n",
    "======================'''.format(n_5_min))"
   ]
  },
  {
   "cell_type": "markdown",
   "metadata": {},
   "source": [
    "The field current when $R_\\text{adj} = 400\\,\\Omega$ is:"
   ]
  },
  {
   "cell_type": "code",
   "execution_count": 23,
   "metadata": {},
   "outputs": [
    {
     "data": {
      "text/plain": [
       "0.5053"
      ]
     },
     "execution_count": 23,
     "metadata": {},
     "output_type": "execute_result"
    }
   ],
   "source": [
    "If_5_min = Vt / (Radj_5_max + Rf)\n",
    "If_5_min # [A]"
   ]
  },
  {
   "cell_type": "markdown",
   "metadata": {},
   "source": [
    "From Figure P8-1, this field current would produce an internal generated voltage $E_{A_0}$ of 167 V at a speed "
   ]
  },
  {
   "cell_type": "code",
   "execution_count": 24,
   "metadata": {},
   "outputs": [
    {
     "data": {
      "text/plain": [
       "1800"
      ]
     },
     "execution_count": 24,
     "metadata": {},
     "output_type": "execute_result"
    }
   ],
   "source": [
    "n_0"
   ]
  },
  {
   "cell_type": "markdown",
   "metadata": {},
   "source": [
    "r/min. Therefore, the speed n with a voltage of"
   ]
  },
  {
   "cell_type": "code",
   "execution_count": 25,
   "metadata": {},
   "outputs": [
    {
     "data": {
      "text/plain": [
       "240"
      ]
     },
     "execution_count": 25,
     "metadata": {},
     "output_type": "execute_result"
    }
   ],
   "source": [
    "Vt"
   ]
  },
  {
   "cell_type": "markdown",
   "metadata": {},
   "source": [
    "Volts would be:"
   ]
  },
  {
   "cell_type": "code",
   "execution_count": 26,
   "metadata": {},
   "outputs": [
    {
     "name": "stdout",
     "output_type": "stream",
     "text": [
      "\n",
      "n_5_max = 2586.8 r/min\n",
      "======================\n"
     ]
    }
   ],
   "source": [
    "Eao_5_min = 167.0 # [V]\n",
    "n_5_max = (Vt/Eao_5_min)*n_0\n",
    "print('''\n",
    "n_5_max = {:.1f} r/min\n",
    "======================'''.format(n_5_max))"
   ]
  },
  {
   "cell_type": "markdown",
   "metadata": {},
   "source": [
    "## Problem 8-6"
   ]
  },
  {
   "cell_type": "markdown",
   "metadata": {},
   "source": [
    "### Description"
   ]
  },
  {
   "cell_type": "markdown",
   "metadata": {},
   "source": [
    " * What is the starting current of this machine if it is started by connecting it directly to the power supply $V_T$ ?\n",
    " * How does this starting current compare to the full-load current of the motor?"
   ]
  },
  {
   "cell_type": "markdown",
   "metadata": {},
   "source": [
    "### SOLUTION"
   ]
  },
  {
   "cell_type": "markdown",
   "metadata": {},
   "source": [
    "The starting current of this machine (ignoring the small field current) is:"
   ]
  },
  {
   "cell_type": "code",
   "execution_count": 27,
   "metadata": {},
   "outputs": [
    {
     "name": "stdout",
     "output_type": "stream",
     "text": [
      "\n",
      "Il_start_6 = 1263.2 A\n",
      "=====================\n"
     ]
    }
   ],
   "source": [
    "Il_start_6 = Vt / Ra\n",
    "print('''\n",
    "Il_start_6 = {:.1f} A\n",
    "====================='''.format(Il_start_6))"
   ]
  },
  {
   "cell_type": "markdown",
   "metadata": {},
   "source": [
    "The rated current is "
   ]
  },
  {
   "cell_type": "code",
   "execution_count": 28,
   "metadata": {},
   "outputs": [
    {
     "data": {
      "text/plain": [
       "110"
      ]
     },
     "execution_count": 28,
     "metadata": {},
     "output_type": "execute_result"
    }
   ],
   "source": [
    "Il_rated"
   ]
  },
  {
   "cell_type": "markdown",
   "metadata": {},
   "source": [
    "Amperes, so the starting current is"
   ]
  },
  {
   "cell_type": "code",
   "execution_count": 29,
   "metadata": {},
   "outputs": [
    {
     "data": {
      "text/plain": [
       "11.48"
      ]
     },
     "execution_count": 29,
     "metadata": {},
     "output_type": "execute_result"
    }
   ],
   "source": [
    "Il_start_6/Il_rated"
   ]
  },
  {
   "cell_type": "markdown",
   "metadata": {},
   "source": [
    "times greater than the full-load current. **This much current is extremely likely to damage the motor.**"
   ]
  },
  {
   "cell_type": "markdown",
   "metadata": {},
   "source": [
    "## Problem 8-7"
   ]
  },
  {
   "cell_type": "markdown",
   "metadata": {},
   "source": [
    "### Description"
   ]
  },
  {
   "cell_type": "markdown",
   "metadata": {},
   "source": [
    "Plot the torque-speed characteristic of this motor assuming no armature reaction, and again assuming a full-load armature reaction of $1200\\, A \\cdot turns$. (Assume that the armature reaction increases linearly with increases in armature current.)"
   ]
  },
  {
   "cell_type": "markdown",
   "metadata": {},
   "source": [
    "### SOLUTION"
   ]
  },
  {
   "cell_type": "markdown",
   "metadata": {},
   "source": [
    "This problem is best solved with a script, since it involves calculating the torque-speed\n",
    "values at many points. "
   ]
  },
  {
   "cell_type": "markdown",
   "metadata": {},
   "source": [
    "Get the magnetization curve. Note that this curve is defined for a speed of 1200 r/min."
   ]
  },
  {
   "cell_type": "code",
   "execution_count": 30,
   "metadata": {},
   "outputs": [],
   "source": [
    "# Load the magnetization curve data\n",
    "import pandas as pd\n",
    "# The data file is stored in the repository\n",
    "fileUrl = 'data/p81_mag.dat'\n",
    "data = pd.read_csv(fileUrl,     # the address where to download the datafile from\n",
    "                   sep=' ',     # our data source uses a blank space as separation\n",
    "                   comment='%', # ignore lines starting with a \"%\" \n",
    "                   skipinitialspace = True,  # ignore intital spaces\n",
    "                   header=None, # we don't have a header line defined...\n",
    "                   names=['If_values', 'Ea_values'] # ...instead we define the names here\n",
    "                   )"
   ]
  },
  {
   "cell_type": "markdown",
   "metadata": {},
   "source": [
    "First, initialize the values needed in this program."
   ]
  },
  {
   "cell_type": "code",
   "execution_count": 31,
   "metadata": {},
   "outputs": [],
   "source": [
    "Radj_7 = 175.0 # [Ohm]\n",
    "Il_7 = linspace(0,110,111)\n",
    "f_ar0 = 1000.0 # [At/m]"
   ]
  },
  {
   "cell_type": "markdown",
   "metadata": {},
   "source": [
    "Calculate the armature current for each load"
   ]
  },
  {
   "cell_type": "code",
   "execution_count": 32,
   "metadata": {},
   "outputs": [],
   "source": [
    "Ia_7 = Il_7 - Vt / (Rf + Radj_7)"
   ]
  },
  {
   "cell_type": "markdown",
   "metadata": {},
   "source": [
    "Now calculate the internal generated voltage for each armature current."
   ]
  },
  {
   "cell_type": "code",
   "execution_count": 33,
   "metadata": {},
   "outputs": [],
   "source": [
    "Ea_7 = Vt - Ia_7*Ra"
   ]
  },
  {
   "cell_type": "markdown",
   "metadata": {},
   "source": [
    "Calculate the armature reaction MMF for each armature current."
   ]
  },
  {
   "cell_type": "code",
   "execution_count": 34,
   "metadata": {},
   "outputs": [],
   "source": [
    "f_ar_7 = (Ia_7 / 55) * f_ar0"
   ]
  },
  {
   "cell_type": "markdown",
   "metadata": {},
   "source": [
    "Calculate the effective field current with and without armature reaction. Ther term If_ar is the field current with armature reaction, and the term If_noar is the field current without armature reaction."
   ]
  },
  {
   "cell_type": "code",
   "execution_count": 35,
   "metadata": {},
   "outputs": [],
   "source": [
    "If_ar = Vt / (Rf + Radj_7) - f_ar_7 / Nf;\n",
    "If_noar = Vt / (Rf + Radj_7);"
   ]
  },
  {
   "cell_type": "markdown",
   "metadata": {},
   "source": [
    "Calculate the resulting internal generated voltage at $n_0$ by interpolating the motor's magnetization curve."
   ]
  },
  {
   "cell_type": "code",
   "execution_count": 36,
   "metadata": {},
   "outputs": [],
   "source": [
    "Ea0_ar_7 = interp(If_ar, data['If_values'], data['Ea_values'])\n",
    "Ea0_noar_7 = interp(If_noar, data['If_values'], data['Ea_values'])"
   ]
  },
  {
   "cell_type": "markdown",
   "metadata": {},
   "source": [
    "Calculate the resulting speed from Equation (8-13)"
   ]
  },
  {
   "cell_type": "code",
   "execution_count": 37,
   "metadata": {},
   "outputs": [],
   "source": [
    "n_ar_7 = ( Ea_7 / Ea0_ar_7 ) * n_0\n",
    "n_noar_7 = ( Ea_7 / Ea0_noar_7 ) * n_0"
   ]
  },
  {
   "cell_type": "markdown",
   "metadata": {},
   "source": [
    "Calculate the induced torque corresponding to each speed from Equation (8-10)."
   ]
  },
  {
   "cell_type": "code",
   "execution_count": 38,
   "metadata": {},
   "outputs": [],
   "source": [
    "tau_ind_ar_7 = Ea_7 * Ia_7 / (n_ar_7 * 2 * pi / 60);\n",
    "tau_ind_noar_7 = Ea_7 * Ia_7 / (n_noar_7 * 2 * pi / 60);"
   ]
  },
  {
   "cell_type": "markdown",
   "metadata": {},
   "source": [
    "Plot the torque-speed curves"
   ]
  },
  {
   "cell_type": "code",
   "execution_count": 39,
   "metadata": {},
   "outputs": [
    {
     "data": {
      "image/svg+xml": [
       "<?xml version=\"1.0\" encoding=\"utf-8\" standalone=\"no\"?>\n",
       "<!DOCTYPE svg PUBLIC \"-//W3C//DTD SVG 1.1//EN\"\n",
       "  \"http://www.w3.org/Graphics/SVG/1.1/DTD/svg11.dtd\">\n",
       "<!-- Created with matplotlib (http://matplotlib.org/) -->\n",
       "<svg height=\"280pt\" version=\"1.1\" viewBox=\"0 0 402 280\" width=\"402pt\" xmlns=\"http://www.w3.org/2000/svg\" xmlns:xlink=\"http://www.w3.org/1999/xlink\">\n",
       " <defs>\n",
       "  <style type=\"text/css\">\n",
       "*{stroke-linecap:butt;stroke-linejoin:round;stroke-miterlimit:100000;}\n",
       "  </style>\n",
       " </defs>\n",
       " <g id=\"figure_1\">\n",
       "  <g id=\"patch_1\">\n",
       "   <path d=\"M 0 280.074375 \n",
       "L 402.871875 280.074375 \n",
       "L 402.871875 0 \n",
       "L 0 0 \n",
       "L 0 280.074375 \n",
       "z\n",
       "\" style=\"fill:none;\"/>\n",
       "  </g>\n",
       "  <g id=\"axes_1\">\n",
       "   <g id=\"patch_2\">\n",
       "    <path d=\"M 51.328125 244.518125 \n",
       "L 386.128125 244.518125 \n",
       "L 386.128125 21.318125 \n",
       "L 51.328125 21.318125 \n",
       "z\n",
       "\" style=\"fill:#ffffff;\"/>\n",
       "   </g>\n",
       "   <g id=\"line2d_1\">\n",
       "    <path clip-path=\"url(#p11d5ffd7f3)\" d=\"M 90.610404 222.620269 \n",
       "L 93.285113 222.725875 \n",
       "L 95.959823 222.83148 \n",
       "L 98.634533 222.937086 \n",
       "L 101.309243 223.042691 \n",
       "L 103.983953 223.148297 \n",
       "L 106.658663 223.253903 \n",
       "L 109.333372 223.359508 \n",
       "L 112.008082 223.465114 \n",
       "L 114.682792 223.570719 \n",
       "L 117.357502 223.676325 \n",
       "L 120.032212 223.78193 \n",
       "L 122.706922 223.887536 \n",
       "L 125.381631 223.993141 \n",
       "L 128.056341 224.098747 \n",
       "L 130.731051 224.204352 \n",
       "L 133.405761 224.309958 \n",
       "L 136.080471 224.415563 \n",
       "L 138.755181 224.521169 \n",
       "L 141.42989 224.626775 \n",
       "L 144.1046 224.73238 \n",
       "L 146.77931 224.837986 \n",
       "L 149.45402 224.943591 \n",
       "L 152.12873 225.049197 \n",
       "L 154.80344 225.154802 \n",
       "L 157.478149 225.260408 \n",
       "L 160.152859 225.366013 \n",
       "L 162.827569 225.471619 \n",
       "L 165.502279 225.577224 \n",
       "L 168.176989 225.68283 \n",
       "L 170.851699 225.788436 \n",
       "L 173.526408 225.894041 \n",
       "L 176.201118 225.999647 \n",
       "L 178.875828 226.105252 \n",
       "L 181.550538 226.210858 \n",
       "L 184.225248 226.316463 \n",
       "L 186.899958 226.422069 \n",
       "L 189.574667 226.527674 \n",
       "L 192.249377 226.63328 \n",
       "L 194.924087 226.738885 \n",
       "L 197.598797 226.844491 \n",
       "L 200.273507 226.950096 \n",
       "L 202.948217 227.055702 \n",
       "L 205.622926 227.161308 \n",
       "L 208.297636 227.266913 \n",
       "L 210.972346 227.372519 \n",
       "L 213.647056 227.478124 \n",
       "L 216.321766 227.58373 \n",
       "L 218.996476 227.689335 \n",
       "L 221.671185 227.794941 \n",
       "L 224.345895 227.900546 \n",
       "L 227.020605 228.006152 \n",
       "L 229.695315 228.111757 \n",
       "L 232.370025 228.217363 \n",
       "L 235.044735 228.322969 \n",
       "L 237.719444 228.428574 \n",
       "L 240.394154 228.53418 \n",
       "L 243.068864 228.639785 \n",
       "L 245.743574 228.745391 \n",
       "L 248.418284 228.850996 \n",
       "L 251.092994 228.956602 \n",
       "L 253.767703 229.062207 \n",
       "L 256.442413 229.167813 \n",
       "L 259.117123 229.273418 \n",
       "L 261.791833 229.379024 \n",
       "L 264.466543 229.48463 \n",
       "L 267.141253 229.590235 \n",
       "L 269.815962 229.695841 \n",
       "L 272.490672 229.801446 \n",
       "L 275.165382 229.907052 \n",
       "L 277.840092 230.012657 \n",
       "L 280.514802 230.118263 \n",
       "L 283.189512 230.223868 \n",
       "L 285.864221 230.329474 \n",
       "L 288.538931 230.435079 \n",
       "L 291.213641 230.540685 \n",
       "L 293.888351 230.64629 \n",
       "L 296.563061 230.751896 \n",
       "L 299.237771 230.857502 \n",
       "L 301.91248 230.963107 \n",
       "L 304.58719 231.068713 \n",
       "L 307.2619 231.174318 \n",
       "L 309.93661 231.279924 \n",
       "L 312.61132 231.385529 \n",
       "L 315.28603 231.491135 \n",
       "L 317.960739 231.59674 \n",
       "L 320.635449 231.702346 \n",
       "L 323.310159 231.807951 \n",
       "L 325.984869 231.913557 \n",
       "L 328.659579 232.019163 \n",
       "L 331.334289 232.124768 \n",
       "L 334.008998 232.230374 \n",
       "L 336.683708 232.335979 \n",
       "L 339.358418 232.441585 \n",
       "L 342.033128 232.54719 \n",
       "L 344.707838 232.652796 \n",
       "L 347.382548 232.758401 \n",
       "L 350.057257 232.864007 \n",
       "L 352.731967 232.969612 \n",
       "L 355.406677 233.075218 \n",
       "L 358.081387 233.180823 \n",
       "L 360.756097 233.286429 \n",
       "L 363.430807 233.392035 \n",
       "L 366.105516 233.49764 \n",
       "L 368.780226 233.603246 \n",
       "L 371.454936 233.708851 \n",
       "L 374.129646 233.814457 \n",
       "L 376.804356 233.920062 \n",
       "L 379.479066 234.025668 \n",
       "L 382.153775 234.131273 \n",
       "L 384.828485 234.236879 \n",
       "\" style=\"fill:none;stroke:#0000ff;stroke-linecap:square;\"/>\n",
       "   </g>\n",
       "   <g id=\"line2d_2\">\n",
       "    <path clip-path=\"url(#p11d5ffd7f3)\" d=\"M 90.603374 222.984727 \n",
       "L 93.2851 222.709452 \n",
       "L 95.95092 222.403504 \n",
       "L 98.600276 222.095661 \n",
       "L 101.23317 221.785905 \n",
       "L 103.8496 221.474219 \n",
       "L 106.449567 221.160584 \n",
       "L 109.032679 220.841645 \n",
       "L 111.595098 220.490485 \n",
       "L 114.139758 220.136932 \n",
       "L 116.66666 219.780964 \n",
       "L 119.175805 219.422554 \n",
       "L 121.667191 219.061678 \n",
       "L 124.139492 218.692416 \n",
       "L 126.586264 218.289424 \n",
       "L 129.0139 217.883411 \n",
       "L 131.4224 217.474342 \n",
       "L 133.811763 217.062184 \n",
       "L 136.18199 216.6469 \n",
       "L 138.530186 216.219525 \n",
       "L 140.848091 215.756941 \n",
       "L 143.145401 215.290536 \n",
       "L 145.422116 214.820262 \n",
       "L 147.678236 214.346072 \n",
       "L 149.91376 213.867916 \n",
       "L 152.123518 213.373221 \n",
       "L 154.298398 212.841804 \n",
       "L 156.451147 212.305546 \n",
       "L 158.581764 211.764381 \n",
       "L 160.690249 211.218242 \n",
       "L 162.776603 210.66706 \n",
       "L 164.832609 210.094024 \n",
       "L 166.849458 209.482722 \n",
       "L 168.842566 208.865275 \n",
       "L 170.811934 208.241589 \n",
       "L 172.757561 207.61157 \n",
       "L 174.679447 206.975121 \n",
       "L 176.56551 206.310437 \n",
       "L 178.408534 205.605814 \n",
       "L 180.226141 204.893366 \n",
       "L 182.01833 204.17296 \n",
       "L 183.785103 203.444462 \n",
       "L 185.526459 202.707735 \n",
       "L 187.225597 201.9351 \n",
       "L 188.878324 201.120658 \n",
       "L 190.503898 200.296209 \n",
       "L 192.102316 199.461566 \n",
       "L 193.67358 198.616541 \n",
       "L 195.21769 197.760937 \n",
       "L 196.712273 196.86015 \n",
       "L 198.157689 195.915384 \n",
       "L 199.574159 194.957756 \n",
       "L 200.961684 193.987001 \n",
       "L 202.320263 193.002849 \n",
       "L 203.649897 192.005019 \n",
       "L 204.921794 190.950681 \n",
       "L 206.142446 189.849682 \n",
       "L 207.332316 188.732044 \n",
       "L 208.491402 187.597389 \n",
       "L 209.619706 186.445324 \n",
       "L 210.717227 185.275445 \n",
       "L 211.747973 184.035116 \n",
       "L 212.726154 182.744691 \n",
       "L 213.671679 181.432569 \n",
       "L 214.584548 180.098198 \n",
       "L 215.464761 178.741007 \n",
       "L 216.312317 177.360405 \n",
       "L 217.083304 175.89193 \n",
       "L 217.801199 174.368753 \n",
       "L 218.484538 172.816995 \n",
       "L 219.133321 171.235845 \n",
       "L 219.747547 169.62446 \n",
       "L 220.327218 167.981964 \n",
       "L 220.819893 166.229467 \n",
       "L 221.259767 164.415858 \n",
       "L 221.663169 162.564133 \n",
       "L 222.030099 160.673077 \n",
       "L 222.360558 158.741424 \n",
       "L 222.654544 156.767851 \n",
       "L 222.850672 154.655652 \n",
       "L 222.995107 152.473125 \n",
       "L 223.101152 150.238979 \n",
       "L 223.168806 147.951362 \n",
       "L 223.19807 145.608331 \n",
       "L 223.188944 143.207847 \n",
       "L 223.070843 140.630738 \n",
       "L 222.902932 137.969562 \n",
       "L 222.694722 135.237143 \n",
       "L 222.446213 132.430581 \n",
       "L 222.157404 129.546817 \n",
       "L 221.828297 126.58262 \n",
       "L 221.379107 123.389834 \n",
       "L 220.882696 120.091776 \n",
       "L 220.3441 116.69302 \n",
       "L 219.763321 113.188885 \n",
       "L 219.140356 109.574392 \n",
       "L 218.475208 105.844243 \n",
       "L 217.679227 101.811854 \n",
       "L 216.839216 97.640139 \n",
       "L 215.955174 93.32175 \n",
       "L 215.027101 88.848812 \n",
       "L 214.054999 84.212879 \n",
       "L 213.033436 79.39234 \n",
       "L 211.881836 74.185161 \n",
       "L 210.684414 68.768754 \n",
       "L 209.44117 63.130252 \n",
       "L 208.152105 57.255708 \n",
       "L 206.817219 51.129984 \n",
       "L 205.425473 44.705998 \n",
       "L 203.906001 37.758998 \n",
       "L 202.338988 30.482103 \n",
       "\" style=\"fill:none;stroke:#008000;stroke-linecap:square;\"/>\n",
       "   </g>\n",
       "   <g id=\"patch_3\">\n",
       "    <path d=\"M 386.128125 244.518125 \n",
       "L 386.128125 21.318125 \n",
       "\" style=\"fill:none;stroke:#000000;stroke-linecap:square;stroke-linejoin:miter;\"/>\n",
       "   </g>\n",
       "   <g id=\"patch_4\">\n",
       "    <path d=\"M 51.328125 244.518125 \n",
       "L 51.328125 21.318125 \n",
       "\" style=\"fill:none;stroke:#000000;stroke-linecap:square;stroke-linejoin:miter;\"/>\n",
       "   </g>\n",
       "   <g id=\"patch_5\">\n",
       "    <path d=\"M 51.328125 244.518125 \n",
       "L 386.128125 244.518125 \n",
       "\" style=\"fill:none;stroke:#000000;stroke-linecap:square;stroke-linejoin:miter;\"/>\n",
       "   </g>\n",
       "   <g id=\"patch_6\">\n",
       "    <path d=\"M 51.328125 21.318125 \n",
       "L 386.128125 21.318125 \n",
       "\" style=\"fill:none;stroke:#000000;stroke-linecap:square;stroke-linejoin:miter;\"/>\n",
       "   </g>\n",
       "   <g id=\"matplotlib.axis_1\">\n",
       "    <g id=\"xtick_1\">\n",
       "     <g id=\"line2d_3\">\n",
       "      <path clip-path=\"url(#p11d5ffd7f3)\" d=\"M 51.328125 244.518125 \n",
       "L 51.328125 21.318125 \n",
       "\" style=\"fill:none;stroke:#000000;stroke-dasharray:1.000000,3.000000;stroke-dashoffset:0.0;stroke-width:0.5;\"/>\n",
       "     </g>\n",
       "     <g id=\"line2d_4\">\n",
       "      <defs>\n",
       "       <path d=\"M 0 0 \n",
       "L 0 -4 \n",
       "\" id=\"mb059299dff\" style=\"stroke:#000000;stroke-width:0.5;\"/>\n",
       "      </defs>\n",
       "      <g>\n",
       "       <use style=\"stroke:#000000;stroke-width:0.5;\" x=\"51.328125\" xlink:href=\"#mb059299dff\" y=\"244.518125\"/>\n",
       "      </g>\n",
       "     </g>\n",
       "     <g id=\"line2d_5\">\n",
       "      <defs>\n",
       "       <path d=\"M 0 0 \n",
       "L 0 4 \n",
       "\" id=\"mf73780327a\" style=\"stroke:#000000;stroke-width:0.5;\"/>\n",
       "      </defs>\n",
       "      <g>\n",
       "       <use style=\"stroke:#000000;stroke-width:0.5;\" x=\"51.328125\" xlink:href=\"#mf73780327a\" y=\"21.318125\"/>\n",
       "      </g>\n",
       "     </g>\n",
       "     <g id=\"text_1\">\n",
       "      <!-- −20 -->\n",
       "      <defs>\n",
       "       <path d=\"M 31.78125 66.40625 \n",
       "Q 24.171875 66.40625 20.328125 58.90625 \n",
       "Q 16.5 51.421875 16.5 36.375 \n",
       "Q 16.5 21.390625 20.328125 13.890625 \n",
       "Q 24.171875 6.390625 31.78125 6.390625 \n",
       "Q 39.453125 6.390625 43.28125 13.890625 \n",
       "Q 47.125 21.390625 47.125 36.375 \n",
       "Q 47.125 51.421875 43.28125 58.90625 \n",
       "Q 39.453125 66.40625 31.78125 66.40625 \n",
       "M 31.78125 74.21875 \n",
       "Q 44.046875 74.21875 50.515625 64.515625 \n",
       "Q 56.984375 54.828125 56.984375 36.375 \n",
       "Q 56.984375 17.96875 50.515625 8.265625 \n",
       "Q 44.046875 -1.421875 31.78125 -1.421875 \n",
       "Q 19.53125 -1.421875 13.0625 8.265625 \n",
       "Q 6.59375 17.96875 6.59375 36.375 \n",
       "Q 6.59375 54.828125 13.0625 64.515625 \n",
       "Q 19.53125 74.21875 31.78125 74.21875 \n",
       "\" id=\"BitstreamVeraSans-Roman-30\"/>\n",
       "       <path d=\"M 19.1875 8.296875 \n",
       "L 53.609375 8.296875 \n",
       "L 53.609375 0 \n",
       "L 7.328125 0 \n",
       "L 7.328125 8.296875 \n",
       "Q 12.9375 14.109375 22.625 23.890625 \n",
       "Q 32.328125 33.6875 34.8125 36.53125 \n",
       "Q 39.546875 41.84375 41.421875 45.53125 \n",
       "Q 43.3125 49.21875 43.3125 52.78125 \n",
       "Q 43.3125 58.59375 39.234375 62.25 \n",
       "Q 35.15625 65.921875 28.609375 65.921875 \n",
       "Q 23.96875 65.921875 18.8125 64.3125 \n",
       "Q 13.671875 62.703125 7.8125 59.421875 \n",
       "L 7.8125 69.390625 \n",
       "Q 13.765625 71.78125 18.9375 73 \n",
       "Q 24.125 74.21875 28.421875 74.21875 \n",
       "Q 39.75 74.21875 46.484375 68.546875 \n",
       "Q 53.21875 62.890625 53.21875 53.421875 \n",
       "Q 53.21875 48.921875 51.53125 44.890625 \n",
       "Q 49.859375 40.875 45.40625 35.40625 \n",
       "Q 44.1875 33.984375 37.640625 27.21875 \n",
       "Q 31.109375 20.453125 19.1875 8.296875 \n",
       "\" id=\"BitstreamVeraSans-Roman-32\"/>\n",
       "       <path d=\"M 10.59375 35.5 \n",
       "L 73.1875 35.5 \n",
       "L 73.1875 27.203125 \n",
       "L 10.59375 27.203125 \n",
       "z\n",
       "\" id=\"BitstreamVeraSans-Roman-2212\"/>\n",
       "      </defs>\n",
       "      <g transform=\"translate(40.77578125 256.1165625)scale(0.1 -0.1)\">\n",
       "       <use xlink:href=\"#BitstreamVeraSans-Roman-2212\"/>\n",
       "       <use x=\"83.7890625\" xlink:href=\"#BitstreamVeraSans-Roman-32\"/>\n",
       "       <use x=\"147.412109375\" xlink:href=\"#BitstreamVeraSans-Roman-30\"/>\n",
       "      </g>\n",
       "     </g>\n",
       "    </g>\n",
       "    <g id=\"xtick_2\">\n",
       "     <g id=\"line2d_6\">\n",
       "      <path clip-path=\"url(#p11d5ffd7f3)\" d=\"M 93.178125 244.518125 \n",
       "L 93.178125 21.318125 \n",
       "\" style=\"fill:none;stroke:#000000;stroke-dasharray:1.000000,3.000000;stroke-dashoffset:0.0;stroke-width:0.5;\"/>\n",
       "     </g>\n",
       "     <g id=\"line2d_7\">\n",
       "      <g>\n",
       "       <use style=\"stroke:#000000;stroke-width:0.5;\" x=\"93.178125\" xlink:href=\"#mb059299dff\" y=\"244.518125\"/>\n",
       "      </g>\n",
       "     </g>\n",
       "     <g id=\"line2d_8\">\n",
       "      <g>\n",
       "       <use style=\"stroke:#000000;stroke-width:0.5;\" x=\"93.178125\" xlink:href=\"#mf73780327a\" y=\"21.318125\"/>\n",
       "      </g>\n",
       "     </g>\n",
       "     <g id=\"text_2\">\n",
       "      <!-- 0 -->\n",
       "      <g transform=\"translate(89.996875 256.1165625)scale(0.1 -0.1)\">\n",
       "       <use xlink:href=\"#BitstreamVeraSans-Roman-30\"/>\n",
       "      </g>\n",
       "     </g>\n",
       "    </g>\n",
       "    <g id=\"xtick_3\">\n",
       "     <g id=\"line2d_9\">\n",
       "      <path clip-path=\"url(#p11d5ffd7f3)\" d=\"M 135.028125 244.518125 \n",
       "L 135.028125 21.318125 \n",
       "\" style=\"fill:none;stroke:#000000;stroke-dasharray:1.000000,3.000000;stroke-dashoffset:0.0;stroke-width:0.5;\"/>\n",
       "     </g>\n",
       "     <g id=\"line2d_10\">\n",
       "      <g>\n",
       "       <use style=\"stroke:#000000;stroke-width:0.5;\" x=\"135.028125\" xlink:href=\"#mb059299dff\" y=\"244.518125\"/>\n",
       "      </g>\n",
       "     </g>\n",
       "     <g id=\"line2d_11\">\n",
       "      <g>\n",
       "       <use style=\"stroke:#000000;stroke-width:0.5;\" x=\"135.028125\" xlink:href=\"#mf73780327a\" y=\"21.318125\"/>\n",
       "      </g>\n",
       "     </g>\n",
       "     <g id=\"text_3\">\n",
       "      <!-- 20 -->\n",
       "      <g transform=\"translate(128.665625 256.1165625)scale(0.1 -0.1)\">\n",
       "       <use xlink:href=\"#BitstreamVeraSans-Roman-32\"/>\n",
       "       <use x=\"63.623046875\" xlink:href=\"#BitstreamVeraSans-Roman-30\"/>\n",
       "      </g>\n",
       "     </g>\n",
       "    </g>\n",
       "    <g id=\"xtick_4\">\n",
       "     <g id=\"line2d_12\">\n",
       "      <path clip-path=\"url(#p11d5ffd7f3)\" d=\"M 176.878125 244.518125 \n",
       "L 176.878125 21.318125 \n",
       "\" style=\"fill:none;stroke:#000000;stroke-dasharray:1.000000,3.000000;stroke-dashoffset:0.0;stroke-width:0.5;\"/>\n",
       "     </g>\n",
       "     <g id=\"line2d_13\">\n",
       "      <g>\n",
       "       <use style=\"stroke:#000000;stroke-width:0.5;\" x=\"176.878125\" xlink:href=\"#mb059299dff\" y=\"244.518125\"/>\n",
       "      </g>\n",
       "     </g>\n",
       "     <g id=\"line2d_14\">\n",
       "      <g>\n",
       "       <use style=\"stroke:#000000;stroke-width:0.5;\" x=\"176.878125\" xlink:href=\"#mf73780327a\" y=\"21.318125\"/>\n",
       "      </g>\n",
       "     </g>\n",
       "     <g id=\"text_4\">\n",
       "      <!-- 40 -->\n",
       "      <defs>\n",
       "       <path d=\"M 37.796875 64.3125 \n",
       "L 12.890625 25.390625 \n",
       "L 37.796875 25.390625 \n",
       "z\n",
       "M 35.203125 72.90625 \n",
       "L 47.609375 72.90625 \n",
       "L 47.609375 25.390625 \n",
       "L 58.015625 25.390625 \n",
       "L 58.015625 17.1875 \n",
       "L 47.609375 17.1875 \n",
       "L 47.609375 0 \n",
       "L 37.796875 0 \n",
       "L 37.796875 17.1875 \n",
       "L 4.890625 17.1875 \n",
       "L 4.890625 26.703125 \n",
       "z\n",
       "\" id=\"BitstreamVeraSans-Roman-34\"/>\n",
       "      </defs>\n",
       "      <g transform=\"translate(170.515625 256.1165625)scale(0.1 -0.1)\">\n",
       "       <use xlink:href=\"#BitstreamVeraSans-Roman-34\"/>\n",
       "       <use x=\"63.623046875\" xlink:href=\"#BitstreamVeraSans-Roman-30\"/>\n",
       "      </g>\n",
       "     </g>\n",
       "    </g>\n",
       "    <g id=\"xtick_5\">\n",
       "     <g id=\"line2d_15\">\n",
       "      <path clip-path=\"url(#p11d5ffd7f3)\" d=\"M 218.728125 244.518125 \n",
       "L 218.728125 21.318125 \n",
       "\" style=\"fill:none;stroke:#000000;stroke-dasharray:1.000000,3.000000;stroke-dashoffset:0.0;stroke-width:0.5;\"/>\n",
       "     </g>\n",
       "     <g id=\"line2d_16\">\n",
       "      <g>\n",
       "       <use style=\"stroke:#000000;stroke-width:0.5;\" x=\"218.728125\" xlink:href=\"#mb059299dff\" y=\"244.518125\"/>\n",
       "      </g>\n",
       "     </g>\n",
       "     <g id=\"line2d_17\">\n",
       "      <g>\n",
       "       <use style=\"stroke:#000000;stroke-width:0.5;\" x=\"218.728125\" xlink:href=\"#mf73780327a\" y=\"21.318125\"/>\n",
       "      </g>\n",
       "     </g>\n",
       "     <g id=\"text_5\">\n",
       "      <!-- 60 -->\n",
       "      <defs>\n",
       "       <path d=\"M 33.015625 40.375 \n",
       "Q 26.375 40.375 22.484375 35.828125 \n",
       "Q 18.609375 31.296875 18.609375 23.390625 \n",
       "Q 18.609375 15.53125 22.484375 10.953125 \n",
       "Q 26.375 6.390625 33.015625 6.390625 \n",
       "Q 39.65625 6.390625 43.53125 10.953125 \n",
       "Q 47.40625 15.53125 47.40625 23.390625 \n",
       "Q 47.40625 31.296875 43.53125 35.828125 \n",
       "Q 39.65625 40.375 33.015625 40.375 \n",
       "M 52.59375 71.296875 \n",
       "L 52.59375 62.3125 \n",
       "Q 48.875 64.0625 45.09375 64.984375 \n",
       "Q 41.3125 65.921875 37.59375 65.921875 \n",
       "Q 27.828125 65.921875 22.671875 59.328125 \n",
       "Q 17.53125 52.734375 16.796875 39.40625 \n",
       "Q 19.671875 43.65625 24.015625 45.921875 \n",
       "Q 28.375 48.1875 33.59375 48.1875 \n",
       "Q 44.578125 48.1875 50.953125 41.515625 \n",
       "Q 57.328125 34.859375 57.328125 23.390625 \n",
       "Q 57.328125 12.15625 50.6875 5.359375 \n",
       "Q 44.046875 -1.421875 33.015625 -1.421875 \n",
       "Q 20.359375 -1.421875 13.671875 8.265625 \n",
       "Q 6.984375 17.96875 6.984375 36.375 \n",
       "Q 6.984375 53.65625 15.1875 63.9375 \n",
       "Q 23.390625 74.21875 37.203125 74.21875 \n",
       "Q 40.921875 74.21875 44.703125 73.484375 \n",
       "Q 48.484375 72.75 52.59375 71.296875 \n",
       "\" id=\"BitstreamVeraSans-Roman-36\"/>\n",
       "      </defs>\n",
       "      <g transform=\"translate(212.365625 256.1165625)scale(0.1 -0.1)\">\n",
       "       <use xlink:href=\"#BitstreamVeraSans-Roman-36\"/>\n",
       "       <use x=\"63.623046875\" xlink:href=\"#BitstreamVeraSans-Roman-30\"/>\n",
       "      </g>\n",
       "     </g>\n",
       "    </g>\n",
       "    <g id=\"xtick_6\">\n",
       "     <g id=\"line2d_18\">\n",
       "      <path clip-path=\"url(#p11d5ffd7f3)\" d=\"M 260.578125 244.518125 \n",
       "L 260.578125 21.318125 \n",
       "\" style=\"fill:none;stroke:#000000;stroke-dasharray:1.000000,3.000000;stroke-dashoffset:0.0;stroke-width:0.5;\"/>\n",
       "     </g>\n",
       "     <g id=\"line2d_19\">\n",
       "      <g>\n",
       "       <use style=\"stroke:#000000;stroke-width:0.5;\" x=\"260.578125\" xlink:href=\"#mb059299dff\" y=\"244.518125\"/>\n",
       "      </g>\n",
       "     </g>\n",
       "     <g id=\"line2d_20\">\n",
       "      <g>\n",
       "       <use style=\"stroke:#000000;stroke-width:0.5;\" x=\"260.578125\" xlink:href=\"#mf73780327a\" y=\"21.318125\"/>\n",
       "      </g>\n",
       "     </g>\n",
       "     <g id=\"text_6\">\n",
       "      <!-- 80 -->\n",
       "      <defs>\n",
       "       <path d=\"M 31.78125 34.625 \n",
       "Q 24.75 34.625 20.71875 30.859375 \n",
       "Q 16.703125 27.09375 16.703125 20.515625 \n",
       "Q 16.703125 13.921875 20.71875 10.15625 \n",
       "Q 24.75 6.390625 31.78125 6.390625 \n",
       "Q 38.8125 6.390625 42.859375 10.171875 \n",
       "Q 46.921875 13.96875 46.921875 20.515625 \n",
       "Q 46.921875 27.09375 42.890625 30.859375 \n",
       "Q 38.875 34.625 31.78125 34.625 \n",
       "M 21.921875 38.8125 \n",
       "Q 15.578125 40.375 12.03125 44.71875 \n",
       "Q 8.5 49.078125 8.5 55.328125 \n",
       "Q 8.5 64.0625 14.71875 69.140625 \n",
       "Q 20.953125 74.21875 31.78125 74.21875 \n",
       "Q 42.671875 74.21875 48.875 69.140625 \n",
       "Q 55.078125 64.0625 55.078125 55.328125 \n",
       "Q 55.078125 49.078125 51.53125 44.71875 \n",
       "Q 48 40.375 41.703125 38.8125 \n",
       "Q 48.828125 37.15625 52.796875 32.3125 \n",
       "Q 56.78125 27.484375 56.78125 20.515625 \n",
       "Q 56.78125 9.90625 50.3125 4.234375 \n",
       "Q 43.84375 -1.421875 31.78125 -1.421875 \n",
       "Q 19.734375 -1.421875 13.25 4.234375 \n",
       "Q 6.78125 9.90625 6.78125 20.515625 \n",
       "Q 6.78125 27.484375 10.78125 32.3125 \n",
       "Q 14.796875 37.15625 21.921875 38.8125 \n",
       "M 18.3125 54.390625 \n",
       "Q 18.3125 48.734375 21.84375 45.5625 \n",
       "Q 25.390625 42.390625 31.78125 42.390625 \n",
       "Q 38.140625 42.390625 41.71875 45.5625 \n",
       "Q 45.3125 48.734375 45.3125 54.390625 \n",
       "Q 45.3125 60.0625 41.71875 63.234375 \n",
       "Q 38.140625 66.40625 31.78125 66.40625 \n",
       "Q 25.390625 66.40625 21.84375 63.234375 \n",
       "Q 18.3125 60.0625 18.3125 54.390625 \n",
       "\" id=\"BitstreamVeraSans-Roman-38\"/>\n",
       "      </defs>\n",
       "      <g transform=\"translate(254.215625 256.1165625)scale(0.1 -0.1)\">\n",
       "       <use xlink:href=\"#BitstreamVeraSans-Roman-38\"/>\n",
       "       <use x=\"63.623046875\" xlink:href=\"#BitstreamVeraSans-Roman-30\"/>\n",
       "      </g>\n",
       "     </g>\n",
       "    </g>\n",
       "    <g id=\"xtick_7\">\n",
       "     <g id=\"line2d_21\">\n",
       "      <path clip-path=\"url(#p11d5ffd7f3)\" d=\"M 302.428125 244.518125 \n",
       "L 302.428125 21.318125 \n",
       "\" style=\"fill:none;stroke:#000000;stroke-dasharray:1.000000,3.000000;stroke-dashoffset:0.0;stroke-width:0.5;\"/>\n",
       "     </g>\n",
       "     <g id=\"line2d_22\">\n",
       "      <g>\n",
       "       <use style=\"stroke:#000000;stroke-width:0.5;\" x=\"302.428125\" xlink:href=\"#mb059299dff\" y=\"244.518125\"/>\n",
       "      </g>\n",
       "     </g>\n",
       "     <g id=\"line2d_23\">\n",
       "      <g>\n",
       "       <use style=\"stroke:#000000;stroke-width:0.5;\" x=\"302.428125\" xlink:href=\"#mf73780327a\" y=\"21.318125\"/>\n",
       "      </g>\n",
       "     </g>\n",
       "     <g id=\"text_7\">\n",
       "      <!-- 100 -->\n",
       "      <defs>\n",
       "       <path d=\"M 12.40625 8.296875 \n",
       "L 28.515625 8.296875 \n",
       "L 28.515625 63.921875 \n",
       "L 10.984375 60.40625 \n",
       "L 10.984375 69.390625 \n",
       "L 28.421875 72.90625 \n",
       "L 38.28125 72.90625 \n",
       "L 38.28125 8.296875 \n",
       "L 54.390625 8.296875 \n",
       "L 54.390625 0 \n",
       "L 12.40625 0 \n",
       "z\n",
       "\" id=\"BitstreamVeraSans-Roman-31\"/>\n",
       "      </defs>\n",
       "      <g transform=\"translate(292.884375 256.1165625)scale(0.1 -0.1)\">\n",
       "       <use xlink:href=\"#BitstreamVeraSans-Roman-31\"/>\n",
       "       <use x=\"63.623046875\" xlink:href=\"#BitstreamVeraSans-Roman-30\"/>\n",
       "       <use x=\"127.24609375\" xlink:href=\"#BitstreamVeraSans-Roman-30\"/>\n",
       "      </g>\n",
       "     </g>\n",
       "    </g>\n",
       "    <g id=\"xtick_8\">\n",
       "     <g id=\"line2d_24\">\n",
       "      <path clip-path=\"url(#p11d5ffd7f3)\" d=\"M 344.278125 244.518125 \n",
       "L 344.278125 21.318125 \n",
       "\" style=\"fill:none;stroke:#000000;stroke-dasharray:1.000000,3.000000;stroke-dashoffset:0.0;stroke-width:0.5;\"/>\n",
       "     </g>\n",
       "     <g id=\"line2d_25\">\n",
       "      <g>\n",
       "       <use style=\"stroke:#000000;stroke-width:0.5;\" x=\"344.278125\" xlink:href=\"#mb059299dff\" y=\"244.518125\"/>\n",
       "      </g>\n",
       "     </g>\n",
       "     <g id=\"line2d_26\">\n",
       "      <g>\n",
       "       <use style=\"stroke:#000000;stroke-width:0.5;\" x=\"344.278125\" xlink:href=\"#mf73780327a\" y=\"21.318125\"/>\n",
       "      </g>\n",
       "     </g>\n",
       "     <g id=\"text_8\">\n",
       "      <!-- 120 -->\n",
       "      <g transform=\"translate(334.734375 256.1165625)scale(0.1 -0.1)\">\n",
       "       <use xlink:href=\"#BitstreamVeraSans-Roman-31\"/>\n",
       "       <use x=\"63.623046875\" xlink:href=\"#BitstreamVeraSans-Roman-32\"/>\n",
       "       <use x=\"127.24609375\" xlink:href=\"#BitstreamVeraSans-Roman-30\"/>\n",
       "      </g>\n",
       "     </g>\n",
       "    </g>\n",
       "    <g id=\"xtick_9\">\n",
       "     <g id=\"line2d_27\">\n",
       "      <path clip-path=\"url(#p11d5ffd7f3)\" d=\"M 386.128125 244.518125 \n",
       "L 386.128125 21.318125 \n",
       "\" style=\"fill:none;stroke:#000000;stroke-dasharray:1.000000,3.000000;stroke-dashoffset:0.0;stroke-width:0.5;\"/>\n",
       "     </g>\n",
       "     <g id=\"line2d_28\">\n",
       "      <g>\n",
       "       <use style=\"stroke:#000000;stroke-width:0.5;\" x=\"386.128125\" xlink:href=\"#mb059299dff\" y=\"244.518125\"/>\n",
       "      </g>\n",
       "     </g>\n",
       "     <g id=\"line2d_29\">\n",
       "      <g>\n",
       "       <use style=\"stroke:#000000;stroke-width:0.5;\" x=\"386.128125\" xlink:href=\"#mf73780327a\" y=\"21.318125\"/>\n",
       "      </g>\n",
       "     </g>\n",
       "     <g id=\"text_9\">\n",
       "      <!-- 140 -->\n",
       "      <g transform=\"translate(376.584375 256.1165625)scale(0.1 -0.1)\">\n",
       "       <use xlink:href=\"#BitstreamVeraSans-Roman-31\"/>\n",
       "       <use x=\"63.623046875\" xlink:href=\"#BitstreamVeraSans-Roman-34\"/>\n",
       "       <use x=\"127.24609375\" xlink:href=\"#BitstreamVeraSans-Roman-30\"/>\n",
       "      </g>\n",
       "     </g>\n",
       "    </g>\n",
       "    <g id=\"text_10\">\n",
       "     <!-- $\\tau_{ind}$ [Nm] -->\n",
       "     <defs>\n",
       "      <path d=\"M 4.6875 0 \n",
       "Q 3.71875 0 3.71875 1.3125 \n",
       "Q 3.765625 1.5625 3.90625 2.171875 \n",
       "Q 4.046875 2.78125 4.3125 3.140625 \n",
       "Q 4.59375 3.515625 4.984375 3.515625 \n",
       "Q 11.078125 3.515625 13.484375 4.203125 \n",
       "Q 14.796875 4.640625 15.375 6.890625 \n",
       "L 29.109375 61.8125 \n",
       "Q 29.296875 62.796875 29.296875 63.1875 \n",
       "Q 29.296875 64.265625 28.078125 64.40625 \n",
       "Q 26.21875 64.796875 20.90625 64.796875 \n",
       "Q 19.921875 64.796875 19.921875 66.109375 \n",
       "Q 20.265625 67.390625 20.453125 67.84375 \n",
       "Q 20.65625 68.3125 21.578125 68.3125 \n",
       "L 48.484375 68.3125 \n",
       "Q 49.515625 68.3125 49.515625 67 \n",
       "Q 49.46875 66.75 49.3125 66.15625 \n",
       "Q 49.171875 65.578125 48.921875 65.1875 \n",
       "Q 48.6875 64.796875 48.1875 64.796875 \n",
       "Q 42.09375 64.796875 39.703125 64.109375 \n",
       "Q 38.375 63.625 37.796875 61.375 \n",
       "L 31.78125 37.3125 \n",
       "L 61.8125 37.3125 \n",
       "L 67.921875 61.8125 \n",
       "Q 68.109375 62.796875 68.109375 63.1875 \n",
       "Q 68.109375 64.265625 66.890625 64.40625 \n",
       "Q 64.984375 64.796875 59.71875 64.796875 \n",
       "Q 58.6875 64.796875 58.6875 66.109375 \n",
       "Q 59.03125 67.390625 59.21875 67.84375 \n",
       "Q 59.421875 68.3125 60.40625 68.3125 \n",
       "L 87.3125 68.3125 \n",
       "Q 88.28125 68.3125 88.28125 67 \n",
       "Q 88.234375 66.75 88.078125 66.140625 \n",
       "Q 87.9375 65.53125 87.671875 65.15625 \n",
       "Q 87.40625 64.796875 87.015625 64.796875 \n",
       "Q 80.90625 64.796875 78.515625 64.109375 \n",
       "Q 77.203125 63.671875 76.609375 61.375 \n",
       "L 62.890625 6.5 \n",
       "Q 62.703125 5.515625 62.703125 5.078125 \n",
       "Q 62.703125 4.046875 63.921875 3.90625 \n",
       "Q 65.828125 3.515625 71.09375 3.515625 \n",
       "Q 72.125 3.515625 72.125 2.203125 \n",
       "Q 71.828125 1.03125 71.53125 0.515625 \n",
       "Q 71.234375 0 70.40625 0 \n",
       "L 43.5 0 \n",
       "Q 42.484375 0 42.484375 1.3125 \n",
       "Q 42.671875 2.046875 42.765625 2.390625 \n",
       "Q 42.875 2.734375 43.140625 3.125 \n",
       "Q 43.40625 3.515625 43.796875 3.515625 \n",
       "Q 49.90625 3.515625 52.296875 4.203125 \n",
       "Q 53.609375 4.640625 54.203125 6.890625 \n",
       "L 60.890625 33.796875 \n",
       "L 30.90625 33.796875 \n",
       "L 24.125 6.5 \n",
       "Q 23.875 5.28125 23.875 5.078125 \n",
       "Q 23.875 4.046875 25.09375 3.90625 \n",
       "Q 27 3.515625 32.328125 3.515625 \n",
       "Q 33.296875 3.515625 33.296875 2.203125 \n",
       "Q 32.953125 0.875 32.734375 0.4375 \n",
       "Q 32.515625 0 31.59375 0 \n",
       "z\n",
       "\" id=\"cmmi10-48\"/>\n",
       "      <path d=\"M 30.421875 75.984375 \n",
       "L 30.421875 -13.1875 \n",
       "L 9.71875 -13.1875 \n",
       "L 9.71875 -6.203125 \n",
       "L 21.390625 -6.203125 \n",
       "L 21.390625 69 \n",
       "L 9.71875 69 \n",
       "L 9.71875 75.984375 \n",
       "z\n",
       "\" id=\"BitstreamVeraSans-Roman-5d\"/>\n",
       "      <path d=\"M 9.8125 72.90625 \n",
       "L 23.09375 72.90625 \n",
       "L 55.421875 11.921875 \n",
       "L 55.421875 72.90625 \n",
       "L 64.984375 72.90625 \n",
       "L 64.984375 0 \n",
       "L 51.703125 0 \n",
       "L 19.390625 60.984375 \n",
       "L 19.390625 0 \n",
       "L 9.8125 0 \n",
       "z\n",
       "\" id=\"BitstreamVeraSans-Roman-4e\"/>\n",
       "      <path d=\"M 7.71875 1.703125 \n",
       "Q 7.71875 2.296875 7.8125 2.59375 \n",
       "L 15.28125 32.421875 \n",
       "Q 16.015625 35.203125 16.015625 37.3125 \n",
       "Q 16.015625 41.609375 13.09375 41.609375 \n",
       "Q 9.96875 41.609375 8.453125 37.859375 \n",
       "Q 6.9375 34.125 5.515625 28.421875 \n",
       "Q 5.515625 28.125 5.21875 27.953125 \n",
       "Q 4.9375 27.78125 4.6875 27.78125 \n",
       "L 3.515625 27.78125 \n",
       "Q 3.171875 27.78125 2.921875 28.140625 \n",
       "Q 2.6875 28.515625 2.6875 28.8125 \n",
       "Q 3.765625 33.15625 4.765625 36.171875 \n",
       "Q 5.765625 39.203125 7.890625 41.6875 \n",
       "Q 10.015625 44.1875 13.1875 44.1875 \n",
       "Q 16.9375 44.1875 19.8125 41.8125 \n",
       "Q 22.703125 39.453125 22.703125 35.796875 \n",
       "Q 25.6875 39.703125 29.6875 41.9375 \n",
       "Q 33.6875 44.1875 38.1875 44.1875 \n",
       "Q 41.75 44.1875 44.328125 42.96875 \n",
       "Q 46.921875 41.75 48.359375 39.28125 \n",
       "Q 49.8125 36.8125 49.8125 33.40625 \n",
       "Q 49.8125 29.296875 47.96875 23.484375 \n",
       "Q 46.140625 17.671875 43.40625 10.5 \n",
       "Q 42 7.234375 42 4.5 \n",
       "Q 42 1.515625 44.28125 1.515625 \n",
       "Q 48.1875 1.515625 50.796875 5.703125 \n",
       "Q 53.421875 9.90625 54.5 14.703125 \n",
       "Q 54.6875 15.28125 55.328125 15.28125 \n",
       "L 56.5 15.28125 \n",
       "Q 56.890625 15.28125 57.15625 15.03125 \n",
       "Q 57.421875 14.796875 57.421875 14.40625 \n",
       "Q 57.421875 14.3125 57.328125 14.109375 \n",
       "Q 55.953125 8.453125 52.5625 3.65625 \n",
       "Q 49.171875 -1.125 44.09375 -1.125 \n",
       "Q 40.578125 -1.125 38.078125 1.296875 \n",
       "Q 35.59375 3.71875 35.59375 7.171875 \n",
       "Q 35.59375 9.03125 36.375 11.078125 \n",
       "Q 37.640625 14.359375 39.28125 18.890625 \n",
       "Q 40.921875 23.4375 41.96875 27.578125 \n",
       "Q 43.015625 31.734375 43.015625 34.90625 \n",
       "Q 43.015625 37.703125 41.859375 39.65625 \n",
       "Q 40.71875 41.609375 37.984375 41.609375 \n",
       "Q 34.328125 41.609375 31.25 39.984375 \n",
       "Q 28.171875 38.375 25.875 35.71875 \n",
       "Q 23.578125 33.0625 21.6875 29.390625 \n",
       "L 14.890625 2.203125 \n",
       "Q 14.546875 0.828125 13.34375 -0.140625 \n",
       "Q 12.15625 -1.125 10.6875 -1.125 \n",
       "Q 9.46875 -1.125 8.59375 -0.34375 \n",
       "Q 7.71875 0.4375 7.71875 1.703125 \n",
       "\" id=\"cmmi10-6e\"/>\n",
       "      <path d=\"M 17.390625 -1.125 \n",
       "Q 11.078125 -1.125 7.4375 3.640625 \n",
       "Q 3.8125 8.40625 3.8125 14.890625 \n",
       "Q 3.8125 21.296875 7.125 28.171875 \n",
       "Q 10.453125 35.0625 16.09375 39.625 \n",
       "Q 21.734375 44.1875 28.21875 44.1875 \n",
       "Q 31.15625 44.1875 33.515625 42.546875 \n",
       "Q 35.890625 40.921875 37.203125 38.1875 \n",
       "L 42.828125 60.5 \n",
       "Q 43.21875 62.203125 43.3125 63.1875 \n",
       "Q 43.3125 64.796875 36.8125 64.796875 \n",
       "Q 35.796875 64.796875 35.796875 66.109375 \n",
       "Q 35.84375 66.359375 36.015625 66.984375 \n",
       "Q 36.1875 67.625 36.453125 67.96875 \n",
       "Q 36.71875 68.3125 37.203125 68.3125 \n",
       "L 50.6875 69.390625 \n",
       "Q 51.90625 69.390625 51.90625 68.109375 \n",
       "L 37.5 10.59375 \n",
       "Q 36.8125 8.9375 36.8125 5.8125 \n",
       "Q 36.8125 1.515625 39.703125 1.515625 \n",
       "Q 42.828125 1.515625 44.453125 5.484375 \n",
       "Q 46.09375 9.46875 47.21875 14.703125 \n",
       "Q 47.40625 15.28125 48 15.28125 \n",
       "L 49.21875 15.28125 \n",
       "Q 49.609375 15.28125 49.84375 14.9375 \n",
       "Q 50.09375 14.59375 50.09375 14.3125 \n",
       "Q 48.34375 7.328125 46.265625 3.09375 \n",
       "Q 44.1875 -1.125 39.5 -1.125 \n",
       "Q 36.140625 -1.125 33.546875 0.84375 \n",
       "Q 30.953125 2.828125 30.328125 6.109375 \n",
       "Q 23.875 -1.125 17.390625 -1.125 \n",
       "M 17.484375 1.515625 \n",
       "Q 21.09375 1.515625 24.484375 4.21875 \n",
       "Q 27.875 6.9375 30.328125 10.59375 \n",
       "Q 30.421875 10.6875 30.421875 10.984375 \n",
       "L 35.890625 33.015625 \n",
       "Q 35.296875 36.53125 33.296875 39.0625 \n",
       "Q 31.296875 41.609375 27.984375 41.609375 \n",
       "Q 24.609375 41.609375 21.703125 38.84375 \n",
       "Q 18.796875 36.078125 16.796875 32.328125 \n",
       "Q 14.84375 28.328125 13.0625 21.34375 \n",
       "Q 11.28125 14.359375 11.28125 10.5 \n",
       "Q 11.28125 7.03125 12.765625 4.265625 \n",
       "Q 14.265625 1.515625 17.484375 1.515625 \n",
       "\" id=\"cmmi10-64\"/>\n",
       "      <path d=\"M 52 44.1875 \n",
       "Q 55.375 50.25 60.0625 53.125 \n",
       "Q 64.75 56 71.09375 56 \n",
       "Q 79.640625 56 84.28125 50.015625 \n",
       "Q 88.921875 44.046875 88.921875 33.015625 \n",
       "L 88.921875 0 \n",
       "L 79.890625 0 \n",
       "L 79.890625 32.71875 \n",
       "Q 79.890625 40.578125 77.09375 44.375 \n",
       "Q 74.3125 48.1875 68.609375 48.1875 \n",
       "Q 61.625 48.1875 57.5625 43.546875 \n",
       "Q 53.515625 38.921875 53.515625 30.90625 \n",
       "L 53.515625 0 \n",
       "L 44.484375 0 \n",
       "L 44.484375 32.71875 \n",
       "Q 44.484375 40.625 41.703125 44.40625 \n",
       "Q 38.921875 48.1875 33.109375 48.1875 \n",
       "Q 26.21875 48.1875 22.15625 43.53125 \n",
       "Q 18.109375 38.875 18.109375 30.90625 \n",
       "L 18.109375 0 \n",
       "L 9.078125 0 \n",
       "L 9.078125 54.6875 \n",
       "L 18.109375 54.6875 \n",
       "L 18.109375 46.1875 \n",
       "Q 21.1875 51.21875 25.484375 53.609375 \n",
       "Q 29.78125 56 35.6875 56 \n",
       "Q 41.65625 56 45.828125 52.96875 \n",
       "Q 50 49.953125 52 44.1875 \n",
       "\" id=\"BitstreamVeraSans-Roman-6d\"/>\n",
       "      <path d=\"M 7.8125 7.171875 \n",
       "Q 7.8125 9.03125 8.59375 11.078125 \n",
       "L 16.703125 32.625 \n",
       "Q 18.015625 36.28125 18.015625 38.625 \n",
       "Q 18.015625 41.609375 15.828125 41.609375 \n",
       "Q 11.859375 41.609375 9.296875 37.53125 \n",
       "Q 6.734375 33.453125 5.515625 28.421875 \n",
       "Q 5.328125 27.78125 4.6875 27.78125 \n",
       "L 3.515625 27.78125 \n",
       "Q 2.6875 27.78125 2.6875 28.71875 \n",
       "L 2.6875 29 \n",
       "Q 4.296875 34.96875 7.609375 39.578125 \n",
       "Q 10.9375 44.1875 16.015625 44.1875 \n",
       "Q 19.578125 44.1875 22.046875 41.84375 \n",
       "Q 24.515625 39.5 24.515625 35.890625 \n",
       "Q 24.515625 34.03125 23.6875 31.984375 \n",
       "L 15.578125 10.5 \n",
       "Q 14.203125 7.171875 14.203125 4.5 \n",
       "Q 14.203125 1.515625 16.5 1.515625 \n",
       "Q 20.40625 1.515625 23.015625 5.6875 \n",
       "Q 25.640625 9.859375 26.703125 14.703125 \n",
       "Q 26.90625 15.28125 27.484375 15.28125 \n",
       "L 28.71875 15.28125 \n",
       "Q 29.109375 15.28125 29.34375 15.015625 \n",
       "Q 29.59375 14.75 29.59375 14.40625 \n",
       "Q 29.59375 14.3125 29.5 14.109375 \n",
       "Q 28.125 8.453125 24.734375 3.65625 \n",
       "Q 21.34375 -1.125 16.3125 -1.125 \n",
       "Q 12.796875 -1.125 10.296875 1.296875 \n",
       "Q 7.8125 3.71875 7.8125 7.171875 \n",
       "M 19.09375 60.59375 \n",
       "Q 19.09375 62.703125 20.84375 64.40625 \n",
       "Q 22.609375 66.109375 24.703125 66.109375 \n",
       "Q 26.421875 66.109375 27.515625 65.0625 \n",
       "Q 28.609375 64.015625 28.609375 62.40625 \n",
       "Q 28.609375 60.15625 26.828125 58.46875 \n",
       "Q 25.046875 56.78125 22.90625 56.78125 \n",
       "Q 21.296875 56.78125 20.1875 57.875 \n",
       "Q 19.09375 58.984375 19.09375 60.59375 \n",
       "\" id=\"cmmi10-69\"/>\n",
       "      <path d=\"M 8.59375 75.984375 \n",
       "L 29.296875 75.984375 \n",
       "L 29.296875 69 \n",
       "L 17.578125 69 \n",
       "L 17.578125 -6.203125 \n",
       "L 29.296875 -6.203125 \n",
       "L 29.296875 -13.1875 \n",
       "L 8.59375 -13.1875 \n",
       "z\n",
       "\" id=\"BitstreamVeraSans-Roman-5b\"/>\n",
       "      <path id=\"BitstreamVeraSans-Roman-20\"/>\n",
       "     </defs>\n",
       "     <g transform=\"translate(195.178125 270.7946875)scale(0.1 -0.1)\">\n",
       "      <use transform=\"translate(0.0 0.015625)\" xlink:href=\"#cmmi10-48\"/>\n",
       "      <use transform=\"translate(83.10546875 -8.821875000000006)scale(0.7)\" xlink:href=\"#cmmi10-69\"/>\n",
       "      <use transform=\"translate(107.2021484375 -8.821875000000006)scale(0.7)\" xlink:href=\"#cmmi10-6e\"/>\n",
       "      <use transform=\"translate(149.208984375 -8.821875000000006)scale(0.7)\" xlink:href=\"#cmmi10-64\"/>\n",
       "      <use transform=\"translate(188.9244140625 0.015625)\" xlink:href=\"#BitstreamVeraSans-Roman-20\"/>\n",
       "      <use transform=\"translate(220.7115234375 0.015625)\" xlink:href=\"#BitstreamVeraSans-Roman-5b\"/>\n",
       "      <use transform=\"translate(259.7251953125 0.015625)\" xlink:href=\"#BitstreamVeraSans-Roman-4e\"/>\n",
       "      <use transform=\"translate(334.5142578125 0.015625)\" xlink:href=\"#BitstreamVeraSans-Roman-6d\"/>\n",
       "      <use transform=\"translate(431.9263671875 0.015625)\" xlink:href=\"#BitstreamVeraSans-Roman-5d\"/>\n",
       "     </g>\n",
       "    </g>\n",
       "   </g>\n",
       "   <g id=\"matplotlib.axis_2\">\n",
       "    <g id=\"ytick_1\">\n",
       "     <g id=\"line2d_30\">\n",
       "      <path clip-path=\"url(#p11d5ffd7f3)\" d=\"M 51.328125 244.518125 \n",
       "L 386.128125 244.518125 \n",
       "\" style=\"fill:none;stroke:#000000;stroke-dasharray:1.000000,3.000000;stroke-dashoffset:0.0;stroke-width:0.5;\"/>\n",
       "     </g>\n",
       "     <g id=\"line2d_31\">\n",
       "      <defs>\n",
       "       <path d=\"M 0 0 \n",
       "L 4 0 \n",
       "\" id=\"mb9eefba2d8\" style=\"stroke:#000000;stroke-width:0.5;\"/>\n",
       "      </defs>\n",
       "      <g>\n",
       "       <use style=\"stroke:#000000;stroke-width:0.5;\" x=\"51.328125\" xlink:href=\"#mb9eefba2d8\" y=\"244.518125\"/>\n",
       "      </g>\n",
       "     </g>\n",
       "     <g id=\"line2d_32\">\n",
       "      <defs>\n",
       "       <path d=\"M 0 0 \n",
       "L -4 0 \n",
       "\" id=\"mbaee9cdf36\" style=\"stroke:#000000;stroke-width:0.5;\"/>\n",
       "      </defs>\n",
       "      <g>\n",
       "       <use style=\"stroke:#000000;stroke-width:0.5;\" x=\"386.128125\" xlink:href=\"#mbaee9cdf36\" y=\"244.518125\"/>\n",
       "      </g>\n",
       "     </g>\n",
       "     <g id=\"text_11\">\n",
       "      <!-- 1500 -->\n",
       "      <defs>\n",
       "       <path d=\"M 10.796875 72.90625 \n",
       "L 49.515625 72.90625 \n",
       "L 49.515625 64.59375 \n",
       "L 19.828125 64.59375 \n",
       "L 19.828125 46.734375 \n",
       "Q 21.96875 47.46875 24.109375 47.828125 \n",
       "Q 26.265625 48.1875 28.421875 48.1875 \n",
       "Q 40.625 48.1875 47.75 41.5 \n",
       "Q 54.890625 34.8125 54.890625 23.390625 \n",
       "Q 54.890625 11.625 47.5625 5.09375 \n",
       "Q 40.234375 -1.421875 26.90625 -1.421875 \n",
       "Q 22.3125 -1.421875 17.546875 -0.640625 \n",
       "Q 12.796875 0.140625 7.71875 1.703125 \n",
       "L 7.71875 11.625 \n",
       "Q 12.109375 9.234375 16.796875 8.0625 \n",
       "Q 21.484375 6.890625 26.703125 6.890625 \n",
       "Q 35.15625 6.890625 40.078125 11.328125 \n",
       "Q 45.015625 15.765625 45.015625 23.390625 \n",
       "Q 45.015625 31 40.078125 35.4375 \n",
       "Q 35.15625 39.890625 26.703125 39.890625 \n",
       "Q 22.75 39.890625 18.8125 39.015625 \n",
       "Q 14.890625 38.140625 10.796875 36.28125 \n",
       "z\n",
       "\" id=\"BitstreamVeraSans-Roman-35\"/>\n",
       "      </defs>\n",
       "      <g transform=\"translate(21.878125 247.2775)scale(0.1 -0.1)\">\n",
       "       <use xlink:href=\"#BitstreamVeraSans-Roman-31\"/>\n",
       "       <use x=\"63.623046875\" xlink:href=\"#BitstreamVeraSans-Roman-35\"/>\n",
       "       <use x=\"127.24609375\" xlink:href=\"#BitstreamVeraSans-Roman-30\"/>\n",
       "       <use x=\"190.869140625\" xlink:href=\"#BitstreamVeraSans-Roman-30\"/>\n",
       "      </g>\n",
       "     </g>\n",
       "    </g>\n",
       "    <g id=\"ytick_2\">\n",
       "     <g id=\"line2d_33\">\n",
       "      <path clip-path=\"url(#p11d5ffd7f3)\" d=\"M 51.328125 207.318125 \n",
       "L 386.128125 207.318125 \n",
       "\" style=\"fill:none;stroke:#000000;stroke-dasharray:1.000000,3.000000;stroke-dashoffset:0.0;stroke-width:0.5;\"/>\n",
       "     </g>\n",
       "     <g id=\"line2d_34\">\n",
       "      <g>\n",
       "       <use style=\"stroke:#000000;stroke-width:0.5;\" x=\"51.328125\" xlink:href=\"#mb9eefba2d8\" y=\"207.318125\"/>\n",
       "      </g>\n",
       "     </g>\n",
       "     <g id=\"line2d_35\">\n",
       "      <g>\n",
       "       <use style=\"stroke:#000000;stroke-width:0.5;\" x=\"386.128125\" xlink:href=\"#mbaee9cdf36\" y=\"207.318125\"/>\n",
       "      </g>\n",
       "     </g>\n",
       "     <g id=\"text_12\">\n",
       "      <!-- 2000 -->\n",
       "      <g transform=\"translate(21.878125 210.0775)scale(0.1 -0.1)\">\n",
       "       <use xlink:href=\"#BitstreamVeraSans-Roman-32\"/>\n",
       "       <use x=\"63.623046875\" xlink:href=\"#BitstreamVeraSans-Roman-30\"/>\n",
       "       <use x=\"127.24609375\" xlink:href=\"#BitstreamVeraSans-Roman-30\"/>\n",
       "       <use x=\"190.869140625\" xlink:href=\"#BitstreamVeraSans-Roman-30\"/>\n",
       "      </g>\n",
       "     </g>\n",
       "    </g>\n",
       "    <g id=\"ytick_3\">\n",
       "     <g id=\"line2d_36\">\n",
       "      <path clip-path=\"url(#p11d5ffd7f3)\" d=\"M 51.328125 170.118125 \n",
       "L 386.128125 170.118125 \n",
       "\" style=\"fill:none;stroke:#000000;stroke-dasharray:1.000000,3.000000;stroke-dashoffset:0.0;stroke-width:0.5;\"/>\n",
       "     </g>\n",
       "     <g id=\"line2d_37\">\n",
       "      <g>\n",
       "       <use style=\"stroke:#000000;stroke-width:0.5;\" x=\"51.328125\" xlink:href=\"#mb9eefba2d8\" y=\"170.118125\"/>\n",
       "      </g>\n",
       "     </g>\n",
       "     <g id=\"line2d_38\">\n",
       "      <g>\n",
       "       <use style=\"stroke:#000000;stroke-width:0.5;\" x=\"386.128125\" xlink:href=\"#mbaee9cdf36\" y=\"170.118125\"/>\n",
       "      </g>\n",
       "     </g>\n",
       "     <g id=\"text_13\">\n",
       "      <!-- 2500 -->\n",
       "      <g transform=\"translate(21.878125 172.8775)scale(0.1 -0.1)\">\n",
       "       <use xlink:href=\"#BitstreamVeraSans-Roman-32\"/>\n",
       "       <use x=\"63.623046875\" xlink:href=\"#BitstreamVeraSans-Roman-35\"/>\n",
       "       <use x=\"127.24609375\" xlink:href=\"#BitstreamVeraSans-Roman-30\"/>\n",
       "       <use x=\"190.869140625\" xlink:href=\"#BitstreamVeraSans-Roman-30\"/>\n",
       "      </g>\n",
       "     </g>\n",
       "    </g>\n",
       "    <g id=\"ytick_4\">\n",
       "     <g id=\"line2d_39\">\n",
       "      <path clip-path=\"url(#p11d5ffd7f3)\" d=\"M 51.328125 132.918125 \n",
       "L 386.128125 132.918125 \n",
       "\" style=\"fill:none;stroke:#000000;stroke-dasharray:1.000000,3.000000;stroke-dashoffset:0.0;stroke-width:0.5;\"/>\n",
       "     </g>\n",
       "     <g id=\"line2d_40\">\n",
       "      <g>\n",
       "       <use style=\"stroke:#000000;stroke-width:0.5;\" x=\"51.328125\" xlink:href=\"#mb9eefba2d8\" y=\"132.918125\"/>\n",
       "      </g>\n",
       "     </g>\n",
       "     <g id=\"line2d_41\">\n",
       "      <g>\n",
       "       <use style=\"stroke:#000000;stroke-width:0.5;\" x=\"386.128125\" xlink:href=\"#mbaee9cdf36\" y=\"132.918125\"/>\n",
       "      </g>\n",
       "     </g>\n",
       "     <g id=\"text_14\">\n",
       "      <!-- 3000 -->\n",
       "      <defs>\n",
       "       <path d=\"M 40.578125 39.3125 \n",
       "Q 47.65625 37.796875 51.625 33 \n",
       "Q 55.609375 28.21875 55.609375 21.1875 \n",
       "Q 55.609375 10.40625 48.1875 4.484375 \n",
       "Q 40.765625 -1.421875 27.09375 -1.421875 \n",
       "Q 22.515625 -1.421875 17.65625 -0.515625 \n",
       "Q 12.796875 0.390625 7.625 2.203125 \n",
       "L 7.625 11.71875 \n",
       "Q 11.71875 9.328125 16.59375 8.109375 \n",
       "Q 21.484375 6.890625 26.8125 6.890625 \n",
       "Q 36.078125 6.890625 40.9375 10.546875 \n",
       "Q 45.796875 14.203125 45.796875 21.1875 \n",
       "Q 45.796875 27.640625 41.28125 31.265625 \n",
       "Q 36.765625 34.90625 28.71875 34.90625 \n",
       "L 20.21875 34.90625 \n",
       "L 20.21875 43.015625 \n",
       "L 29.109375 43.015625 \n",
       "Q 36.375 43.015625 40.234375 45.921875 \n",
       "Q 44.09375 48.828125 44.09375 54.296875 \n",
       "Q 44.09375 59.90625 40.109375 62.90625 \n",
       "Q 36.140625 65.921875 28.71875 65.921875 \n",
       "Q 24.65625 65.921875 20.015625 65.03125 \n",
       "Q 15.375 64.15625 9.8125 62.3125 \n",
       "L 9.8125 71.09375 \n",
       "Q 15.4375 72.65625 20.34375 73.4375 \n",
       "Q 25.25 74.21875 29.59375 74.21875 \n",
       "Q 40.828125 74.21875 47.359375 69.109375 \n",
       "Q 53.90625 64.015625 53.90625 55.328125 \n",
       "Q 53.90625 49.265625 50.4375 45.09375 \n",
       "Q 46.96875 40.921875 40.578125 39.3125 \n",
       "\" id=\"BitstreamVeraSans-Roman-33\"/>\n",
       "      </defs>\n",
       "      <g transform=\"translate(21.878125 135.6775)scale(0.1 -0.1)\">\n",
       "       <use xlink:href=\"#BitstreamVeraSans-Roman-33\"/>\n",
       "       <use x=\"63.623046875\" xlink:href=\"#BitstreamVeraSans-Roman-30\"/>\n",
       "       <use x=\"127.24609375\" xlink:href=\"#BitstreamVeraSans-Roman-30\"/>\n",
       "       <use x=\"190.869140625\" xlink:href=\"#BitstreamVeraSans-Roman-30\"/>\n",
       "      </g>\n",
       "     </g>\n",
       "    </g>\n",
       "    <g id=\"ytick_5\">\n",
       "     <g id=\"line2d_42\">\n",
       "      <path clip-path=\"url(#p11d5ffd7f3)\" d=\"M 51.328125 95.718125 \n",
       "L 386.128125 95.718125 \n",
       "\" style=\"fill:none;stroke:#000000;stroke-dasharray:1.000000,3.000000;stroke-dashoffset:0.0;stroke-width:0.5;\"/>\n",
       "     </g>\n",
       "     <g id=\"line2d_43\">\n",
       "      <g>\n",
       "       <use style=\"stroke:#000000;stroke-width:0.5;\" x=\"51.328125\" xlink:href=\"#mb9eefba2d8\" y=\"95.718125\"/>\n",
       "      </g>\n",
       "     </g>\n",
       "     <g id=\"line2d_44\">\n",
       "      <g>\n",
       "       <use style=\"stroke:#000000;stroke-width:0.5;\" x=\"386.128125\" xlink:href=\"#mbaee9cdf36\" y=\"95.718125\"/>\n",
       "      </g>\n",
       "     </g>\n",
       "     <g id=\"text_15\">\n",
       "      <!-- 3500 -->\n",
       "      <g transform=\"translate(21.878125 98.4775)scale(0.1 -0.1)\">\n",
       "       <use xlink:href=\"#BitstreamVeraSans-Roman-33\"/>\n",
       "       <use x=\"63.623046875\" xlink:href=\"#BitstreamVeraSans-Roman-35\"/>\n",
       "       <use x=\"127.24609375\" xlink:href=\"#BitstreamVeraSans-Roman-30\"/>\n",
       "       <use x=\"190.869140625\" xlink:href=\"#BitstreamVeraSans-Roman-30\"/>\n",
       "      </g>\n",
       "     </g>\n",
       "    </g>\n",
       "    <g id=\"ytick_6\">\n",
       "     <g id=\"line2d_45\">\n",
       "      <path clip-path=\"url(#p11d5ffd7f3)\" d=\"M 51.328125 58.518125 \n",
       "L 386.128125 58.518125 \n",
       "\" style=\"fill:none;stroke:#000000;stroke-dasharray:1.000000,3.000000;stroke-dashoffset:0.0;stroke-width:0.5;\"/>\n",
       "     </g>\n",
       "     <g id=\"line2d_46\">\n",
       "      <g>\n",
       "       <use style=\"stroke:#000000;stroke-width:0.5;\" x=\"51.328125\" xlink:href=\"#mb9eefba2d8\" y=\"58.518125\"/>\n",
       "      </g>\n",
       "     </g>\n",
       "     <g id=\"line2d_47\">\n",
       "      <g>\n",
       "       <use style=\"stroke:#000000;stroke-width:0.5;\" x=\"386.128125\" xlink:href=\"#mbaee9cdf36\" y=\"58.518125\"/>\n",
       "      </g>\n",
       "     </g>\n",
       "     <g id=\"text_16\">\n",
       "      <!-- 4000 -->\n",
       "      <g transform=\"translate(21.878125 61.2775)scale(0.1 -0.1)\">\n",
       "       <use xlink:href=\"#BitstreamVeraSans-Roman-34\"/>\n",
       "       <use x=\"63.623046875\" xlink:href=\"#BitstreamVeraSans-Roman-30\"/>\n",
       "       <use x=\"127.24609375\" xlink:href=\"#BitstreamVeraSans-Roman-30\"/>\n",
       "       <use x=\"190.869140625\" xlink:href=\"#BitstreamVeraSans-Roman-30\"/>\n",
       "      </g>\n",
       "     </g>\n",
       "    </g>\n",
       "    <g id=\"ytick_7\">\n",
       "     <g id=\"line2d_48\">\n",
       "      <path clip-path=\"url(#p11d5ffd7f3)\" d=\"M 51.328125 21.318125 \n",
       "L 386.128125 21.318125 \n",
       "\" style=\"fill:none;stroke:#000000;stroke-dasharray:1.000000,3.000000;stroke-dashoffset:0.0;stroke-width:0.5;\"/>\n",
       "     </g>\n",
       "     <g id=\"line2d_49\">\n",
       "      <g>\n",
       "       <use style=\"stroke:#000000;stroke-width:0.5;\" x=\"51.328125\" xlink:href=\"#mb9eefba2d8\" y=\"21.318125\"/>\n",
       "      </g>\n",
       "     </g>\n",
       "     <g id=\"line2d_50\">\n",
       "      <g>\n",
       "       <use style=\"stroke:#000000;stroke-width:0.5;\" x=\"386.128125\" xlink:href=\"#mbaee9cdf36\" y=\"21.318125\"/>\n",
       "      </g>\n",
       "     </g>\n",
       "     <g id=\"text_17\">\n",
       "      <!-- 4500 -->\n",
       "      <g transform=\"translate(21.878125 24.0775)scale(0.1 -0.1)\">\n",
       "       <use xlink:href=\"#BitstreamVeraSans-Roman-34\"/>\n",
       "       <use x=\"63.623046875\" xlink:href=\"#BitstreamVeraSans-Roman-35\"/>\n",
       "       <use x=\"127.24609375\" xlink:href=\"#BitstreamVeraSans-Roman-30\"/>\n",
       "       <use x=\"190.869140625\" xlink:href=\"#BitstreamVeraSans-Roman-30\"/>\n",
       "      </g>\n",
       "     </g>\n",
       "    </g>\n",
       "    <g id=\"text_18\">\n",
       "     <!-- $n_m$ [r/min] -->\n",
       "     <defs>\n",
       "      <path d=\"M 54.890625 33.015625 \n",
       "L 54.890625 0 \n",
       "L 45.90625 0 \n",
       "L 45.90625 32.71875 \n",
       "Q 45.90625 40.484375 42.875 44.328125 \n",
       "Q 39.84375 48.1875 33.796875 48.1875 \n",
       "Q 26.515625 48.1875 22.3125 43.546875 \n",
       "Q 18.109375 38.921875 18.109375 30.90625 \n",
       "L 18.109375 0 \n",
       "L 9.078125 0 \n",
       "L 9.078125 54.6875 \n",
       "L 18.109375 54.6875 \n",
       "L 18.109375 46.1875 \n",
       "Q 21.34375 51.125 25.703125 53.5625 \n",
       "Q 30.078125 56 35.796875 56 \n",
       "Q 45.21875 56 50.046875 50.171875 \n",
       "Q 54.890625 44.34375 54.890625 33.015625 \n",
       "\" id=\"BitstreamVeraSans-Roman-6e\"/>\n",
       "      <path d=\"M 7.71875 1.703125 \n",
       "Q 7.71875 2.296875 7.8125 2.59375 \n",
       "L 15.28125 32.421875 \n",
       "Q 16.015625 35.203125 16.015625 37.3125 \n",
       "Q 16.015625 41.609375 13.09375 41.609375 \n",
       "Q 9.96875 41.609375 8.453125 37.859375 \n",
       "Q 6.9375 34.125 5.515625 28.421875 \n",
       "Q 5.515625 28.125 5.21875 27.953125 \n",
       "Q 4.9375 27.78125 4.6875 27.78125 \n",
       "L 3.515625 27.78125 \n",
       "Q 3.171875 27.78125 2.921875 28.140625 \n",
       "Q 2.6875 28.515625 2.6875 28.8125 \n",
       "Q 3.765625 33.15625 4.765625 36.171875 \n",
       "Q 5.765625 39.203125 7.890625 41.6875 \n",
       "Q 10.015625 44.1875 13.1875 44.1875 \n",
       "Q 16.9375 44.1875 19.8125 41.8125 \n",
       "Q 22.703125 39.453125 22.703125 35.796875 \n",
       "Q 25.6875 39.703125 29.6875 41.9375 \n",
       "Q 33.6875 44.1875 38.1875 44.1875 \n",
       "Q 42.921875 44.1875 46.359375 41.765625 \n",
       "Q 49.8125 39.359375 49.8125 34.90625 \n",
       "Q 52.875 39.265625 57 41.71875 \n",
       "Q 61.140625 44.1875 66.015625 44.1875 \n",
       "Q 71.1875 44.1875 74.328125 41.375 \n",
       "Q 77.484375 38.578125 77.484375 33.40625 \n",
       "Q 77.484375 29.296875 75.65625 23.484375 \n",
       "Q 73.828125 17.671875 71.09375 10.5 \n",
       "Q 69.671875 7.03125 69.671875 4.5 \n",
       "Q 69.671875 1.515625 72.015625 1.515625 \n",
       "Q 75.921875 1.515625 78.515625 5.703125 \n",
       "Q 81.109375 9.90625 82.171875 14.703125 \n",
       "Q 82.46875 15.28125 83.015625 15.28125 \n",
       "L 84.1875 15.28125 \n",
       "Q 84.578125 15.28125 84.84375 15.015625 \n",
       "Q 85.109375 14.75 85.109375 14.40625 \n",
       "Q 85.109375 14.3125 85.015625 14.109375 \n",
       "Q 83.640625 8.453125 80.25 3.65625 \n",
       "Q 76.859375 -1.125 71.78125 -1.125 \n",
       "Q 68.265625 -1.125 65.765625 1.296875 \n",
       "Q 63.28125 3.71875 63.28125 7.171875 \n",
       "Q 63.28125 8.9375 64.109375 11.078125 \n",
       "Q 66.9375 18.609375 68.8125 24.515625 \n",
       "Q 70.703125 30.421875 70.703125 34.90625 \n",
       "Q 70.703125 37.703125 69.578125 39.65625 \n",
       "Q 68.453125 41.609375 65.828125 41.609375 \n",
       "Q 60.359375 41.609375 56.34375 38.25 \n",
       "Q 52.34375 34.90625 49.421875 29.390625 \n",
       "Q 49.21875 28.421875 49.125 27.875 \n",
       "L 42.671875 2.203125 \n",
       "Q 42.328125 0.828125 41.125 -0.140625 \n",
       "Q 39.9375 -1.125 38.484375 -1.125 \n",
       "Q 37.3125 -1.125 36.40625 -0.34375 \n",
       "Q 35.5 0.4375 35.5 1.703125 \n",
       "Q 35.5 2.296875 35.59375 2.59375 \n",
       "L 42 28.078125 \n",
       "Q 43.015625 32.171875 43.015625 34.90625 \n",
       "Q 43.015625 37.703125 41.859375 39.65625 \n",
       "Q 40.71875 41.609375 37.984375 41.609375 \n",
       "Q 34.328125 41.609375 31.25 39.984375 \n",
       "Q 28.171875 38.375 25.875 35.71875 \n",
       "Q 23.578125 33.0625 21.6875 29.390625 \n",
       "L 14.890625 2.203125 \n",
       "Q 14.546875 0.828125 13.34375 -0.140625 \n",
       "Q 12.15625 -1.125 10.6875 -1.125 \n",
       "Q 9.46875 -1.125 8.59375 -0.34375 \n",
       "Q 7.71875 0.4375 7.71875 1.703125 \n",
       "\" id=\"cmmi10-6d\"/>\n",
       "      <path d=\"M 41.109375 46.296875 \n",
       "Q 39.59375 47.171875 37.8125 47.578125 \n",
       "Q 36.03125 48 33.890625 48 \n",
       "Q 26.265625 48 22.1875 43.046875 \n",
       "Q 18.109375 38.09375 18.109375 28.8125 \n",
       "L 18.109375 0 \n",
       "L 9.078125 0 \n",
       "L 9.078125 54.6875 \n",
       "L 18.109375 54.6875 \n",
       "L 18.109375 46.1875 \n",
       "Q 20.953125 51.171875 25.484375 53.578125 \n",
       "Q 30.03125 56 36.53125 56 \n",
       "Q 37.453125 56 38.578125 55.875 \n",
       "Q 39.703125 55.765625 41.0625 55.515625 \n",
       "z\n",
       "\" id=\"BitstreamVeraSans-Roman-72\"/>\n",
       "      <path d=\"M 9.421875 54.6875 \n",
       "L 18.40625 54.6875 \n",
       "L 18.40625 0 \n",
       "L 9.421875 0 \n",
       "z\n",
       "M 9.421875 75.984375 \n",
       "L 18.40625 75.984375 \n",
       "L 18.40625 64.59375 \n",
       "L 9.421875 64.59375 \n",
       "z\n",
       "\" id=\"BitstreamVeraSans-Roman-69\"/>\n",
       "      <path d=\"M 25.390625 72.90625 \n",
       "L 33.6875 72.90625 \n",
       "L 8.296875 -9.28125 \n",
       "L 0 -9.28125 \n",
       "z\n",
       "\" id=\"BitstreamVeraSans-Roman-2f\"/>\n",
       "     </defs>\n",
       "     <g transform=\"translate(14.7984375 157.818125)rotate(-90.0)scale(0.1 -0.1)\">\n",
       "      <use transform=\"translate(0.0 0.015625)\" xlink:href=\"#cmmi10-6e\"/>\n",
       "      <use transform=\"translate(60.009765625 -8.821875000000006)scale(0.7)\" xlink:href=\"#cmmi10-6d\"/>\n",
       "      <use transform=\"translate(124.77890624999999 0.015625)\" xlink:href=\"#BitstreamVeraSans-Roman-20\"/>\n",
       "      <use transform=\"translate(156.56601562499998 0.015625)\" xlink:href=\"#BitstreamVeraSans-Roman-5b\"/>\n",
       "      <use transform=\"translate(195.53281249999998 0.015625)\" xlink:href=\"#BitstreamVeraSans-Roman-72\"/>\n",
       "      <use transform=\"translate(236.64609374999998 0.015625)\" xlink:href=\"#BitstreamVeraSans-Roman-2f\"/>\n",
       "      <use transform=\"translate(270.3375 0.015625)\" xlink:href=\"#BitstreamVeraSans-Roman-6d\"/>\n",
       "      <use transform=\"translate(367.749609375 0.015625)\" xlink:href=\"#BitstreamVeraSans-Roman-69\"/>\n",
       "      <use transform=\"translate(395.5328125 0.015625)\" xlink:href=\"#BitstreamVeraSans-Roman-6e\"/>\n",
       "      <use transform=\"translate(458.91171875 0.015625)\" xlink:href=\"#BitstreamVeraSans-Roman-5d\"/>\n",
       "     </g>\n",
       "    </g>\n",
       "   </g>\n",
       "   <g id=\"text_19\">\n",
       "    <!-- Shunt DC Motor Torque-Speed Characteristic -->\n",
       "    <defs>\n",
       "     <path d=\"M 18.3125 70.21875 \n",
       "L 18.3125 54.6875 \n",
       "L 36.8125 54.6875 \n",
       "L 36.8125 47.703125 \n",
       "L 18.3125 47.703125 \n",
       "L 18.3125 18.015625 \n",
       "Q 18.3125 11.328125 20.140625 9.421875 \n",
       "Q 21.96875 7.515625 27.59375 7.515625 \n",
       "L 36.8125 7.515625 \n",
       "L 36.8125 0 \n",
       "L 27.59375 0 \n",
       "Q 17.1875 0 13.234375 3.875 \n",
       "Q 9.28125 7.765625 9.28125 18.015625 \n",
       "L 9.28125 47.703125 \n",
       "L 2.6875 47.703125 \n",
       "L 2.6875 54.6875 \n",
       "L 9.28125 54.6875 \n",
       "L 9.28125 70.21875 \n",
       "z\n",
       "\" id=\"BitstreamVeraSans-Roman-74\"/>\n",
       "     <path d=\"M 34.28125 27.484375 \n",
       "Q 23.390625 27.484375 19.1875 25 \n",
       "Q 14.984375 22.515625 14.984375 16.5 \n",
       "Q 14.984375 11.71875 18.140625 8.90625 \n",
       "Q 21.296875 6.109375 26.703125 6.109375 \n",
       "Q 34.1875 6.109375 38.703125 11.40625 \n",
       "Q 43.21875 16.703125 43.21875 25.484375 \n",
       "L 43.21875 27.484375 \n",
       "z\n",
       "M 52.203125 31.203125 \n",
       "L 52.203125 0 \n",
       "L 43.21875 0 \n",
       "L 43.21875 8.296875 \n",
       "Q 40.140625 3.328125 35.546875 0.953125 \n",
       "Q 30.953125 -1.421875 24.3125 -1.421875 \n",
       "Q 15.921875 -1.421875 10.953125 3.296875 \n",
       "Q 6 8.015625 6 15.921875 \n",
       "Q 6 25.140625 12.171875 29.828125 \n",
       "Q 18.359375 34.515625 30.609375 34.515625 \n",
       "L 43.21875 34.515625 \n",
       "L 43.21875 35.40625 \n",
       "Q 43.21875 41.609375 39.140625 45 \n",
       "Q 35.0625 48.390625 27.6875 48.390625 \n",
       "Q 23 48.390625 18.546875 47.265625 \n",
       "Q 14.109375 46.140625 10.015625 43.890625 \n",
       "L 10.015625 52.203125 \n",
       "Q 14.9375 54.109375 19.578125 55.046875 \n",
       "Q 24.21875 56 28.609375 56 \n",
       "Q 40.484375 56 46.34375 49.84375 \n",
       "Q 52.203125 43.703125 52.203125 31.203125 \n",
       "\" id=\"BitstreamVeraSans-Roman-61\"/>\n",
       "     <path d=\"M 9.8125 72.90625 \n",
       "L 24.515625 72.90625 \n",
       "L 43.109375 23.296875 \n",
       "L 61.8125 72.90625 \n",
       "L 76.515625 72.90625 \n",
       "L 76.515625 0 \n",
       "L 66.890625 0 \n",
       "L 66.890625 64.015625 \n",
       "L 48.09375 14.015625 \n",
       "L 38.1875 14.015625 \n",
       "L 19.390625 64.015625 \n",
       "L 19.390625 0 \n",
       "L 9.8125 0 \n",
       "z\n",
       "\" id=\"BitstreamVeraSans-Roman-4d\"/>\n",
       "     <path d=\"M 56.203125 29.59375 \n",
       "L 56.203125 25.203125 \n",
       "L 14.890625 25.203125 \n",
       "Q 15.484375 15.921875 20.484375 11.0625 \n",
       "Q 25.484375 6.203125 34.421875 6.203125 \n",
       "Q 39.59375 6.203125 44.453125 7.46875 \n",
       "Q 49.3125 8.734375 54.109375 11.28125 \n",
       "L 54.109375 2.78125 \n",
       "Q 49.265625 0.734375 44.1875 -0.34375 \n",
       "Q 39.109375 -1.421875 33.890625 -1.421875 \n",
       "Q 20.796875 -1.421875 13.15625 6.1875 \n",
       "Q 5.515625 13.8125 5.515625 26.8125 \n",
       "Q 5.515625 40.234375 12.765625 48.109375 \n",
       "Q 20.015625 56 32.328125 56 \n",
       "Q 43.359375 56 49.78125 48.890625 \n",
       "Q 56.203125 41.796875 56.203125 29.59375 \n",
       "M 47.21875 32.234375 \n",
       "Q 47.125 39.59375 43.09375 43.984375 \n",
       "Q 39.0625 48.390625 32.421875 48.390625 \n",
       "Q 24.90625 48.390625 20.390625 44.140625 \n",
       "Q 15.875 39.890625 15.1875 32.171875 \n",
       "z\n",
       "\" id=\"BitstreamVeraSans-Roman-65\"/>\n",
       "     <path d=\"M -0.296875 72.90625 \n",
       "L 61.375 72.90625 \n",
       "L 61.375 64.59375 \n",
       "L 35.5 64.59375 \n",
       "L 35.5 0 \n",
       "L 25.59375 0 \n",
       "L 25.59375 64.59375 \n",
       "L -0.296875 64.59375 \n",
       "z\n",
       "\" id=\"BitstreamVeraSans-Roman-54\"/>\n",
       "     <path d=\"M 4.890625 31.390625 \n",
       "L 31.203125 31.390625 \n",
       "L 31.203125 23.390625 \n",
       "L 4.890625 23.390625 \n",
       "z\n",
       "\" id=\"BitstreamVeraSans-Roman-2d\"/>\n",
       "     <path d=\"M 53.515625 70.515625 \n",
       "L 53.515625 60.890625 \n",
       "Q 47.90625 63.578125 42.921875 64.890625 \n",
       "Q 37.9375 66.21875 33.296875 66.21875 \n",
       "Q 25.25 66.21875 20.875 63.09375 \n",
       "Q 16.5 59.96875 16.5 54.203125 \n",
       "Q 16.5 49.359375 19.40625 46.890625 \n",
       "Q 22.3125 44.4375 30.421875 42.921875 \n",
       "L 36.375 41.703125 \n",
       "Q 47.40625 39.59375 52.65625 34.296875 \n",
       "Q 57.90625 29 57.90625 20.125 \n",
       "Q 57.90625 9.515625 50.796875 4.046875 \n",
       "Q 43.703125 -1.421875 29.984375 -1.421875 \n",
       "Q 24.8125 -1.421875 18.96875 -0.25 \n",
       "Q 13.140625 0.921875 6.890625 3.21875 \n",
       "L 6.890625 13.375 \n",
       "Q 12.890625 10.015625 18.65625 8.296875 \n",
       "Q 24.421875 6.59375 29.984375 6.59375 \n",
       "Q 38.421875 6.59375 43.015625 9.90625 \n",
       "Q 47.609375 13.234375 47.609375 19.390625 \n",
       "Q 47.609375 24.75 44.3125 27.78125 \n",
       "Q 41.015625 30.8125 33.5 32.328125 \n",
       "L 27.484375 33.5 \n",
       "Q 16.453125 35.6875 11.515625 40.375 \n",
       "Q 6.59375 45.0625 6.59375 53.421875 \n",
       "Q 6.59375 63.09375 13.40625 68.65625 \n",
       "Q 20.21875 74.21875 32.171875 74.21875 \n",
       "Q 37.3125 74.21875 42.625 73.28125 \n",
       "Q 47.953125 72.359375 53.515625 70.515625 \n",
       "\" id=\"BitstreamVeraSans-Roman-53\"/>\n",
       "     <path d=\"M 64.40625 67.28125 \n",
       "L 64.40625 56.890625 \n",
       "Q 59.421875 61.53125 53.78125 63.8125 \n",
       "Q 48.140625 66.109375 41.796875 66.109375 \n",
       "Q 29.296875 66.109375 22.65625 58.46875 \n",
       "Q 16.015625 50.828125 16.015625 36.375 \n",
       "Q 16.015625 21.96875 22.65625 14.328125 \n",
       "Q 29.296875 6.6875 41.796875 6.6875 \n",
       "Q 48.140625 6.6875 53.78125 8.984375 \n",
       "Q 59.421875 11.28125 64.40625 15.921875 \n",
       "L 64.40625 5.609375 \n",
       "Q 59.234375 2.09375 53.4375 0.328125 \n",
       "Q 47.65625 -1.421875 41.21875 -1.421875 \n",
       "Q 24.65625 -1.421875 15.125 8.703125 \n",
       "Q 5.609375 18.84375 5.609375 36.375 \n",
       "Q 5.609375 53.953125 15.125 64.078125 \n",
       "Q 24.65625 74.21875 41.21875 74.21875 \n",
       "Q 47.75 74.21875 53.53125 72.484375 \n",
       "Q 59.328125 70.75 64.40625 67.28125 \n",
       "\" id=\"BitstreamVeraSans-Roman-43\"/>\n",
       "     <path d=\"M 14.796875 27.296875 \n",
       "Q 14.796875 17.390625 18.875 11.75 \n",
       "Q 22.953125 6.109375 30.078125 6.109375 \n",
       "Q 37.203125 6.109375 41.296875 11.75 \n",
       "Q 45.40625 17.390625 45.40625 27.296875 \n",
       "Q 45.40625 37.203125 41.296875 42.84375 \n",
       "Q 37.203125 48.484375 30.078125 48.484375 \n",
       "Q 22.953125 48.484375 18.875 42.84375 \n",
       "Q 14.796875 37.203125 14.796875 27.296875 \n",
       "M 45.40625 8.203125 \n",
       "Q 42.578125 3.328125 38.25 0.953125 \n",
       "Q 33.9375 -1.421875 27.875 -1.421875 \n",
       "Q 17.96875 -1.421875 11.734375 6.484375 \n",
       "Q 5.515625 14.40625 5.515625 27.296875 \n",
       "Q 5.515625 40.1875 11.734375 48.09375 \n",
       "Q 17.96875 56 27.875 56 \n",
       "Q 33.9375 56 38.25 53.625 \n",
       "Q 42.578125 51.265625 45.40625 46.390625 \n",
       "L 45.40625 54.6875 \n",
       "L 54.390625 54.6875 \n",
       "L 54.390625 -20.796875 \n",
       "L 45.40625 -20.796875 \n",
       "z\n",
       "\" id=\"BitstreamVeraSans-Roman-71\"/>\n",
       "     <path d=\"M 8.5 21.578125 \n",
       "L 8.5 54.6875 \n",
       "L 17.484375 54.6875 \n",
       "L 17.484375 21.921875 \n",
       "Q 17.484375 14.15625 20.5 10.265625 \n",
       "Q 23.53125 6.390625 29.59375 6.390625 \n",
       "Q 36.859375 6.390625 41.078125 11.03125 \n",
       "Q 45.3125 15.671875 45.3125 23.6875 \n",
       "L 45.3125 54.6875 \n",
       "L 54.296875 54.6875 \n",
       "L 54.296875 0 \n",
       "L 45.3125 0 \n",
       "L 45.3125 8.40625 \n",
       "Q 42.046875 3.421875 37.71875 1 \n",
       "Q 33.40625 -1.421875 27.6875 -1.421875 \n",
       "Q 18.265625 -1.421875 13.375 4.4375 \n",
       "Q 8.5 10.296875 8.5 21.578125 \n",
       "\" id=\"BitstreamVeraSans-Roman-75\"/>\n",
       "     <path d=\"M 19.671875 64.796875 \n",
       "L 19.671875 8.109375 \n",
       "L 31.59375 8.109375 \n",
       "Q 46.6875 8.109375 53.6875 14.9375 \n",
       "Q 60.6875 21.78125 60.6875 36.53125 \n",
       "Q 60.6875 51.171875 53.6875 57.984375 \n",
       "Q 46.6875 64.796875 31.59375 64.796875 \n",
       "z\n",
       "M 9.8125 72.90625 \n",
       "L 30.078125 72.90625 \n",
       "Q 51.265625 72.90625 61.171875 64.09375 \n",
       "Q 71.09375 55.28125 71.09375 36.53125 \n",
       "Q 71.09375 17.671875 61.125 8.828125 \n",
       "Q 51.171875 0 30.078125 0 \n",
       "L 9.8125 0 \n",
       "z\n",
       "\" id=\"BitstreamVeraSans-Roman-44\"/>\n",
       "     <path d=\"M 18.109375 8.203125 \n",
       "L 18.109375 -20.796875 \n",
       "L 9.078125 -20.796875 \n",
       "L 9.078125 54.6875 \n",
       "L 18.109375 54.6875 \n",
       "L 18.109375 46.390625 \n",
       "Q 20.953125 51.265625 25.265625 53.625 \n",
       "Q 29.59375 56 35.59375 56 \n",
       "Q 45.5625 56 51.78125 48.09375 \n",
       "Q 58.015625 40.1875 58.015625 27.296875 \n",
       "Q 58.015625 14.40625 51.78125 6.484375 \n",
       "Q 45.5625 -1.421875 35.59375 -1.421875 \n",
       "Q 29.59375 -1.421875 25.265625 0.953125 \n",
       "Q 20.953125 3.328125 18.109375 8.203125 \n",
       "M 48.6875 27.296875 \n",
       "Q 48.6875 37.203125 44.609375 42.84375 \n",
       "Q 40.53125 48.484375 33.40625 48.484375 \n",
       "Q 26.265625 48.484375 22.1875 42.84375 \n",
       "Q 18.109375 37.203125 18.109375 27.296875 \n",
       "Q 18.109375 17.390625 22.1875 11.75 \n",
       "Q 26.265625 6.109375 33.40625 6.109375 \n",
       "Q 40.53125 6.109375 44.609375 11.75 \n",
       "Q 48.6875 17.390625 48.6875 27.296875 \n",
       "\" id=\"BitstreamVeraSans-Roman-70\"/>\n",
       "     <path d=\"M 48.78125 52.59375 \n",
       "L 48.78125 44.1875 \n",
       "Q 44.96875 46.296875 41.140625 47.34375 \n",
       "Q 37.3125 48.390625 33.40625 48.390625 \n",
       "Q 24.65625 48.390625 19.8125 42.84375 \n",
       "Q 14.984375 37.3125 14.984375 27.296875 \n",
       "Q 14.984375 17.28125 19.8125 11.734375 \n",
       "Q 24.65625 6.203125 33.40625 6.203125 \n",
       "Q 37.3125 6.203125 41.140625 7.25 \n",
       "Q 44.96875 8.296875 48.78125 10.40625 \n",
       "L 48.78125 2.09375 \n",
       "Q 45.015625 0.34375 40.984375 -0.53125 \n",
       "Q 36.96875 -1.421875 32.421875 -1.421875 \n",
       "Q 20.0625 -1.421875 12.78125 6.34375 \n",
       "Q 5.515625 14.109375 5.515625 27.296875 \n",
       "Q 5.515625 40.671875 12.859375 48.328125 \n",
       "Q 20.21875 56 33.015625 56 \n",
       "Q 37.15625 56 41.109375 55.140625 \n",
       "Q 45.0625 54.296875 48.78125 52.59375 \n",
       "\" id=\"BitstreamVeraSans-Roman-63\"/>\n",
       "     <path d=\"M 44.28125 53.078125 \n",
       "L 44.28125 44.578125 \n",
       "Q 40.484375 46.53125 36.375 47.5 \n",
       "Q 32.28125 48.484375 27.875 48.484375 \n",
       "Q 21.1875 48.484375 17.84375 46.4375 \n",
       "Q 14.5 44.390625 14.5 40.28125 \n",
       "Q 14.5 37.15625 16.890625 35.375 \n",
       "Q 19.28125 33.59375 26.515625 31.984375 \n",
       "L 29.59375 31.296875 \n",
       "Q 39.15625 29.25 43.1875 25.515625 \n",
       "Q 47.21875 21.78125 47.21875 15.09375 \n",
       "Q 47.21875 7.46875 41.1875 3.015625 \n",
       "Q 35.15625 -1.421875 24.609375 -1.421875 \n",
       "Q 20.21875 -1.421875 15.453125 -0.5625 \n",
       "Q 10.6875 0.296875 5.421875 2 \n",
       "L 5.421875 11.28125 \n",
       "Q 10.40625 8.6875 15.234375 7.390625 \n",
       "Q 20.0625 6.109375 24.8125 6.109375 \n",
       "Q 31.15625 6.109375 34.5625 8.28125 \n",
       "Q 37.984375 10.453125 37.984375 14.40625 \n",
       "Q 37.984375 18.0625 35.515625 20.015625 \n",
       "Q 33.0625 21.96875 24.703125 23.78125 \n",
       "L 21.578125 24.515625 \n",
       "Q 13.234375 26.265625 9.515625 29.90625 \n",
       "Q 5.8125 33.546875 5.8125 39.890625 \n",
       "Q 5.8125 47.609375 11.28125 51.796875 \n",
       "Q 16.75 56 26.8125 56 \n",
       "Q 31.78125 56 36.171875 55.265625 \n",
       "Q 40.578125 54.546875 44.28125 53.078125 \n",
       "\" id=\"BitstreamVeraSans-Roman-73\"/>\n",
       "     <path d=\"M 45.40625 46.390625 \n",
       "L 45.40625 75.984375 \n",
       "L 54.390625 75.984375 \n",
       "L 54.390625 0 \n",
       "L 45.40625 0 \n",
       "L 45.40625 8.203125 \n",
       "Q 42.578125 3.328125 38.25 0.953125 \n",
       "Q 33.9375 -1.421875 27.875 -1.421875 \n",
       "Q 17.96875 -1.421875 11.734375 6.484375 \n",
       "Q 5.515625 14.40625 5.515625 27.296875 \n",
       "Q 5.515625 40.1875 11.734375 48.09375 \n",
       "Q 17.96875 56 27.875 56 \n",
       "Q 33.9375 56 38.25 53.625 \n",
       "Q 42.578125 51.265625 45.40625 46.390625 \n",
       "M 14.796875 27.296875 \n",
       "Q 14.796875 17.390625 18.875 11.75 \n",
       "Q 22.953125 6.109375 30.078125 6.109375 \n",
       "Q 37.203125 6.109375 41.296875 11.75 \n",
       "Q 45.40625 17.390625 45.40625 27.296875 \n",
       "Q 45.40625 37.203125 41.296875 42.84375 \n",
       "Q 37.203125 48.484375 30.078125 48.484375 \n",
       "Q 22.953125 48.484375 18.875 42.84375 \n",
       "Q 14.796875 37.203125 14.796875 27.296875 \n",
       "\" id=\"BitstreamVeraSans-Roman-64\"/>\n",
       "     <path d=\"M 54.890625 33.015625 \n",
       "L 54.890625 0 \n",
       "L 45.90625 0 \n",
       "L 45.90625 32.71875 \n",
       "Q 45.90625 40.484375 42.875 44.328125 \n",
       "Q 39.84375 48.1875 33.796875 48.1875 \n",
       "Q 26.515625 48.1875 22.3125 43.546875 \n",
       "Q 18.109375 38.921875 18.109375 30.90625 \n",
       "L 18.109375 0 \n",
       "L 9.078125 0 \n",
       "L 9.078125 75.984375 \n",
       "L 18.109375 75.984375 \n",
       "L 18.109375 46.1875 \n",
       "Q 21.34375 51.125 25.703125 53.5625 \n",
       "Q 30.078125 56 35.796875 56 \n",
       "Q 45.21875 56 50.046875 50.171875 \n",
       "Q 54.890625 44.34375 54.890625 33.015625 \n",
       "\" id=\"BitstreamVeraSans-Roman-68\"/>\n",
       "     <path d=\"M 30.609375 48.390625 \n",
       "Q 23.390625 48.390625 19.1875 42.75 \n",
       "Q 14.984375 37.109375 14.984375 27.296875 \n",
       "Q 14.984375 17.484375 19.15625 11.84375 \n",
       "Q 23.34375 6.203125 30.609375 6.203125 \n",
       "Q 37.796875 6.203125 41.984375 11.859375 \n",
       "Q 46.1875 17.53125 46.1875 27.296875 \n",
       "Q 46.1875 37.015625 41.984375 42.703125 \n",
       "Q 37.796875 48.390625 30.609375 48.390625 \n",
       "M 30.609375 56 \n",
       "Q 42.328125 56 49.015625 48.375 \n",
       "Q 55.71875 40.765625 55.71875 27.296875 \n",
       "Q 55.71875 13.875 49.015625 6.21875 \n",
       "Q 42.328125 -1.421875 30.609375 -1.421875 \n",
       "Q 18.84375 -1.421875 12.171875 6.21875 \n",
       "Q 5.515625 13.875 5.515625 27.296875 \n",
       "Q 5.515625 40.765625 12.171875 48.375 \n",
       "Q 18.84375 56 30.609375 56 \n",
       "\" id=\"BitstreamVeraSans-Roman-6f\"/>\n",
       "    </defs>\n",
       "    <g transform=\"translate(83.5865625 16.318125)scale(0.12 -0.12)\">\n",
       "     <use xlink:href=\"#BitstreamVeraSans-Roman-53\"/>\n",
       "     <use x=\"63.4765625\" xlink:href=\"#BitstreamVeraSans-Roman-68\"/>\n",
       "     <use x=\"126.85546875\" xlink:href=\"#BitstreamVeraSans-Roman-75\"/>\n",
       "     <use x=\"190.234375\" xlink:href=\"#BitstreamVeraSans-Roman-6e\"/>\n",
       "     <use x=\"253.61328125\" xlink:href=\"#BitstreamVeraSans-Roman-74\"/>\n",
       "     <use x=\"292.822265625\" xlink:href=\"#BitstreamVeraSans-Roman-20\"/>\n",
       "     <use x=\"324.609375\" xlink:href=\"#BitstreamVeraSans-Roman-44\"/>\n",
       "     <use x=\"401.611328125\" xlink:href=\"#BitstreamVeraSans-Roman-43\"/>\n",
       "     <use x=\"471.435546875\" xlink:href=\"#BitstreamVeraSans-Roman-20\"/>\n",
       "     <use x=\"503.22265625\" xlink:href=\"#BitstreamVeraSans-Roman-4d\"/>\n",
       "     <use x=\"589.501953125\" xlink:href=\"#BitstreamVeraSans-Roman-6f\"/>\n",
       "     <use x=\"650.68359375\" xlink:href=\"#BitstreamVeraSans-Roman-74\"/>\n",
       "     <use x=\"689.892578125\" xlink:href=\"#BitstreamVeraSans-Roman-6f\"/>\n",
       "     <use x=\"751.07421875\" xlink:href=\"#BitstreamVeraSans-Roman-72\"/>\n",
       "     <use x=\"792.1875\" xlink:href=\"#BitstreamVeraSans-Roman-20\"/>\n",
       "     <use x=\"823.974609375\" xlink:href=\"#BitstreamVeraSans-Roman-54\"/>\n",
       "     <use x=\"884.79296875\" xlink:href=\"#BitstreamVeraSans-Roman-6f\"/>\n",
       "     <use x=\"945.974609375\" xlink:href=\"#BitstreamVeraSans-Roman-72\"/>\n",
       "     <use x=\"987.072265625\" xlink:href=\"#BitstreamVeraSans-Roman-71\"/>\n",
       "     <use x=\"1050.548828125\" xlink:href=\"#BitstreamVeraSans-Roman-75\"/>\n",
       "     <use x=\"1113.927734375\" xlink:href=\"#BitstreamVeraSans-Roman-65\"/>\n",
       "     <use x=\"1175.451171875\" xlink:href=\"#BitstreamVeraSans-Roman-2d\"/>\n",
       "     <use x=\"1211.53515625\" xlink:href=\"#BitstreamVeraSans-Roman-53\"/>\n",
       "     <use x=\"1275.01171875\" xlink:href=\"#BitstreamVeraSans-Roman-70\"/>\n",
       "     <use x=\"1338.48828125\" xlink:href=\"#BitstreamVeraSans-Roman-65\"/>\n",
       "     <use x=\"1400.01171875\" xlink:href=\"#BitstreamVeraSans-Roman-65\"/>\n",
       "     <use x=\"1461.53515625\" xlink:href=\"#BitstreamVeraSans-Roman-64\"/>\n",
       "     <use x=\"1525.01171875\" xlink:href=\"#BitstreamVeraSans-Roman-20\"/>\n",
       "     <use x=\"1556.798828125\" xlink:href=\"#BitstreamVeraSans-Roman-43\"/>\n",
       "     <use x=\"1626.623046875\" xlink:href=\"#BitstreamVeraSans-Roman-68\"/>\n",
       "     <use x=\"1690.001953125\" xlink:href=\"#BitstreamVeraSans-Roman-61\"/>\n",
       "     <use x=\"1751.28125\" xlink:href=\"#BitstreamVeraSans-Roman-72\"/>\n",
       "     <use x=\"1792.39453125\" xlink:href=\"#BitstreamVeraSans-Roman-61\"/>\n",
       "     <use x=\"1853.673828125\" xlink:href=\"#BitstreamVeraSans-Roman-63\"/>\n",
       "     <use x=\"1908.654296875\" xlink:href=\"#BitstreamVeraSans-Roman-74\"/>\n",
       "     <use x=\"1947.86328125\" xlink:href=\"#BitstreamVeraSans-Roman-65\"/>\n",
       "     <use x=\"2009.38671875\" xlink:href=\"#BitstreamVeraSans-Roman-72\"/>\n",
       "     <use x=\"2050.5\" xlink:href=\"#BitstreamVeraSans-Roman-69\"/>\n",
       "     <use x=\"2078.283203125\" xlink:href=\"#BitstreamVeraSans-Roman-73\"/>\n",
       "     <use x=\"2130.3828125\" xlink:href=\"#BitstreamVeraSans-Roman-74\"/>\n",
       "     <use x=\"2169.591796875\" xlink:href=\"#BitstreamVeraSans-Roman-69\"/>\n",
       "     <use x=\"2197.375\" xlink:href=\"#BitstreamVeraSans-Roman-63\"/>\n",
       "    </g>\n",
       "   </g>\n",
       "   <g id=\"legend_1\">\n",
       "    <g id=\"patch_7\">\n",
       "     <path d=\"M 196.595625 66.145625 \n",
       "L 380.128125 66.145625 \n",
       "L 380.128125 27.318125 \n",
       "L 196.595625 27.318125 \n",
       "z\n",
       "\" style=\"fill:#ffffff;stroke:#000000;stroke-linejoin:miter;\"/>\n",
       "    </g>\n",
       "    <g id=\"line2d_51\">\n",
       "     <path d=\"M 204.995625 37.03625 \n",
       "L 221.795625 37.03625 \n",
       "\" style=\"fill:none;stroke:#0000ff;stroke-linecap:square;\"/>\n",
       "    </g>\n",
       "    <g id=\"line2d_52\"/>\n",
       "    <g id=\"text_20\">\n",
       "     <!-- No armature reaction -->\n",
       "     <g transform=\"translate(234.995625 41.23625)scale(0.12 -0.12)\">\n",
       "      <use xlink:href=\"#BitstreamVeraSans-Roman-4e\"/>\n",
       "      <use x=\"74.8046875\" xlink:href=\"#BitstreamVeraSans-Roman-6f\"/>\n",
       "      <use x=\"135.986328125\" xlink:href=\"#BitstreamVeraSans-Roman-20\"/>\n",
       "      <use x=\"167.7734375\" xlink:href=\"#BitstreamVeraSans-Roman-61\"/>\n",
       "      <use x=\"229.052734375\" xlink:href=\"#BitstreamVeraSans-Roman-72\"/>\n",
       "      <use x=\"270.150390625\" xlink:href=\"#BitstreamVeraSans-Roman-6d\"/>\n",
       "      <use x=\"367.5625\" xlink:href=\"#BitstreamVeraSans-Roman-61\"/>\n",
       "      <use x=\"428.841796875\" xlink:href=\"#BitstreamVeraSans-Roman-74\"/>\n",
       "      <use x=\"468.05078125\" xlink:href=\"#BitstreamVeraSans-Roman-75\"/>\n",
       "      <use x=\"531.4296875\" xlink:href=\"#BitstreamVeraSans-Roman-72\"/>\n",
       "      <use x=\"572.51171875\" xlink:href=\"#BitstreamVeraSans-Roman-65\"/>\n",
       "      <use x=\"634.03515625\" xlink:href=\"#BitstreamVeraSans-Roman-20\"/>\n",
       "      <use x=\"665.822265625\" xlink:href=\"#BitstreamVeraSans-Roman-72\"/>\n",
       "      <use x=\"706.904296875\" xlink:href=\"#BitstreamVeraSans-Roman-65\"/>\n",
       "      <use x=\"768.427734375\" xlink:href=\"#BitstreamVeraSans-Roman-61\"/>\n",
       "      <use x=\"829.70703125\" xlink:href=\"#BitstreamVeraSans-Roman-63\"/>\n",
       "      <use x=\"884.6875\" xlink:href=\"#BitstreamVeraSans-Roman-74\"/>\n",
       "      <use x=\"923.896484375\" xlink:href=\"#BitstreamVeraSans-Roman-69\"/>\n",
       "      <use x=\"951.6796875\" xlink:href=\"#BitstreamVeraSans-Roman-6f\"/>\n",
       "      <use x=\"1012.861328125\" xlink:href=\"#BitstreamVeraSans-Roman-6e\"/>\n",
       "     </g>\n",
       "    </g>\n",
       "    <g id=\"line2d_53\">\n",
       "     <path d=\"M 204.995625 54.65 \n",
       "L 221.795625 54.65 \n",
       "\" style=\"fill:none;stroke:#008000;stroke-linecap:square;\"/>\n",
       "    </g>\n",
       "    <g id=\"line2d_54\"/>\n",
       "    <g id=\"text_21\">\n",
       "     <!-- With armature reaction -->\n",
       "     <defs>\n",
       "      <path d=\"M 3.328125 72.90625 \n",
       "L 13.28125 72.90625 \n",
       "L 28.609375 11.28125 \n",
       "L 43.890625 72.90625 \n",
       "L 54.984375 72.90625 \n",
       "L 70.3125 11.28125 \n",
       "L 85.59375 72.90625 \n",
       "L 95.609375 72.90625 \n",
       "L 77.296875 0 \n",
       "L 64.890625 0 \n",
       "L 49.515625 63.28125 \n",
       "L 33.984375 0 \n",
       "L 21.578125 0 \n",
       "z\n",
       "\" id=\"BitstreamVeraSans-Roman-57\"/>\n",
       "     </defs>\n",
       "     <g transform=\"translate(234.995625 58.85)scale(0.12 -0.12)\">\n",
       "      <use xlink:href=\"#BitstreamVeraSans-Roman-57\"/>\n",
       "      <use x=\"98.845703125\" xlink:href=\"#BitstreamVeraSans-Roman-69\"/>\n",
       "      <use x=\"126.62890625\" xlink:href=\"#BitstreamVeraSans-Roman-74\"/>\n",
       "      <use x=\"165.837890625\" xlink:href=\"#BitstreamVeraSans-Roman-68\"/>\n",
       "      <use x=\"229.216796875\" xlink:href=\"#BitstreamVeraSans-Roman-20\"/>\n",
       "      <use x=\"261.00390625\" xlink:href=\"#BitstreamVeraSans-Roman-61\"/>\n",
       "      <use x=\"322.283203125\" xlink:href=\"#BitstreamVeraSans-Roman-72\"/>\n",
       "      <use x=\"363.380859375\" xlink:href=\"#BitstreamVeraSans-Roman-6d\"/>\n",
       "      <use x=\"460.79296875\" xlink:href=\"#BitstreamVeraSans-Roman-61\"/>\n",
       "      <use x=\"522.072265625\" xlink:href=\"#BitstreamVeraSans-Roman-74\"/>\n",
       "      <use x=\"561.28125\" xlink:href=\"#BitstreamVeraSans-Roman-75\"/>\n",
       "      <use x=\"624.66015625\" xlink:href=\"#BitstreamVeraSans-Roman-72\"/>\n",
       "      <use x=\"665.7421875\" xlink:href=\"#BitstreamVeraSans-Roman-65\"/>\n",
       "      <use x=\"727.265625\" xlink:href=\"#BitstreamVeraSans-Roman-20\"/>\n",
       "      <use x=\"759.052734375\" xlink:href=\"#BitstreamVeraSans-Roman-72\"/>\n",
       "      <use x=\"800.134765625\" xlink:href=\"#BitstreamVeraSans-Roman-65\"/>\n",
       "      <use x=\"861.658203125\" xlink:href=\"#BitstreamVeraSans-Roman-61\"/>\n",
       "      <use x=\"922.9375\" xlink:href=\"#BitstreamVeraSans-Roman-63\"/>\n",
       "      <use x=\"977.91796875\" xlink:href=\"#BitstreamVeraSans-Roman-74\"/>\n",
       "      <use x=\"1017.126953125\" xlink:href=\"#BitstreamVeraSans-Roman-69\"/>\n",
       "      <use x=\"1044.91015625\" xlink:href=\"#BitstreamVeraSans-Roman-6f\"/>\n",
       "      <use x=\"1106.091796875\" xlink:href=\"#BitstreamVeraSans-Roman-6e\"/>\n",
       "     </g>\n",
       "    </g>\n",
       "   </g>\n",
       "  </g>\n",
       " </g>\n",
       " <defs>\n",
       "  <clipPath id=\"p11d5ffd7f3\">\n",
       "   <rect height=\"223.2\" width=\"334.8\" x=\"51.328125\" y=\"21.318125\"/>\n",
       "  </clipPath>\n",
       " </defs>\n",
       "</svg>\n"
      ],
      "text/plain": [
       "<matplotlib.figure.Figure at 0x7f01b5bf56d8>"
      ]
     },
     "metadata": {},
     "output_type": "display_data"
    }
   ],
   "source": [
    "title(r'Shunt DC Motor Torque-Speed Characteristic')\n",
    "xlabel(r'$\\tau_{ind}$ [Nm]')\n",
    "ylabel(r'$n_m$ [r/min]')\n",
    "plot(tau_ind_noar_7, n_noar_7, tau_ind_ar_7, n_ar_7)\n",
    "legend(('No armature reaction', 'With armature reaction'), loc=1)\n",
    "grid()"
   ]
  },
  {
   "cell_type": "markdown",
   "metadata": {},
   "source": [
    "<hr>\n",
    "\n",
    "For Problems 8-8 and 8-9, the shunt dc motor is reconnected separately excited, as shown in Figure P8-3. \n",
    "\n",
    "It has a fixed field voltage $V_F$ of 240 V and an armature voltage $V_A$ that can be varied from 120 to 240 V.\n",
    "\n",
    "<img src=\"figs/FigC_P8-3.jpg\" width=\"70%\">"
   ]
  },
  {
   "cell_type": "markdown",
   "metadata": {},
   "source": [
    "## Problem 8-8"
   ]
  },
  {
   "cell_type": "markdown",
   "metadata": {},
   "source": [
    "### Description"
   ]
  },
  {
   "cell_type": "markdown",
   "metadata": {},
   "source": [
    "What is the no-load speed of this separately excited motor when $R_\\text{adj} = 175\\, \\Omega$ and \n",
    "\n",
    "#### (a)\n",
    "$V_A = 120\\,V$\n",
    "\n",
    "#### (b)\n",
    "$V_A = 180\\,V$\n",
    "\n",
    "#### (c)\n",
    "$V_A = 240\\,V$"
   ]
  },
  {
   "cell_type": "code",
   "execution_count": 40,
   "metadata": {},
   "outputs": [],
   "source": [
    "Radj_8 = 175.0 # [Ohm]"
   ]
  },
  {
   "cell_type": "markdown",
   "metadata": {},
   "source": [
    "### SOLUTION"
   ]
  },
  {
   "cell_type": "markdown",
   "metadata": {},
   "source": [
    "At no-load conditions, $E_A = V_A$ . The field current is given by:\n",
    "\n",
    "$$I_F = \\frac{V_T}{R_\\text{adj}+R_F}$$"
   ]
  },
  {
   "cell_type": "code",
   "execution_count": 41,
   "metadata": {},
   "outputs": [
    {
     "data": {
      "text/plain": [
       "0.96"
      ]
     },
     "execution_count": 41,
     "metadata": {},
     "output_type": "execute_result"
    }
   ],
   "source": [
    "If_8 = Vt/ (Radj_8+Rf)\n",
    "If_8 # [A]"
   ]
  },
  {
   "cell_type": "markdown",
   "metadata": {},
   "source": [
    "From Figure P8-1, this field current would produce an internal generated voltage $E_{A0}$ of 241 V at a speed"
   ]
  },
  {
   "cell_type": "code",
   "execution_count": 42,
   "metadata": {},
   "outputs": [
    {
     "data": {
      "text/plain": [
       "1800"
      ]
     },
     "execution_count": 42,
     "metadata": {},
     "output_type": "execute_result"
    }
   ],
   "source": [
    "n_0"
   ]
  },
  {
   "cell_type": "markdown",
   "metadata": {},
   "source": [
    "r/min. Therefore,\n",
    "\n",
    "$$\\frac{E_A}{E_{A_0}} = \\frac{n}{n_0}$$"
   ]
  },
  {
   "cell_type": "code",
   "execution_count": 43,
   "metadata": {},
   "outputs": [],
   "source": [
    "Ea0_8 = 241.0 # [V]"
   ]
  },
  {
   "cell_type": "markdown",
   "metadata": {},
   "source": [
    "#### (a)\n",
    "If $V_A = 120\\,V$, then $E_A =\\,120 V$"
   ]
  },
  {
   "cell_type": "code",
   "execution_count": 44,
   "metadata": {},
   "outputs": [
    {
     "name": "stdout",
     "output_type": "stream",
     "text": [
      "\n",
      "n_8_a = 896.3 r/min\n",
      "===================\n"
     ]
    }
   ],
   "source": [
    "Ea_8_a = 120 # [V]\n",
    "n_8_a = (Ea_8_a / Ea0_8) *n_0\n",
    "print('''\n",
    "n_8_a = {:.1f} r/min\n",
    "==================='''.format(n_8_a))"
   ]
  },
  {
   "cell_type": "markdown",
   "metadata": {},
   "source": [
    "#### (b)\n",
    "If $V_A = 180\\,V$, then $E_A = 180\\,V$"
   ]
  },
  {
   "cell_type": "code",
   "execution_count": 45,
   "metadata": {},
   "outputs": [
    {
     "name": "stdout",
     "output_type": "stream",
     "text": [
      "\n",
      "n_8_b = 1344.4 r/min\n",
      "====================\n"
     ]
    }
   ],
   "source": [
    "Ea_8_b = 180 # [V]\n",
    "n_8_b = (Ea_8_b / Ea0_8) * n_0\n",
    "print('''\n",
    "n_8_b = {:.1f} r/min\n",
    "===================='''.format(n_8_b))"
   ]
  },
  {
   "cell_type": "markdown",
   "metadata": {},
   "source": [
    "#### (c)\n",
    "If $V_A = 240\\,V$, then $E_A = 240\\,V$"
   ]
  },
  {
   "cell_type": "code",
   "execution_count": 46,
   "metadata": {},
   "outputs": [
    {
     "name": "stdout",
     "output_type": "stream",
     "text": [
      "\n",
      "n_8_c = 1792.5 r/min\n",
      "====================\n"
     ]
    }
   ],
   "source": [
    "Ea_8_c = 240 # [V]\n",
    "n_8_c = (Ea_8_c / Ea0_8) * n_0\n",
    "print('''\n",
    "n_8_c = {:.1f} r/min\n",
    "===================='''.format(n_8_c))"
   ]
  },
  {
   "cell_type": "markdown",
   "metadata": {},
   "source": [
    "## Problem 8-9"
   ]
  },
  {
   "cell_type": "markdown",
   "metadata": {},
   "source": [
    "### Description"
   ]
  },
  {
   "cell_type": "markdown",
   "metadata": {},
   "source": [
    "For the separately excited motor of Problem 8-8:\n",
    "\n",
    "#### (a)\n",
    " * What is the maximum no-load speed attainable by varying both $V_A$ and $R_\\text{adj}$ ?\n",
    " \n",
    "#### (b)\n",
    " * What is the minimum no-load speed attainable by varying both $V_A$ and $R_\\text{adj}$ ?\n",
    " \n",
    "#### (c)\n",
    " * What is the motor’s efficiency at rated conditions? \n",
    " \n",
    " <hr>\n",
    "**Note:**\n",
    "\n",
    "Assume that\n",
    "\n",
    "(1) the brush voltage drop is 2 V;\n",
    "\n",
    "(2) the core loss is to e determined at an armature voltage equal to the armature voltage under full load; \n",
    "\n",
    "(3) stray load losses are 1 percent of full load.\n",
    "<hr>"
   ]
  },
  {
   "cell_type": "markdown",
   "metadata": {},
   "source": [
    "### SOLUTION"
   ]
  },
  {
   "cell_type": "markdown",
   "metadata": {},
   "source": [
    "#### (a)\n",
    "The maximum speed will occur with the maximum $V_A$ and the maximum $R_\\text{adj}$. The field current for $R_\\text{adj} = 400\\,\\Omega$ is:"
   ]
  },
  {
   "cell_type": "code",
   "execution_count": 47,
   "metadata": {},
   "outputs": [
    {
     "data": {
      "text/plain": [
       "0.5053"
      ]
     },
     "execution_count": 47,
     "metadata": {},
     "output_type": "execute_result"
    }
   ],
   "source": [
    "Radj_9_a = 400.0 # [Ohm]\n",
    "If_9_a = Vt / (Radj_9_a+Rf)\n",
    "If_9_a # [A]"
   ]
  },
  {
   "cell_type": "markdown",
   "metadata": {},
   "source": [
    "From Figure P8-1, this field current would produce an internal generated voltage $E_{A_0}$ of 167 V at a speed "
   ]
  },
  {
   "cell_type": "code",
   "execution_count": 48,
   "metadata": {},
   "outputs": [
    {
     "data": {
      "text/plain": [
       "1800"
      ]
     },
     "execution_count": 48,
     "metadata": {},
     "output_type": "execute_result"
    }
   ],
   "source": [
    "n_0"
   ]
  },
  {
   "cell_type": "markdown",
   "metadata": {},
   "source": [
    "r/min. At no-load conditions, the maximum internal generated voltage $E_A = V_A = 240\\,V$.\n",
    "Therefore, the speed $n$ with a voltage of 240 V would be:"
   ]
  },
  {
   "cell_type": "code",
   "execution_count": 49,
   "metadata": {},
   "outputs": [
    {
     "name": "stdout",
     "output_type": "stream",
     "text": [
      "\n",
      "n_9_a = 2586.8 r/min\n",
      "====================\n"
     ]
    }
   ],
   "source": [
    "Ea_9_a = 240.0 # [V]\n",
    "Ea0_9_a = 167.0 # [V]\n",
    "n_9_a = (Ea_9_a / Ea0_9_a) * n_0\n",
    "print('''\n",
    "n_9_a = {:.1f} r/min\n",
    "===================='''.format(n_9_a))"
   ]
  },
  {
   "cell_type": "markdown",
   "metadata": {},
   "source": [
    "#### (b)\n",
    "The minimum speed will occur with the maximum $V_A$ and the maximum $R_\\text{adj}$. The field current for $R_\\text{adj} = 100 \\Omega$ is:"
   ]
  },
  {
   "cell_type": "code",
   "execution_count": 50,
   "metadata": {},
   "outputs": [
    {
     "data": {
      "text/plain": [
       "1.371"
      ]
     },
     "execution_count": 50,
     "metadata": {},
     "output_type": "execute_result"
    }
   ],
   "source": [
    "Radj_9_b = 100.0 # [Ohm]\n",
    "If_9_b = Vt / (Radj_9_b+Rf)\n",
    "If_9_b # [A]"
   ]
  },
  {
   "cell_type": "markdown",
   "metadata": {},
   "source": [
    "From Figure P8-1, this field current would produce an internal generated voltage $E_{Ao}$ of 271 V at a speed"
   ]
  },
  {
   "cell_type": "code",
   "execution_count": 51,
   "metadata": {},
   "outputs": [
    {
     "data": {
      "text/plain": [
       "1800"
      ]
     },
     "execution_count": 51,
     "metadata": {},
     "output_type": "execute_result"
    }
   ],
   "source": [
    "n_0"
   ]
  },
  {
   "cell_type": "markdown",
   "metadata": {},
   "source": [
    "r/min. At no-load conditions, the maximum internal generated voltage $E_A = V_A = 120\\,V$.\n",
    "Therefore, the speed $n$ with a voltage of 120 V would be:"
   ]
  },
  {
   "cell_type": "code",
   "execution_count": 52,
   "metadata": {},
   "outputs": [
    {
     "name": "stdout",
     "output_type": "stream",
     "text": [
      "\n",
      "n_9_b = 797.0 r/min\n",
      "===================\n"
     ]
    }
   ],
   "source": [
    "Ea_9_b = 120.0 # [V]\n",
    "Ea0_9_b = 271.0 # [V]\n",
    "n_9_b = (Ea_9_b / Ea0_9_b) * n_0\n",
    "print('''\n",
    "n_9_b = {:.1f} r/min\n",
    "==================='''.format(n_9_b))"
   ]
  }
 ],
 "metadata": {
  "kernelspec": {
   "display_name": "Python 3",
   "language": "python",
   "name": "python3"
  },
  "language_info": {
   "codemirror_mode": {
    "name": "ipython",
    "version": 3
   },
   "file_extension": ".py",
   "mimetype": "text/x-python",
   "name": "python",
   "nbconvert_exporter": "python",
   "pygments_lexer": "ipython3",
   "version": "3.6.7"
  }
 },
 "nbformat": 4,
 "nbformat_minor": 1
}
