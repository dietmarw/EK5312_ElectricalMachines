{
 "cells": [
  {
   "cell_type": "markdown",
   "metadata": {},
   "source": [
    "# Excercises Electric Machinery Fundamentals\n",
    "## Chapter 2"
   ]
  },
  {
   "cell_type": "markdown",
   "metadata": {},
   "source": [
    "## Problem 2-9"
   ]
  },
  {
   "cell_type": "code",
   "execution_count": 1,
   "metadata": {
    "collapsed": false,
    "slideshow": {
     "slide_type": "skip"
    }
   },
   "outputs": [
    {
     "name": "stdout",
     "output_type": "stream",
     "text": [
      "Populating the interactive namespace from numpy and matplotlib\n"
     ]
    }
   ],
   "source": [
    "%pylab inline"
   ]
  },
  {
   "cell_type": "markdown",
   "metadata": {},
   "source": [
    "### Description"
   ]
  },
  {
   "cell_type": "markdown",
   "metadata": {},
   "source": [
    "A 5000-kVA 230/13.8-kV single-phase power transformer has a per-unit resistance of 1 percent and a per-unit reactance of 5 percent (data taken from the transformer’s nameplate). "
   ]
  },
  {
   "cell_type": "code",
   "execution_count": 2,
   "metadata": {
    "collapsed": false
   },
   "outputs": [],
   "source": [
    "Sbase = 5000e3  # [VA]\n",
    "Vp0 = 230e3     # [V]\n",
    "Vs0 = 13.8e3    # [V]\n",
    "Req_pu = 0.01\n",
    "Xeq_pu = 0.05"
   ]
  },
  {
   "cell_type": "markdown",
   "metadata": {},
   "source": [
    "The open-circuit test performed on the low-voltage side of the transformer yielded the following data:\n",
    "\n",
    "$$V_{OC} = 13.8kV \\qquad I_{OC} = 21.1A \\qquad P_{OC} = 90.8kW$$"
   ]
  },
  {
   "cell_type": "code",
   "execution_count": 3,
   "metadata": {
    "collapsed": false
   },
   "outputs": [],
   "source": [
    "Voc = 13.8e3  # [V]\n",
    "Ioc = 21.1    # [A]\n",
    "Poc = 90.8e3  # [W]"
   ]
  },
  {
   "cell_type": "markdown",
   "metadata": {},
   "source": [
    "#### (a)\n",
    "\n",
    " * Find the equivalent circuit referred to the low-voltage side of this transformer.\n",
    " \n",
    "#### (b)\n",
    "\n",
    "If the voltage on the secondary side is 13.8 kV and the power supplied is 4000 kW at 0.8 PF lagging.\n",
    "\n",
    " * Find the voltage regulation of the transformer. \n",
    " * Find its efficiency."
   ]
  },
  {
   "cell_type": "markdown",
   "metadata": {},
   "source": [
    "### SOLUTION"
   ]
  },
  {
   "cell_type": "markdown",
   "metadata": {},
   "source": [
    "#### (a)\n",
    "\n",
    "The open-circuit test was performed on the low-voltage side of the transformer, so it can be used to directly find the components of the excitation branch relative to the low-voltage side.\n",
    "\n",
    "$$|Y_{EX}| = |G_{C} - jB_{M}| = \\frac{I_{OC}}{V_{OC}}$$"
   ]
  },
  {
   "cell_type": "code",
   "execution_count": 4,
   "metadata": {
    "collapsed": false
   },
   "outputs": [
    {
     "name": "stdout",
     "output_type": "stream",
     "text": [
      "yex = 0.001529\n"
     ]
    }
   ],
   "source": [
    "yex = Ioc / Voc\n",
    "print('yex = {:.6f}'.format(yex))"
   ]
  },
  {
   "cell_type": "markdown",
   "metadata": {},
   "source": [
    "$\\theta = \\arccos\\frac{P_{OC}}{V_{OC}I_{OC}}$"
   ]
  },
  {
   "cell_type": "code",
   "execution_count": 5,
   "metadata": {
    "collapsed": false
   },
   "outputs": [
    {
     "name": "stdout",
     "output_type": "stream",
     "text": [
      "theta = 71.83°\n"
     ]
    }
   ],
   "source": [
    "theta = arccos(Poc/(Voc*Ioc))\n",
    "print('theta = {:.2f}°'.format(theta/pi*180))  # print the angle in degrees"
   ]
  },
  {
   "cell_type": "code",
   "execution_count": 6,
   "metadata": {
    "collapsed": false
   },
   "outputs": [
    {
     "name": "stdout",
     "output_type": "stream",
     "text": [
      "Yex = 0.0004768-0.0014527j S\n"
     ]
    }
   ],
   "source": [
    "Yex = yex * (cos(theta) - sin(theta)*1j)\n",
    "print('Yex = {:.7f} S'.format(Yex))"
   ]
  },
  {
   "cell_type": "markdown",
   "metadata": {},
   "source": [
    "$$Y_{EX} = G_C - jB_M$$"
   ]
  },
  {
   "cell_type": "code",
   "execution_count": 7,
   "metadata": {
    "collapsed": false
   },
   "outputs": [
    {
     "name": "stdout",
     "output_type": "stream",
     "text": [
      "Rc = 2097 Ω\n",
      "Xm =  688 Ω\n"
     ]
    }
   ],
   "source": [
    "Gc = Yex.real\n",
    "Bm = -Yex.imag\n",
    "Rc = 1/Gc\n",
    "Xm = 1/Bm\n",
    "print('Rc = {:4.0f} Ω'.format(Rc))\n",
    "print('Xm = {:4.0f} Ω'.format(Xm))"
   ]
  },
  {
   "cell_type": "markdown",
   "metadata": {},
   "source": [
    "The base impedance of this transformer referred to the secondary side is:\n",
    "\n",
    "$$Z_\\text{base} = \\frac{V^2_\\text{base}}{S_\\text{base}}$$"
   ]
  },
  {
   "cell_type": "code",
   "execution_count": 8,
   "metadata": {
    "collapsed": false
   },
   "outputs": [
    {
     "name": "stdout",
     "output_type": "stream",
     "text": [
      "Zbase = 38.09 Ω\n"
     ]
    }
   ],
   "source": [
    "Vbase = Vs0\n",
    "Zbase = Vbase**2 / Sbase\n",
    "print('Zbase = {:.2f} Ω'.format(Zbase))"
   ]
  },
  {
   "cell_type": "markdown",
   "metadata": {},
   "source": [
    "Thus:"
   ]
  },
  {
   "cell_type": "code",
   "execution_count": 9,
   "metadata": {
    "collapsed": false
   },
   "outputs": [
    {
     "name": "stdout",
     "output_type": "stream",
     "text": [
      "Req = 0.38 Ω\n",
      "Xeq = 1.90 Ω\n"
     ]
    }
   ],
   "source": [
    "Req = Req_pu * Zbase\n",
    "Xeq = Xeq_pu * Zbase\n",
    "print('Req = {:4.2f} Ω'.format(Req))\n",
    "print('Xeq = {:4.2f} Ω'.format(Xeq))"
   ]
  },
  {
   "cell_type": "markdown",
   "metadata": {},
   "source": [
    "**The resulting equivalent circuit is shown below:**\n",
    "\n",
    "<img src=\"figs/Problem_2-09.jpg\" width=\"50%\">"
   ]
  },
  {
   "cell_type": "code",
   "execution_count": 10,
   "metadata": {
    "collapsed": false
   },
   "outputs": [
    {
     "name": "stdout",
     "output_type": "stream",
     "text": [
      "\n",
      "Req,s = 0.38 Ω   Xeq,s = 1.9 Ω \n",
      "Rc,s  = 2097 Ω    Xm,s = 688 Ω \n",
      "==============================\n",
      "\n"
     ]
    }
   ],
   "source": [
    "print('''\n",
    "Req,s = {:.2f} Ω   Xeq,s = {:.1f} Ω \n",
    "Rc,s  = {:.0f} Ω    Xm,s = {:.0f} Ω \n",
    "==============================\n",
    "'''.format(Req, Xeq, Rc, Xm))"
   ]
  },
  {
   "cell_type": "markdown",
   "metadata": {},
   "source": [
    "#### (b)\n",
    "\n",
    "If the load on the secondary side of the transformer is 4000 kW at 0.8 PF lagging and the secondary voltage is 13.8 kV, the secondary current is:\n",
    "$$I_S = \\frac{P_{LOAD}}{V_SPF}$$"
   ]
  },
  {
   "cell_type": "code",
   "execution_count": 11,
   "metadata": {
    "collapsed": false
   },
   "outputs": [
    {
     "name": "stdout",
     "output_type": "stream",
     "text": [
      "Is_b = 362.3 A\n"
     ]
    }
   ],
   "source": [
    "Pload_b = 4000e3 # [W]\n",
    "VS_b    = 13.8e3 # [V]\n",
    "PF      = 0.8\n",
    "\n",
    "Is_b = Pload_b / (abs(VS_b) * PF)\n",
    "print('Is_b = {:.1f} A'.format(Is_b))"
   ]
  },
  {
   "cell_type": "code",
   "execution_count": 12,
   "metadata": {
    "collapsed": false
   },
   "outputs": [
    {
     "name": "stdout",
     "output_type": "stream",
     "text": [
      "IS_b = 362.3 A ∠-36.87°\n"
     ]
    }
   ],
   "source": [
    "Is_b_angle = -arccos(PF)    # [rad]\n",
    "IS_b = Is_b * (cos(Is_b_angle) + sin(Is_b_angle)*1j)\n",
    "print('IS_b = {:.1f} A ∠{:.2f}°'.format(\n",
    "            abs(IS_b), Is_b_angle/pi*180))"
   ]
  },
  {
   "cell_type": "markdown",
   "metadata": {},
   "source": [
    "The voltage on the primary side of the transformer (referred to the secondary side) is:\n",
    "$$\\vec{V}'_P = \\vec{V}_S + \\vec{I}_SZ_{EQ}$$"
   ]
  },
  {
   "cell_type": "code",
   "execution_count": 13,
   "metadata": {
    "collapsed": false
   },
   "outputs": [
    {
     "name": "stdout",
     "output_type": "stream",
     "text": [
      "V_P = 14332 V ∠1.9°\n"
     ]
    }
   ],
   "source": [
    "Zeq = Req + Xeq*1j\n",
    "V_P = VS_b + IS_b*Zeq\n",
    "V_P_angle = arctan(V_P.imag/V_P.real)\n",
    "print('V_P = {:.0f} V ∠{:.1f}°'.format(\n",
    "            abs(V_P), V_P_angle/pi*180))"
   ]
  },
  {
   "cell_type": "markdown",
   "metadata": {},
   "source": [
    "There is a voltage drop under these load conditions. \n",
    "\n",
    "**Therefore the voltage regulation of the transformer is:**\n",
    "\n",
    "$$VR = \\frac{V'_P-V_S}{V_S} \\cdot 100\\%$$"
   ]
  },
  {
   "cell_type": "code",
   "execution_count": 14,
   "metadata": {
    "collapsed": false
   },
   "outputs": [
    {
     "name": "stdout",
     "output_type": "stream",
     "text": [
      "VR = 3.86 %\n",
      "===========\n"
     ]
    }
   ],
   "source": [
    "VR = (abs(V_P)-abs(VS_b)) / abs(VS_b) *100\n",
    "print('VR = {:.2f} %'.format(VR))\n",
    "print('===========')"
   ]
  },
  {
   "cell_type": "markdown",
   "metadata": {},
   "source": [
    "The transformer copper losses and core losses are:\n",
    "\n",
    "$$P_{CU} = I^2_S R_{EQ,S}$$\n",
    "\n",
    "$$P_{core} = \\frac{(V'_P)^2}{R_C}$$"
   ]
  },
  {
   "cell_type": "code",
   "execution_count": 15,
   "metadata": {
    "collapsed": false
   },
   "outputs": [
    {
     "name": "stdout",
     "output_type": "stream",
     "text": [
      "Pcu   = 50.0 kW\n",
      "Pcore = 97.9 kW\n"
     ]
    }
   ],
   "source": [
    "Pcu = abs(IS_b)**2 * Req\n",
    "Pcore = abs(V_P)**2 / Rc\n",
    "print('Pcu   = {:.1f} kW'.format(Pcu/1000))\n",
    "print('Pcore = {:.1f} kW'.format(Pcore/1000))"
   ]
  },
  {
   "cell_type": "markdown",
   "metadata": {},
   "source": [
    "**Therefore the efficiency of this transformer at these conditions is:**\n",
    "\n",
    "$$\\eta = \\frac{P_{OUT}}{P_{OUT}+P_{CU}+P_{core}} \\cdot 100\\%$$"
   ]
  },
  {
   "cell_type": "code",
   "execution_count": 16,
   "metadata": {
    "collapsed": false
   },
   "outputs": [
    {
     "name": "stdout",
     "output_type": "stream",
     "text": [
      "η = 96.4 %\n",
      "==========\n"
     ]
    }
   ],
   "source": [
    "Pout = Pload_b\n",
    "eta = Pout / (Pout + Pcu +Pcore) * 100\n",
    "print('η = {:.1f} %'.format(eta))\n",
    "print('==========')"
   ]
  }
 ],
 "metadata": {
  "kernelspec": {
   "display_name": "Python 3",
   "language": "python",
   "name": "python3"
  },
  "language_info": {
   "codemirror_mode": {
    "name": "ipython",
    "version": 3
   },
   "file_extension": ".py",
   "mimetype": "text/x-python",
   "name": "python",
   "nbconvert_exporter": "python",
   "pygments_lexer": "ipython3",
   "version": "3.5.1+"
  }
 },
 "nbformat": 4,
 "nbformat_minor": 0
}
