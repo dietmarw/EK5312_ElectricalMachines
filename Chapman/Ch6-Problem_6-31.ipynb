{
 "cells": [
  {
   "cell_type": "markdown",
   "metadata": {},
   "source": [
    "# Excercises Electric Machinery Fundamentals\n",
    "## Chapter 6"
   ]
  },
  {
   "cell_type": "markdown",
   "metadata": {},
   "source": [
    "## Problem 6-31"
   ]
  },
  {
   "cell_type": "code",
   "execution_count": 1,
   "metadata": {
    "collapsed": false,
    "slideshow": {
     "slide_type": "skip"
    }
   },
   "outputs": [
    {
     "name": "stdout",
     "output_type": "stream",
     "text": [
      "Populating the interactive namespace from numpy and matplotlib\n"
     ]
    }
   ],
   "source": [
    "%pylab inline"
   ]
  },
  {
   "cell_type": "markdown",
   "metadata": {},
   "source": [
    "### Description"
   ]
  },
  {
   "cell_type": "markdown",
   "metadata": {},
   "source": [
    "When it is necessary to stop an induction motor very rapidly, many induction motor controllers reverse the direction of rotation of the magnetic fields by switching any two stator leads. When the direction of rotation of the magnetic fields is reversed, the motor develops an induced torque opposite to the current direction of rotation, so it quickly stops and tries to start turning in the opposite direction. If power is removed from the stator circuit at the moment when the rotor speed goes through zero, then the motor has been stopped very rapidly. This technique for rapidly stopping an induction motor is called plugging . The motor of Problem 6-21 is running at rated conditions and is to be stopped by plugging.\n",
    "\n",
    "#### (a)\n",
    " * What is the slip s before plugging?\n",
    " \n",
    "#### (b)\n",
    " * What is the frequency of the rotor before plugging?\n",
    " \n",
    "#### (c)\n",
    " * What is the induced torque $\\tau_\\text{ind}$ before plugging?\n",
    " \n",
    "#### (d)\n",
    " * What is the slip s immediately after switching the stator leads?\n",
    " \n",
    "#### (e)\n",
    " * What is the frequency of the rotor immediately after switching the stator leads?\n",
    " \n",
    "#### (f)\n",
    " * What is the induced torque $\\tau_\\text{ind}$ immediately after switching the stator leads?"
   ]
  },
  {
   "cell_type": "code",
   "execution_count": 2,
   "metadata": {
    "collapsed": false
   },
   "outputs": [],
   "source": [
    "R1 =  0.54  # [Ohm]\n",
    "R2 =  0.488 # [Ohm]\n",
    "Xm = 51.12  # [Ohm]\n",
    "X1 =  2.093 # [Ohm]\n",
    "X2 =  3.209 # [Ohm]\n",
    "Pcore = 150 # [W]\n",
    "Pf_w  = 150 # [W]\n",
    "Pmisc =  50 # [W]\n",
    "V     = 460 # [V]\n",
    "p     = 4\n",
    "fse   = 60    # [Hz]"
   ]
  },
  {
   "cell_type": "markdown",
   "metadata": {},
   "source": [
    "### SOLUTION"
   ]
  },
  {
   "cell_type": "markdown",
   "metadata": {},
   "source": [
    "#### (a)\n",
    "The slip before plugging is (see [Problem 6-21](Problem_6-21.ipynb))."
   ]
  },
  {
   "cell_type": "code",
   "execution_count": 3,
   "metadata": {
    "collapsed": false
   },
   "outputs": [
    {
     "name": "stdout",
     "output_type": "stream",
     "text": [
      "\n",
      "s = 0.02 \n",
      "========\n"
     ]
    }
   ],
   "source": [
    "s = 0.02\n",
    "print('''\n",
    "s = {:.2f} \n",
    "========'''.format(s))"
   ]
  },
  {
   "cell_type": "markdown",
   "metadata": {},
   "source": [
    "#### (b)\n",
    "The frequency of the rotor before plugging is:\n",
    "\n",
    "$$f_r = sf_s$$"
   ]
  },
  {
   "cell_type": "code",
   "execution_count": 4,
   "metadata": {
    "collapsed": false
   },
   "outputs": [
    {
     "name": "stdout",
     "output_type": "stream",
     "text": [
      "\n",
      "fr = 1.2 Hz\n",
      "===========\n"
     ]
    }
   ],
   "source": [
    "fr = s * fse\n",
    "print('''\n",
    "fr = {:.1f} Hz\n",
    "==========='''.format(fr))"
   ]
  },
  {
   "cell_type": "markdown",
   "metadata": {},
   "source": [
    "#### (c)\n",
    "The induced torque before plugging in the direction of motion is (see [Ch6-Problem 6-21](Ch6-Problem_6-21.ipynb))."
   ]
  },
  {
   "cell_type": "code",
   "execution_count": 5,
   "metadata": {
    "collapsed": false
   },
   "outputs": [
    {
     "name": "stdout",
     "output_type": "stream",
     "text": [
      "\n",
      "tau_ind = 39.2 Nm\n",
      "=================\n"
     ]
    }
   ],
   "source": [
    "tau_ind = 39.2   # [Nm]\n",
    "print('''\n",
    "tau_ind = {:.1f} Nm\n",
    "================='''.format(tau_ind))"
   ]
  },
  {
   "cell_type": "markdown",
   "metadata": {},
   "source": [
    "#### (d)\n",
    "After switching stator leads, the synchronous speed becomes –1800 r/min, while the mechanical speed initially remains 1764&nbsp;r/min. \n",
    "Therefore, the slip becomes:\n",
    "\n",
    "$$s = \\frac{n_\\text{sync} - n_{m}}{n_\\text{sync}}$$"
   ]
  },
  {
   "cell_type": "code",
   "execution_count": 6,
   "metadata": {
    "collapsed": false
   },
   "outputs": [
    {
     "name": "stdout",
     "output_type": "stream",
     "text": [
      "\n",
      "s_after = 1.98\n",
      "==============\n"
     ]
    }
   ],
   "source": [
    "n_sync = -1800.0 # [r/min]\n",
    "n_m = 1764.0     # [r/min]\n",
    "s_after = (n_sync - n_m) / n_sync\n",
    "print('''\n",
    "s_after = {:.2f}\n",
    "=============='''.format(s_after))"
   ]
  },
  {
   "cell_type": "markdown",
   "metadata": {},
   "source": [
    "#### (e)\n",
    "The frequency of the rotor after plugging is\n",
    "\n",
    "$$f_r = sf_e$$"
   ]
  },
  {
   "cell_type": "code",
   "execution_count": 7,
   "metadata": {
    "collapsed": false
   },
   "outputs": [
    {
     "name": "stdout",
     "output_type": "stream",
     "text": [
      "\n",
      "fr_after = 118.8 Hz\n",
      "===================\n"
     ]
    }
   ],
   "source": [
    "fr_after = s_after * fse\n",
    "print('''\n",
    "fr_after = {:.1f} Hz\n",
    "==================='''.format(fr_after))"
   ]
  },
  {
   "cell_type": "markdown",
   "metadata": {},
   "source": [
    "#### (f)\n",
    "The equivalent circuit for this motor is:\n",
    "\n",
    "<img src=\"figs/Problem_6-31.jpg\" width=\"70%\">"
   ]
  },
  {
   "cell_type": "markdown",
   "metadata": {},
   "source": [
    "The Thevenin equivalent of the input circuit is:\n",
    "\n",
    "$$Z_{TH} = \\frac{jX_M(R_1 + jX_1)}{R_1 + j(X_1 + X_M)}$$"
   ]
  },
  {
   "cell_type": "code",
   "execution_count": 8,
   "metadata": {
    "collapsed": false
   },
   "outputs": [
    {
     "name": "stdout",
     "output_type": "stream",
     "text": [
      "Zth = (0.4983+2.0157j)Ω = 2.076 Ω ∠76.1°\n"
     ]
    }
   ],
   "source": [
    "Zth = (Xm*1j * (R1 + X1*1j)) / (R1 + (X1 + Xm)*1j)\n",
    "Zth_angle = arctan(Zth.imag / Zth.real)\n",
    "print('Zth = ({:.4f})Ω = {:.3f} Ω ∠{:.1f}°'\n",
    "      .format(Zth, abs(Zth), Zth_angle/pi *180))"
   ]
  },
  {
   "cell_type": "markdown",
   "metadata": {},
   "source": [
    "$$\\vec{V}_{TH} = \\frac{jX_M}{R_1 + j(X_1 +X_M)}\\vec{V}_\\phi$$"
   ]
  },
  {
   "cell_type": "code",
   "execution_count": 9,
   "metadata": {
    "collapsed": false
   },
   "outputs": [
    {
     "name": "stdout",
     "output_type": "stream",
     "text": [
      "VTH = 255 V ∠0.58°\n"
     ]
    }
   ],
   "source": [
    "V_PHASE = V / sqrt(3)\n",
    "VTH = (Xm*1j) / (R1 + (X1 + Xm)*1j) * V_PHASE\n",
    "VTH_angle = arctan(VTH.imag / VTH.real)\n",
    "print('VTH = {:.0f} V ∠{:.2f}°'\n",
    "      .format(abs(VTH), VTH_angle/pi *180))"
   ]
  },
  {
   "cell_type": "markdown",
   "metadata": {},
   "source": [
    "The induced torque immediately after switching the stator leads is:\n",
    "\n",
    "$$\\tau_\\text{ind} = \\frac{3V^2_{TH}R_2/s}{\\omega_\\text{sync}[(R_{TH} + R_2/s)^2 + (X_{TH} + X_2)^2]}$$"
   ]
  },
  {
   "cell_type": "code",
   "execution_count": 10,
   "metadata": {
    "collapsed": false
   },
   "outputs": [
    {
     "name": "stdout",
     "output_type": "stream",
     "text": [
      "\n",
      "tau_ind = 9.2 Nm, against the direction of motion\n",
      "=================================================\n"
     ]
    }
   ],
   "source": [
    "Rth = Zth.real\n",
    "Xth = Zth.imag\n",
    "w_sync = abs(n_sync * (2*pi/60.0))\n",
    "tau_ind = ((3 * abs(VTH)**2 * R2/s_after) /\n",
    "           (w_sync * ((Rth + R2/s_after)**2 + (Xth + X2)**2)))\n",
    "print('''\n",
    "tau_ind = {:.1f} Nm, against the direction of motion\n",
    "================================================='''.format(tau_ind))"
   ]
  }
 ],
 "metadata": {
  "kernelspec": {
   "display_name": "Python 3",
   "language": "python",
   "name": "python3"
  },
  "language_info": {
   "codemirror_mode": {
    "name": "ipython",
    "version": 3
   },
   "file_extension": ".py",
   "mimetype": "text/x-python",
   "name": "python",
   "nbconvert_exporter": "python",
   "pygments_lexer": "ipython3",
   "version": "3.5.2"
  }
 },
 "nbformat": 4,
 "nbformat_minor": 0
}
