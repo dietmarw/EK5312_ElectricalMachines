{
 "cells": [
  {
   "cell_type": "markdown",
   "metadata": {},
   "source": [
    "# Excercises Electric Machinery Fundamentals\n",
    "## Chapter 2"
   ]
  },
  {
   "cell_type": "markdown",
   "metadata": {},
   "source": [
    "## Problem 2-4"
   ]
  },
  {
   "cell_type": "code",
   "execution_count": 1,
   "metadata": {
    "collapsed": false,
    "slideshow": {
     "slide_type": "skip"
    }
   },
   "outputs": [
    {
     "name": "stdout",
     "output_type": "stream",
     "text": [
      "Populating the interactive namespace from numpy and matplotlib\n"
     ]
    }
   ],
   "source": [
    "%pylab inline"
   ]
  },
  {
   "cell_type": "markdown",
   "metadata": {},
   "source": [
    "### Description"
   ]
  },
  {
   "cell_type": "markdown",
   "metadata": {},
   "source": [
    "The secondary winding of a real transformer has a terminal voltage of\n",
    "\n",
    "* $v_S(t) = \\sqrt{2}\\cdot 200 \\sin(2\\pi\\cdot 60\\,Hz\\cdot t)\\,V = 282.8 \\sin(377t)\\,V$. \n",
    "\n",
    "The turns ratio of the transformer is \n",
    "\n",
    "* $100:200 \\rightarrow a = 0.5$ .\n",
    "\n",
    "If the secondary current of the transformer is \n",
    "\n",
    "* $i_S(t) = \\sqrt{2}\\cdot 5 \\sin(377t - 36.87°)\\, A$.\n",
    "\n",
    "\n",
    "1. What is the primary current of this transformer? \n",
    "2. What are its voltage regulation and efficiency?\n",
    " \n",
    "The impedances of this transformer referred to the primary side are:\n",
    " $$R_{eq} = 0.20\\,\\Omega \\qquad R_{C} = 300\\,\\Omega$$\n",
    " $$X_{eq} = 0.80\\,\\Omega \\qquad X_{M} = 100\\,\\Omega$$"
   ]
  },
  {
   "cell_type": "code",
   "execution_count": 2,
   "metadata": {
    "collapsed": false
   },
   "outputs": [],
   "source": [
    "VS_m     = sqrt(2) * 200 # [V]\n",
    "VS_angle = 0             # [rad]|[deg]\n",
    "IS_m     = sqrt(2)*5     # [A]\n",
    "IS_deg   = -36.87        # angle of IS in [deg]\n",
    "IS_rad   = IS_deg/180*pi # angle of IS in [rad]\n",
    "a        =   0.5\n",
    "Req      =   0.20        # [Ohm]\n",
    "Rc       = 300.0         # [Ohm]\n",
    "Xeq      =   0.80        # [Ohm]\n",
    "Xm       = 100.0         # [Ohm]"
   ]
  },
  {
   "cell_type": "markdown",
   "metadata": {},
   "source": [
    "### SOLUTION"
   ]
  },
  {
   "cell_type": "markdown",
   "metadata": {},
   "source": [
    "The equivalent circuit of this transformer is shown below. (Since no particular equivalent circuit was specified, we are using the approximate equivalent circuit referred to the primary side.)\n",
    "\n",
    "<img src=\"figs/FigC_2-18a.jpg\" width=\"70%\">"
   ]
  },
  {
   "cell_type": "markdown",
   "metadata": {},
   "source": [
    "The secondary voltage and current are:"
   ]
  },
  {
   "cell_type": "code",
   "execution_count": 3,
   "metadata": {
    "collapsed": false
   },
   "outputs": [
    {
     "name": "stdout",
     "output_type": "stream",
     "text": [
      "VS = 200.0 V ∠  0°\n",
      "IS =   5.0 A ∠-36.87°\n"
     ]
    }
   ],
   "source": [
    "VS = VS_m / sqrt(2) * (cos(VS_angle) + sin(VS_angle)*1j) # [V]\n",
    "IS = IS_m / sqrt(2) * (cos(IS_rad) + sin(IS_rad)*1j)     # [A]\n",
    "print('VS = {:>5.1f} V ∠{:>3.0f}°'.format(\n",
    "            abs(VS), VS_angle))\n",
    "print('IS = {:>5.1f} A ∠{:>3.2f}°'.format(\n",
    "            abs(IS), (IS_deg)))"
   ]
  },
  {
   "cell_type": "markdown",
   "metadata": {},
   "source": [
    "The secondary voltage referred to the primary side is:\n",
    "$$\\vec{V}'_S = a\\vec{V}_S$$"
   ]
  },
  {
   "cell_type": "code",
   "execution_count": 4,
   "metadata": {
    "collapsed": false
   },
   "outputs": [
    {
     "name": "stdout",
     "output_type": "stream",
     "text": [
      "VSp = 100.0 V ∠0°\n"
     ]
    }
   ],
   "source": [
    "VSp = a * VS    \n",
    "print('VSp = {:.1f} V ∠{:.0f}°'.format(\n",
    "            abs(VSp), VS_angle)) # the turns ratio has no effect on the angle"
   ]
  },
  {
   "cell_type": "markdown",
   "metadata": {},
   "source": [
    "The secondary current referred to the primary side is:\n",
    "$$\\vec{I}'_S = \\frac{\\vec{I}_S}{a}$$"
   ]
  },
  {
   "cell_type": "code",
   "execution_count": 5,
   "metadata": {
    "collapsed": false
   },
   "outputs": [
    {
     "name": "stdout",
     "output_type": "stream",
     "text": [
      "ISp = 10.0 A ∠-36.87°\n"
     ]
    }
   ],
   "source": [
    "ISp = IS / a\n",
    "print('ISp = {:.1f} A ∠{:.2f}°'.format(\n",
    "            abs(ISp), IS_deg))  # the turns ratio has no effect on the angle"
   ]
  },
  {
   "cell_type": "markdown",
   "metadata": {},
   "source": [
    "The primary circuit voltage is given by:\n",
    "\n",
    "$$\\vec{V}_P = \\vec{V}'_S + \\vec{I}'_S(R_{eq} + jX_{eq})$$\n"
   ]
  },
  {
   "cell_type": "code",
   "execution_count": 6,
   "metadata": {
    "collapsed": false
   },
   "outputs": [
    {
     "name": "stdout",
     "output_type": "stream",
     "text": [
      "VP = 106.5 V ∠2.8°\n"
     ]
    }
   ],
   "source": [
    "VP = VSp + ISp * (Req + Xeq*1j)\n",
    "VP_angle = arctan(VP.imag/VP.real)\n",
    "print('VP = {:.1f} V ∠{:.1f}°'.format(\n",
    "            abs(VP), degrees(VP_angle)))"
   ]
  },
  {
   "cell_type": "markdown",
   "metadata": {},
   "source": [
    "The excitation current of this transformer is:\n",
    "$$\\vec{I}_{EX} = \\vec{I}_C + \\vec{I}_M$$"
   ]
  },
  {
   "cell_type": "code",
   "execution_count": 7,
   "metadata": {
    "collapsed": false
   },
   "outputs": [
    {
     "name": "stdout",
     "output_type": "stream",
     "text": [
      "Iex = 1.12 A ∠-68.8°\n"
     ]
    }
   ],
   "source": [
    "IC = VP / Rc\n",
    "IM = VP / (Xm*1j)\n",
    "Iex = IC + IM\n",
    "Iex_angle = arctan(Iex.imag/Iex.real)\n",
    "print('Iex = {:.2f} A ∠{:.1f}°'.format(\n",
    "            abs(Iex), Iex_angle/pi*180))  # angle in [deg]"
   ]
  },
  {
   "cell_type": "markdown",
   "metadata": {},
   "source": [
    "**Therefore, the total primary current of this transformer is:**\n",
    "\n",
    "$$\\vec{I}_P = \\vec{I}'_S + \\vec{I}_{EX}$$"
   ]
  },
  {
   "cell_type": "code",
   "execution_count": 8,
   "metadata": {
    "collapsed": false
   },
   "outputs": [
    {
     "name": "stdout",
     "output_type": "stream",
     "text": [
      "VS = 11.0 V ∠-40.0°\n",
      "===================\n"
     ]
    }
   ],
   "source": [
    "IP = ISp + Iex\n",
    "IP_angle = arctan(IP.imag/IP.real)\n",
    "print('VS = {:.1f} V ∠{:.1f}°'.format(\n",
    "            abs(IP), IP_angle/pi*180)) # angle in [deg]\n",
    "print('===================')"
   ]
  },
  {
   "cell_type": "markdown",
   "metadata": {},
   "source": [
    "**The voltage regulation of the transformer at this load is:**\n",
    "\n",
    "$$VR = \\frac{V_P - aV_S}{aV_S} \\cdot 100\\%$$\n"
   ]
  },
  {
   "cell_type": "code",
   "execution_count": 9,
   "metadata": {
    "collapsed": false
   },
   "outputs": [
    {
     "name": "stdout",
     "output_type": "stream",
     "text": [
      "VR = 6.5%\n",
      "=========\n"
     ]
    }
   ],
   "source": [
    "VR = (abs(VP) - a*abs(VS))/(a*abs(VS)) * 100\n",
    "print('VR = {:.1f}%'.format(VR))\n",
    "print('=========')"
   ]
  },
  {
   "cell_type": "markdown",
   "metadata": {},
   "source": [
    "The input power to this transformer is:\n",
    "$$P_{IN} = V_PI_P\\cos\\theta$$"
   ]
  },
  {
   "cell_type": "code",
   "execution_count": 10,
   "metadata": {
    "collapsed": false
   },
   "outputs": [
    {
     "name": "stdout",
     "output_type": "stream",
     "text": [
      "Pin = 858 W\n"
     ]
    }
   ],
   "source": [
    "Pin = abs(VP) * abs(IP) * cos(VP_angle - IP_angle)\n",
    "print('Pin = {:.0f} W'.format(Pin))"
   ]
  },
  {
   "cell_type": "markdown",
   "metadata": {},
   "source": [
    "The output power from this transformer is:\n",
    "$$P_{OUT} = V_SI_S\\cos\\theta$$"
   ]
  },
  {
   "cell_type": "code",
   "execution_count": 11,
   "metadata": {
    "collapsed": false
   },
   "outputs": [
    {
     "name": "stdout",
     "output_type": "stream",
     "text": [
      "Pout = 800 W\n"
     ]
    }
   ],
   "source": [
    "Pout = abs(VS) * abs(IS) * cos(VS_angle - IS_rad)\n",
    "print('Pout = {:.0f} W'.format(Pout))"
   ]
  },
  {
   "cell_type": "markdown",
   "metadata": {},
   "source": [
    "**Therefore, the transformer's efficiency is:**\n",
    "\n",
    "$$\\eta = \\frac{P_{OUT}}{P_{IN}} \\cdot 100\\,\\%$$\n"
   ]
  },
  {
   "cell_type": "code",
   "execution_count": 12,
   "metadata": {
    "collapsed": false
   },
   "outputs": [
    {
     "name": "stdout",
     "output_type": "stream",
     "text": [
      "η = 93.3 %\n",
      "==========\n"
     ]
    }
   ],
   "source": [
    "eta = Pout / Pin * 100\n",
    "print('η = {:.1f} %'.format(eta))\n",
    "print('==========')"
   ]
  }
 ],
 "metadata": {
  "kernelspec": {
   "display_name": "Python 3",
   "language": "python",
   "name": "python3"
  },
  "language_info": {
   "codemirror_mode": {
    "name": "ipython",
    "version": 3
   },
   "file_extension": ".py",
   "mimetype": "text/x-python",
   "name": "python",
   "nbconvert_exporter": "python",
   "pygments_lexer": "ipython3",
   "version": "3.5.1+"
  }
 },
 "nbformat": 4,
 "nbformat_minor": 0
}
