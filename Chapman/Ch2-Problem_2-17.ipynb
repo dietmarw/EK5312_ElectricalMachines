{
 "cells": [
  {
   "cell_type": "markdown",
   "metadata": {},
   "source": [
    "# Excercises Electric Machinery Fundamentals\n",
    "## Chapter 2"
   ]
  },
  {
   "cell_type": "markdown",
   "metadata": {},
   "source": [
    "## Problem 2-17"
   ]
  },
  {
   "cell_type": "code",
   "execution_count": 1,
   "metadata": {
    "collapsed": false,
    "slideshow": {
     "slide_type": "skip"
    }
   },
   "outputs": [
    {
     "name": "stdout",
     "output_type": "stream",
     "text": [
      "Populating the interactive namespace from numpy and matplotlib\n"
     ]
    }
   ],
   "source": [
    "%pylab inline"
   ]
  },
  {
   "cell_type": "markdown",
   "metadata": {},
   "source": [
    "### Description"
   ]
  },
  {
   "cell_type": "markdown",
   "metadata": {},
   "source": [
    "A 10-kVA 480/120-V conventional transformer is to be used to supply power from a 600-V source to a 120-V load. Consider the transformer to be ideal, and assume that all insulation can handle 600 V."
   ]
  },
  {
   "cell_type": "code",
   "execution_count": 2,
   "metadata": {
    "collapsed": false
   },
   "outputs": [],
   "source": [
    "Vp = 600  # [V]\n",
    "Vl = 120  # [V] which is also the load voltage\n",
    "Vh = 480  # [V] \n",
    "Sw = 10e3 # [VA]"
   ]
  },
  {
   "cell_type": "markdown",
   "metadata": {},
   "source": [
    "#### (a)\n",
    "\n",
    " * Sketch the transformer connection that will do the required job.\n",
    "\n",
    "#### (b)\n",
    " \n",
    " * Find the kilovoltampere rating of the transformer in the configuration.\n",
    "\n",
    "#### (c)\n",
    "\n",
    " * Find the maximum primary and secondary currents under these conditions."
   ]
  },
  {
   "cell_type": "markdown",
   "metadata": {},
   "source": [
    "### SOLUTION"
   ]
  },
  {
   "cell_type": "markdown",
   "metadata": {},
   "source": [
    "#### (a)\n",
    "\n",
    "For this configuration, the common winding must be the smaller of the two windings.\n",
    "**The transformer connection is shown below:**"
   ]
  },
  {
   "cell_type": "markdown",
   "metadata": {},
   "source": [
    "<img src=\"figs/Problem_2-17.jpg\" width=\"40%\">"
   ]
  },
  {
   "cell_type": "markdown",
   "metadata": {},
   "source": [
    "#### (b)\n",
    "\n",
    "**The kVA rating of the autotransformer can be found from the equation:**\n",
    "\n",
    "$$S_{IO} = \\frac{N_{SE} + N_C}{N_{SE}}S_W = \\frac{4N_C + N_C}{4N_C}S_W$$"
   ]
  },
  {
   "cell_type": "code",
   "execution_count": 3,
   "metadata": {
    "collapsed": false
   },
   "outputs": [
    {
     "name": "stdout",
     "output_type": "stream",
     "text": [
      "\n",
      "Sio = 12.5 kVA\n",
      "==============\n",
      "\n"
     ]
    }
   ],
   "source": [
    "n = Vh/Vl  # = Nse/Nc\n",
    "Sio = (n + 1)/n * Sw\n",
    "\n",
    "print('''\n",
    "Sio = {:.1f} kVA\n",
    "==============\n",
    "'''.format(Sio/1000))"
   ]
  },
  {
   "cell_type": "markdown",
   "metadata": {},
   "source": [
    "#### (c)\n",
    "\n",
    "**The maximum primary current for this configuration will be:**\n",
    "\n",
    "$$I_P = \\frac{S}{V_P}$$"
   ]
  },
  {
   "cell_type": "code",
   "execution_count": 4,
   "metadata": {
    "collapsed": false
   },
   "outputs": [
    {
     "name": "stdout",
     "output_type": "stream",
     "text": [
      "\n",
      "Ip = 20.83 A\n",
      "============\n",
      "\n"
     ]
    }
   ],
   "source": [
    "Ip = Sio/Vp\n",
    "print('''\n",
    "Ip = {:.2f} A\n",
    "============\n",
    "'''.format(Ip))"
   ]
  },
  {
   "cell_type": "markdown",
   "metadata": {},
   "source": [
    "**and the maximum secondary current is:**\n",
    "\n",
    "$$I_S = \\frac{S}{V_S}$$"
   ]
  },
  {
   "cell_type": "code",
   "execution_count": 5,
   "metadata": {
    "collapsed": false
   },
   "outputs": [
    {
     "name": "stdout",
     "output_type": "stream",
     "text": [
      "\n",
      "s = 104 A\n",
      "=========\n",
      "\n"
     ]
    }
   ],
   "source": [
    "Is = Sio/Vl\n",
    "print('''\n",
    "s = {:.0f} A\n",
    "=========\n",
    "'''.format(Is))"
   ]
  }
 ],
 "metadata": {
  "kernelspec": {
   "display_name": "Python 3",
   "language": "python",
   "name": "python3"
  },
  "language_info": {
   "codemirror_mode": {
    "name": "ipython",
    "version": 3
   },
   "file_extension": ".py",
   "mimetype": "text/x-python",
   "name": "python",
   "nbconvert_exporter": "python",
   "pygments_lexer": "ipython3",
   "version": "3.5.1+"
  }
 },
 "nbformat": 4,
 "nbformat_minor": 0
}
