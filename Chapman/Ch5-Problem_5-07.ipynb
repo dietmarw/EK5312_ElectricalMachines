{
 "cells": [
  {
   "cell_type": "markdown",
   "metadata": {},
   "source": [
    "# Excercises Electric Machinery Fundamentals\n",
    "## Chapter 5"
   ]
  },
  {
   "cell_type": "markdown",
   "metadata": {},
   "source": [
    "## Problem 5-7"
   ]
  },
  {
   "cell_type": "code",
   "execution_count": 1,
   "metadata": {
    "collapsed": false,
    "slideshow": {
     "slide_type": "skip"
    }
   },
   "outputs": [
    {
     "name": "stdout",
     "output_type": "stream",
     "text": [
      "Populating the interactive namespace from numpy and matplotlib\n"
     ]
    }
   ],
   "source": [
    "%pylab inline"
   ]
  },
  {
   "cell_type": "markdown",
   "metadata": {},
   "source": [
    "### Description"
   ]
  },
  {
   "cell_type": "markdown",
   "metadata": {},
   "source": [
    "A 208-V Y-connected synchronous motor is drawing 50 A at unity power factor from a 208-V power\n",
    "system. The field current flowing under these conditions is 2.7 A. Its synchronous reactance is $1.6\\,\\Omega$.\n",
    "Assume a linear open-circuit characteristic."
   ]
  },
  {
   "cell_type": "code",
   "execution_count": 2,
   "metadata": {
    "collapsed": false
   },
   "outputs": [],
   "source": [
    "Vt = 208   # [V]\n",
    "Ia =  50   # [A]\n",
    "Xs =   1.6 # [Ohm]\n",
    "Ra =   0   # [Ohm]\n",
    "PF2 =  0.8\n",
    "If_1 = 2.7 # [A]"
   ]
  },
  {
   "cell_type": "markdown",
   "metadata": {},
   "source": [
    "#### (a)\n",
    " * Find $\\vec{V}_\\phi$ and $\\vec{E}_A$ for these conditions.\n",
    " \n",
    "#### (b)\n",
    " * Find the torque angle $\\delta$ .\n",
    " \n",
    "#### (c)\n",
    " * What is the static stability power limit under these conditions?\n",
    " \n",
    "#### (d)\n",
    " * How much field current would be required to make the motor operate at 0.80 PF leading?\n",
    " \n",
    "#### (e)\n",
    " * What is the new torque angle in part (d)?"
   ]
  },
  {
   "cell_type": "markdown",
   "metadata": {},
   "source": [
    "### SOLUTION"
   ]
  },
  {
   "cell_type": "markdown",
   "metadata": {},
   "source": [
    "#### (a)\n",
    "The phase voltage of this motor is $V_\\phi = 120 V$, and the armature current is $\\vec{I}_A = 50\\,A \\angle 0°$ .\n",
    "Therefore, the internal generated voltage is:\n",
    "\n",
    "$$\\vec{E}_A = \\vec{V}_\\phi - R_A \\vec{I}_A - jX_S \\vec{I}_A$$"
   ]
  },
  {
   "cell_type": "code",
   "execution_count": 3,
   "metadata": {
    "collapsed": false
   },
   "outputs": [
    {
     "name": "stdout",
     "output_type": "stream",
     "text": [
      "\n",
      "EA = 144 V ∠-33.7°\n",
      "==================\n"
     ]
    }
   ],
   "source": [
    "Vphi = Vt / sqrt(3)\n",
    "EA = Vphi - Ra*Ia - Xs*1j*Ia\n",
    "EA_angle = arctan(EA.imag/EA.real)\n",
    "print('''\n",
    "EA = {:.0f} V ∠{:.1f}°\n",
    "=================='''.format(abs(EA), EA_angle/pi*180))"
   ]
  },
  {
   "cell_type": "markdown",
   "metadata": {},
   "source": [
    "#### (b)\n",
    "The tor que angle $\\delta$ of this machine is "
   ]
  },
  {
   "cell_type": "code",
   "execution_count": 4,
   "metadata": {
    "collapsed": false
   },
   "outputs": [
    {
     "name": "stdout",
     "output_type": "stream",
     "text": [
      "\n",
      "δ = -33.7°\n",
      "==========\n"
     ]
    }
   ],
   "source": [
    "delta = EA_angle\n",
    "print('''\n",
    "δ = {:.1f}°\n",
    "=========='''.format(delta/pi*180))"
   ]
  },
  {
   "cell_type": "markdown",
   "metadata": {},
   "source": [
    "#### (c)\n",
    "The static stability power limit is given by\n",
    "\n",
    "$$P_\\text{max} = \\frac{3V_\\phi E_A}{X_S}$$"
   ]
  },
  {
   "cell_type": "code",
   "execution_count": 5,
   "metadata": {
    "collapsed": false
   },
   "outputs": [
    {
     "name": "stdout",
     "output_type": "stream",
     "text": [
      "\n",
      "Pmax = 32.5 kW\n",
      "==============\n"
     ]
    }
   ],
   "source": [
    "Pmax = (3*Vphi*abs(EA)) / Xs\n",
    "print('''\n",
    "Pmax = {:.1f} kW\n",
    "=============='''.format(Pmax/1000))"
   ]
  },
  {
   "cell_type": "markdown",
   "metadata": {},
   "source": [
    "#### (d)\n",
    "A phasor diagram of the motor operating at a power factor of 0.78 leading is shown below.\n",
    "\n",
    "<img src=\"figs/Problem_5-07.jpg\" width=\"70%\">"
   ]
  },
  {
   "cell_type": "markdown",
   "metadata": {},
   "source": [
    "Since the power supplied by the motor is constant, the quantity $I_A cos \\theta$ , which is directly proportional\n",
    "to power, must be constant. Therefore,"
   ]
  },
  {
   "cell_type": "code",
   "execution_count": 6,
   "metadata": {
    "collapsed": false
   },
   "outputs": [
    {
     "name": "stdout",
     "output_type": "stream",
     "text": [
      "IA2 = 62.5 A ∠36.87°\n"
     ]
    }
   ],
   "source": [
    "theta1 = 0 # [rad]\n",
    "theta2 = arccos(PF2)\n",
    "Ia2 = Ia*cos(theta1) / cos(theta2)\n",
    "IA2 = Ia2 * (cos(theta2)+sin(theta2)*1j)\n",
    "IA2_angle = theta2\n",
    "print('IA2 = {:.1f} A ∠{:.2f}°'.format(abs(IA2), IA2_angle/pi*180))"
   ]
  },
  {
   "cell_type": "markdown",
   "metadata": {},
   "source": [
    "The internal generated voltage required to produce this current would be:\n",
    "\n",
    "$$\\vec{E}_{A2} = \\vec{V}_\\phi - R_A \\vec{I}_{A2} - jX_S \\vec{I}_{A2}$$"
   ]
  },
  {
   "cell_type": "code",
   "execution_count": 7,
   "metadata": {
    "collapsed": false
   },
   "outputs": [
    {
     "name": "stdout",
     "output_type": "stream",
     "text": [
      "EA2 = 197 V ∠-24.0°\n"
     ]
    }
   ],
   "source": [
    "EA2 = Vphi - Ra*IA2 - Xs*1j*IA2\n",
    "EA2_angle = arctan(EA2.imag/EA2.real)\n",
    "print('EA2 = {:.0f} V ∠{:.1f}°'.format(abs(EA2), EA2_angle/pi*180))"
   ]
  },
  {
   "cell_type": "markdown",
   "metadata": {},
   "source": [
    "The internal generated voltage $E_A$ is directly proportional to the field flux, and we have assumed in this\n",
    "problem that the flux is directly proportional to the fiel d current. Therefore, the required field current is:\n",
    "\n",
    "$$I_{F2} = \\frac{E_{A2}}{E_{A1}}I_{F1}$$"
   ]
  },
  {
   "cell_type": "code",
   "execution_count": 8,
   "metadata": {
    "collapsed": false
   },
   "outputs": [
    {
     "name": "stdout",
     "output_type": "stream",
     "text": [
      "\n",
      "If_2 = 3.69 A\n",
      "=============\n"
     ]
    }
   ],
   "source": [
    "If_2 = abs(EA2)/abs(EA) * If_1\n",
    "print('''\n",
    "If_2 = {:.2f} A\n",
    "============='''.format(If_2))"
   ]
  },
  {
   "cell_type": "markdown",
   "metadata": {},
   "source": [
    "#### (e)\n",
    "The new torque angle $\\delta$ of this machine is "
   ]
  },
  {
   "cell_type": "code",
   "execution_count": 9,
   "metadata": {
    "collapsed": false
   },
   "outputs": [
    {
     "name": "stdout",
     "output_type": "stream",
     "text": [
      "\n",
      "δ_2 = -24.0°\n",
      "============\n"
     ]
    }
   ],
   "source": [
    "delta2 = EA2_angle\n",
    "print('''\n",
    "δ_2 = {:.1f}°\n",
    "============'''.format(delta2/pi*180))"
   ]
  }
 ],
 "metadata": {
  "kernelspec": {
   "display_name": "Python 3",
   "language": "python",
   "name": "python3"
  },
  "language_info": {
   "codemirror_mode": {
    "name": "ipython",
    "version": 3
   },
   "file_extension": ".py",
   "mimetype": "text/x-python",
   "name": "python",
   "nbconvert_exporter": "python",
   "pygments_lexer": "ipython3",
   "version": "3.5.2"
  }
 },
 "nbformat": 4,
 "nbformat_minor": 0
}
