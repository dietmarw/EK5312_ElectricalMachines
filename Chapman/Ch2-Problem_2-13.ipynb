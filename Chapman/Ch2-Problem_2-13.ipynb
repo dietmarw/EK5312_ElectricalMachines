{
 "cells": [
  {
   "cell_type": "markdown",
   "metadata": {},
   "source": [
    "# Excercises Electric Machinery Fundamentals\n",
    "## Chapter 2"
   ]
  },
  {
   "cell_type": "markdown",
   "metadata": {},
   "source": [
    "## Problem 2-13"
   ]
  },
  {
   "cell_type": "code",
   "execution_count": 1,
   "metadata": {
    "slideshow": {
     "slide_type": "skip"
    }
   },
   "outputs": [
    {
     "name": "stdout",
     "output_type": "stream",
     "text": [
      "Populating the interactive namespace from numpy and matplotlib\n"
     ]
    }
   ],
   "source": [
    "%pylab notebook"
   ]
  },
  {
   "cell_type": "markdown",
   "metadata": {},
   "source": [
    "### Description"
   ]
  },
  {
   "cell_type": "markdown",
   "metadata": {},
   "source": [
    "**Correction! In the book a transformer ratio of 14,000/480-V is given. This should be 14,400/480-V which is also used in the following calculations.**\n",
    "\n",
    "A 14,400/480-V three-phase Y-$\\Delta$-connected transformer bank consists of three identical 100-kVA 8314/480-V transformers. It is supplied with power directly from a large constant-voltage bus. In the short-circuit test, the recorded values on the high-voltage side for one of these transformers are:\n",
    "\n",
    "$$V_{SC} = 510\\,V \\qquad I_{SC} = 12.6\\,A \\qquad P_{SC} = 3000\\,W$$"
   ]
  },
  {
   "cell_type": "code",
   "execution_count": 2,
   "metadata": {},
   "outputs": [],
   "source": [
    "Sbase   = 100e3  # [VA]\n",
    "Vp_ll   =  14400 # [V]  primary line-to-line volage of transformer bank\n",
    "Vs_ll   =    480 # [V]  secondary line-to-line volage of transformer bank\n",
    "Vp_ph   =   8314 # [V]  primary phase voltage of single transformer\n",
    "Vs_ph   =    480 # [V]  secondary phase voltage of single transformer"
   ]
  },
  {
   "cell_type": "markdown",
   "metadata": {},
   "source": [
    "#### (a)\n",
    "\n",
    "If this bank delivers a rated load at 0.8 PF lagging and rated voltage\n",
    "\n",
    " * What is the line-to-line voltage on the primary of the transformer bank?\n",
    "\n",
    "#### (b)\n",
    "\n",
    " * What is the voltage regulation under these conditions?\n",
    "\n",
    "#### (c)\n",
    "\n",
    "Assume that the primary phase voltage of this transformer is a constant 8314 V\n",
    "\n",
    " * Plot the secondary voltage as a function of load current for currents from no-load to full-load.\n",
    " * Repeat this process for power factors of 0.8 lagging, 1.0, and 0.8 leading.\n",
    "\n",
    "#### (d)\n",
    "\n",
    " * Plot the voltage regulation of this transformer as a function of load current for currents from no-load to full-load. \n",
    " * Repeat this process for power factors of 0.8 lagging, 1.0, and 0.8 leading.\n",
    "\n",
    "#### (e)\n",
    "\n",
    " * Sketch the per-unit equivalent circuit of this transformer."
   ]
  },
  {
   "cell_type": "markdown",
   "metadata": {},
   "source": [
    "### SOLUTION"
   ]
  },
  {
   "cell_type": "markdown",
   "metadata": {},
   "source": [
    "From the short-circuit information, it is possible to determine the per-phase impedance of the transformer bank referred to the high-voltage (primary) side. Note that the short-circuit information is given for one transformer of the three in the bank. The voltage across this transformer is:"
   ]
  },
  {
   "cell_type": "code",
   "execution_count": 3,
   "metadata": {},
   "outputs": [],
   "source": [
    "Vphi_SC = 510 # [V]"
   ]
  },
  {
   "cell_type": "markdown",
   "metadata": {},
   "source": [
    "the short-circuit phase current is:"
   ]
  },
  {
   "cell_type": "code",
   "execution_count": 4,
   "metadata": {},
   "outputs": [],
   "source": [
    "Iphi_SC = 12.6 # [A]"
   ]
  },
  {
   "cell_type": "markdown",
   "metadata": {},
   "source": [
    "and the power per phase is:"
   ]
  },
  {
   "cell_type": "code",
   "execution_count": 5,
   "metadata": {},
   "outputs": [],
   "source": [
    "Pphi_SC = 3000.0 # [W]"
   ]
  },
  {
   "cell_type": "markdown",
   "metadata": {},
   "source": [
    "Thus the per-phase impedance is:\n",
    "$$|Z_\\text{EQ}| = |R_\\text{EQ} + jX_\\text{EQ}| = \\frac{V_{\\phi,SC}}{I_{\\phi,SC}}$$"
   ]
  },
  {
   "cell_type": "code",
   "execution_count": 6,
   "metadata": {},
   "outputs": [
    {
     "name": "stdout",
     "output_type": "stream",
     "text": [
      "|Zeq| = 40.48 Ω\n"
     ]
    }
   ],
   "source": [
    "Zeq = Vphi_SC / Iphi_SC\n",
    "print('|Zeq| = {:.2f} Ω'.format(Zeq))"
   ]
  },
  {
   "cell_type": "markdown",
   "metadata": {},
   "source": [
    "$$\\theta = \\arccos{\\frac{P_{SC}}{V_{SC}I_{SC}}}$$"
   ]
  },
  {
   "cell_type": "code",
   "execution_count": 7,
   "metadata": {},
   "outputs": [
    {
     "name": "stdout",
     "output_type": "stream",
     "text": [
      "theta = 62.2°\n"
     ]
    }
   ],
   "source": [
    "theta = arccos(Pphi_SC / (Vphi_SC*Iphi_SC))\n",
    "print('theta = {:.1f}°'.format(theta/pi *180))"
   ]
  },
  {
   "cell_type": "code",
   "execution_count": 8,
   "metadata": {},
   "outputs": [
    {
     "name": "stdout",
     "output_type": "stream",
     "text": [
      "ZEQ = 18.90+35.79j Ω\n"
     ]
    }
   ],
   "source": [
    "ZEQ = Zeq * (cos(theta) + sin(theta)*1j)\n",
    "print('ZEQ = {:.2f} Ω'.format(ZEQ))"
   ]
  },
  {
   "cell_type": "code",
   "execution_count": 9,
   "metadata": {},
   "outputs": [
    {
     "name": "stdout",
     "output_type": "stream",
     "text": [
      "\n",
      "Req = 18.90 Ω\n",
      "Xeq = j35.79 Ω\n",
      "\n"
     ]
    }
   ],
   "source": [
    "Req = ZEQ.real\n",
    "Xeq = ZEQ.imag\n",
    "print('''\n",
    "Req = {:.2f} Ω\n",
    "Xeq = j{:.2f} Ω\n",
    "'''.format(Req, Xeq))"
   ]
  },
  {
   "cell_type": "markdown",
   "metadata": {},
   "source": [
    "#### (a)\n",
    "\n",
    "If this Y-$\\Delta$ transformer bank delivers rated kVA (300 kVA) at 0.8 power factor lagging while the secondary voltage is at rated value, then each transformer delivers 100 kVA at a voltage of 480 V and 0.8 PF lagging. Referred to the primary side of one of the transformers, the load on each transformer is equivalent to 100 kVA at 8314 V and 0.8 PF lagging. The equivalent current flowing in the secondary of one transformer referred to the primary side is:"
   ]
  },
  {
   "cell_type": "code",
   "execution_count": 10,
   "metadata": {},
   "outputs": [
    {
     "name": "stdout",
     "output_type": "stream",
     "text": [
      "I_PHI_s = 12.03 A ∠-36.87°\n"
     ]
    }
   ],
   "source": [
    "PF = 0.8\n",
    "V_PHI_s = Vp_ph  # secondary phase voltage as referred by the primary side\n",
    "I_phi_s = Sbase / abs(V_PHI_s)  # amplitude of current\n",
    "I_PHI_s_angle = -arccos(PF)     # angle \n",
    "I_PHI_s = I_phi_s * (cos(I_PHI_s_angle) + sin(I_PHI_s_angle)*1j) # complex vector\n",
    "print('I_PHI_s = {:.2f} A ∠{:.2f}°'.format(\n",
    "            abs(I_PHI_s), I_PHI_s_angle/pi * 180))"
   ]
  },
  {
   "cell_type": "markdown",
   "metadata": {},
   "source": [
    "The voltage on the primary side of a single transformer is thus:\n",
    "$$\\vec{V}_{\\phi,P} = \\vec{V}'_{\\phi,S} + \\vec{I}'_{\\phi,S}Z_{EQ,P}$$"
   ]
  },
  {
   "cell_type": "code",
   "execution_count": 11,
   "metadata": {},
   "outputs": [
    {
     "name": "stdout",
     "output_type": "stream",
     "text": [
      "V_PHI_p = 8757 V ∠1.36°\n"
     ]
    }
   ],
   "source": [
    "V_PHI_p = V_PHI_s + I_PHI_s*ZEQ\n",
    "V_PHI_p_angle = arctan(V_PHI_p.imag/V_PHI_p.real)\n",
    "print('V_PHI_p = {:.0f} V ∠{:.2f}°'.format(\n",
    "            abs(V_PHI_p), V_PHI_p_angle/pi * 180))"
   ]
  },
  {
   "cell_type": "markdown",
   "metadata": {},
   "source": [
    "**The line-to-line voltage on the primary of the transformer is:**\n",
    "\n",
    "$$V_{LL,P} = \\sqrt{3}V_{\\phi,P}$$"
   ]
  },
  {
   "cell_type": "code",
   "execution_count": 12,
   "metadata": {
    "scrolled": true
   },
   "outputs": [
    {
     "name": "stdout",
     "output_type": "stream",
     "text": [
      "\n",
      "Vll_p = 15.17 kV\n",
      "================\n",
      "\n"
     ]
    }
   ],
   "source": [
    "Vll_p = sqrt(3) * abs(V_PHI_p)\n",
    "print('''\n",
    "Vll_p = {:.2f} kV\n",
    "================\n",
    "'''.format(Vll_p/1000))"
   ]
  },
  {
   "cell_type": "markdown",
   "metadata": {},
   "source": [
    "#### (b)\n",
    "\n",
    "**The voltage regulation of the transformer is:**\n",
    "\n",
    "$$VR = \\frac{V_{\\phi,P}-V'_{\\phi,S}}{V'_{\\phi,S}} \\cdot 100\\%$$"
   ]
  },
  {
   "cell_type": "code",
   "execution_count": 13,
   "metadata": {},
   "outputs": [
    {
     "data": {
      "text/plain": [
       "8314"
      ]
     },
     "execution_count": 13,
     "metadata": {},
     "output_type": "execute_result"
    }
   ],
   "source": [
    "V_PHI_s"
   ]
  },
  {
   "cell_type": "code",
   "execution_count": 14,
   "metadata": {},
   "outputs": [
    {
     "name": "stdout",
     "output_type": "stream",
     "text": [
      "\n",
      "VR = 5.32 %\n",
      "===========\n",
      "\n"
     ]
    }
   ],
   "source": [
    "VR = (abs(V_PHI_p) - abs(V_PHI_s)) / abs(V_PHI_s) * 100\n",
    "print('''\n",
    "VR = {:.2f} %\n",
    "===========\n",
    "'''.format(VR))"
   ]
  },
  {
   "cell_type": "markdown",
   "metadata": {},
   "source": [
    "#### (c)\n",
    "\n",
    "The base values of this transformer bank on the primary side are:"
   ]
  },
  {
   "cell_type": "code",
   "execution_count": 15,
   "metadata": {},
   "outputs": [
    {
     "data": {
      "text/plain": [
       "14400"
      ]
     },
     "execution_count": 15,
     "metadata": {},
     "output_type": "execute_result"
    }
   ],
   "source": [
    "Sbase_3 = 300e3  # [VA]\n",
    "Vll_base = Vp_ll\n",
    "Vll_base"
   ]
  },
  {
   "cell_type": "markdown",
   "metadata": {},
   "source": [
    "$$I_{L_\\text{base}} = \\frac{S_\\text{base}}{\\sqrt{3}V_{LL_\\text{base}}}$$"
   ]
  },
  {
   "cell_type": "code",
   "execution_count": 16,
   "metadata": {},
   "outputs": [
    {
     "name": "stdout",
     "output_type": "stream",
     "text": [
      "Il_base = 12.03 A\n"
     ]
    }
   ],
   "source": [
    "Il_base = Sbase_3 / (sqrt(3)*Vll_base)\n",
    "print('Il_base = {:.2f} A'.format(Il_base))"
   ]
  },
  {
   "cell_type": "markdown",
   "metadata": {},
   "source": [
    "The transformer bank is connected in \"Y\" which means for the base phase current that:\n",
    "\n",
    "$$I_{\\phi_\\text{base}} = \\frac{I_{L_\\text{base}}}{\\sqrt{3}}$$"
   ]
  },
  {
   "cell_type": "code",
   "execution_count": 17,
   "metadata": {},
   "outputs": [
    {
     "name": "stdout",
     "output_type": "stream",
     "text": [
      "Iphi_base = 6.94 A\n"
     ]
    }
   ],
   "source": [
    "Iphi_base = Il_base / sqrt(3)\n",
    "print('Iphi_base = {:.2f} A'.format(Iphi_base))"
   ]
  },
  {
   "cell_type": "markdown",
   "metadata": {},
   "source": [
    "This sort of repetitive operation is best performed with Python. Note that in this case, the problem is specifying a fixed primary phase voltage of 8314 V, and asking what the secondary voltage will be as a function of load. Therefore, we must subtract the voltage drop inside the transformer at each load, and convert the resulting voltage from the primary side to the secondary (low voltage) side."
   ]
  },
  {
   "cell_type": "markdown",
   "metadata": {},
   "source": [
    "Define values for this transformer:"
   ]
  },
  {
   "cell_type": "code",
   "execution_count": 18,
   "metadata": {},
   "outputs": [],
   "source": [
    "VL = Vp_ll                       # [V] primary line voltage \n",
    "VP = VL / sqrt(3)                # [V] primary phase voltage\n",
    "amps = linspace(0, Il_base, 100) # [A] phase current values\n",
    "# Req is Equivalent R, which is already defined\n",
    "# Xeq is Equivalent X, which is already defined"
   ]
  },
  {
   "cell_type": "markdown",
   "metadata": {},
   "source": [
    "Calculate the current values for the three power factors. "
   ]
  },
  {
   "cell_type": "code",
   "execution_count": 19,
   "metadata": {},
   "outputs": [],
   "source": [
    "re = 0.85\n",
    "im = sin(arccos(re))\n",
    "I = amps * array ([[re - im*1j],  # lagging\n",
    "                   [1.0],         # unity\n",
    "                   [re + im*1j]]) # leading"
   ]
  },
  {
   "cell_type": "markdown",
   "metadata": {},
   "source": [
    "Calculate secondary phase voltage referred to the primary side for each current and power factor."
   ]
  },
  {
   "cell_type": "code",
   "execution_count": 20,
   "metadata": {},
   "outputs": [],
   "source": [
    "aVSP = VP - (Req*I + 1j*Xeq*I)"
   ]
  },
  {
   "cell_type": "markdown",
   "metadata": {},
   "source": [
    "Refer the secondary phase voltages back to the secondary side using the turns ratio. Because this is a delta-connected secondary, this is also the line voltage."
   ]
  },
  {
   "cell_type": "code",
   "execution_count": 21,
   "metadata": {},
   "outputs": [],
   "source": [
    "a = Vp_ph/Vs_ph # turns ratio\n",
    "VSP = aVSP / a"
   ]
  },
  {
   "cell_type": "markdown",
   "metadata": {},
   "source": [
    "**Plot the secondary voltage versus load:**"
   ]
  },
  {
   "cell_type": "code",
   "execution_count": 22,
   "metadata": {},
   "outputs": [
    {
     "data": {
      "application/javascript": [
       "/* Put everything inside the global mpl namespace */\n",
       "/* global mpl */\n",
       "window.mpl = {};\n",
       "\n",
       "mpl.get_websocket_type = function () {\n",
       "    if (typeof WebSocket !== 'undefined') {\n",
       "        return WebSocket;\n",
       "    } else if (typeof MozWebSocket !== 'undefined') {\n",
       "        return MozWebSocket;\n",
       "    } else {\n",
       "        alert(\n",
       "            'Your browser does not have WebSocket support. ' +\n",
       "                'Please try Chrome, Safari or Firefox ≥ 6. ' +\n",
       "                'Firefox 4 and 5 are also supported but you ' +\n",
       "                'have to enable WebSockets in about:config.'\n",
       "        );\n",
       "    }\n",
       "};\n",
       "\n",
       "mpl.figure = function (figure_id, websocket, ondownload, parent_element) {\n",
       "    this.id = figure_id;\n",
       "\n",
       "    this.ws = websocket;\n",
       "\n",
       "    this.supports_binary = this.ws.binaryType !== undefined;\n",
       "\n",
       "    if (!this.supports_binary) {\n",
       "        var warnings = document.getElementById('mpl-warnings');\n",
       "        if (warnings) {\n",
       "            warnings.style.display = 'block';\n",
       "            warnings.textContent =\n",
       "                'This browser does not support binary websocket messages. ' +\n",
       "                'Performance may be slow.';\n",
       "        }\n",
       "    }\n",
       "\n",
       "    this.imageObj = new Image();\n",
       "\n",
       "    this.context = undefined;\n",
       "    this.message = undefined;\n",
       "    this.canvas = undefined;\n",
       "    this.rubberband_canvas = undefined;\n",
       "    this.rubberband_context = undefined;\n",
       "    this.format_dropdown = undefined;\n",
       "\n",
       "    this.image_mode = 'full';\n",
       "\n",
       "    this.root = document.createElement('div');\n",
       "    this.root.setAttribute('style', 'display: inline-block');\n",
       "    this._root_extra_style(this.root);\n",
       "\n",
       "    parent_element.appendChild(this.root);\n",
       "\n",
       "    this._init_header(this);\n",
       "    this._init_canvas(this);\n",
       "    this._init_toolbar(this);\n",
       "\n",
       "    var fig = this;\n",
       "\n",
       "    this.waiting = false;\n",
       "\n",
       "    this.ws.onopen = function () {\n",
       "        fig.send_message('supports_binary', { value: fig.supports_binary });\n",
       "        fig.send_message('send_image_mode', {});\n",
       "        if (mpl.ratio !== 1) {\n",
       "            fig.send_message('set_dpi_ratio', { dpi_ratio: mpl.ratio });\n",
       "        }\n",
       "        fig.send_message('refresh', {});\n",
       "    };\n",
       "\n",
       "    this.imageObj.onload = function () {\n",
       "        if (fig.image_mode === 'full') {\n",
       "            // Full images could contain transparency (where diff images\n",
       "            // almost always do), so we need to clear the canvas so that\n",
       "            // there is no ghosting.\n",
       "            fig.context.clearRect(0, 0, fig.canvas.width, fig.canvas.height);\n",
       "        }\n",
       "        fig.context.drawImage(fig.imageObj, 0, 0);\n",
       "    };\n",
       "\n",
       "    this.imageObj.onunload = function () {\n",
       "        fig.ws.close();\n",
       "    };\n",
       "\n",
       "    this.ws.onmessage = this._make_on_message_function(this);\n",
       "\n",
       "    this.ondownload = ondownload;\n",
       "};\n",
       "\n",
       "mpl.figure.prototype._init_header = function () {\n",
       "    var titlebar = document.createElement('div');\n",
       "    titlebar.classList =\n",
       "        'ui-dialog-titlebar ui-widget-header ui-corner-all ui-helper-clearfix';\n",
       "    var titletext = document.createElement('div');\n",
       "    titletext.classList = 'ui-dialog-title';\n",
       "    titletext.setAttribute(\n",
       "        'style',\n",
       "        'width: 100%; text-align: center; padding: 3px;'\n",
       "    );\n",
       "    titlebar.appendChild(titletext);\n",
       "    this.root.appendChild(titlebar);\n",
       "    this.header = titletext;\n",
       "};\n",
       "\n",
       "mpl.figure.prototype._canvas_extra_style = function (_canvas_div) {};\n",
       "\n",
       "mpl.figure.prototype._root_extra_style = function (_canvas_div) {};\n",
       "\n",
       "mpl.figure.prototype._init_canvas = function () {\n",
       "    var fig = this;\n",
       "\n",
       "    var canvas_div = (this.canvas_div = document.createElement('div'));\n",
       "    canvas_div.setAttribute(\n",
       "        'style',\n",
       "        'border: 1px solid #ddd;' +\n",
       "            'box-sizing: content-box;' +\n",
       "            'clear: both;' +\n",
       "            'min-height: 1px;' +\n",
       "            'min-width: 1px;' +\n",
       "            'outline: 0;' +\n",
       "            'overflow: hidden;' +\n",
       "            'position: relative;' +\n",
       "            'resize: both;'\n",
       "    );\n",
       "\n",
       "    function on_keyboard_event_closure(name) {\n",
       "        return function (event) {\n",
       "            return fig.key_event(event, name);\n",
       "        };\n",
       "    }\n",
       "\n",
       "    canvas_div.addEventListener(\n",
       "        'keydown',\n",
       "        on_keyboard_event_closure('key_press')\n",
       "    );\n",
       "    canvas_div.addEventListener(\n",
       "        'keyup',\n",
       "        on_keyboard_event_closure('key_release')\n",
       "    );\n",
       "\n",
       "    this._canvas_extra_style(canvas_div);\n",
       "    this.root.appendChild(canvas_div);\n",
       "\n",
       "    var canvas = (this.canvas = document.createElement('canvas'));\n",
       "    canvas.classList.add('mpl-canvas');\n",
       "    canvas.setAttribute('style', 'box-sizing: content-box;');\n",
       "\n",
       "    this.context = canvas.getContext('2d');\n",
       "\n",
       "    var backingStore =\n",
       "        this.context.backingStorePixelRatio ||\n",
       "        this.context.webkitBackingStorePixelRatio ||\n",
       "        this.context.mozBackingStorePixelRatio ||\n",
       "        this.context.msBackingStorePixelRatio ||\n",
       "        this.context.oBackingStorePixelRatio ||\n",
       "        this.context.backingStorePixelRatio ||\n",
       "        1;\n",
       "\n",
       "    mpl.ratio = (window.devicePixelRatio || 1) / backingStore;\n",
       "\n",
       "    var rubberband_canvas = (this.rubberband_canvas = document.createElement(\n",
       "        'canvas'\n",
       "    ));\n",
       "    rubberband_canvas.setAttribute(\n",
       "        'style',\n",
       "        'box-sizing: content-box; position: absolute; left: 0; top: 0; z-index: 1;'\n",
       "    );\n",
       "\n",
       "    var resizeObserver = new ResizeObserver(function (entries) {\n",
       "        var nentries = entries.length;\n",
       "        for (var i = 0; i < nentries; i++) {\n",
       "            var entry = entries[i];\n",
       "            var width, height;\n",
       "            if (entry.contentBoxSize) {\n",
       "                width = entry.contentBoxSize.inlineSize;\n",
       "                height = entry.contentBoxSize.blockSize;\n",
       "            } else {\n",
       "                width = entry.contentRect.width;\n",
       "                height = entry.contentRect.height;\n",
       "            }\n",
       "\n",
       "            // Keep the size of the canvas and rubber band canvas in sync with\n",
       "            // the canvas container.\n",
       "            canvas.setAttribute('width', width * mpl.ratio);\n",
       "            canvas.setAttribute('height', height * mpl.ratio);\n",
       "            canvas.setAttribute(\n",
       "                'style',\n",
       "                'width: ' + width + 'px; height: ' + height + 'px;'\n",
       "            );\n",
       "\n",
       "            rubberband_canvas.setAttribute('width', width);\n",
       "            rubberband_canvas.setAttribute('height', height);\n",
       "\n",
       "            // And update the size in Python. We ignore the initial 0/0 size\n",
       "            // that occurs as the element is placed into the DOM, which should\n",
       "            // otherwise not happen due to the minimum size styling.\n",
       "            if (width != 0 && height != 0) {\n",
       "                fig.request_resize(width, height);\n",
       "            }\n",
       "        }\n",
       "    });\n",
       "    resizeObserver.observe(canvas_div);\n",
       "\n",
       "    function on_mouse_event_closure(name) {\n",
       "        return function (event) {\n",
       "            return fig.mouse_event(event, name);\n",
       "        };\n",
       "    }\n",
       "\n",
       "    rubberband_canvas.addEventListener(\n",
       "        'mousedown',\n",
       "        on_mouse_event_closure('button_press')\n",
       "    );\n",
       "    rubberband_canvas.addEventListener(\n",
       "        'mouseup',\n",
       "        on_mouse_event_closure('button_release')\n",
       "    );\n",
       "    // Throttle sequential mouse events to 1 every 20ms.\n",
       "    rubberband_canvas.addEventListener(\n",
       "        'mousemove',\n",
       "        on_mouse_event_closure('motion_notify')\n",
       "    );\n",
       "\n",
       "    rubberband_canvas.addEventListener(\n",
       "        'mouseenter',\n",
       "        on_mouse_event_closure('figure_enter')\n",
       "    );\n",
       "    rubberband_canvas.addEventListener(\n",
       "        'mouseleave',\n",
       "        on_mouse_event_closure('figure_leave')\n",
       "    );\n",
       "\n",
       "    canvas_div.addEventListener('wheel', function (event) {\n",
       "        if (event.deltaY < 0) {\n",
       "            event.step = 1;\n",
       "        } else {\n",
       "            event.step = -1;\n",
       "        }\n",
       "        on_mouse_event_closure('scroll')(event);\n",
       "    });\n",
       "\n",
       "    canvas_div.appendChild(canvas);\n",
       "    canvas_div.appendChild(rubberband_canvas);\n",
       "\n",
       "    this.rubberband_context = rubberband_canvas.getContext('2d');\n",
       "    this.rubberband_context.strokeStyle = '#000000';\n",
       "\n",
       "    this._resize_canvas = function (width, height, forward) {\n",
       "        if (forward) {\n",
       "            canvas_div.style.width = width + 'px';\n",
       "            canvas_div.style.height = height + 'px';\n",
       "        }\n",
       "    };\n",
       "\n",
       "    // Disable right mouse context menu.\n",
       "    this.rubberband_canvas.addEventListener('contextmenu', function (_e) {\n",
       "        return false;\n",
       "    });\n",
       "\n",
       "    function set_focus() {\n",
       "        canvas.focus();\n",
       "        canvas_div.focus();\n",
       "    }\n",
       "\n",
       "    window.setTimeout(set_focus, 100);\n",
       "};\n",
       "\n",
       "mpl.figure.prototype._init_toolbar = function () {\n",
       "    var fig = this;\n",
       "\n",
       "    var toolbar = document.createElement('div');\n",
       "    toolbar.classList = 'mpl-toolbar';\n",
       "    this.root.appendChild(toolbar);\n",
       "\n",
       "    function on_click_closure(name) {\n",
       "        return function (_event) {\n",
       "            return fig.toolbar_button_onclick(name);\n",
       "        };\n",
       "    }\n",
       "\n",
       "    function on_mouseover_closure(tooltip) {\n",
       "        return function (event) {\n",
       "            if (!event.currentTarget.disabled) {\n",
       "                return fig.toolbar_button_onmouseover(tooltip);\n",
       "            }\n",
       "        };\n",
       "    }\n",
       "\n",
       "    fig.buttons = {};\n",
       "    var buttonGroup = document.createElement('div');\n",
       "    buttonGroup.classList = 'mpl-button-group';\n",
       "    for (var toolbar_ind in mpl.toolbar_items) {\n",
       "        var name = mpl.toolbar_items[toolbar_ind][0];\n",
       "        var tooltip = mpl.toolbar_items[toolbar_ind][1];\n",
       "        var image = mpl.toolbar_items[toolbar_ind][2];\n",
       "        var method_name = mpl.toolbar_items[toolbar_ind][3];\n",
       "\n",
       "        if (!name) {\n",
       "            /* Instead of a spacer, we start a new button group. */\n",
       "            if (buttonGroup.hasChildNodes()) {\n",
       "                toolbar.appendChild(buttonGroup);\n",
       "            }\n",
       "            buttonGroup = document.createElement('div');\n",
       "            buttonGroup.classList = 'mpl-button-group';\n",
       "            continue;\n",
       "        }\n",
       "\n",
       "        var button = (fig.buttons[name] = document.createElement('button'));\n",
       "        button.classList = 'mpl-widget';\n",
       "        button.setAttribute('role', 'button');\n",
       "        button.setAttribute('aria-disabled', 'false');\n",
       "        button.addEventListener('click', on_click_closure(method_name));\n",
       "        button.addEventListener('mouseover', on_mouseover_closure(tooltip));\n",
       "\n",
       "        var icon_img = document.createElement('img');\n",
       "        icon_img.src = '_images/' + image + '.png';\n",
       "        icon_img.srcset = '_images/' + image + '_large.png 2x';\n",
       "        icon_img.alt = tooltip;\n",
       "        button.appendChild(icon_img);\n",
       "\n",
       "        buttonGroup.appendChild(button);\n",
       "    }\n",
       "\n",
       "    if (buttonGroup.hasChildNodes()) {\n",
       "        toolbar.appendChild(buttonGroup);\n",
       "    }\n",
       "\n",
       "    var fmt_picker = document.createElement('select');\n",
       "    fmt_picker.classList = 'mpl-widget';\n",
       "    toolbar.appendChild(fmt_picker);\n",
       "    this.format_dropdown = fmt_picker;\n",
       "\n",
       "    for (var ind in mpl.extensions) {\n",
       "        var fmt = mpl.extensions[ind];\n",
       "        var option = document.createElement('option');\n",
       "        option.selected = fmt === mpl.default_extension;\n",
       "        option.innerHTML = fmt;\n",
       "        fmt_picker.appendChild(option);\n",
       "    }\n",
       "\n",
       "    var status_bar = document.createElement('span');\n",
       "    status_bar.classList = 'mpl-message';\n",
       "    toolbar.appendChild(status_bar);\n",
       "    this.message = status_bar;\n",
       "};\n",
       "\n",
       "mpl.figure.prototype.request_resize = function (x_pixels, y_pixels) {\n",
       "    // Request matplotlib to resize the figure. Matplotlib will then trigger a resize in the client,\n",
       "    // which will in turn request a refresh of the image.\n",
       "    this.send_message('resize', { width: x_pixels, height: y_pixels });\n",
       "};\n",
       "\n",
       "mpl.figure.prototype.send_message = function (type, properties) {\n",
       "    properties['type'] = type;\n",
       "    properties['figure_id'] = this.id;\n",
       "    this.ws.send(JSON.stringify(properties));\n",
       "};\n",
       "\n",
       "mpl.figure.prototype.send_draw_message = function () {\n",
       "    if (!this.waiting) {\n",
       "        this.waiting = true;\n",
       "        this.ws.send(JSON.stringify({ type: 'draw', figure_id: this.id }));\n",
       "    }\n",
       "};\n",
       "\n",
       "mpl.figure.prototype.handle_save = function (fig, _msg) {\n",
       "    var format_dropdown = fig.format_dropdown;\n",
       "    var format = format_dropdown.options[format_dropdown.selectedIndex].value;\n",
       "    fig.ondownload(fig, format);\n",
       "};\n",
       "\n",
       "mpl.figure.prototype.handle_resize = function (fig, msg) {\n",
       "    var size = msg['size'];\n",
       "    if (size[0] !== fig.canvas.width || size[1] !== fig.canvas.height) {\n",
       "        fig._resize_canvas(size[0], size[1], msg['forward']);\n",
       "        fig.send_message('refresh', {});\n",
       "    }\n",
       "};\n",
       "\n",
       "mpl.figure.prototype.handle_rubberband = function (fig, msg) {\n",
       "    var x0 = msg['x0'] / mpl.ratio;\n",
       "    var y0 = (fig.canvas.height - msg['y0']) / mpl.ratio;\n",
       "    var x1 = msg['x1'] / mpl.ratio;\n",
       "    var y1 = (fig.canvas.height - msg['y1']) / mpl.ratio;\n",
       "    x0 = Math.floor(x0) + 0.5;\n",
       "    y0 = Math.floor(y0) + 0.5;\n",
       "    x1 = Math.floor(x1) + 0.5;\n",
       "    y1 = Math.floor(y1) + 0.5;\n",
       "    var min_x = Math.min(x0, x1);\n",
       "    var min_y = Math.min(y0, y1);\n",
       "    var width = Math.abs(x1 - x0);\n",
       "    var height = Math.abs(y1 - y0);\n",
       "\n",
       "    fig.rubberband_context.clearRect(\n",
       "        0,\n",
       "        0,\n",
       "        fig.canvas.width / mpl.ratio,\n",
       "        fig.canvas.height / mpl.ratio\n",
       "    );\n",
       "\n",
       "    fig.rubberband_context.strokeRect(min_x, min_y, width, height);\n",
       "};\n",
       "\n",
       "mpl.figure.prototype.handle_figure_label = function (fig, msg) {\n",
       "    // Updates the figure title.\n",
       "    fig.header.textContent = msg['label'];\n",
       "};\n",
       "\n",
       "mpl.figure.prototype.handle_cursor = function (fig, msg) {\n",
       "    var cursor = msg['cursor'];\n",
       "    switch (cursor) {\n",
       "        case 0:\n",
       "            cursor = 'pointer';\n",
       "            break;\n",
       "        case 1:\n",
       "            cursor = 'default';\n",
       "            break;\n",
       "        case 2:\n",
       "            cursor = 'crosshair';\n",
       "            break;\n",
       "        case 3:\n",
       "            cursor = 'move';\n",
       "            break;\n",
       "    }\n",
       "    fig.rubberband_canvas.style.cursor = cursor;\n",
       "};\n",
       "\n",
       "mpl.figure.prototype.handle_message = function (fig, msg) {\n",
       "    fig.message.textContent = msg['message'];\n",
       "};\n",
       "\n",
       "mpl.figure.prototype.handle_draw = function (fig, _msg) {\n",
       "    // Request the server to send over a new figure.\n",
       "    fig.send_draw_message();\n",
       "};\n",
       "\n",
       "mpl.figure.prototype.handle_image_mode = function (fig, msg) {\n",
       "    fig.image_mode = msg['mode'];\n",
       "};\n",
       "\n",
       "mpl.figure.prototype.handle_history_buttons = function (fig, msg) {\n",
       "    for (var key in msg) {\n",
       "        if (!(key in fig.buttons)) {\n",
       "            continue;\n",
       "        }\n",
       "        fig.buttons[key].disabled = !msg[key];\n",
       "        fig.buttons[key].setAttribute('aria-disabled', !msg[key]);\n",
       "    }\n",
       "};\n",
       "\n",
       "mpl.figure.prototype.handle_navigate_mode = function (fig, msg) {\n",
       "    if (msg['mode'] === 'PAN') {\n",
       "        fig.buttons['Pan'].classList.add('active');\n",
       "        fig.buttons['Zoom'].classList.remove('active');\n",
       "    } else if (msg['mode'] === 'ZOOM') {\n",
       "        fig.buttons['Pan'].classList.remove('active');\n",
       "        fig.buttons['Zoom'].classList.add('active');\n",
       "    } else {\n",
       "        fig.buttons['Pan'].classList.remove('active');\n",
       "        fig.buttons['Zoom'].classList.remove('active');\n",
       "    }\n",
       "};\n",
       "\n",
       "mpl.figure.prototype.updated_canvas_event = function () {\n",
       "    // Called whenever the canvas gets updated.\n",
       "    this.send_message('ack', {});\n",
       "};\n",
       "\n",
       "// A function to construct a web socket function for onmessage handling.\n",
       "// Called in the figure constructor.\n",
       "mpl.figure.prototype._make_on_message_function = function (fig) {\n",
       "    return function socket_on_message(evt) {\n",
       "        if (evt.data instanceof Blob) {\n",
       "            /* FIXME: We get \"Resource interpreted as Image but\n",
       "             * transferred with MIME type text/plain:\" errors on\n",
       "             * Chrome.  But how to set the MIME type?  It doesn't seem\n",
       "             * to be part of the websocket stream */\n",
       "            evt.data.type = 'image/png';\n",
       "\n",
       "            /* Free the memory for the previous frames */\n",
       "            if (fig.imageObj.src) {\n",
       "                (window.URL || window.webkitURL).revokeObjectURL(\n",
       "                    fig.imageObj.src\n",
       "                );\n",
       "            }\n",
       "\n",
       "            fig.imageObj.src = (window.URL || window.webkitURL).createObjectURL(\n",
       "                evt.data\n",
       "            );\n",
       "            fig.updated_canvas_event();\n",
       "            fig.waiting = false;\n",
       "            return;\n",
       "        } else if (\n",
       "            typeof evt.data === 'string' &&\n",
       "            evt.data.slice(0, 21) === 'data:image/png;base64'\n",
       "        ) {\n",
       "            fig.imageObj.src = evt.data;\n",
       "            fig.updated_canvas_event();\n",
       "            fig.waiting = false;\n",
       "            return;\n",
       "        }\n",
       "\n",
       "        var msg = JSON.parse(evt.data);\n",
       "        var msg_type = msg['type'];\n",
       "\n",
       "        // Call the  \"handle_{type}\" callback, which takes\n",
       "        // the figure and JSON message as its only arguments.\n",
       "        try {\n",
       "            var callback = fig['handle_' + msg_type];\n",
       "        } catch (e) {\n",
       "            console.log(\n",
       "                \"No handler for the '\" + msg_type + \"' message type: \",\n",
       "                msg\n",
       "            );\n",
       "            return;\n",
       "        }\n",
       "\n",
       "        if (callback) {\n",
       "            try {\n",
       "                // console.log(\"Handling '\" + msg_type + \"' message: \", msg);\n",
       "                callback(fig, msg);\n",
       "            } catch (e) {\n",
       "                console.log(\n",
       "                    \"Exception inside the 'handler_\" + msg_type + \"' callback:\",\n",
       "                    e,\n",
       "                    e.stack,\n",
       "                    msg\n",
       "                );\n",
       "            }\n",
       "        }\n",
       "    };\n",
       "};\n",
       "\n",
       "// from http://stackoverflow.com/questions/1114465/getting-mouse-location-in-canvas\n",
       "mpl.findpos = function (e) {\n",
       "    //this section is from http://www.quirksmode.org/js/events_properties.html\n",
       "    var targ;\n",
       "    if (!e) {\n",
       "        e = window.event;\n",
       "    }\n",
       "    if (e.target) {\n",
       "        targ = e.target;\n",
       "    } else if (e.srcElement) {\n",
       "        targ = e.srcElement;\n",
       "    }\n",
       "    if (targ.nodeType === 3) {\n",
       "        // defeat Safari bug\n",
       "        targ = targ.parentNode;\n",
       "    }\n",
       "\n",
       "    // pageX,Y are the mouse positions relative to the document\n",
       "    var boundingRect = targ.getBoundingClientRect();\n",
       "    var x = e.pageX - (boundingRect.left + document.body.scrollLeft);\n",
       "    var y = e.pageY - (boundingRect.top + document.body.scrollTop);\n",
       "\n",
       "    return { x: x, y: y };\n",
       "};\n",
       "\n",
       "/*\n",
       " * return a copy of an object with only non-object keys\n",
       " * we need this to avoid circular references\n",
       " * http://stackoverflow.com/a/24161582/3208463\n",
       " */\n",
       "function simpleKeys(original) {\n",
       "    return Object.keys(original).reduce(function (obj, key) {\n",
       "        if (typeof original[key] !== 'object') {\n",
       "            obj[key] = original[key];\n",
       "        }\n",
       "        return obj;\n",
       "    }, {});\n",
       "}\n",
       "\n",
       "mpl.figure.prototype.mouse_event = function (event, name) {\n",
       "    var canvas_pos = mpl.findpos(event);\n",
       "\n",
       "    if (name === 'button_press') {\n",
       "        this.canvas.focus();\n",
       "        this.canvas_div.focus();\n",
       "    }\n",
       "\n",
       "    var x = canvas_pos.x * mpl.ratio;\n",
       "    var y = canvas_pos.y * mpl.ratio;\n",
       "\n",
       "    this.send_message(name, {\n",
       "        x: x,\n",
       "        y: y,\n",
       "        button: event.button,\n",
       "        step: event.step,\n",
       "        guiEvent: simpleKeys(event),\n",
       "    });\n",
       "\n",
       "    /* This prevents the web browser from automatically changing to\n",
       "     * the text insertion cursor when the button is pressed.  We want\n",
       "     * to control all of the cursor setting manually through the\n",
       "     * 'cursor' event from matplotlib */\n",
       "    event.preventDefault();\n",
       "    return false;\n",
       "};\n",
       "\n",
       "mpl.figure.prototype._key_event_extra = function (_event, _name) {\n",
       "    // Handle any extra behaviour associated with a key event\n",
       "};\n",
       "\n",
       "mpl.figure.prototype.key_event = function (event, name) {\n",
       "    // Prevent repeat events\n",
       "    if (name === 'key_press') {\n",
       "        if (event.which === this._key) {\n",
       "            return;\n",
       "        } else {\n",
       "            this._key = event.which;\n",
       "        }\n",
       "    }\n",
       "    if (name === 'key_release') {\n",
       "        this._key = null;\n",
       "    }\n",
       "\n",
       "    var value = '';\n",
       "    if (event.ctrlKey && event.which !== 17) {\n",
       "        value += 'ctrl+';\n",
       "    }\n",
       "    if (event.altKey && event.which !== 18) {\n",
       "        value += 'alt+';\n",
       "    }\n",
       "    if (event.shiftKey && event.which !== 16) {\n",
       "        value += 'shift+';\n",
       "    }\n",
       "\n",
       "    value += 'k';\n",
       "    value += event.which.toString();\n",
       "\n",
       "    this._key_event_extra(event, name);\n",
       "\n",
       "    this.send_message(name, { key: value, guiEvent: simpleKeys(event) });\n",
       "    return false;\n",
       "};\n",
       "\n",
       "mpl.figure.prototype.toolbar_button_onclick = function (name) {\n",
       "    if (name === 'download') {\n",
       "        this.handle_save(this, null);\n",
       "    } else {\n",
       "        this.send_message('toolbar_button', { name: name });\n",
       "    }\n",
       "};\n",
       "\n",
       "mpl.figure.prototype.toolbar_button_onmouseover = function (tooltip) {\n",
       "    this.message.textContent = tooltip;\n",
       "};\n",
       "mpl.toolbar_items = [[\"Home\", \"Reset original view\", \"fa fa-home icon-home\", \"home\"], [\"Back\", \"Back to previous view\", \"fa fa-arrow-left icon-arrow-left\", \"back\"], [\"Forward\", \"Forward to next view\", \"fa fa-arrow-right icon-arrow-right\", \"forward\"], [\"\", \"\", \"\", \"\"], [\"Pan\", \"Left button pans, Right button zooms\\nx/y fixes axis, CTRL fixes aspect\", \"fa fa-arrows icon-move\", \"pan\"], [\"Zoom\", \"Zoom to rectangle\\nx/y fixes axis, CTRL fixes aspect\", \"fa fa-square-o icon-check-empty\", \"zoom\"], [\"\", \"\", \"\", \"\"], [\"Download\", \"Download plot\", \"fa fa-floppy-o icon-save\", \"download\"]];\n",
       "\n",
       "mpl.extensions = [\"eps\", \"jpeg\", \"pdf\", \"png\", \"ps\", \"raw\", \"svg\", \"tif\"];\n",
       "\n",
       "mpl.default_extension = \"png\";/* global mpl */\n",
       "\n",
       "var comm_websocket_adapter = function (comm) {\n",
       "    // Create a \"websocket\"-like object which calls the given IPython comm\n",
       "    // object with the appropriate methods. Currently this is a non binary\n",
       "    // socket, so there is still some room for performance tuning.\n",
       "    var ws = {};\n",
       "\n",
       "    ws.close = function () {\n",
       "        comm.close();\n",
       "    };\n",
       "    ws.send = function (m) {\n",
       "        //console.log('sending', m);\n",
       "        comm.send(m);\n",
       "    };\n",
       "    // Register the callback with on_msg.\n",
       "    comm.on_msg(function (msg) {\n",
       "        //console.log('receiving', msg['content']['data'], msg);\n",
       "        // Pass the mpl event to the overridden (by mpl) onmessage function.\n",
       "        ws.onmessage(msg['content']['data']);\n",
       "    });\n",
       "    return ws;\n",
       "};\n",
       "\n",
       "mpl.mpl_figure_comm = function (comm, msg) {\n",
       "    // This is the function which gets called when the mpl process\n",
       "    // starts-up an IPython Comm through the \"matplotlib\" channel.\n",
       "\n",
       "    var id = msg.content.data.id;\n",
       "    // Get hold of the div created by the display call when the Comm\n",
       "    // socket was opened in Python.\n",
       "    var element = document.getElementById(id);\n",
       "    var ws_proxy = comm_websocket_adapter(comm);\n",
       "\n",
       "    function ondownload(figure, _format) {\n",
       "        window.open(figure.canvas.toDataURL());\n",
       "    }\n",
       "\n",
       "    var fig = new mpl.figure(id, ws_proxy, ondownload, element);\n",
       "\n",
       "    // Call onopen now - mpl needs it, as it is assuming we've passed it a real\n",
       "    // web socket which is closed, not our websocket->open comm proxy.\n",
       "    ws_proxy.onopen();\n",
       "\n",
       "    fig.parent_element = element;\n",
       "    fig.cell_info = mpl.find_output_cell(\"<div id='\" + id + \"'></div>\");\n",
       "    if (!fig.cell_info) {\n",
       "        console.error('Failed to find cell for figure', id, fig);\n",
       "        return;\n",
       "    }\n",
       "};\n",
       "\n",
       "mpl.figure.prototype.handle_close = function (fig, msg) {\n",
       "    var width = fig.canvas.width / mpl.ratio;\n",
       "    fig.root.removeEventListener('remove', this._remove_fig_handler);\n",
       "\n",
       "    // Update the output cell to use the data from the current canvas.\n",
       "    fig.push_to_output();\n",
       "    var dataURL = fig.canvas.toDataURL();\n",
       "    // Re-enable the keyboard manager in IPython - without this line, in FF,\n",
       "    // the notebook keyboard shortcuts fail.\n",
       "    IPython.keyboard_manager.enable();\n",
       "    fig.parent_element.innerHTML =\n",
       "        '<img src=\"' + dataURL + '\" width=\"' + width + '\">';\n",
       "    fig.close_ws(fig, msg);\n",
       "};\n",
       "\n",
       "mpl.figure.prototype.close_ws = function (fig, msg) {\n",
       "    fig.send_message('closing', msg);\n",
       "    // fig.ws.close()\n",
       "};\n",
       "\n",
       "mpl.figure.prototype.push_to_output = function (_remove_interactive) {\n",
       "    // Turn the data on the canvas into data in the output cell.\n",
       "    var width = this.canvas.width / mpl.ratio;\n",
       "    var dataURL = this.canvas.toDataURL();\n",
       "    this.cell_info[1]['text/html'] =\n",
       "        '<img src=\"' + dataURL + '\" width=\"' + width + '\">';\n",
       "};\n",
       "\n",
       "mpl.figure.prototype.updated_canvas_event = function () {\n",
       "    // Tell IPython that the notebook contents must change.\n",
       "    IPython.notebook.set_dirty(true);\n",
       "    this.send_message('ack', {});\n",
       "    var fig = this;\n",
       "    // Wait a second, then push the new image to the DOM so\n",
       "    // that it is saved nicely (might be nice to debounce this).\n",
       "    setTimeout(function () {\n",
       "        fig.push_to_output();\n",
       "    }, 1000);\n",
       "};\n",
       "\n",
       "mpl.figure.prototype._init_toolbar = function () {\n",
       "    var fig = this;\n",
       "\n",
       "    var toolbar = document.createElement('div');\n",
       "    toolbar.classList = 'btn-toolbar';\n",
       "    this.root.appendChild(toolbar);\n",
       "\n",
       "    function on_click_closure(name) {\n",
       "        return function (_event) {\n",
       "            return fig.toolbar_button_onclick(name);\n",
       "        };\n",
       "    }\n",
       "\n",
       "    function on_mouseover_closure(tooltip) {\n",
       "        return function (event) {\n",
       "            if (!event.currentTarget.disabled) {\n",
       "                return fig.toolbar_button_onmouseover(tooltip);\n",
       "            }\n",
       "        };\n",
       "    }\n",
       "\n",
       "    fig.buttons = {};\n",
       "    var buttonGroup = document.createElement('div');\n",
       "    buttonGroup.classList = 'btn-group';\n",
       "    var button;\n",
       "    for (var toolbar_ind in mpl.toolbar_items) {\n",
       "        var name = mpl.toolbar_items[toolbar_ind][0];\n",
       "        var tooltip = mpl.toolbar_items[toolbar_ind][1];\n",
       "        var image = mpl.toolbar_items[toolbar_ind][2];\n",
       "        var method_name = mpl.toolbar_items[toolbar_ind][3];\n",
       "\n",
       "        if (!name) {\n",
       "            /* Instead of a spacer, we start a new button group. */\n",
       "            if (buttonGroup.hasChildNodes()) {\n",
       "                toolbar.appendChild(buttonGroup);\n",
       "            }\n",
       "            buttonGroup = document.createElement('div');\n",
       "            buttonGroup.classList = 'btn-group';\n",
       "            continue;\n",
       "        }\n",
       "\n",
       "        button = fig.buttons[name] = document.createElement('button');\n",
       "        button.classList = 'btn btn-default';\n",
       "        button.href = '#';\n",
       "        button.title = name;\n",
       "        button.innerHTML = '<i class=\"fa ' + image + ' fa-lg\"></i>';\n",
       "        button.addEventListener('click', on_click_closure(method_name));\n",
       "        button.addEventListener('mouseover', on_mouseover_closure(tooltip));\n",
       "        buttonGroup.appendChild(button);\n",
       "    }\n",
       "\n",
       "    if (buttonGroup.hasChildNodes()) {\n",
       "        toolbar.appendChild(buttonGroup);\n",
       "    }\n",
       "\n",
       "    // Add the status bar.\n",
       "    var status_bar = document.createElement('span');\n",
       "    status_bar.classList = 'mpl-message pull-right';\n",
       "    toolbar.appendChild(status_bar);\n",
       "    this.message = status_bar;\n",
       "\n",
       "    // Add the close button to the window.\n",
       "    var buttongrp = document.createElement('div');\n",
       "    buttongrp.classList = 'btn-group inline pull-right';\n",
       "    button = document.createElement('button');\n",
       "    button.classList = 'btn btn-mini btn-primary';\n",
       "    button.href = '#';\n",
       "    button.title = 'Stop Interaction';\n",
       "    button.innerHTML = '<i class=\"fa fa-power-off icon-remove icon-large\"></i>';\n",
       "    button.addEventListener('click', function (_evt) {\n",
       "        fig.handle_close(fig, {});\n",
       "    });\n",
       "    button.addEventListener(\n",
       "        'mouseover',\n",
       "        on_mouseover_closure('Stop Interaction')\n",
       "    );\n",
       "    buttongrp.appendChild(button);\n",
       "    var titlebar = this.root.querySelector('.ui-dialog-titlebar');\n",
       "    titlebar.insertBefore(buttongrp, titlebar.firstChild);\n",
       "};\n",
       "\n",
       "mpl.figure.prototype._remove_fig_handler = function () {\n",
       "    this.close_ws(this, {});\n",
       "};\n",
       "\n",
       "mpl.figure.prototype._root_extra_style = function (el) {\n",
       "    el.style.boxSizing = 'content-box'; // override notebook setting of border-box.\n",
       "    el.addEventListener('remove', this._remove_fig_handler);\n",
       "};\n",
       "\n",
       "mpl.figure.prototype._canvas_extra_style = function (el) {\n",
       "    // this is important to make the div 'focusable\n",
       "    el.setAttribute('tabindex', 0);\n",
       "    // reach out to IPython and tell the keyboard manager to turn it's self\n",
       "    // off when our div gets focus\n",
       "\n",
       "    // location in version 3\n",
       "    if (IPython.notebook.keyboard_manager) {\n",
       "        IPython.notebook.keyboard_manager.register_events(el);\n",
       "    } else {\n",
       "        // location in version 2\n",
       "        IPython.keyboard_manager.register_events(el);\n",
       "    }\n",
       "};\n",
       "\n",
       "mpl.figure.prototype._key_event_extra = function (event, _name) {\n",
       "    var manager = IPython.notebook.keyboard_manager;\n",
       "    if (!manager) {\n",
       "        manager = IPython.keyboard_manager;\n",
       "    }\n",
       "\n",
       "    // Check for shift+enter\n",
       "    if (event.shiftKey && event.which === 13) {\n",
       "        this.canvas_div.blur();\n",
       "        // select the cell after this one\n",
       "        var index = IPython.notebook.find_cell_index(this.cell_info[0]);\n",
       "        IPython.notebook.select(index + 1);\n",
       "    }\n",
       "};\n",
       "\n",
       "mpl.figure.prototype.handle_save = function (fig, _msg) {\n",
       "    fig.ondownload(fig, null);\n",
       "};\n",
       "\n",
       "mpl.find_output_cell = function (html_output) {\n",
       "    // Return the cell and output element which can be found *uniquely* in the notebook.\n",
       "    // Note - this is a bit hacky, but it is done because the \"notebook_saving.Notebook\"\n",
       "    // IPython event is triggered only after the cells have been serialised, which for\n",
       "    // our purposes (turning an active figure into a static one), is too late.\n",
       "    var cells = IPython.notebook.get_cells();\n",
       "    var ncells = cells.length;\n",
       "    for (var i = 0; i < ncells; i++) {\n",
       "        var cell = cells[i];\n",
       "        if (cell.cell_type === 'code') {\n",
       "            for (var j = 0; j < cell.output_area.outputs.length; j++) {\n",
       "                var data = cell.output_area.outputs[j];\n",
       "                if (data.data) {\n",
       "                    // IPython >= 3 moved mimebundle to data attribute of output\n",
       "                    data = data.data;\n",
       "                }\n",
       "                if (data['text/html'] === html_output) {\n",
       "                    return [cell, data, j];\n",
       "                }\n",
       "            }\n",
       "        }\n",
       "    }\n",
       "};\n",
       "\n",
       "// Register the function which deals with the matplotlib target/channel.\n",
       "// The kernel may be null if the page has been refreshed.\n",
       "if (IPython.notebook.kernel !== null) {\n",
       "    IPython.notebook.kernel.comm_manager.register_target(\n",
       "        'matplotlib',\n",
       "        mpl.mpl_figure_comm\n",
       "    );\n",
       "}\n"
      ],
      "text/plain": [
       "<IPython.core.display.Javascript object>"
      ]
     },
     "metadata": {},
     "output_type": "display_data"
    },
    {
     "data": {
      "text/html": [
       "<img src=\"data:image/png;base64,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\" width=\"640\">"
      ],
      "text/plain": [
       "<IPython.core.display.HTML object>"
      ]
     },
     "metadata": {},
     "output_type": "display_data"
    }
   ],
   "source": [
    "title('Secondary voltage vs load current')\n",
    "xlabel('Load current [A]')\n",
    "ylabel('Secondary voltage [V]')\n",
    "plot(amps, abs(VSP[0,]), 'b-', \n",
    "     amps, abs(VSP[1,]), 'k--',\n",
    "     amps, abs(VSP[2,]), 'r-.',\n",
    "     linewidth = 2)\n",
    "legend(('0.8 PF lagging', '1.0 PF', '0.8 PF leading'), loc=3);\n",
    "grid()"
   ]
  },
  {
   "cell_type": "markdown",
   "metadata": {},
   "source": [
    "#### (d)\n",
    "\n",
    "This sort of repetitive operation is best performed with Python."
   ]
  },
  {
   "cell_type": "markdown",
   "metadata": {},
   "source": [
    "Calculate the voltage regulation:"
   ]
  },
  {
   "cell_type": "code",
   "execution_count": 23,
   "metadata": {},
   "outputs": [],
   "source": [
    "VR = (VP - abs(aVSP)) / abs(aVSP) * 100"
   ]
  },
  {
   "cell_type": "markdown",
   "metadata": {},
   "source": [
    "**Plot the voltage regulation versus load:**"
   ]
  },
  {
   "cell_type": "code",
   "execution_count": 24,
   "metadata": {},
   "outputs": [],
   "source": [
    "title('Voltage Regulation vs load current')\n",
    "xlabel('Load current [A]')\n",
    "ylabel('Voltage Regulation [%]')\n",
    "plot(amps, abs(VR[0,]), 'b-',\n",
    "     amps, abs(VR[1,]), 'k--',\n",
    "     amps, abs(VR[2,]), 'r-.',\n",
    "     linewidth = 2)\n",
    "legend(('0.8 PF lagging', '1.0 PF', '0.8 PF leading'), loc=0);\n",
    "axis([0,14,-1,6])\n",
    "grid()"
   ]
  },
  {
   "cell_type": "markdown",
   "metadata": {},
   "source": [
    "#### (e)\n",
    "\n",
    "The base phase voltage on the primary side is given by:\n",
    "$$V_{\\phi P_\\text{base}} = \\frac{V_{LP}}{\\sqrt{3}}$$"
   ]
  },
  {
   "cell_type": "code",
   "execution_count": 25,
   "metadata": {},
   "outputs": [
    {
     "name": "stdout",
     "output_type": "stream",
     "text": [
      "Vphip_base = 8.314 kV\n"
     ]
    }
   ],
   "source": [
    "Vlp = Vp_ll\n",
    "Vphip_base = Vlp / sqrt(3)\n",
    "print('Vphip_base = {:.3f} kV'.format(Vphip_base/1000))"
   ]
  },
  {
   "cell_type": "markdown",
   "metadata": {},
   "source": [
    "The base impedance on the primary side is given by:\n",
    "$$Z_{\\text{base}_S} = \\frac{(V_{\\phi_{\\text{base}_S}})^2}{S_{\\phi_\\text{base}}}$$"
   ]
  },
  {
   "cell_type": "code",
   "execution_count": 26,
   "metadata": {},
   "outputs": [
    {
     "name": "stdout",
     "output_type": "stream",
     "text": [
      "Zbase_s = 230 Ω\n"
     ]
    }
   ],
   "source": [
    "Zbase_s = Vphip_base ** 2 / Sbase_3\n",
    "print('Zbase_s = {:.0f} Ω'.format(Zbase_s))"
   ]
  },
  {
   "cell_type": "markdown",
   "metadata": {},
   "source": [
    "The per-unit impedance is:"
   ]
  },
  {
   "cell_type": "code",
   "execution_count": 27,
   "metadata": {},
   "outputs": [
    {
     "name": "stdout",
     "output_type": "stream",
     "text": [
      "\n",
      "Req_pu = 0.082 pu\n",
      "Xeq_pu = 0.155 pu\n",
      "\n"
     ]
    }
   ],
   "source": [
    "Req_pu = Req / Zbase_s\n",
    "Xeq_pu = Xeq / Zbase_s\n",
    "print('''\n",
    "Req_pu = {:.3f} pu\n",
    "Xeq_pu = {:.3f} pu\n",
    "'''.format(Req_pu, Xeq_pu))"
   ]
  },
  {
   "cell_type": "markdown",
   "metadata": {},
   "source": [
    "The excitation branch information was not given for the transformer.\n",
    "\n",
    "**So the per-unit, per-phase equivalent circuit of the transformer bank is shown below:**"
   ]
  },
  {
   "cell_type": "markdown",
   "metadata": {},
   "source": [
    "<img src=\"figs/Problem_2-13.jpg\" width=\"60%\">"
   ]
  }
 ],
 "metadata": {
  "kernelspec": {
   "display_name": "Python 3",
   "language": "python",
   "name": "python3"
  },
  "language_info": {
   "codemirror_mode": {
    "name": "ipython",
    "version": 3
   },
   "file_extension": ".py",
   "mimetype": "text/x-python",
   "name": "python",
   "nbconvert_exporter": "python",
   "pygments_lexer": "ipython3",
   "version": "3.8.2"
  }
 },
 "nbformat": 4,
 "nbformat_minor": 1
}
