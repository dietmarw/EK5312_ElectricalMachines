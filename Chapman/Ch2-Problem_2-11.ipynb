{
 "cells": [
  {
   "cell_type": "markdown",
   "metadata": {},
   "source": [
    "# Excercises Electric Machinery Fundamentals\n",
    "## Chapter 2"
   ]
  },
  {
   "cell_type": "markdown",
   "metadata": {},
   "source": [
    "## Problem 2-11"
   ]
  },
  {
   "cell_type": "code",
   "execution_count": 1,
   "metadata": {
    "slideshow": {
     "slide_type": "skip"
    }
   },
   "outputs": [
    {
     "name": "stdout",
     "output_type": "stream",
     "text": [
      "Populating the interactive namespace from numpy and matplotlib\n"
     ]
    }
   ],
   "source": [
    "%pylab inline"
   ]
  },
  {
   "cell_type": "markdown",
   "metadata": {},
   "source": [
    "### Description"
   ]
  },
  {
   "cell_type": "markdown",
   "metadata": {},
   "source": [
    "A 100-MVA 230/115-kV $\\Delta$-Y three-phase power transformer has a per-unit resistance of 0.015 pu and a per-unit reactance of 0.06 pu. The excitation branch elements are $R_C =100\\,pu$ and $X_M = 20\\,pu$."
   ]
  },
  {
   "cell_type": "code",
   "execution_count": 2,
   "metadata": {},
   "outputs": [],
   "source": [
    "Sbase = 100e6 # [VA]\n",
    "Vp0   = 230e3 # [V]\n",
    "Vs0   = 115e3 # [V]\n",
    "\n",
    "Rc_pu  = 100.0\n",
    "Xm_pu  =  20.0\n",
    "Req_pu =   0.015\n",
    "Xeq_pu =   0.06"
   ]
  },
  {
   "cell_type": "markdown",
   "metadata": {},
   "source": [
    "#### (a)\n",
    "\n",
    "If this transformer supplies a load of 80 MVA at 0.8 PF lagging.\n",
    " \n",
    " * draw the phasor diagram of one phase of the transformer.\n",
    " \n",
    "#### (b)\n",
    " \n",
    " * What is the voltage regulation of the transformer bank under these conditions?\n",
    " \n",
    "#### (c)\n",
    " \n",
    " * Sketch the equivalent circuit referred to the low-voltage side of one phase of this transformer.\n",
    " * Calculate all the transformer impedances referred to the low-voltage side.\n",
    " \n",
    "#### (d)\n",
    " \n",
    " * Determine the losses in the transformer and the efficiency of the transformer under the conditions of part (b)."
   ]
  },
  {
   "cell_type": "markdown",
   "metadata": {},
   "source": [
    "### SOLUTION"
   ]
  },
  {
   "cell_type": "markdown",
   "metadata": {},
   "source": [
    "#### (a)\n",
    "\n",
    "The transformer supplies a load of 80 MVA at 0.8 PF lagging. Therefore, the secondary line current of the transformer is:\n",
    "$$I_{LS} = \\frac{S}{\\sqrt{3}V_{LS}}$$"
   ]
  },
  {
   "cell_type": "code",
   "execution_count": 3,
   "metadata": {},
   "outputs": [
    {
     "name": "stdout",
     "output_type": "stream",
     "text": [
      "Ils_a = 402 A\n"
     ]
    }
   ],
   "source": [
    "Pload = 80e6  # [VA]\n",
    "PF    = 0.8\n",
    "Vls_a = Vs0\n",
    "\n",
    "Ils_a = Pload / (sqrt(3)*Vls_a)\n",
    "print('Ils_a = {:.0f} A'.format(Ils_a))"
   ]
  },
  {
   "cell_type": "markdown",
   "metadata": {},
   "source": [
    "The base apparent power is $S_\\text{base} = 100\\,MVA$ , and the base line voltage on the secondary side is $V_{LS_\\text{base}} = 115\\,kV$ , so the base value of the secondary line current is:\n",
    "\n",
    "$$I_{LS_\\text{base}} = \\frac{S_\\text{base}}{\\sqrt{3}V_{LS_\\text{base}}}$$"
   ]
  },
  {
   "cell_type": "code",
   "execution_count": 4,
   "metadata": {},
   "outputs": [
    {
     "name": "stdout",
     "output_type": "stream",
     "text": [
      "Ils_base_a = 502 A\n"
     ]
    }
   ],
   "source": [
    "Vls_base = Vs0\n",
    "\n",
    "Ils_base_a = Sbase / (sqrt(3)*Vls_base)\n",
    "print('Ils_base_a = {:.0f} A'.format(Ils_base_a))"
   ]
  },
  {
   "cell_type": "markdown",
   "metadata": {},
   "source": [
    "so the per-unit secondary current is:\n",
    "\n",
    "$$\\vec{I}_{LS_{pu}} = \\frac{I_{LS}}{I_{LS_\\text{base}}}$$"
   ]
  },
  {
   "cell_type": "code",
   "execution_count": 5,
   "metadata": {},
   "outputs": [
    {
     "name": "stdout",
     "output_type": "stream",
     "text": [
      "ILS_pu_a = 0.8 ∠-36.87°\n"
     ]
    }
   ],
   "source": [
    "Ils_pu_a = Ils_a / Ils_base_a\n",
    "ILS_pu_a_angle = -arccos(PF)\n",
    "ILS_pu_a = Ils_pu_a * (cos(ILS_pu_a_angle) + sin(ILS_pu_a_angle)*1j)\n",
    "\n",
    "print('ILS_pu_a = {:.1f} ∠{:.2f}°'.format(\n",
    "            abs(ILS_pu_a), ILS_pu_a_angle/pi*180))"
   ]
  },
  {
   "cell_type": "markdown",
   "metadata": {},
   "source": [
    "**The per-unit phasor diagram is shown below:**"
   ]
  },
  {
   "cell_type": "markdown",
   "metadata": {},
   "source": [
    "<img src=\"figs/Problem_2-11a.jpg\" width=\"50%\">"
   ]
  },
  {
   "cell_type": "markdown",
   "metadata": {},
   "source": [
    "#### (b)\n",
    "\n",
    "The per-unit primary voltage of this transformer is:\n",
    "$$\\vec{V}_P = \\vec{V}_S + \\vec{I}Z_\\text{EQ}$$"
   ]
  },
  {
   "cell_type": "code",
   "execution_count": 6,
   "metadata": {},
   "outputs": [
    {
     "name": "stdout",
     "output_type": "stream",
     "text": [
      "VS_pu = 1.039 ∠1.7°\n"
     ]
    }
   ],
   "source": [
    "VS_pu = 1.0                                    \n",
    "Zeq_pu = Req_pu + Xeq_pu*1j      \n",
    "\n",
    "VP_pu = VS_pu + ILS_pu_a*Zeq_pu\n",
    "VP_pu_angle = arctan(VP_pu.imag/VP_pu.real)\n",
    "print('VS_pu = {:.3f} ∠{:.1f}°'.format(\n",
    "           abs(VP_pu), VP_pu_angle/pi*180))"
   ]
  },
  {
   "cell_type": "markdown",
   "metadata": {},
   "source": [
    "**and the voltage regulation is:**\n",
    "\n",
    "$$VR = \\frac{V_P - V_S}{V_S} \\cdot 100\\%$$"
   ]
  },
  {
   "cell_type": "code",
   "execution_count": 7,
   "metadata": {},
   "outputs": [
    {
     "name": "stdout",
     "output_type": "stream",
     "text": [
      "\n",
      "VR = 3.9%\n",
      "=========\n",
      "\n"
     ]
    }
   ],
   "source": [
    "VR = (abs(VP_pu) - abs(VS_pu)) / abs(VS_pu) * 100\n",
    "print('''\n",
    "VR = {:.1f}%\n",
    "=========\n",
    "'''.format(VR))"
   ]
  },
  {
   "cell_type": "markdown",
   "metadata": {},
   "source": [
    "#### (c)\n",
    "\n",
    "The secondary side of this transfer is Y-connected, so the base phase voltage of the low voltage (secondary) side of this transformer is:\n",
    "$$V_{\\phi S_\\text{base}} = \\frac{V_{LS_\\text{base}}}{\\sqrt{3}}$$"
   ]
  },
  {
   "cell_type": "code",
   "execution_count": 8,
   "metadata": {},
   "outputs": [
    {
     "name": "stdout",
     "output_type": "stream",
     "text": [
      "Vphi_base = 66.4 kV\n"
     ]
    }
   ],
   "source": [
    "Vphis_base = Vls_base / sqrt(3)\n",
    "print('Vphi_base = {:.1f} kV'.format(Vphis_base/1000))"
   ]
  },
  {
   "cell_type": "markdown",
   "metadata": {},
   "source": [
    "The base impedance of the transformer referred to the low-voltage side is:\n",
    "\n",
    "$$Z_\\text{base} = \\frac{3V_{\\phi S_\\text{base}}^2}{S_\\text{base}}$$"
   ]
  },
  {
   "cell_type": "code",
   "execution_count": 9,
   "metadata": {},
   "outputs": [
    {
     "name": "stdout",
     "output_type": "stream",
     "text": [
      "Zbase = 132 Ω\n"
     ]
    }
   ],
   "source": [
    "Zbase = 3 * Vphis_base**2 / Sbase\n",
    "print('Zbase = {:.0f} Ω'.format(Zbase))"
   ]
  },
  {
   "cell_type": "markdown",
   "metadata": {},
   "source": [
    "Each per-unit impedance is converted to actual ohms referred to the low-voltage side by multiplying it by this base impedance. \n",
    "\n",
    "**The resulting equivalent circuit is shown below:**\n",
    "\n",
    "<img src=\"figs/Problem_2-11b.jpg\" width=\"60%\">"
   ]
  },
  {
   "cell_type": "code",
   "execution_count": 10,
   "metadata": {},
   "outputs": [
    {
     "name": "stdout",
     "output_type": "stream",
     "text": [
      "\n",
      "Req,s = 1.98 Ω    Xeq,s = 7.94  Ω\n",
      "Rc,s  = 13.2 kΩ    Xm,s = 2.65 kΩ\n",
      "==================================\n",
      "\n"
     ]
    }
   ],
   "source": [
    "Req = Req_pu*Zbase\n",
    "Xeq = Xeq_pu*Zbase\n",
    "Rc = Rc_pu*Zbase\n",
    "Xm = Xm_pu*Zbase\n",
    "\n",
    "print('''\n",
    "Req,s = {:.2f} Ω    Xeq,s = {:.2f}  Ω\n",
    "Rc,s  = {:.1f} kΩ    Xm,s = {:.2f} kΩ\n",
    "==================================\n",
    "'''.format(Req, Xeq, Rc/1000, Xm/1000))"
   ]
  },
  {
   "cell_type": "markdown",
   "metadata": {},
   "source": [
    "#### (d)\n",
    "\n",
    "The per-unit losses in the series resistance are:\n",
    "$$P_\\text{EQ} = I^2R_\\text{EQ}$$"
   ]
  },
  {
   "cell_type": "code",
   "execution_count": 11,
   "metadata": {},
   "outputs": [
    {
     "name": "stdout",
     "output_type": "stream",
     "text": [
      "Peq_pu = 0.0096\n"
     ]
    }
   ],
   "source": [
    "Peq_pu = abs(ILS_pu_a)**2 *Req_pu\n",
    "print('Peq_pu = {:.4f}'.format(Peq_pu))"
   ]
  },
  {
   "cell_type": "markdown",
   "metadata": {},
   "source": [
    "**and the actual losses in the series resistance are:**\n",
    "\n",
    "$$P_\\text{EQ} = S_\\text{base}P_{\\text{EQ}_\\text{pu}}$$"
   ]
  },
  {
   "cell_type": "code",
   "execution_count": 12,
   "metadata": {},
   "outputs": [
    {
     "name": "stdout",
     "output_type": "stream",
     "text": [
      "\n",
      "Peq = 0.96 MW\n",
      "=============\n",
      "\n"
     ]
    }
   ],
   "source": [
    "Peq = Sbase * Peq_pu\n",
    "print('''\n",
    "Peq = {:.2f} MW\n",
    "=============\n",
    "'''.format(Peq/1e6))"
   ]
  },
  {
   "cell_type": "markdown",
   "metadata": {},
   "source": [
    "The per-unit losses in the excitation branch are:\n",
    "$$P_{\\text{EX}_\\text{pu}} = \\frac{V^2}{R_\\text{EX}}$$"
   ]
  },
  {
   "cell_type": "code",
   "execution_count": 13,
   "metadata": {},
   "outputs": [
    {
     "name": "stdout",
     "output_type": "stream",
     "text": [
      "Pex_pu = 0.0108\n"
     ]
    }
   ],
   "source": [
    "Rex_pu = Rc_pu\n",
    "\n",
    "Pex_pu = abs(VP_pu)**2 / Rex_pu\n",
    "print('Pex_pu = {:.4f}'.format(Pex_pu))"
   ]
  },
  {
   "cell_type": "markdown",
   "metadata": {},
   "source": [
    "**and the actual losses in the excitation branch are:**\n",
    "$$P_{EX} = S_{base}P_{EX,pu}$$"
   ]
  },
  {
   "cell_type": "code",
   "execution_count": 14,
   "metadata": {},
   "outputs": [
    {
     "name": "stdout",
     "output_type": "stream",
     "text": [
      "\n",
      "Pex = 1.08 MW\n",
      "=============\n",
      "\n"
     ]
    }
   ],
   "source": [
    "Pex = Sbase*Pex_pu\n",
    "print('''\n",
    "Pex = {:.2f} MW\n",
    "=============\n",
    "'''.format(Pex/1e6))"
   ]
  },
  {
   "cell_type": "markdown",
   "metadata": {},
   "source": [
    "The per-unit power supplied to the load:\n",
    "$$P_{\\text{load}_\\text{pu}} = \\frac{P_\\text{load}}{S_\\text{base}}$$"
   ]
  },
  {
   "cell_type": "code",
   "execution_count": 15,
   "metadata": {},
   "outputs": [
    {
     "name": "stdout",
     "output_type": "stream",
     "text": [
      "Pload_pu = 0.80\n"
     ]
    }
   ],
   "source": [
    "Pload_pu = Pload/Sbase\n",
    "print('Pload_pu = {:.2f}'.format(Pload_pu))"
   ]
  },
  {
   "cell_type": "markdown",
   "metadata": {},
   "source": [
    "**Therefore, the transformer’s efficiency is:**\n",
    "$$\\eta = \\frac{P_{OUT}}{P_{IN}} \\cdot 100\\%$$"
   ]
  },
  {
   "cell_type": "code",
   "execution_count": 16,
   "metadata": {},
   "outputs": [
    {
     "name": "stdout",
     "output_type": "stream",
     "text": [
      "\n",
      "η = 97.5 %\n",
      "==========\n",
      "\n"
     ]
    }
   ],
   "source": [
    "Pin_pu= Pload_pu + Peq_pu + Pex_pu\n",
    "Pout_pu = Pload_pu\n",
    "eta = Pout_pu/Pin_pu * 100\n",
    "print('''\n",
    "η = {:.1f} %\n",
    "==========\n",
    "'''.format(eta))"
   ]
  }
 ],
 "metadata": {
  "kernelspec": {
   "display_name": "Python 3",
   "language": "python",
   "name": "python3"
  },
  "language_info": {
   "codemirror_mode": {
    "name": "ipython",
    "version": 3
   },
   "file_extension": ".py",
   "mimetype": "text/x-python",
   "name": "python",
   "nbconvert_exporter": "python",
   "pygments_lexer": "ipython3",
   "version": "3.8.2"
  }
 },
 "nbformat": 4,
 "nbformat_minor": 1
}
