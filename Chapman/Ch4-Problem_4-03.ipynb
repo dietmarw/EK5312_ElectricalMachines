{
 "cells": [
  {
   "cell_type": "markdown",
   "metadata": {},
   "source": [
    "# Excercises Electric Machinery Fundamentals\n",
    "## Chapter 4"
   ]
  },
  {
   "cell_type": "markdown",
   "metadata": {},
   "source": [
    "## Problem 4-3"
   ]
  },
  {
   "cell_type": "code",
   "execution_count": 1,
   "metadata": {
    "collapsed": false,
    "slideshow": {
     "slide_type": "skip"
    }
   },
   "outputs": [
    {
     "name": "stdout",
     "output_type": "stream",
     "text": [
      "Populating the interactive namespace from numpy and matplotlib\n"
     ]
    }
   ],
   "source": [
    "%pylab inline"
   ]
  },
  {
   "cell_type": "markdown",
   "metadata": {},
   "source": [
    "### Description"
   ]
  },
  {
   "cell_type": "markdown",
   "metadata": {},
   "source": [
    "Assume that the field current of the generator in Problem 4-2 has been adjusted to a value of $5\\,A$.\n",
    "\n",
    "#### (a)\n",
    " \n",
    " * What will the terminal voltage of this generator be if it is connected to a $\\Delta$-connected load with an impedance of $24\\,\\Omega\\angle 25°$?\n",
    " \n",
    "#### (b)\n",
    " \n",
    " * Sketch the phasor diagram of this generator.\n",
    "\n",
    "#### (c)\n",
    " \n",
    " * What is the efficiency of the generator at these conditions?\n",
    " \n",
    "#### (d)\n",
    "Now assume that another identical $\\Delta$-connected load is to be paralleled with the first one. \n",
    "\n",
    " * What happens to the phasor diagram for the generator?\n",
    " \n",
    "#### (e)\n",
    " \n",
    " * What is the new terminal voltage after the load has been added?\n",
    " \n",
    "#### (f)\n",
    "\n",
    " * What must be done to restore the terminal voltage to its original value?"
   ]
  },
  {
   "cell_type": "code",
   "execution_count": 2,
   "metadata": {
    "collapsed": false
   },
   "outputs": [],
   "source": [
    "If = 5.0 # [A]\n",
    "PF = 0.9\n",
    "Xs = 2.5 # [Ohm]\n",
    "Ra = 0.2 # [Ohm]\n",
    "Zload = 24 * (cos(25/180.0 * pi) + sin(25/180.0 * pi)*1j)\n",
    "P      =  50e6 # [W]\n",
    "Pf_w   = 1.0e6 # [W]\n",
    "Pcore  = 1.5e6 # [W]\n",
    "Pstray =     0 # [W]\n",
    "n_m = 1800     # [r/min]"
   ]
  },
  {
   "cell_type": "markdown",
   "metadata": {},
   "source": [
    "### SOLUTION"
   ]
  },
  {
   "cell_type": "markdown",
   "metadata": {},
   "source": [
    "#### (a)\n",
    "If the field current is $5.0 A$, the open-circuit terminal voltage will be about $16,500\\,V$, and the open-circuit phase voltage in the generator (and hence $E_A$ ) will be $\\frac{16,500\\,V}{\\sqrt{3}}$ ."
   ]
  },
  {
   "cell_type": "code",
   "execution_count": 3,
   "metadata": {
    "collapsed": false
   },
   "outputs": [
    {
     "name": "stdout",
     "output_type": "stream",
     "text": [
      "Ea = 9526 V\n"
     ]
    }
   ],
   "source": [
    "Vl = 16.5e3 #[V]\n",
    "ia = P / (sqrt(3) * Vl)\n",
    "Ia_angle = -arccos(PF)\n",
    "Ia = ia * (cos(Ia_angle) + sin(Ia_angle)*1j)\n",
    "\n",
    "Ea = Vl / sqrt(3)\n",
    "print('Ea = {:.0f} V'.format(Ea))"
   ]
  },
  {
   "cell_type": "markdown",
   "metadata": {},
   "source": [
    "The load is $\\Delta$-connected with three impedances of $24\\,\\Omega \\angle 25^\\circ$ . From the Y-$\\Delta$ transform, this load is equivalent to a Y-connected load with three impedances of:"
   ]
  },
  {
   "cell_type": "code",
   "execution_count": 4,
   "metadata": {
    "collapsed": false
   },
   "outputs": [
    {
     "name": "stdout",
     "output_type": "stream",
     "text": [
      "Z = 8 Ω ∠25° \n"
     ]
    }
   ],
   "source": [
    "Z = Zload/3\n",
    "Z_angle = arctan(Z.imag/Z.real)\n",
    "print('Z = {:.0f} Ω ∠{:.0f}° '.format(abs(Z), Z_angle / pi*180))"
   ]
  },
  {
   "cell_type": "markdown",
   "metadata": {},
   "source": [
    "The resulting per-phase equivalent circuit is shown below:"
   ]
  },
  {
   "cell_type": "markdown",
   "metadata": {},
   "source": [
    "<img src=\"figs/Problem_4-03a.jpg\" width=\"70%\">"
   ]
  },
  {
   "cell_type": "markdown",
   "metadata": {},
   "source": [
    "The magnitude of the phase current flowing in this generator is:\n",
    "\n",
    "$$I_A = \\frac{E_A}{|R_A + jX_S +Z|}$$"
   ]
  },
  {
   "cell_type": "code",
   "execution_count": 5,
   "metadata": {
    "collapsed": false
   },
   "outputs": [
    {
     "name": "stdout",
     "output_type": "stream",
     "text": [
      "ia = 1004 A\n"
     ]
    }
   ],
   "source": [
    "ia = Ea / (abs(Ra + Xs*1j + Z))\n",
    "print('ia = {:.0f} A'.format(ia))\n",
    "Ia = ia * (cos(-Z_angle) + sin(-Z_angle)*1j)\n",
    "Ia_angle = arctan(Ia.imag/Ia.real)"
   ]
  },
  {
   "cell_type": "markdown",
   "metadata": {},
   "source": [
    "Therefore, the magnitude of the phase voltage is:\n",
    "$$V_\\phi = I_AZ$$"
   ]
  },
  {
   "cell_type": "code",
   "execution_count": 6,
   "metadata": {
    "collapsed": false
   },
   "outputs": [
    {
     "name": "stdout",
     "output_type": "stream",
     "text": [
      "V_phase = 8029 V\n"
     ]
    }
   ],
   "source": [
    "V_phase = ia * abs(Z)\n",
    "print('V_phase = {:.0f} V'.format(V_phase))"
   ]
  },
  {
   "cell_type": "markdown",
   "metadata": {},
   "source": [
    "and the terminal voltage is:\n",
    "$$V_T = \\sqrt{3}V_\\phi$$"
   ]
  },
  {
   "cell_type": "code",
   "execution_count": 7,
   "metadata": {
    "collapsed": false
   },
   "outputs": [
    {
     "name": "stdout",
     "output_type": "stream",
     "text": [
      "\n",
      "Vt = 13907 V\n",
      "============\n"
     ]
    }
   ],
   "source": [
    "Vt = sqrt(3) * V_phase\n",
    "print('''\n",
    "Vt = {:.0f} V\n",
    "============'''.format(Vt))"
   ]
  },
  {
   "cell_type": "markdown",
   "metadata": {},
   "source": [
    "#### (b)\n",
    "\n",
    "Armature current is $I_A = 1004\\,A\\angle -25°$ , and the phase voltage is $V_\\phi = 8032\\,V\\angle 0°$. Therefore, the internal generated voltage is:\n",
    "\n",
    "$$\\vec{E}_A = \\vec{V}_\\phi + R_A\\vec{I}_A + jX_S\\vec{I}_A$$"
   ]
  },
  {
   "cell_type": "code",
   "execution_count": 8,
   "metadata": {
    "collapsed": false
   },
   "outputs": [
    {
     "name": "stdout",
     "output_type": "stream",
     "text": [
      "EA = 9526 V ∠13.3°\n"
     ]
    }
   ],
   "source": [
    "EA = V_phase + Ra*Ia + Xs*1j*Ia\n",
    "EA_angle = arctan(EA.imag/EA.real)\n",
    "print('EA = {:.0f} V ∠{:.1f}°'.format(abs(EA), EA_angle / pi *180))"
   ]
  },
  {
   "cell_type": "markdown",
   "metadata": {},
   "source": [
    "The resulting phasor diagram is shown below (not to scale and with some round-off errors):"
   ]
  },
  {
   "cell_type": "markdown",
   "metadata": {},
   "source": [
    "<img src=\"figs/Problem_4-03b.jpg\" width=\"70%\">"
   ]
  },
  {
   "cell_type": "markdown",
   "metadata": {},
   "source": [
    "#### (c)\n",
    "The efficiency of the generator under these conditions can be found as follows:\n",
    "\n",
    "$$P_\\text{out} = 3 V_\\phi I_A \\cos{\\theta}$$"
   ]
  },
  {
   "cell_type": "code",
   "execution_count": 9,
   "metadata": {
    "collapsed": false
   },
   "outputs": [
    {
     "name": "stdout",
     "output_type": "stream",
     "text": [
      "Pout = 21.9 MW\n"
     ]
    }
   ],
   "source": [
    "Pout = 3 * V_phase * abs(Ia) * cos(Ia_angle)\n",
    "print('Pout = {:.1f} MW'.format(Pout/1e6))"
   ]
  },
  {
   "cell_type": "markdown",
   "metadata": {},
   "source": [
    "$$P_\\text{CU} = 3I^2_AR_A$$"
   ]
  },
  {
   "cell_type": "code",
   "execution_count": 10,
   "metadata": {
    "collapsed": false
   },
   "outputs": [
    {
     "name": "stdout",
     "output_type": "stream",
     "text": [
      "Pcu = 604.4 kW\n"
     ]
    }
   ],
   "source": [
    "Pcu = 3 * abs(Ia)**2 * Ra\n",
    "print('Pcu = {:.1f} kW'.format(Pcu/1e3))"
   ]
  },
  {
   "cell_type": "markdown",
   "metadata": {},
   "source": [
    "$P_\\text{F\\&W} = 1\\,MW$:"
   ]
  },
  {
   "cell_type": "code",
   "execution_count": 11,
   "metadata": {
    "collapsed": false
   },
   "outputs": [],
   "source": [
    "Pf_w = 1e6 # [W] "
   ]
  },
  {
   "cell_type": "markdown",
   "metadata": {},
   "source": [
    "$P_\\text{core} = 1.5\\,MW$:"
   ]
  },
  {
   "cell_type": "code",
   "execution_count": 12,
   "metadata": {
    "collapsed": false
   },
   "outputs": [],
   "source": [
    "Pcore = 1.5e6 # [W]"
   ]
  },
  {
   "cell_type": "markdown",
   "metadata": {},
   "source": [
    "$P_\\text{stray} \\approx 0$ (assumed):"
   ]
  },
  {
   "cell_type": "code",
   "execution_count": 13,
   "metadata": {
    "collapsed": false
   },
   "outputs": [],
   "source": [
    "Pstray = 0 # [W]"
   ]
  },
  {
   "cell_type": "markdown",
   "metadata": {},
   "source": [
    "$$P_\\text{in} = P_\\text{out} + P_\\text{CU} + P_\\text{F\\&W} + P_\\text{core} + P_\\text{stray}$$"
   ]
  },
  {
   "cell_type": "code",
   "execution_count": 14,
   "metadata": {
    "collapsed": false
   },
   "outputs": [
    {
     "name": "stdout",
     "output_type": "stream",
     "text": [
      "Pin = 25.0 MW\n"
     ]
    }
   ],
   "source": [
    "Pin = Pout + Pcu + Pf_w + Pcore + Pstray\n",
    "print('Pin = {:.1f} MW'.format(Pin/1e6))"
   ]
  },
  {
   "cell_type": "markdown",
   "metadata": {},
   "source": [
    "$$\\eta = \\frac{P_\\text{out}}{P_\\text{in}} \\cdot 100\\%$$"
   ]
  },
  {
   "cell_type": "code",
   "execution_count": 15,
   "metadata": {
    "collapsed": false
   },
   "outputs": [
    {
     "name": "stdout",
     "output_type": "stream",
     "text": [
      "\n",
      "η = 87.6 %\n",
      "==========\n"
     ]
    }
   ],
   "source": [
    "eta = Pout / Pin\n",
    "print('''\n",
    "η = {:.1f} %\n",
    "=========='''.format(eta*100))"
   ]
  },
  {
   "cell_type": "markdown",
   "metadata": {},
   "source": [
    "#### (d)\n",
    "To get the basic idea of what happens, we will ignore the armature resistance for the moment. If the field current and the rotational speed of the generator are constant, then the magnitude of $E_A( = K \\phi\\omega)$ is constant. The quantity $jX_S \\vec{I}_A$ increases in length at the same angle, while the magnitude of $\\vec{E}_A$ must remain constant. Therefore, $\\vec{E}_A$ “swings” out along the arc of constant magnitude until the new $jX_S \\vec{I}_S$ fits exactly between $\\vec{V}_\\phi$ and $\\vec{E}_A$ ."
   ]
  },
  {
   "cell_type": "markdown",
   "metadata": {},
   "source": [
    "<img src=\"figs/Problem_4-03c.jpg\" width=\"60%\">"
   ]
  },
  {
   "cell_type": "markdown",
   "metadata": {},
   "source": [
    "#### (e)\n",
    "The new impedance per phase will be half of the old value, so "
   ]
  },
  {
   "cell_type": "code",
   "execution_count": 16,
   "metadata": {
    "collapsed": false
   },
   "outputs": [
    {
     "name": "stdout",
     "output_type": "stream",
     "text": [
      "Z = 4 Ω ∠25° \n"
     ]
    }
   ],
   "source": [
    "Znew = Z * 0.5\n",
    "Znew_angle = arctan(Z.imag/Z.real)\n",
    "print('Z = {:.0f} Ω ∠{:.0f}° '.format(abs(Znew), Znew_angle /pi*180))"
   ]
  },
  {
   "cell_type": "markdown",
   "metadata": {},
   "source": [
    "The magnitude of the phase current flowing in this generator is:\n",
    "$$I_A = \\frac{E_A}{|R_A + jX_S +Z_\\text{new}|}$$"
   ]
  },
  {
   "cell_type": "code",
   "execution_count": 17,
   "metadata": {
    "collapsed": false
   },
   "outputs": [
    {
     "name": "stdout",
     "output_type": "stream",
     "text": [
      "ia = 1679.0 A\n"
     ]
    }
   ],
   "source": [
    "ia = Ea / (abs(Ra + Xs*1j + Znew))\n",
    "print('ia = {:.1f} A'.format(ia))"
   ]
  },
  {
   "cell_type": "markdown",
   "metadata": {},
   "source": [
    "Therefore, the magnitude of the phase voltage is:\n",
    "$$V_\\phi = I_AZ_\\text{new}$$"
   ]
  },
  {
   "cell_type": "code",
   "execution_count": 18,
   "metadata": {
    "collapsed": false
   },
   "outputs": [
    {
     "name": "stdout",
     "output_type": "stream",
     "text": [
      "V_phase = 6715.9 V\n"
     ]
    }
   ],
   "source": [
    "V_phase = ia * abs(Znew)\n",
    "print('V_phase = {:.1f} V'.format(V_phase))"
   ]
  },
  {
   "cell_type": "markdown",
   "metadata": {},
   "source": [
    "and the terminal voltage is:\n",
    "\n",
    "$$V_T = \\sqrt{3}V_\\phi$$"
   ]
  },
  {
   "cell_type": "code",
   "execution_count": 19,
   "metadata": {
    "collapsed": false
   },
   "outputs": [
    {
     "name": "stdout",
     "output_type": "stream",
     "text": [
      "\n",
      "Vt = 11632.3 V\n",
      "==============\n"
     ]
    }
   ],
   "source": [
    "Vt = sqrt(3) * V_phase\n",
    "print('''\n",
    "Vt = {:.1f} V\n",
    "=============='''.format(Vt))"
   ]
  },
  {
   "cell_type": "markdown",
   "metadata": {},
   "source": [
    "#### (f)\n",
    "To restore the terminal voltage to its original value, increase the field current: $I_F\\uparrow$ ."
   ]
  }
 ],
 "metadata": {
  "kernelspec": {
   "display_name": "Python 3",
   "language": "python",
   "name": "python3"
  },
  "language_info": {
   "codemirror_mode": {
    "name": "ipython",
    "version": 3
   },
   "file_extension": ".py",
   "mimetype": "text/x-python",
   "name": "python",
   "nbconvert_exporter": "python",
   "pygments_lexer": "ipython3",
   "version": "3.5.2"
  }
 },
 "nbformat": 4,
 "nbformat_minor": 0
}
