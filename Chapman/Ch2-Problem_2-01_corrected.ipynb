{
 "cells": [
  {
   "cell_type": "markdown",
   "metadata": {},
   "source": [
    "# Excercises Electric Machinery Fundamentals\n",
    "## Chapter 2"
   ]
  },
  {
   "cell_type": "markdown",
   "metadata": {},
   "source": [
    "## Problem 2-1 (corrected)"
   ]
  },
  {
   "cell_type": "markdown",
   "metadata": {},
   "source": [
    "<hr>\n",
    "#### Preface:\n",
    "The solution given here is the **corrected version** of [Problem_2-01.ipynb](Ch2-Problem_2-01.ipynb)\n",
    "\n",
    "The mistake was that the turns-ratio that was given in the book was based on the voltage levels under load.\n",
    "<hr>"
   ]
  },
  {
   "cell_type": "code",
   "execution_count": 1,
   "metadata": {
    "slideshow": {
     "slide_type": "skip"
    }
   },
   "outputs": [
    {
     "name": "stdout",
     "output_type": "stream",
     "text": [
      "Populating the interactive namespace from numpy and matplotlib\n"
     ]
    }
   ],
   "source": [
    "%pylab inline"
   ]
  },
  {
   "cell_type": "markdown",
   "metadata": {},
   "source": [
    "### Description\n",
    "A 100-kVA 8000/283-V distribution transformer has the following resistances and reactances:\n",
    "\n",
    "$R_P = 5\\,\\Omega \\qquad  R_S = 0.005\\,\\Omega$\n",
    "\n",
    "$X_P = 6\\,\\Omega \\qquad X_S = 0.006\\,\\Omega$\n",
    "\n",
    "$R_C = 50\\,k\\Omega  \\qquad X_M = 10\\,k\\Omega$"
   ]
  },
  {
   "cell_type": "code",
   "execution_count": 2,
   "metadata": {},
   "outputs": [],
   "source": [
    "RP = 5.0        #[Ohm] \n",
    "RS = 0.005      #[Ohm]\n",
    "XP = 6.0j       #[Ohm]\n",
    "XS = 0.006j     #[Ohm] \n",
    "RC = 50e3       #[Ohm]\n",
    "XM = 10e3j      #[Ohm]\n",
    "\n",
    "V_high = 8000.0 #[V]\n",
    "V_low  = 283.0  #[V]\n",
    "S = 100e3       #[VA]"
   ]
  },
  {
   "cell_type": "markdown",
   "metadata": {},
   "source": [
    "The excitation branch impedances are given referred to the high-voltage side of the transformer.\n",
    "\n",
    "#### (a)\n",
    "\n",
    " * Find the equivalent circuit of this transformer referred to the low-voltage side.\n",
    " \n",
    "#### (b)\n",
    "\n",
    " * Find the per-unit equivalent circuit of this transformer.\n",
    " \n",
    "#### (c)\n",
    "\n",
    "Assume that this transformer is supplying rated load at 277 V and 0.85 PF lagging.\n",
    "\n",
    " * What is this transformer’s input voltage? \n",
    " * What is its voltage regulation?\n",
    " \n",
    "#### (d)\n",
    "\n",
    " * What are the copper losses and core losses in this transformer under the conditions of part (c)?\n",
    " \n",
    "#### (e)\n",
    "\n",
    " * What is the transformer’s efficiency under the conditions of part (c)?"
   ]
  },
  {
   "cell_type": "markdown",
   "metadata": {},
   "source": [
    "### SOLUTION"
   ]
  },
  {
   "cell_type": "markdown",
   "metadata": {},
   "source": [
    "#### (a)\n",
    "\n",
    "The turns ratio $a$ of this transformer is "
   ]
  },
  {
   "cell_type": "code",
   "execution_count": 3,
   "metadata": {},
   "outputs": [
    {
     "name": "stdout",
     "output_type": "stream",
     "text": [
      "a = 28.27\n"
     ]
    }
   ],
   "source": [
    "a = V_high/V_low\n",
    "print('a = {:.2f}'.format(a))"
   ]
  },
  {
   "cell_type": "markdown",
   "metadata": {},
   "source": [
    "Therefore, the primary impedances referred to the low voltage (secondary) side are:\n",
    "\n",
    "$$R_P' = \\frac{R_P}{a^2}$$\n",
    "\n",
    "$$X_P' = \\frac{X_P}{a^2}$$"
   ]
  },
  {
   "cell_type": "code",
   "execution_count": 4,
   "metadata": {},
   "outputs": [
    {
     "name": "stdout",
     "output_type": "stream",
     "text": [
      "R_P = 0.006 Ω\n",
      "X_P = 0.0075 Ω\n"
     ]
    }
   ],
   "source": [
    "R_P = RP / a**2\n",
    "X_P = XP / a**2\n",
    "print('R_P = {:.3f} Ω'.format(R_P))\n",
    "print('X_P = {:.4f} Ω'.format(abs(X_P)))"
   ]
  },
  {
   "cell_type": "markdown",
   "metadata": {},
   "source": [
    "and the excitation branch elements referred to the secondary side are:\n",
    "\n",
    "$$R_C' = \\frac{R_C}{a^2}$$\n",
    "\n",
    "$$X_M' = \\frac{X_M}{a^2}$$"
   ]
  },
  {
   "cell_type": "code",
   "execution_count": 5,
   "metadata": {},
   "outputs": [
    {
     "name": "stdout",
     "output_type": "stream",
     "text": [
      "R_C = 62.570 Ω\n",
      "X_M = 12.514 Ω\n"
     ]
    }
   ],
   "source": [
    "R_C = RC / a**2\n",
    "X_M = XM / a**2\n",
    "print('R_C = {:.3f} Ω'.format(R_C))\n",
    "print('X_M = {:.3f} Ω'.format(abs(X_M)))"
   ]
  },
  {
   "cell_type": "markdown",
   "metadata": {},
   "source": [
    "**The resulting equivalent circuit is (!!!Values in the figure are not corrected!!!):**\n",
    "\n",
    "<img src=\"figs/Problem_2-01a.jpg\" width=\"70%\">"
   ]
  },
  {
   "cell_type": "markdown",
   "metadata": {},
   "source": [
    "#### (b)\n",
    "\n",
    "The rated kVA of the transformer is 100 kVA, and the rated voltage on the secondary side is 283 V "
   ]
  },
  {
   "cell_type": "code",
   "execution_count": 6,
   "metadata": {},
   "outputs": [],
   "source": [
    "S_base = 100e3  #[VA]\n",
    "V_base = 283.0  #[V]"
   ]
  },
  {
   "cell_type": "markdown",
   "metadata": {},
   "source": [
    "So the rated current $I_\\text{base}$ in the secondary side is:"
   ]
  },
  {
   "cell_type": "code",
   "execution_count": 7,
   "metadata": {},
   "outputs": [
    {
     "name": "stdout",
     "output_type": "stream",
     "text": [
      "I_base = 353 A\n"
     ]
    }
   ],
   "source": [
    "I_base = S_base / V_base\n",
    "print('I_base = {:.0f} A'.format(I_base))"
   ]
  },
  {
   "cell_type": "markdown",
   "metadata": {},
   "source": [
    "Therefore, the base impedance on the primary side is:\n",
    "$$Z_{base} = \\frac{V_{base}}{I_{base}}$$"
   ]
  },
  {
   "cell_type": "code",
   "execution_count": 8,
   "metadata": {},
   "outputs": [
    {
     "name": "stdout",
     "output_type": "stream",
     "text": [
      "Z_base = 0.801 Ω\n"
     ]
    }
   ],
   "source": [
    "Z_base = V_base / I_base\n",
    "print('Z_base = {:.3f} Ω'.format(Z_base))"
   ]
  },
  {
   "cell_type": "markdown",
   "metadata": {},
   "source": [
    "Since $Z_{pu} = Z_\\text{actual} / Z_\\text{base}$\n",
    "\n",
    "**The resulting per-unit equivalent circuit is as shown below (!!!Values in the figure are not corrected!!!):**\n",
    "\n",
    "<img src=\"figs/Problem_2-01b.jpg\" width=\"70%\">\n"
   ]
  },
  {
   "cell_type": "markdown",
   "metadata": {},
   "source": [
    "#### (c)\n",
    "To simplify the calculations, use the simplified equivalent circuit referred to the secondary side of the transformer:"
   ]
  },
  {
   "cell_type": "code",
   "execution_count": 9,
   "metadata": {},
   "outputs": [
    {
     "name": "stdout",
     "output_type": "stream",
     "text": [
      "Req = 0.011 Ω\n",
      "Xeq = 0.0000+0.0135j Ω\n"
     ]
    }
   ],
   "source": [
    "Req = RP/a**2 + RS          #[Ohm]\n",
    "Xeq = XP/a**2 + XS          #[Ohm]\n",
    "print('Req = {:.3f} Ω'.format(Req))\n",
    "print('Xeq = {:.4f} Ω'.format(Xeq))"
   ]
  },
  {
   "cell_type": "markdown",
   "metadata": {},
   "source": [
    "<img src=\"figs/Problem_2-01c.jpg\" width=\"70%\">"
   ]
  },
  {
   "cell_type": "markdown",
   "metadata": {},
   "source": [
    "And the transformer is supplying rated load at 277V and 0.85PF lagging."
   ]
  },
  {
   "cell_type": "code",
   "execution_count": 10,
   "metadata": {},
   "outputs": [],
   "source": [
    "VS = 277.0      #[V]\n",
    "PF = 0.85          "
   ]
  },
  {
   "cell_type": "markdown",
   "metadata": {},
   "source": [
    "The secondary current $I_S$ in this transformer is:"
   ]
  },
  {
   "cell_type": "code",
   "execution_count": 11,
   "metadata": {},
   "outputs": [
    {
     "name": "stdout",
     "output_type": "stream",
     "text": [
      "IS = 361 A ∠-31.8°\n"
     ]
    }
   ],
   "source": [
    "Is = S / abs(VS)                            # absolute value of IS [A]\n",
    "IS_angle = -arccos(PF)                      # angle of IS [rad]\n",
    "IS = Is*cos(IS_angle) + Is*sin(IS_angle)*1j # value of IS [A]\n",
    "print('IS = {:.0f} A ∠{:.1f}°'.format(abs(IS), degrees(IS_angle)))"
   ]
  },
  {
   "cell_type": "markdown",
   "metadata": {},
   "source": [
    "**Therefore, the primary voltage on this transformer (referred to the secondary side) is:**\n",
    "\n",
    "$$V_P' = V_S + (R_{EQ}+jX_{EQ})I_S$$"
   ]
  },
  {
   "cell_type": "code",
   "execution_count": 12,
   "metadata": {},
   "outputs": [
    {
     "name": "stdout",
     "output_type": "stream",
     "text": [
      "V_P = 283 V ∠0.4°\n"
     ]
    }
   ],
   "source": [
    "V_P = VS + (Req + Xeq)*IS\n",
    "print('V_P = {:.0f} V ∠{:.1f}°'.format(abs(V_P), angle(V_P, deg=True)))"
   ]
  },
  {
   "cell_type": "markdown",
   "metadata": {},
   "source": [
    "**The voltage regulation $VR$ of the transformer under these conditions is:**"
   ]
  },
  {
   "cell_type": "code",
   "execution_count": 13,
   "metadata": {},
   "outputs": [
    {
     "name": "stdout",
     "output_type": "stream",
     "text": [
      "VR = 2.18 %\n"
     ]
    }
   ],
   "source": [
    "VR = (abs(V_P)-abs(VS))/abs(VS) * 100\n",
    "print('VR = {:.2f} %'.format(VR))"
   ]
  },
  {
   "cell_type": "markdown",
   "metadata": {},
   "source": [
    "#### (d)\n",
    "\n",
    "Under the conditions of part (c) the transformer’s output power copper losses $P_{OUT}$ and core losses $P_{CU}$ are:\n",
    "\n",
    "$$P_{OUT} = S \\cos\\theta$$\n",
    "$$P_{CU} = (I_S)^2R_{EQ}$$\n",
    "$$P_{core} = \\frac{V_P'^2}{R_C}$$"
   ]
  },
  {
   "cell_type": "code",
   "execution_count": 14,
   "metadata": {},
   "outputs": [
    {
     "name": "stdout",
     "output_type": "stream",
     "text": [
      "P_OUT  =   85.0 kW\n",
      "P_CU   = 1467.1  W\n",
      "P_core = 1280.3  W\n"
     ]
    }
   ],
   "source": [
    "P_out = S * PF                              \n",
    "P_cu = abs(IS)**2 * Req\n",
    "P_core = abs(V_P)**2 / R_C\n",
    "print('P_OUT  = {:>6.1f} kW'.format(P_out/1000))\n",
    "print('P_CU   = {:>6.1f}  W'.format(P_cu))\n",
    "print('P_core = {:>6.1f}  W'.format(P_core))"
   ]
  },
  {
   "cell_type": "markdown",
   "metadata": {},
   "source": [
    "#### (e)\n",
    "\n",
    "**The efficiency of this transformer is:**\n",
    "\n",
    "$$\\eta = \\frac{P_{OUT}}{P_{OUT}+P_{CU}+P_\\text{core}} \\cdot 100\\,\\%$$"
   ]
  },
  {
   "cell_type": "code",
   "execution_count": 15,
   "metadata": {},
   "outputs": [
    {
     "name": "stdout",
     "output_type": "stream",
     "text": [
      "η = 96.9 %\n"
     ]
    }
   ],
   "source": [
    "eta = P_out/ (P_out + P_cu + P_core) * 100\n",
    "print('η = {:.1f} %'.format(eta))"
   ]
  }
 ],
 "metadata": {
  "kernelspec": {
   "display_name": "Python 3",
   "language": "python",
   "name": "python3"
  },
  "language_info": {
   "codemirror_mode": {
    "name": "ipython",
    "version": 3
   },
   "file_extension": ".py",
   "mimetype": "text/x-python",
   "name": "python",
   "nbconvert_exporter": "python",
   "pygments_lexer": "ipython3",
   "version": "3.5.2"
  }
 },
 "nbformat": 4,
 "nbformat_minor": 1
}
