{
 "cells": [
  {
   "cell_type": "markdown",
   "metadata": {},
   "source": [
    "# Excercises Electric Machinery Fundamentals\n",
    "## Chapter 1"
   ]
  },
  {
   "cell_type": "markdown",
   "metadata": {},
   "source": [
    "## Problem 1-8"
   ]
  },
  {
   "cell_type": "code",
   "execution_count": 1,
   "metadata": {
    "collapsed": false,
    "slideshow": {
     "slide_type": "skip"
    }
   },
   "outputs": [
    {
     "name": "stdout",
     "output_type": "stream",
     "text": [
      "Populating the interactive namespace from numpy and matplotlib\n"
     ]
    }
   ],
   "source": [
    "%pylab inline\n",
    "%precision 4\n",
    "from scipy import constants as c   # we like to use some constants"
   ]
  },
  {
   "cell_type": "markdown",
   "metadata": {},
   "source": [
    "### Description"
   ]
  },
  {
   "cell_type": "markdown",
   "metadata": {},
   "source": [
    "A core with three legs is shown in Figure P1-5 below:"
   ]
  },
  {
   "cell_type": "markdown",
   "metadata": {},
   "source": [
    "<img src=\"figs/FigC_P1-5.jpg\" width=\"70%\">"
   ]
  },
  {
   "cell_type": "markdown",
   "metadata": {},
   "source": [
    "Its depth is 5 cm, and there are 100 turns on the leftmost\n",
    "leg. The relative permeability of the core can be assumed to be 2000 and constant. \n",
    "\n",
    " * What flux exists in each of the three legs of the core? \n",
    " * What is the flux density in each of the legs? \n",
    "\n",
    "Assume a 5% increase in the effective area of the air gap due to fringing effects."
   ]
  },
  {
   "cell_type": "code",
   "execution_count": 2,
   "metadata": {
    "collapsed": false
   },
   "outputs": [],
   "source": [
    "mu_r = 2000\n",
    "mu = mu_r * c.mu_0"
   ]
  },
  {
   "cell_type": "markdown",
   "metadata": {},
   "source": [
    "### SOLUTION"
   ]
  },
  {
   "cell_type": "markdown",
   "metadata": {},
   "source": [
    "This core can be divided up into four regions. Let:\n",
    " \n",
    " * $\\mathcal{R}_1$ be the reluctance of the left-hand portion of the core,\n",
    " * $\\mathcal{R}_2$ be the reluctance of the center leg of the core,\n",
    " * $\\mathcal{R}_3$ be the reluctance of the center airgap, and\n",
    " * $\\mathcal{R}_4$ be the reluctance of the right-hand portion of the core."
   ]
  },
  {
   "cell_type": "markdown",
   "metadata": {},
   "source": [
    "If we assume that the mean path length of the flux is in the center of each leg of the core, and if we ignore spreading at the corners of the core, then the path lengths are:"
   ]
  },
  {
   "cell_type": "code",
   "execution_count": 3,
   "metadata": {
    "collapsed": false
   },
   "outputs": [],
   "source": [
    "l1 = 1.08    # [m]\n",
    "l2 = 0.34    # [m]\n",
    "l3 = 0.0005  # [m]\n",
    "l4 = 1.08    # [m]"
   ]
  },
  {
   "cell_type": "markdown",
   "metadata": {},
   "source": [
    " * The reluctances of the regions in core are: $\\mathcal{R}_\\text{CORE} = \\frac{l}{\\mu_0 \\mu_r A}$, \n",
    " * The reluctances of the regions in the air gaps are: $\\mathcal{R}_\\text{GAP} = \\frac{l}{\\mu_0 A }$."
   ]
  },
  {
   "cell_type": "markdown",
   "metadata": {},
   "source": [
    " The areas can be calculated as:"
   ]
  },
  {
   "cell_type": "code",
   "execution_count": 4,
   "metadata": {
    "collapsed": false
   },
   "outputs": [],
   "source": [
    "A1 = 0.09 * 0.05         # [m²]\n",
    "A2 = 0.15 * 0.05         # [m²]\n",
    "A3 = 0.15 * 0.05 * 1.05  # [m²] 5% fringing\n",
    "A4 = 0.09 * 0.05         # [m²]"
   ]
  },
  {
   "cell_type": "markdown",
   "metadata": {},
   "source": [
    "And the reluctances are hence:"
   ]
  },
  {
   "cell_type": "code",
   "execution_count": 5,
   "metadata": {
    "collapsed": false
   },
   "outputs": [
    {
     "name": "stdout",
     "output_type": "stream",
     "text": [
      "R1 = 95.5 kAt/Wb\n",
      "R2 = 18.0 kAt/Wb\n",
      "R3 = 50.5 kAt/Wb\n",
      "R4 = 95.5 kAt/Wb\n"
     ]
    }
   ],
   "source": [
    "R1 = l1 / (mu * A1)     # At /Wb  = At/Vs\n",
    "R2 = l2 / (mu * A2)     # At /Wb  = At/Vs\n",
    "R3 = l3 / (c.mu_0 * A3) # At /Wb  = At/Vs\n",
    "R4 = l4 / (mu * A4)     # At /Wb  = At/Vs\n",
    "print('R1 = {:.1f} kAt/Wb'.format(R1/1000) )\n",
    "print('R2 = {:.1f} kAt/Wb'.format(R2/1000) )\n",
    "print('R3 = {:.1f} kAt/Wb'.format(R3/1000) )\n",
    "print('R4 = {:.1f} kAt/Wb'.format(R4/1000) )"
   ]
  },
  {
   "cell_type": "markdown",
   "metadata": {},
   "source": [
    "Then the total reluctance of the core is $\\mathcal{R}_\\text{TOT} = \\mathcal{R}_1 + \\frac{(\\mathcal{R}_2 + \\mathcal{R}_3)\\mathcal{R}_4}{\\mathcal{R}_2 + \\mathcal{R}_3 + \\mathcal{R}_4}$."
   ]
  },
  {
   "cell_type": "code",
   "execution_count": 6,
   "metadata": {
    "collapsed": false
   },
   "outputs": [
    {
     "name": "stdout",
     "output_type": "stream",
     "text": [
      "Rtot = 135.4 kAt/Wb\n"
     ]
    }
   ],
   "source": [
    "Rtot = R1 + ((R2 + R3) * R4) / (R2 + R3 + R4)\n",
    "print('Rtot = {:.1f} kAt/Wb'.format(Rtot/1000))"
   ]
  },
  {
   "cell_type": "markdown",
   "metadata": {},
   "source": [
    "and the magnetomotive force is $\\mathcal{F} = \\mathcal{N} \\mathcal{I}$:"
   ]
  },
  {
   "cell_type": "code",
   "execution_count": 7,
   "metadata": {
    "collapsed": false
   },
   "outputs": [],
   "source": [
    "N = 100   # t   given in description\n",
    "I = 2.0   # A   given in description\n",
    "F = N * I"
   ]
  },
  {
   "cell_type": "markdown",
   "metadata": {},
   "source": [
    "**The total flux in the core $\\phi_\\text{TOT}$ is equal to the flux in the left leg $\\phi_\\text{left} = \\frac{\\mathcal{F}}{\\mathcal{R}_\\text{TOT}}$ , which is:**"
   ]
  },
  {
   "cell_type": "code",
   "execution_count": 8,
   "metadata": {
    "collapsed": false
   },
   "outputs": [
    {
     "name": "stdout",
     "output_type": "stream",
     "text": [
      "phi_left = 1.477 mWb\n"
     ]
    }
   ],
   "source": [
    "phi_left = F / Rtot \n",
    "print('phi_left = {:.3f} mWb'.format(phi_left*1000))"
   ]
  },
  {
   "cell_type": "markdown",
   "metadata": {},
   "source": [
    "The fluxes in the center and right legs can be found by the \"flux divider rule\", which is analogous to the current divider rule."
   ]
  },
  {
   "cell_type": "markdown",
   "metadata": {},
   "source": [
    "**Thus the flux in the left leg $\\phi_\\text{center} = \\frac{ \\mathcal{R}_4}{\\mathcal{R}_2 + \\mathcal{R}_3 + \\mathcal{R}_4}\\phi_\\text{TOT}$ is:**"
   ]
  },
  {
   "cell_type": "code",
   "execution_count": 9,
   "metadata": {
    "collapsed": false
   },
   "outputs": [
    {
     "name": "stdout",
     "output_type": "stream",
     "text": [
      "phi_center = 0.860 mWb\n"
     ]
    }
   ],
   "source": [
    "phi_center = R4 / (R2 + R3 + R4) * phi_left\n",
    "print('phi_center = {:.3f} mWb'.format(phi_center*1000))"
   ]
  },
  {
   "cell_type": "markdown",
   "metadata": {},
   "source": [
    "**The flux in the right leg $\\phi_\\text{right} = \\frac{\\mathcal{R}_2 + \\mathcal{R}_3}{\\mathcal{R}_2 + \\mathcal{R}_3 + \\mathcal{R}_4}\\phi_\\text{TOT}$ is:**"
   ]
  },
  {
   "cell_type": "code",
   "execution_count": 10,
   "metadata": {
    "collapsed": false
   },
   "outputs": [
    {
     "name": "stdout",
     "output_type": "stream",
     "text": [
      "phi_right = 0.617 mWb\n"
     ]
    }
   ],
   "source": [
    "phi_right = (R2 + R3) / (R2 + R3 + R4) * phi_left\n",
    "print('phi_right = {:.3f} mWb'.format(phi_right*1000))"
   ]
  },
  {
   "cell_type": "markdown",
   "metadata": {},
   "source": [
    "**The flux densities $B = \\frac{\\phi}{A}$ are:**"
   ]
  },
  {
   "cell_type": "code",
   "execution_count": 11,
   "metadata": {
    "collapsed": false
   },
   "outputs": [
    {
     "name": "stdout",
     "output_type": "stream",
     "text": [
      "B_left   = 0.328 T\n",
      "B_center = 0.115 T\n",
      "B_right  = 0.137 T\n"
     ]
    }
   ],
   "source": [
    "B_left = phi_left / A1\n",
    "B_center = phi_center / A2\n",
    "B_right = phi_right / A4\n",
    "print('B_left   = {:.3f} T'.format(B_left))\n",
    "print('B_center = {:.3f} T'.format(B_center))\n",
    "print('B_right  = {:.3f} T'.format(B_right))"
   ]
  }
 ],
 "metadata": {
  "kernelspec": {
   "display_name": "Python 3",
   "language": "python",
   "name": "python3"
  },
  "language_info": {
   "codemirror_mode": {
    "name": "ipython",
    "version": 3
   },
   "file_extension": ".py",
   "mimetype": "text/x-python",
   "name": "python",
   "nbconvert_exporter": "python",
   "pygments_lexer": "ipython3",
   "version": "3.5.1+"
  }
 },
 "nbformat": 4,
 "nbformat_minor": 0
}
