{
 "cells": [
  {
   "cell_type": "markdown",
   "metadata": {},
   "source": [
    "# Version Information"
   ]
  },
  {
   "cell_type": "markdown",
   "metadata": {},
   "source": [
    "Use the `%version_information` IPython magic extension in a notebook to display information about which versions of dependency package that was used to run the notebook.\n",
    "\n",
    "#### Installation\n",
    "\n",
    "Install the version_information package using pip:\n",
    "\n",
    "    pip install version_information"
   ]
  },
  {
   "cell_type": "code",
   "execution_count": 1,
   "metadata": {
    "collapsed": false,
    "slideshow": {
     "slide_type": "skip"
    }
   },
   "outputs": [],
   "source": [
    "%load_ext version_information"
   ]
  },
  {
   "cell_type": "code",
   "execution_count": 2,
   "metadata": {
    "collapsed": false,
    "scrolled": true
   },
   "outputs": [
    {
     "data": {
      "application/json": {
       "Software versions": [
        {
         "module": "Python",
         "version": "3.5.2 64bit [GCC 5.4.0 20160609]"
        },
        {
         "module": "IPython",
         "version": "5.1.0"
        },
        {
         "module": "OS",
         "version": "Linux 4.4.0 34 generic x86_64 with Ubuntu 16.04 xenial"
        },
        {
         "module": "notebook",
         "version": "4.2.2"
        },
        {
         "module": "matplotlib",
         "version": "1.5.1"
        },
        {
         "module": "numpy",
         "version": "1.11.1"
        },
        {
         "module": "pandas",
         "version": "0.18.1"
        },
        {
         "module": "scipy",
         "version": "0.18.0"
        },
        {
         "module": "sympy",
         "version": "1.0"
        }
       ]
      },
      "text/html": [
       "<table><tr><th>Software</th><th>Version</th></tr><tr><td>Python</td><td>3.5.2 64bit [GCC 5.4.0 20160609]</td></tr><tr><td>IPython</td><td>5.1.0</td></tr><tr><td>OS</td><td>Linux 4.4.0 34 generic x86_64 with Ubuntu 16.04 xenial</td></tr><tr><td>notebook</td><td>4.2.2</td></tr><tr><td>matplotlib</td><td>1.5.1</td></tr><tr><td>numpy</td><td>1.11.1</td></tr><tr><td>pandas</td><td>0.18.1</td></tr><tr><td>scipy</td><td>0.18.0</td></tr><tr><td>sympy</td><td>1.0</td></tr><tr><td colspan='2'>Tue Aug 16 18:34:29 2016 CEST</td></tr></table>"
      ],
      "text/latex": [
       "\\begin{tabular}{|l|l|}\\hline\n",
       "{\\bf Software} & {\\bf Version} \\\\ \\hline\\hline\n",
       "Python & 3.5.2 64bit [GCC 5.4.0 20160609] \\\\ \\hline\n",
       "IPython & 5.1.0 \\\\ \\hline\n",
       "OS & Linux 4.4.0 34 generic x86\\_64 with Ubuntu 16.04 xenial \\\\ \\hline\n",
       "notebook & 4.2.2 \\\\ \\hline\n",
       "matplotlib & 1.5.1 \\\\ \\hline\n",
       "numpy & 1.11.1 \\\\ \\hline\n",
       "pandas & 0.18.1 \\\\ \\hline\n",
       "scipy & 0.18.0 \\\\ \\hline\n",
       "sympy & 1.0 \\\\ \\hline\n",
       "\\hline \\multicolumn{2}{|l|}{Tue Aug 16 18:34:29 2016 CEST} \\\\ \\hline\n",
       "\\end{tabular}\n"
      ],
      "text/plain": [
       "Software versions\n",
       "Python 3.5.2 64bit [GCC 5.4.0 20160609]\n",
       "IPython 5.1.0\n",
       "OS Linux 4.4.0 34 generic x86_64 with Ubuntu 16.04 xenial\n",
       "notebook 4.2.2\n",
       "matplotlib 1.5.1\n",
       "numpy 1.11.1\n",
       "pandas 0.18.1\n",
       "scipy 0.18.0\n",
       "sympy 1.0\n",
       "Tue Aug 16 18:34:29 2016 CEST"
      ]
     },
     "execution_count": 2,
     "metadata": {},
     "output_type": "execute_result"
    }
   ],
   "source": [
    "%version_information notebook, matplotlib, numpy, pandas, scipy, sympy"
   ]
  },
  {
   "cell_type": "markdown",
   "metadata": {},
   "source": [
    "Update with \n",
    "\n",
    "    sudo pip3 install -U notebook matplotlib numpy pandas scipy sympy"
   ]
  }
 ],
 "metadata": {
  "kernelspec": {
   "display_name": "Python 3",
   "language": "python",
   "name": "python3"
  },
  "language_info": {
   "codemirror_mode": {
    "name": "ipython",
    "version": 3
   },
   "file_extension": ".py",
   "mimetype": "text/x-python",
   "name": "python",
   "nbconvert_exporter": "python",
   "pygments_lexer": "ipython3",
   "version": "3.5.2"
  }
 },
 "nbformat": 4,
 "nbformat_minor": 0
}
