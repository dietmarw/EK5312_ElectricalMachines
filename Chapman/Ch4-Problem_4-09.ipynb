{
 "cells": [
  {
   "cell_type": "markdown",
   "metadata": {},
   "source": [
    "# Excercises Electric Machinery Fundamentals\n",
    "## Chapter 4"
   ]
  },
  {
   "cell_type": "markdown",
   "metadata": {},
   "source": [
    "## Problem 4-9\n"
   ]
  },
  {
   "cell_type": "code",
   "execution_count": 1,
   "metadata": {
    "collapsed": false,
    "slideshow": {
     "slide_type": "skip"
    }
   },
   "outputs": [
    {
     "name": "stdout",
     "output_type": "stream",
     "text": [
      "Populating the interactive namespace from numpy and matplotlib\n"
     ]
    }
   ],
   "source": [
    "%pylab inline"
   ]
  },
  {
   "cell_type": "markdown",
   "metadata": {},
   "source": [
    "### Description"
   ]
  },
  {
   "cell_type": "markdown",
   "metadata": {},
   "source": [
    "A 480-V, 250-kVA, 0.8-PF-lagging, two-pole, three-phase, 60-Hz synchronous generator’s prime mover has a no-load speed of 3650 r/min and a full-load speed of 3570 r/min. \n",
    "\n",
    "It is operating in parallel with a 480-V, 250-kVA, 0.85-PF-lagging, four-pole 60-Hz synchronous generator whose prime mover has a no-load speed of 1800 r/min and a full-load speed of 1780 r/min. The loads supplied by the two generators consist of 300 kW at 0.8 PF lagging.\n",
    "\n",
    "#### (a)\n",
    " * Calculate the speed droops of generator 1 and 2.\n",
    " \n",
    "#### (b)\n",
    " * Find the operating frequency of the power system.\n",
    " \n",
    "#### (c)\n",
    " * Find the power being supplied by each of the generators in this system.\n",
    " \n",
    "#### (d)\n",
    " * What must the generator's operators do to adjust the operating frequency to 60 Hz?\n",
    " \n",
    "#### (e)\n",
    " * If the current line voltage is $460\\,V$, what must the generator's operators do to correct for the low terminal voltage?"
   ]
  },
  {
   "cell_type": "code",
   "execution_count": 2,
   "metadata": {
    "collapsed": false
   },
   "outputs": [],
   "source": [
    "n_nl1 = 3650.0 # [r/min]\n",
    "n_fl1 = 3570.0 # [r/min]\n",
    "p_1 = 2\n",
    "n_nl2 = 1800.0 # [r/min]\n",
    "n_fl2 = 1780.0 # [r/min]\n",
    "p_2 = 4\n",
    "S_1 = 250e3 # [VA]\n",
    "S_2 = 250e3 # [VA]\n",
    "PF_1 = 0.8\n",
    "PF_2 = 0.85\n",
    "Pload = 300e3 # [W]"
   ]
  },
  {
   "cell_type": "markdown",
   "metadata": {},
   "source": [
    "### SOLUTION"
   ]
  },
  {
   "cell_type": "markdown",
   "metadata": {},
   "source": [
    "The no-load frequency of generator 1 corresponds to a frequency of:\n",
    "\n",
    "$$f_\\text{nl1} = \\frac{p_1 \\cdot n_m}{120}$$"
   ]
  },
  {
   "cell_type": "code",
   "execution_count": 3,
   "metadata": {
    "collapsed": false
   },
   "outputs": [
    {
     "name": "stdout",
     "output_type": "stream",
     "text": [
      "\n",
      "fnl_1 = 60.833 Hz\n",
      "=================\n"
     ]
    }
   ],
   "source": [
    "fnl_1 = n_nl1*p_1 / 120\n",
    "print('''\n",
    "fnl_1 = {:.3f} Hz\n",
    "================='''.format(fnl_1))"
   ]
  },
  {
   "cell_type": "markdown",
   "metadata": {},
   "source": [
    "The full-load frequency of generator 1 corresponds to a frequency of:\n",
    "\n",
    "$$f_\\text{fl1} = \\frac{p_1 \\cdot n_m}{120}$$"
   ]
  },
  {
   "cell_type": "code",
   "execution_count": 4,
   "metadata": {
    "collapsed": false
   },
   "outputs": [
    {
     "name": "stdout",
     "output_type": "stream",
     "text": [
      "\n",
      "ffl_1 = 59.500 Hz\n",
      "================\n"
     ]
    }
   ],
   "source": [
    "ffl_1 = n_fl1*p_1 / 120\n",
    "print('''\n",
    "ffl_1 = {:.3f} Hz\n",
    "================'''.format(ffl_1))"
   ]
  },
  {
   "cell_type": "markdown",
   "metadata": {},
   "source": [
    "The no-load frequency of generator 2 corresponds to a frequency of:\n",
    "\n",
    "$$f_\\text{nl2} = \\frac{p_2 \\cdot n_m}{120}$$"
   ]
  },
  {
   "cell_type": "code",
   "execution_count": 5,
   "metadata": {
    "collapsed": false
   },
   "outputs": [
    {
     "name": "stdout",
     "output_type": "stream",
     "text": [
      "\n",
      "fnl_2 = 60.000 Hz\n",
      "=================\n"
     ]
    }
   ],
   "source": [
    "fnl_2 = n_nl2*p_2 / 120\n",
    "print('''\n",
    "fnl_2 = {:.3f} Hz\n",
    "================='''.format(fnl_2))"
   ]
  },
  {
   "cell_type": "markdown",
   "metadata": {},
   "source": [
    "The full-load frequency of generator 1 corresponds to a frequency of:\n",
    "\n",
    "$$f_\\text{fl2} = \\frac{p_2 \\cdot n_m}{120}$$"
   ]
  },
  {
   "cell_type": "code",
   "execution_count": 6,
   "metadata": {
    "collapsed": false
   },
   "outputs": [
    {
     "name": "stdout",
     "output_type": "stream",
     "text": [
      "\n",
      "ffl_2 = 59.333 Hz\n",
      "=================\n"
     ]
    }
   ],
   "source": [
    "ffl_2 = n_fl2*p_2 / 120\n",
    "print('''\n",
    "ffl_2 = {:.3f} Hz\n",
    "================='''.format(ffl_2))"
   ]
  },
  {
   "cell_type": "markdown",
   "metadata": {},
   "source": [
    "#### (a)\n",
    "The speed droop of a generator is given by:\n",
    "\n",
    "$$SD_1 = \\frac{n_\\text{nl} - n_\\text{fl}}{n_\\text{fl}} \\cdot 100\\%$$\n",
    "\n",
    "Hence:"
   ]
  },
  {
   "cell_type": "code",
   "execution_count": 7,
   "metadata": {
    "collapsed": false
   },
   "outputs": [
    {
     "name": "stdout",
     "output_type": "stream",
     "text": [
      "\n",
      "SD_1 = 2.24%\n",
      "============\n"
     ]
    }
   ],
   "source": [
    "SD_1 = (n_nl1 - n_fl1) / n_fl1\n",
    "print('''\n",
    "SD_1 = {:.2f}%\n",
    "============'''.format(SD_1*100))"
   ]
  },
  {
   "cell_type": "markdown",
   "metadata": {},
   "source": [
    "and"
   ]
  },
  {
   "cell_type": "code",
   "execution_count": 8,
   "metadata": {
    "collapsed": false
   },
   "outputs": [
    {
     "name": "stdout",
     "output_type": "stream",
     "text": [
      "\n",
      "SD_2 = 1.12%\n",
      "============\n"
     ]
    }
   ],
   "source": [
    "SD_2 = (n_nl2 - n_fl2) / n_fl2\n",
    "print('''\n",
    "SD_2 = {:.2f}%\n",
    "============'''.format(SD_2*100))"
   ]
  },
  {
   "cell_type": "markdown",
   "metadata": {},
   "source": [
    "#### (b)\n",
    "The full load power supplied by generator 1 is:\n",
    "\n",
    "$$P_\\text{1,full load} = S\\cos{\\theta_1}$$"
   ]
  },
  {
   "cell_type": "code",
   "execution_count": 9,
   "metadata": {
    "collapsed": false
   },
   "outputs": [
    {
     "name": "stdout",
     "output_type": "stream",
     "text": [
      "P1_fl = 200 kW\n"
     ]
    }
   ],
   "source": [
    "P1_fl = S_1 * PF_1\n",
    "print('P1_fl = {:.0f} kW'.format(P1_fl/1e3))"
   ]
  },
  {
   "cell_type": "markdown",
   "metadata": {},
   "source": [
    "The full load power supplied by generator 2 is:\n",
    "\n",
    "$$P_\\text{2,full load} = S\\cos{\\theta_2}$$"
   ]
  },
  {
   "cell_type": "code",
   "execution_count": 10,
   "metadata": {
    "collapsed": false
   },
   "outputs": [
    {
     "name": "stdout",
     "output_type": "stream",
     "text": [
      "P2_fl = 212.5 kW\n"
     ]
    }
   ],
   "source": [
    "P2_fl = S_2 * PF_2\n",
    "print('P2_fl = {:.1f} kW'.format(P2_fl/1e3))"
   ]
  },
  {
   "cell_type": "markdown",
   "metadata": {},
   "source": [
    "The power supplied by generator 1 as a function of frequency is given by:\n",
    "\n",
    "$$P_1 = s_\\text{P1}(f_\\text{nl1} - f_\\text{sys})$$\n",
    "\n",
    "and the power supplied by generator 2 as a function of frequency is given by:\n",
    "\n",
    "$$P_2 = s_\\text{P2}(f_\\text{nl2} - f_\\text{sys})$$\n",
    "\n",
    "The power curve’s slope for generator 1 is:\n",
    "\n",
    "$$s_\\text{P1} = \\frac{P}{f_\\text{nl} - f_\\text{fl}}$$"
   ]
  },
  {
   "cell_type": "code",
   "execution_count": 11,
   "metadata": {
    "collapsed": false
   },
   "outputs": [
    {
     "name": "stdout",
     "output_type": "stream",
     "text": [
      "sp_1 = 0.150 MW/Hz\n"
     ]
    }
   ],
   "source": [
    "sp_1 = P1_fl / (fnl_1 - ffl_1)\n",
    "print('sp_1 = {:.3f} MW/Hz'.format(sp_1/1e6))"
   ]
  },
  {
   "cell_type": "markdown",
   "metadata": {},
   "source": [
    "The power curve’s slope for generator 2 is:\n",
    "\n",
    "$$s_\\text{P2} = \\frac{P}{f_\\text{nl} - f_\\text{fl}}$$"
   ]
  },
  {
   "cell_type": "code",
   "execution_count": 12,
   "metadata": {
    "collapsed": false
   },
   "outputs": [
    {
     "name": "stdout",
     "output_type": "stream",
     "text": [
      "sp_2 = 0.319 MW/Hz\n"
     ]
    }
   ],
   "source": [
    "sp_2 = P2_fl / (fnl_2 - ffl_2)\n",
    "print('sp_2 = {:.3f} MW/Hz'.format(sp_2/1e6))"
   ]
  },
  {
   "cell_type": "markdown",
   "metadata": {},
   "source": [
    "The total power that they must supply is 300 kW, so the system frequency can be found from the equations:\n",
    "\n",
    "\\begin{align*}\n",
    "P_\\text{LOAD} &= P_1 + P_2\\\\\n",
    "P_\\text{LOAD} &= s_\\text{P1} (f_\\text{nl1} - f_\\text{sys}) + s_\\text{P2} (f_\\text{nl2} - f_\\text{sys})\\\\\n",
    "\\leadsto f_\\text{sys} & = \\frac{s_\\text{P1} f_\\text{nl1} + s_\\text{P2} f_\\text{nl2} - P_\\text{LOAD}}{s_\\text{P1} + s_\\text{P2}}\n",
    "\\end{align*}"
   ]
  },
  {
   "cell_type": "code",
   "execution_count": 13,
   "metadata": {
    "collapsed": false
   },
   "outputs": [
    {
     "name": "stdout",
     "output_type": "stream",
     "text": [
      "\n",
      "f_sys = 59.627 Hz\n",
      "=================\n"
     ]
    }
   ],
   "source": [
    "f_sys = (sp_1*fnl_1 + sp_2*fnl_2 - Pload) / (sp_1 + sp_2)\n",
    "print('''\n",
    "f_sys = {:.3f} Hz\n",
    "================='''.format(f_sys))"
   ]
  },
  {
   "cell_type": "markdown",
   "metadata": {},
   "source": [
    "#### (c)\n",
    "The power supplied by generator 1 is:\n",
    "\n",
    "$$P_1 = s_\\text{P1}(f_\\text{nl1} - f_\\text{sys})$$"
   ]
  },
  {
   "cell_type": "code",
   "execution_count": 14,
   "metadata": {
    "collapsed": false
   },
   "outputs": [
    {
     "name": "stdout",
     "output_type": "stream",
     "text": [
      "\n",
      "P1 = 181 kW\n",
      "===========\n"
     ]
    }
   ],
   "source": [
    "P1 = sp_1 * (fnl_1 - f_sys)\n",
    "print('''\n",
    "P1 = {:.0f} kW\n",
    "==========='''.format(P1/1e3))"
   ]
  },
  {
   "cell_type": "markdown",
   "metadata": {},
   "source": [
    "The power supplied by generator 1 is:\n",
    "\n",
    "$$P_2 = s_\\text{P2}(f_\\text{nl2} - f_\\text{sys})$$"
   ]
  },
  {
   "cell_type": "code",
   "execution_count": 15,
   "metadata": {
    "collapsed": false
   },
   "outputs": [
    {
     "name": "stdout",
     "output_type": "stream",
     "text": [
      "\n",
      "P2 = 119 kW\n",
      "===========\n"
     ]
    }
   ],
   "source": [
    "P2 = sp_2 * (fnl_2 - f_sys)\n",
    "print('''\n",
    "P2 = {:.0f} kW\n",
    "==========='''.format(P2/1e3))"
   ]
  },
  {
   "cell_type": "markdown",
   "metadata": {},
   "source": [
    "#### (d)\n",
    "The get the system frequency to 60 Hz, the operators of the generators must increase the no-load frequency set-points of both generators simultaneously. That action will increase the frequency of the system without changing the power sharing between the generators."
   ]
  },
  {
   "cell_type": "markdown",
   "metadata": {},
   "source": [
    "#### (e)\n",
    "If the terminal voltage is 460 V, the operators of the generators must increase the field currents on both generators simultaneously. That action will increase the terminal voltages of the system without changing the reactive power sharing between the generators."
   ]
  }
 ],
 "metadata": {
  "kernelspec": {
   "display_name": "Python 3",
   "language": "python",
   "name": "python3"
  },
  "language_info": {
   "codemirror_mode": {
    "name": "ipython",
    "version": 3
   },
   "file_extension": ".py",
   "mimetype": "text/x-python",
   "name": "python",
   "nbconvert_exporter": "python",
   "pygments_lexer": "ipython3",
   "version": "3.5.2"
  }
 },
 "nbformat": 4,
 "nbformat_minor": 0
}
