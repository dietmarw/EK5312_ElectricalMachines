{
 "cells": [
  {
   "cell_type": "markdown",
   "metadata": {},
   "source": [
    "# Excercises Electric Machinery Fundamentals\n",
    "## Chapter 4"
   ]
  },
  {
   "cell_type": "markdown",
   "metadata": {},
   "source": [
    "## Problem 4-28"
   ]
  },
  {
   "cell_type": "code",
   "execution_count": 1,
   "metadata": {
    "collapsed": false,
    "slideshow": {
     "slide_type": "skip"
    }
   },
   "outputs": [
    {
     "name": "stdout",
     "output_type": "stream",
     "text": [
      "Populating the interactive namespace from numpy and matplotlib\n"
     ]
    },
    {
     "data": {
      "text/plain": [
       "'%.4g'"
      ]
     },
     "execution_count": 1,
     "metadata": {},
     "output_type": "execute_result"
    }
   ],
   "source": [
    "%pylab inline\n",
    "%precision %.4g"
   ]
  },
  {
   "cell_type": "markdown",
   "metadata": {},
   "source": [
    "### Description"
   ]
  },
  {
   "cell_type": "markdown",
   "metadata": {},
   "source": [
    "A generating station for a power system consists of four 300-MVA, 15-kV, 0.85-PF-lagging synchronous\n",
    "generators with identical speed droop characteristics operating in parallel. The governors on the\n",
    "generators’ prime movers are adjusted to produce a 3-Hz drop from no load to full load. Three of these\n",
    "generators are each supplying a steady 200 MW at a frequency of 60 Hz, while the fourth generator\n",
    "(called the swing generator) handles all incremental load changes on the system while maintaining the\n",
    "system's frequency at 60 Hz."
   ]
  },
  {
   "cell_type": "code",
   "execution_count": 2,
   "metadata": {
    "collapsed": false
   },
   "outputs": [],
   "source": [
    "Sload  = 300e6 # [VA]\n",
    "PF     =   0.85\n",
    "f_drop =   3.0 # [Hz]\n",
    "f_sys  =  60.0 # [Hz]"
   ]
  },
  {
   "cell_type": "markdown",
   "metadata": {},
   "source": [
    "#### (a)\n",
    "At a given instant, the total system loads are 650 MW at a frequency of 60 Hz. \n",
    " \n",
    " * What are the no-load frequencies of each of the system’s generators?\n",
    " \n",
    "#### (b)\n",
    "If the system load rises to 725 MW and the generator’s governor set points do not change\n",
    " \n",
    " * What will the new system frequency be?\n",
    " \n",
    "#### (c)\n",
    " \n",
    " * To what frequency must the no-load frequency of the swing generator be adjusted in order to restore the system frequency to 60 Hz?\n",
    "\n",
    "#### (d)\n",
    "If the system is operating at the conditions described in part (c)\n",
    " \n",
    " * What would happen if the swing generator were tripped off the line (disconnected from the power line)?"
   ]
  },
  {
   "cell_type": "markdown",
   "metadata": {},
   "source": [
    "### SOLUTION"
   ]
  },
  {
   "cell_type": "markdown",
   "metadata": {},
   "source": [
    "#### (a)\n",
    "The full-load power of these generators is:"
   ]
  },
  {
   "cell_type": "code",
   "execution_count": 3,
   "metadata": {
    "collapsed": false
   },
   "outputs": [
    {
     "data": {
      "text/plain": [
       "255"
      ]
     },
     "execution_count": 3,
     "metadata": {},
     "output_type": "execute_result"
    }
   ],
   "source": [
    "Pfl = Sload * PF\n",
    "Pfl/1e6"
   ]
  },
  {
   "cell_type": "markdown",
   "metadata": {},
   "source": [
    "and the droop from no-load to full-load is 3 Hz. Therefore, the slope of the power-frequency curve for these four generators is:"
   ]
  },
  {
   "cell_type": "code",
   "execution_count": 4,
   "metadata": {
    "collapsed": false
   },
   "outputs": [
    {
     "name": "stdout",
     "output_type": "stream",
     "text": [
      "sp = 85 MW/Hz\n"
     ]
    }
   ],
   "source": [
    "sp = Pfl / f_drop\n",
    "print('sp = {:.0f} MW/Hz'.format(sp/1e6))"
   ]
  },
  {
   "cell_type": "markdown",
   "metadata": {},
   "source": [
    "If generators 1, 2, and 3 are supplying 200 MW each, then generator 4 must be supplying 50 MW. The\n",
    "no-load frequency of the first three generators is:\n",
    "\n",
    "$$P = s_{P}(f_\\text{nl} - f_\\text{sys})$$"
   ]
  },
  {
   "cell_type": "code",
   "execution_count": 5,
   "metadata": {
    "collapsed": false
   },
   "outputs": [
    {
     "name": "stdout",
     "output_type": "stream",
     "text": [
      "\n",
      "f_nl_1 = 62.35 Hz\n",
      "f_nl_2 = 62.35 Hz\n",
      "f_nl_3 = 62.35 Hz\n",
      "f_nl_4 = 60.59 Hz\n",
      "=================\n"
     ]
    }
   ],
   "source": [
    "P1 = 200e6 # [W]\n",
    "P2 = 200e6 # [W]\n",
    "P3 = 200e6 # [W]\n",
    "P4 =  50e6 # [W]\n",
    "f_nl_1 = P1/sp + f_sys\n",
    "f_nl_2 = P2/sp + f_sys\n",
    "f_nl_3 = P3/sp + f_sys\n",
    "f_nl_4 = P4/sp + f_sys\n",
    "print('''\n",
    "f_nl_1 = {:.2f} Hz\n",
    "f_nl_2 = {:.2f} Hz\n",
    "f_nl_3 = {:.2f} Hz\n",
    "f_nl_4 = {:.2f} Hz\n",
    "================='''.format(f_nl_1, f_nl_2, f_nl_3, f_nl_4))"
   ]
  },
  {
   "cell_type": "markdown",
   "metadata": {},
   "source": [
    "#### (b)\n",
    "The setpoints of generators 1, 2, 3, and 4 do not change, so the new system frequency will be:\n",
    "\n",
    "$$P_\\text{load} = s_{P1}(f_\\text{nl,1} - f_{sys}) + s_{P2}(f_\\text{nl,2} - f_{sys}) + s_{P3}(f_\\text{nl,3} - f_\\text{sys}) + s_{P4}(f_\\text{nl,4} - f_\\text{sys})$$"
   ]
  },
  {
   "cell_type": "code",
   "execution_count": 6,
   "metadata": {
    "collapsed": false
   },
   "outputs": [
    {
     "name": "stdout",
     "output_type": "stream",
     "text": [
      "\n",
      "f_sys = 59.78 Hz\n",
      "================\n"
     ]
    }
   ],
   "source": [
    "Pload = 725e6 # [W]\n",
    "f_sys_b = (sp*f_nl_1 + sp*f_nl_2 + sp*f_nl_3 + sp*f_nl_4 - Pload) /\n",
    "          (sp + sp + sp + sp)\n",
    "print('''\n",
    "f_sys = {:.2f} Hz\n",
    "================'''.format(f_sys_b))"
   ]
  },
  {
   "cell_type": "markdown",
   "metadata": {},
   "source": [
    "#### (c)\n",
    "The governor setpoint of the swing generator must be increased until the system frequency rises\n",
    "back to 60 Hz. At 60 Hz, the other three generators will be supplying 200 MW each, so at 60 Hz, the swing\n",
    "generator must supply:"
   ]
  },
  {
   "cell_type": "code",
   "execution_count": 7,
   "metadata": {
    "collapsed": false
   },
   "outputs": [
    {
     "data": {
      "text/plain": [
       "125"
      ]
     },
     "execution_count": 7,
     "metadata": {},
     "output_type": "execute_result"
    }
   ],
   "source": [
    "P4_c = Pload - 3*P1\n",
    "P4_c/1e6"
   ]
  },
  {
   "cell_type": "markdown",
   "metadata": {},
   "source": [
    "Therefore, the swing generator’s setpoint must be set to:\n",
    "\n",
    "$$P_4 = s_{P4}(f_\\text{nl4} - f_\\text{sys})$$"
   ]
  },
  {
   "cell_type": "code",
   "execution_count": 8,
   "metadata": {
    "collapsed": false
   },
   "outputs": [
    {
     "name": "stdout",
     "output_type": "stream",
     "text": [
      "\n",
      "f_nl4_c = 61.47 Hz\n",
      "==================\n"
     ]
    }
   ],
   "source": [
    "f_nl4_c = P4_c/sp + f_sys\n",
    "print('''\n",
    "f_nl4_c = {:.2f} Hz\n",
    "=================='''.format(f_nl4_c))"
   ]
  },
  {
   "cell_type": "markdown",
   "metadata": {},
   "source": [
    "#### (d)\n",
    "If the swing generator trips off the line, the other three generators would have to supply all 725 MW\n",
    "of the load. Therefore, the system frequency will become:\n",
    "\n",
    "$$P_\\text{load} = s_{P1}(f_\\text{nl,1} - f_\\text{sys}) + s_{P2}(f_\\text{nl,2} - f_\\text{sys}) + s_{P3}(f_\\text{nl,3} - f_\\text{sys})$$"
   ]
  },
  {
   "cell_type": "code",
   "execution_count": 9,
   "metadata": {
    "collapsed": false
   },
   "outputs": [
    {
     "name": "stdout",
     "output_type": "stream",
     "text": [
      "\n",
      "f_sys_d = 59.51 Hz and each generator will supply 241.7 MW to the loads.\n",
      "========================================================================\n",
      "\n"
     ]
    }
   ],
   "source": [
    "f_sys_d = (sp*f_nl_1 + sp*f_nl_2 + sp*f_nl_3 - Pload) / (sp + sp + sp)\n",
    "print('''\n",
    "f_sys_d = {:.2f} Hz and each generator will supply {:.1f} MW to the loads.\n",
    "========================================================================\n",
    "'''.format(f_sys_d, Pload/3/1e6))"
   ]
  }
 ],
 "metadata": {
  "kernelspec": {
   "display_name": "Python 3",
   "language": "python",
   "name": "python3"
  },
  "language_info": {
   "codemirror_mode": {
    "name": "ipython",
    "version": 3
   },
   "file_extension": ".py",
   "mimetype": "text/x-python",
   "name": "python",
   "nbconvert_exporter": "python",
   "pygments_lexer": "ipython3",
   "version": "3.5.2"
  }
 },
 "nbformat": 4,
 "nbformat_minor": 0
}
