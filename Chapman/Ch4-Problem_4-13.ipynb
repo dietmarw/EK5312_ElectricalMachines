{
 "cells": [
  {
   "cell_type": "markdown",
   "metadata": {},
   "source": [
    "# Excercises Electric Machinery Fundamentals\n",
    "## Chapter 4"
   ]
  },
  {
   "cell_type": "markdown",
   "metadata": {},
   "source": [
    "## Problem 4-13"
   ]
  },
  {
   "cell_type": "code",
   "execution_count": 1,
   "metadata": {
    "collapsed": false,
    "slideshow": {
     "slide_type": "skip"
    }
   },
   "outputs": [
    {
     "name": "stdout",
     "output_type": "stream",
     "text": [
      "Populating the interactive namespace from numpy and matplotlib\n"
     ]
    },
    {
     "data": {
      "text/plain": [
       "'%.1f'"
      ]
     },
     "execution_count": 1,
     "metadata": {},
     "output_type": "execute_result"
    }
   ],
   "source": [
    "%pylab inline\n",
    "%precision 1"
   ]
  },
  {
   "cell_type": "markdown",
   "metadata": {},
   "source": [
    "### Description"
   ]
  },
  {
   "cell_type": "markdown",
   "metadata": {},
   "source": [
    "A 25-MVA, 12.2-kV, 0.9-PF-lagging, three-phase, two-pole, Y-connected, 60-Hz synchronous generator\n",
    "was tested by the open-circuit test, and its air-gap voltage was extrapolated with the following results:\n",
    "\n",
    "* Open-citcuit test\n",
    "\n",
    "| Field current [A] | Line voltage [kV] | Extrapolated air-gap voltage [kV] |\n",
    "|-------------------|-------------------|-----------------------------------|\n",
    "| 275               | 12.2              | 13.3                              |\n",
    "| 320               | 13.0              | 15.4                              |\n",
    "| 365               | 13.8              | 17.5                              |\n",
    "| 380               | 14.1              | 18.3                              |\n",
    "| 475               | 15.2              | 22.8                              |\n",
    "| 570               | 16.0              | 27.4                              |\n",
    "\n",
    "* Short-circuit test\n",
    "\n",
    "| Field current [A] | Armature current [A] |\n",
    "|-------------------|----------------------|\n",
    "| 275               | 890                  |\n",
    "| 320               | 1040                 |\n",
    "| 365               | 1190                 |\n",
    "| 380               | 1240                 |\n",
    "| 475               | 1550                 |\n",
    "| 570               | 1885                 |\n",
    "\n",
    "The armature resistance is $0.6\\,\\Omega$ per phase.\n",
    "\n",
    "#### (a)\n",
    " * Find the unsaturated synchronous reactance of this generator in ohms per phase and in per-unit.\n",
    " \n",
    "#### (b)\n",
    " * Find the approximate saturated synchronous reactance $X_S$ at a field current of 380 A. Express the answer both in ohms per phase and in per-unit.\n",
    " \n",
    "#### (c)\n",
    " * Find the approximate saturated synchronous reactance at a field current of 475 A. Express the answer both in ohms per phase and in per-unit.\n",
    " \n",
    "#### (d)\n",
    " * Find the short-circuit ratio for this generator.\n",
    " \n",
    "#### (e)\n",
    " * What is the internal generated voltage of this generator at rated conditions?\n",
    " \n",
    "#### (f)\n",
    " * What field current is required to achieve rated voltage at rated load?"
   ]
  },
  {
   "cell_type": "code",
   "execution_count": 2,
   "metadata": {
    "collapsed": false
   },
   "outputs": [],
   "source": [
    "Sbase = 25e6   # [VA]\n",
    "Vbase = 12.2e3 # [V]\n",
    "PF = 0.9\n",
    "Ra = 0.6       # [Ohm]"
   ]
  },
  {
   "cell_type": "markdown",
   "metadata": {},
   "source": [
    "### SOLUTION"
   ]
  },
  {
   "cell_type": "markdown",
   "metadata": {},
   "source": [
    "#### (a)\n",
    "The unsaturated synchronous reactance of this generator is the same at any field current, so we will look at it at a field current of 380 A."
   ]
  },
  {
   "cell_type": "code",
   "execution_count": 3,
   "metadata": {
    "collapsed": false
   },
   "outputs": [],
   "source": [
    "if_a = 380.0 # [A]"
   ]
  },
  {
   "cell_type": "markdown",
   "metadata": {},
   "source": [
    "The extrapolated air-gap voltage at this point is 18.3 kV, and the short-circuit current is 1240 A"
   ]
  },
  {
   "cell_type": "code",
   "execution_count": 4,
   "metadata": {
    "collapsed": false
   },
   "outputs": [],
   "source": [
    "Vag_a = 18.3e3 # [V]\n",
    "isc_a = 1240.0 # [A]"
   ]
  },
  {
   "cell_type": "markdown",
   "metadata": {},
   "source": [
    "Since this generator is Y-connected, the phase voltage is:"
   ]
  },
  {
   "cell_type": "code",
   "execution_count": 5,
   "metadata": {
    "collapsed": false
   },
   "outputs": [
    {
     "name": "stdout",
     "output_type": "stream",
     "text": [
      "Vphi_a = 10566 V\n"
     ]
    }
   ],
   "source": [
    "Vphi_a = Vag_a / sqrt(3)\n",
    "print('Vphi_a = {:.0f} V'.format(Vphi_a))"
   ]
  },
  {
   "cell_type": "markdown",
   "metadata": {},
   "source": [
    "and the armature current is:"
   ]
  },
  {
   "cell_type": "code",
   "execution_count": 6,
   "metadata": {
    "collapsed": false
   },
   "outputs": [
    {
     "name": "stdout",
     "output_type": "stream",
     "text": [
      "Ia_a = 1240 A\n"
     ]
    }
   ],
   "source": [
    "Ia_a = isc_a\n",
    "print('Ia_a = {:.0f} A'.format(Ia_a))"
   ]
  },
  {
   "cell_type": "markdown",
   "metadata": {},
   "source": [
    "Therefore, the unsaturated synchronous impedance $Z_{s} = \\sqrt{R_a^2 + X_s^2}$ is:"
   ]
  },
  {
   "cell_type": "code",
   "execution_count": 7,
   "metadata": {
    "collapsed": false
   },
   "outputs": [
    {
     "name": "stdout",
     "output_type": "stream",
     "text": [
      "Zsu_a = 8.52 Ω\n"
     ]
    }
   ],
   "source": [
    "Zsu_a = Vphi_a / Ia_a\n",
    "print('Zsu_a = {:.2f} Ω'.format(Zsu_a))"
   ]
  },
  {
   "cell_type": "markdown",
   "metadata": {},
   "source": [
    "Which leads to the unsaturated syncronous *reactance* $X_{s} = \\sqrt{Z_s^2 - R_a^2}$: "
   ]
  },
  {
   "cell_type": "code",
   "execution_count": 8,
   "metadata": {
    "collapsed": false
   },
   "outputs": [
    {
     "name": "stdout",
     "output_type": "stream",
     "text": [
      "\n",
      "Xsu_a = 8.50 Ω\n",
      "==============\n",
      "\n"
     ]
    }
   ],
   "source": [
    "Xsu_a = sqrt(Zsu_a**2 - Ra**2)\n",
    "print('''\n",
    "Xsu_a = {:.2f} Ω\n",
    "==============\n",
    "'''.format(Xsu_a))"
   ]
  },
  {
   "cell_type": "markdown",
   "metadata": {},
   "source": [
    "*As you can see the impact of the armature resistance is negligible small. This is also the reason why $R_a$ is often simply ignored in calculations of the synchronous reactance. Especially for larger machines.*\n",
    "\n",
    "\n",
    "The base impedance of this generator is:\n",
    "\n",
    "$$Z_\\text{base} = \\frac{3V^2_{\\phi,\\text{base}}}{S_\\text{base}}$$"
   ]
  },
  {
   "cell_type": "code",
   "execution_count": 9,
   "metadata": {
    "collapsed": false
   },
   "outputs": [
    {
     "name": "stdout",
     "output_type": "stream",
     "text": [
      "Zbase = 5.95 Ω\n"
     ]
    }
   ],
   "source": [
    "Vphi_base = Vbase/sqrt(3)\n",
    "Zbase = 3*Vphi_base**2 / Sbase\n",
    "print('Zbase = {:.2f} Ω'.format(Zbase))"
   ]
  },
  {
   "cell_type": "markdown",
   "metadata": {},
   "source": [
    "Therefore, the per-unit unsaturated synchronous reactance is:"
   ]
  },
  {
   "cell_type": "code",
   "execution_count": 10,
   "metadata": {
    "collapsed": false
   },
   "outputs": [
    {
     "name": "stdout",
     "output_type": "stream",
     "text": [
      "\n",
      "xsu_a = 1.43\n",
      "============\n",
      "\n"
     ]
    }
   ],
   "source": [
    "xsu_a = Xsu_a / Zbase\n",
    "print('''\n",
    "xsu_a = {:.2f}\n",
    "============\n",
    "'''.format(xsu_a))"
   ]
  },
  {
   "cell_type": "markdown",
   "metadata": {},
   "source": [
    "#### (b)\n",
    "The saturated synchronous reactance at a field current of 380 A can be found from the OCC and the SCC. The OCC voltage at $I_F = 380 A$ is 14.1 kV, and the short-circuit current is 1240 A."
   ]
  },
  {
   "cell_type": "code",
   "execution_count": 11,
   "metadata": {
    "collapsed": false
   },
   "outputs": [],
   "source": [
    "If_b   = 380.0  # [A]\n",
    "Vocc_b = 14.1e3 # [V]\n",
    "isc_b  = 1240.0 # [A]"
   ]
  },
  {
   "cell_type": "markdown",
   "metadata": {},
   "source": [
    "Since this generator is Y-connected, the corresponding phase voltage is:"
   ]
  },
  {
   "cell_type": "code",
   "execution_count": 12,
   "metadata": {
    "collapsed": false
   },
   "outputs": [
    {
     "name": "stdout",
     "output_type": "stream",
     "text": [
      "Vphi_b = 8141 V\n"
     ]
    }
   ],
   "source": [
    "Vphi_b = Vocc_b / sqrt(3)\n",
    "print('Vphi_b = {:.0f} V'.format(Vphi_b))"
   ]
  },
  {
   "cell_type": "markdown",
   "metadata": {},
   "source": [
    "and the armature current is:"
   ]
  },
  {
   "cell_type": "code",
   "execution_count": 13,
   "metadata": {
    "collapsed": false
   },
   "outputs": [
    {
     "name": "stdout",
     "output_type": "stream",
     "text": [
      "Ia_b = 1240 A\n"
     ]
    }
   ],
   "source": [
    "Ia_b = isc_b\n",
    "print('Ia_b = {:.0f} A'.format(Ia_b))"
   ]
  },
  {
   "cell_type": "markdown",
   "metadata": {},
   "source": [
    "Therefore, the saturated synchronous reactance is:"
   ]
  },
  {
   "cell_type": "code",
   "execution_count": 14,
   "metadata": {
    "collapsed": false
   },
   "outputs": [
    {
     "name": "stdout",
     "output_type": "stream",
     "text": [
      "\n",
      "Xs_b = 6.54 Ω\n",
      "=============\n",
      "\n"
     ]
    }
   ],
   "source": [
    "Zs_b = Vphi_b / Ia_b\n",
    "Xs_b = sqrt(Zs_b**2 - Ra**2)\n",
    "print('''\n",
    "Xs_b = {:.2f} Ω\n",
    "=============\n",
    "'''.format(Xs_b))"
   ]
  },
  {
   "cell_type": "markdown",
   "metadata": {},
   "source": [
    "and the per-unit unsaturated synchronous reactance is:"
   ]
  },
  {
   "cell_type": "code",
   "execution_count": 15,
   "metadata": {
    "collapsed": false
   },
   "outputs": [
    {
     "name": "stdout",
     "output_type": "stream",
     "text": [
      "\n",
      "xs_b = 1.10\n",
      "===========\n",
      "\n"
     ]
    }
   ],
   "source": [
    "xs_b = Xs_b / Zbase\n",
    "print('''\n",
    "xs_b = {:.2f}\n",
    "===========\n",
    "'''.format(xs_b))"
   ]
  },
  {
   "cell_type": "markdown",
   "metadata": {},
   "source": [
    "#### (c)\n",
    "The saturated synchronous reactance at a field current of 475 A can be found from the OCC and the SCC. The OCC voltage at $I_F = 475 A$ is 15.2 kV, and the short-circuit current is 1550 A."
   ]
  },
  {
   "cell_type": "code",
   "execution_count": 16,
   "metadata": {
    "collapsed": false
   },
   "outputs": [],
   "source": [
    "If_c   = 475.0  # [A]\n",
    "Vocc_c = 15.2e3 # [V]\n",
    "isc_c  = 1550.0 # [A]"
   ]
  },
  {
   "cell_type": "markdown",
   "metadata": {},
   "source": [
    "Since this generator is Y-connected, the corresponding phase voltage is:"
   ]
  },
  {
   "cell_type": "code",
   "execution_count": 17,
   "metadata": {
    "collapsed": false
   },
   "outputs": [
    {
     "name": "stdout",
     "output_type": "stream",
     "text": [
      "Vphi_c = 8776 V\n"
     ]
    }
   ],
   "source": [
    "Vphi_c = Vocc_c / sqrt(3)\n",
    "print('Vphi_c = {:.0f} V'.format(Vphi_c))"
   ]
  },
  {
   "cell_type": "markdown",
   "metadata": {},
   "source": [
    "and the armature current is:"
   ]
  },
  {
   "cell_type": "code",
   "execution_count": 18,
   "metadata": {
    "collapsed": false
   },
   "outputs": [
    {
     "name": "stdout",
     "output_type": "stream",
     "text": [
      "Ia_c = 1550 A\n"
     ]
    }
   ],
   "source": [
    "Ia_c = isc_c\n",
    "print('Ia_c = {:.0f} A'.format(Ia_c))"
   ]
  },
  {
   "cell_type": "markdown",
   "metadata": {},
   "source": [
    "Therefore, the saturated synchronous reactance is:"
   ]
  },
  {
   "cell_type": "code",
   "execution_count": 19,
   "metadata": {
    "collapsed": false
   },
   "outputs": [
    {
     "name": "stdout",
     "output_type": "stream",
     "text": [
      "\n",
      "Xs_c = 5.63 Ω\n",
      "=============\n",
      "\n"
     ]
    }
   ],
   "source": [
    "Zs_c = Vphi_c / Ia_c\n",
    "Xs_c = sqrt(Zs_c**2 - Ra**2)\n",
    "print('''\n",
    "Xs_c = {:.2f} Ω\n",
    "=============\n",
    "'''.format(Xs_c))"
   ]
  },
  {
   "cell_type": "markdown",
   "metadata": {},
   "source": [
    "and the per-unit unsaturated synchronous reactance is:"
   ]
  },
  {
   "cell_type": "code",
   "execution_count": 20,
   "metadata": {
    "collapsed": false
   },
   "outputs": [
    {
     "name": "stdout",
     "output_type": "stream",
     "text": [
      "\n",
      "xs_c = 0.946\n",
      "============\n",
      "\n"
     ]
    }
   ],
   "source": [
    "xs_c = Xs_c / Zbase\n",
    "print('''\n",
    "xs_c = {:.3f}\n",
    "============\n",
    "'''.format(xs_c))"
   ]
  },
  {
   "cell_type": "markdown",
   "metadata": {},
   "source": [
    "#### (d)\n",
    "The rated voltage of this generator is 12.2 kV, which requires a field current of 275 A."
   ]
  },
  {
   "cell_type": "code",
   "execution_count": 21,
   "metadata": {
    "collapsed": false
   },
   "outputs": [],
   "source": [
    "If_d = 275.0 # [A]"
   ]
  },
  {
   "cell_type": "markdown",
   "metadata": {},
   "source": [
    " The rated line and armature current of this generator is:"
   ]
  },
  {
   "cell_type": "code",
   "execution_count": 22,
   "metadata": {
    "collapsed": false
   },
   "outputs": [
    {
     "name": "stdout",
     "output_type": "stream",
     "text": [
      "Il = 1183 A\n"
     ]
    }
   ],
   "source": [
    "Il = Sbase / (sqrt(3) * Vbase)\n",
    "print('Il = {:.0f} A'.format(Il))"
   ]
  },
  {
   "cell_type": "markdown",
   "metadata": {},
   "source": [
    "The field current required to produce such short-circuit current is about 365 A. Therefore, the short-circuit ratio of this generator is:"
   ]
  },
  {
   "cell_type": "code",
   "execution_count": 23,
   "metadata": {
    "collapsed": false
   },
   "outputs": [
    {
     "name": "stdout",
     "output_type": "stream",
     "text": [
      "\n",
      "SCR = 0.75 \n",
      "==========\n",
      "\n"
     ]
    }
   ],
   "source": [
    "If_d_2 = 365.0 # [A]\n",
    "SCR = If_d / If_d_2\n",
    "print('''\n",
    "SCR = {:.2f} \n",
    "==========\n",
    "'''.format(SCR))"
   ]
  },
  {
   "cell_type": "markdown",
   "metadata": {},
   "source": [
    "#### (e)\n",
    "The internal generated voltage of this generator at rated conditions would be calculated using the saturated synchronous reactance."
   ]
  },
  {
   "cell_type": "code",
   "execution_count": 24,
   "metadata": {
    "collapsed": false
   },
   "outputs": [],
   "source": [
    "Xs_e = Xs_b\n",
    "If_e = If_b\n",
    "Ia_e = Il   # rated current as calculated in part d"
   ]
  },
  {
   "cell_type": "markdown",
   "metadata": {},
   "source": [
    "Since the power factor is 0.9 lagging, the armature current is:"
   ]
  },
  {
   "cell_type": "code",
   "execution_count": 25,
   "metadata": {
    "collapsed": false
   },
   "outputs": [
    {
     "name": "stdout",
     "output_type": "stream",
     "text": [
      "IA_e = 1183 Ω ∠-25.84°\n"
     ]
    }
   ],
   "source": [
    "IA_e_angle = -arccos(PF)\n",
    "IA_e = Ia_e * (cos(IA_e_angle) + sin(IA_e_angle)*1j)\n",
    "print('IA_e = {:.0f} Ω ∠{:.2f}°'.format(*(abs(IA_e), IA_e_angle/ pi*180)))           \n"
   ]
  },
  {
   "cell_type": "markdown",
   "metadata": {},
   "source": [
    "Therefore,\n",
    "$$\\vec{E}_A = \\vec{V}_\\phi + R_A\\vec{I}_A + jX_S\\vec{I}_A$$"
   ]
  },
  {
   "cell_type": "code",
   "execution_count": 26,
   "metadata": {
    "collapsed": false,
    "scrolled": true
   },
   "outputs": [
    {
     "name": "stdout",
     "output_type": "stream",
     "text": [
      "\n",
      "EA = 12901 V ∠31.0°\n",
      "===================\n",
      "\n"
     ]
    }
   ],
   "source": [
    "EA = Vphi_base + Ra*IA_e + Xs_e*IA_e*1j\n",
    "EA_angle = arctan(EA.imag / EA.real)\n",
    "print('''\n",
    "EA = {:.0f} V ∠{:.1f}°\n",
    "===================\n",
    "'''.format(*(abs(EA), EA_angle/pi*180)))"
   ]
  },
  {
   "cell_type": "markdown",
   "metadata": {},
   "source": [
    "#### (f)\n",
    "If the internal generated voltage $E_A$ is"
   ]
  },
  {
   "cell_type": "code",
   "execution_count": 27,
   "metadata": {
    "collapsed": false
   },
   "outputs": [
    {
     "data": {
      "text/plain": [
       "12901.0"
      ]
     },
     "execution_count": 27,
     "metadata": {},
     "output_type": "execute_result"
    }
   ],
   "source": [
    "abs(EA)"
   ]
  },
  {
   "cell_type": "markdown",
   "metadata": {},
   "source": [
    "Volts per phase, the corresponding line value would be:"
   ]
  },
  {
   "cell_type": "code",
   "execution_count": 28,
   "metadata": {
    "collapsed": false
   },
   "outputs": [
    {
     "name": "stdout",
     "output_type": "stream",
     "text": [
      "Vline_f = 22345 V\n"
     ]
    }
   ],
   "source": [
    "Vline_f = abs(EA)* sqrt(3)\n",
    "print('Vline_f = {:.0f} V'.format(Vline_f))"
   ]
  },
  {
   "cell_type": "markdown",
   "metadata": {},
   "source": [
    "This would require a field current of about (determined by usind the [two-point form](https://en.wikipedia.org/wiki/Linear_equation#Two-point_form) of $y - y_1 = \\frac{y_2 - y_1}{x_2 - x_1} (x - x_1)$):"
   ]
  },
  {
   "cell_type": "code",
   "execution_count": 29,
   "metadata": {
    "collapsed": false
   },
   "outputs": [
    {
     "name": "stdout",
     "output_type": "stream",
     "text": [
      "\n",
      "If_f = 465 A\n",
      "============\n",
      "\n"
     ]
    }
   ],
   "source": [
    "If_f=(475-380)/(22.8e3-18.3e3)*(abs(EA)*sqrt(3)-18.3e3)+380\n",
    "print('''\n",
    "If_f = {:.0f} A\n",
    "============\n",
    "'''.format(If_f))"
   ]
  }
 ],
 "metadata": {
  "kernelspec": {
   "display_name": "Python 3",
   "language": "python",
   "name": "python3"
  },
  "language_info": {
   "codemirror_mode": {
    "name": "ipython",
    "version": 3
   },
   "file_extension": ".py",
   "mimetype": "text/x-python",
   "name": "python",
   "nbconvert_exporter": "python",
   "pygments_lexer": "ipython3",
   "version": "3.5.2"
  }
 },
 "nbformat": 4,
 "nbformat_minor": 0
}
