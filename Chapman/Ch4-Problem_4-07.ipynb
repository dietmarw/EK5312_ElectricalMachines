{
 "cells": [
  {
   "cell_type": "markdown",
   "metadata": {},
   "source": [
    "# Excercises Electric Machinery Fundamentals\n",
    "## Chapter 4"
   ]
  },
  {
   "cell_type": "markdown",
   "metadata": {},
   "source": [
    "## Problem 4-7"
   ]
  },
  {
   "cell_type": "code",
   "execution_count": 1,
   "metadata": {
    "collapsed": false,
    "slideshow": {
     "slide_type": "skip"
    }
   },
   "outputs": [
    {
     "name": "stdout",
     "output_type": "stream",
     "text": [
      "Populating the interactive namespace from numpy and matplotlib\n"
     ]
    },
    {
     "data": {
      "text/plain": [
       "'%.1f'"
      ]
     },
     "execution_count": 1,
     "metadata": {},
     "output_type": "execute_result"
    }
   ],
   "source": [
    "%pylab inline\n",
    "%precision 1"
   ]
  },
  {
   "cell_type": "markdown",
   "metadata": {},
   "source": [
    "### Description"
   ]
  },
  {
   "cell_type": "markdown",
   "metadata": {},
   "source": [
    "A 100-MVA, 14.4-kV, 0.8-PF-lagging, 50-Hz, two-pole, Y-connected synchronous generator has a per-unit synchronous reactance of 1.1 and a per-unit armature resistance of 0.011."
   ]
  },
  {
   "cell_type": "code",
   "execution_count": 2,
   "metadata": {
    "collapsed": false
   },
   "outputs": [],
   "source": [
    "Vl  = 14.4e3 # [V]\n",
    "S   = 100e6  # [VA]\n",
    "ra  = 0.011  # [pu]\n",
    "xs  = 1.1    # [pu]\n",
    "PF  = 0.8\n",
    "p   = 2\n",
    "fse = 50 # [Hz]"
   ]
  },
  {
   "cell_type": "markdown",
   "metadata": {},
   "source": [
    "#### (a)\n",
    " \n",
    " * What are its synchronous reactance and armature resistance in ohms?\n",
    " \n",
    "#### (b)\n",
    " \n",
    " * What is the magnitude of the internal generated voltage $E_A$ at the rated conditions?\n",
    " * What is its torque angle $\\delta$ at these conditions?\n",
    " \n",
    "#### (c)\n",
    "Ignoring losses in this generator\n",
    " \n",
    " * What torque must be applied to its shaft by the prime mover at full load?"
   ]
  },
  {
   "cell_type": "markdown",
   "metadata": {},
   "source": [
    "### SOLUTION"
   ]
  },
  {
   "cell_type": "markdown",
   "metadata": {},
   "source": [
    "The base phase voltage of this generator is:"
   ]
  },
  {
   "cell_type": "code",
   "execution_count": 3,
   "metadata": {
    "collapsed": false
   },
   "outputs": [
    {
     "name": "stdout",
     "output_type": "stream",
     "text": [
      "Vphase_base = 8314 V\n"
     ]
    }
   ],
   "source": [
    "Vphase_base = Vl / sqrt(3)\n",
    "print('Vphase_base = {:.0f} V'.format(Vphase_base))"
   ]
  },
  {
   "cell_type": "markdown",
   "metadata": {},
   "source": [
    "Therefore, the base impedance of the generator is:\n",
    "\n",
    "$$Z_\\text{base} = \\frac{3V^2_{\\phi_\\text{base}}}{S_\\text{base}}$$"
   ]
  },
  {
   "cell_type": "code",
   "execution_count": 4,
   "metadata": {
    "collapsed": false
   },
   "outputs": [
    {
     "name": "stdout",
     "output_type": "stream",
     "text": [
      "Zbase = 2.074 Ω\n"
     ]
    }
   ],
   "source": [
    "Zbase = 3*Vphase_base**2 / S\n",
    "print('Zbase = {:.3f} Ω'.format(Zbase))"
   ]
  },
  {
   "cell_type": "markdown",
   "metadata": {},
   "source": [
    "#### (b)\n",
    "The generator impedance in ohms are:"
   ]
  },
  {
   "cell_type": "code",
   "execution_count": 5,
   "metadata": {
    "collapsed": false
   },
   "outputs": [
    {
     "name": "stdout",
     "output_type": "stream",
     "text": [
      "\n",
      "Ra = 0.0228 Ω      Xs = 2.281 Ω\n",
      "===============================\n"
     ]
    }
   ],
   "source": [
    "Ra = ra * Zbase\n",
    "Xs = xs * Zbase\n",
    "print('''\n",
    "Ra = {:.4f} Ω      Xs = {:.3f} Ω\n",
    "==============================='''.format(Ra, Xs))"
   ]
  },
  {
   "cell_type": "markdown",
   "metadata": {},
   "source": [
    "#### (b)\n",
    "The rated armature current is:\n",
    "\n",
    "$$I_A = I_L = \\frac{S}{\\sqrt{3}V_T}$$"
   ]
  },
  {
   "cell_type": "code",
   "execution_count": 6,
   "metadata": {
    "collapsed": false
   },
   "outputs": [
    {
     "name": "stdout",
     "output_type": "stream",
     "text": [
      "Ia_amp = 4009 A\n"
     ]
    }
   ],
   "source": [
    "Ia_amp = S / (sqrt(3) * Vl)\n",
    "print('Ia_amp = {:.0f} A'.format(Ia_amp))"
   ]
  },
  {
   "cell_type": "markdown",
   "metadata": {},
   "source": [
    "The power factor is 0.8 lagging, so:"
   ]
  },
  {
   "cell_type": "code",
   "execution_count": 7,
   "metadata": {
    "collapsed": false
   },
   "outputs": [
    {
     "name": "stdout",
     "output_type": "stream",
     "text": [
      "Ia = 4009 ∠-36.87° A\n"
     ]
    }
   ],
   "source": [
    "Ia_angle = -arccos(PF)\n",
    "Ia = Ia_amp * (cos(Ia_angle) + sin(Ia_angle)*1j)\n",
    "print('Ia = {:.0f} ∠{:.2f}° A'.format(abs(Ia), Ia_angle / pi *180))"
   ]
  },
  {
   "cell_type": "markdown",
   "metadata": {},
   "source": [
    "It is very often the case that especially in larger machines the armature resistance $R_A$ is simply neclected and one calulates the armature voltage simply as:\n",
    "\n",
    "$$\\vec{E}_A = \\vec{V}_\\phi + jX_S\\vec{I}_A$$\n",
    "\n",
    "But since in this case we were given the armature resistance explicitly we should also use it.\n",
    "\n",
    "Therefore, the internal generated voltage is\n",
    "\n",
    "$$\\vec{E}_A = \\vec{V}_\\phi + (R_A + jX_S)\\vec{I}_A$$\n",
    "\n"
   ]
  },
  {
   "cell_type": "code",
   "execution_count": 8,
   "metadata": {
    "collapsed": false
   },
   "outputs": [
    {
     "name": "stdout",
     "output_type": "stream",
     "text": [
      "EA = 15659.5 V ∠27.6°\n"
     ]
    }
   ],
   "source": [
    "EA = Vphase_base + (Ra + Xs*1j) * Ia\n",
    "EA_angle = arctan(EA.imag/EA.real)\n",
    "print('EA = {:.1f} V ∠{:.1f}°'.format(abs(EA), EA_angle/pi*180))"
   ]
  },
  {
   "cell_type": "markdown",
   "metadata": {},
   "source": [
    "Therefore, the magnitude of the internal generated voltage $E_A$ is:"
   ]
  },
  {
   "cell_type": "code",
   "execution_count": 9,
   "metadata": {
    "collapsed": false
   },
   "outputs": [
    {
     "data": {
      "text/plain": [
       "15659.5"
      ]
     },
     "execution_count": 9,
     "metadata": {},
     "output_type": "execute_result"
    }
   ],
   "source": [
    "abs(EA)"
   ]
  },
  {
   "cell_type": "markdown",
   "metadata": {},
   "source": [
    "V, and the torque angle $\\delta$ is:"
   ]
  },
  {
   "cell_type": "code",
   "execution_count": 10,
   "metadata": {
    "collapsed": false
   },
   "outputs": [
    {
     "data": {
      "text/plain": [
       "27.6"
      ]
     },
     "execution_count": 10,
     "metadata": {},
     "output_type": "execute_result"
    }
   ],
   "source": [
    "EA_angle/pi*180"
   ]
  },
  {
   "cell_type": "markdown",
   "metadata": {},
   "source": [
    "degrees."
   ]
  },
  {
   "cell_type": "markdown",
   "metadata": {},
   "source": [
    "#### (c)\n",
    "Ignoring losses, the input power would equal the output power. Since"
   ]
  },
  {
   "cell_type": "code",
   "execution_count": 11,
   "metadata": {
    "collapsed": false
   },
   "outputs": [
    {
     "name": "stdout",
     "output_type": "stream",
     "text": [
      "Pout = 80.0 MW\n"
     ]
    }
   ],
   "source": [
    "Pout = PF * S\n",
    "print('Pout = {:.1F} MW'.format(Pout/1e6))"
   ]
  },
  {
   "cell_type": "markdown",
   "metadata": {},
   "source": [
    "and,\n",
    "\n",
    "$$n_\\text{sync} = \\frac{120f_{se}}{P}$$"
   ]
  },
  {
   "cell_type": "code",
   "execution_count": 12,
   "metadata": {
    "collapsed": false
   },
   "outputs": [
    {
     "name": "stdout",
     "output_type": "stream",
     "text": [
      "n_sync = 3000 r/min\n"
     ]
    }
   ],
   "source": [
    "n_sync = 120*fse / p\n",
    "print('n_sync = {:.0F} r/min'.format(n_sync))"
   ]
  },
  {
   "cell_type": "markdown",
   "metadata": {},
   "source": [
    "the applied torque would be:\n",
    "\n",
    "$$\\tau_\\text{app} = \\tau_\\text{ind} = \\frac{P_\\text{out}}{\\omega_\\text{sync}}$$"
   ]
  },
  {
   "cell_type": "code",
   "execution_count": 13,
   "metadata": {
    "collapsed": false
   },
   "outputs": [
    {
     "name": "stdout",
     "output_type": "stream",
     "text": [
      "\n",
      "τ_app = 254648 Nm\n",
      "=================\n"
     ]
    }
   ],
   "source": [
    "w_sync = n_sync * (2*pi/60.0)\n",
    "tau_app = Pout / w_sync\n",
    "print('''\n",
    "τ_app = {:.0f} Nm\n",
    "================='''.format(tau_app))"
   ]
  }
 ],
 "metadata": {
  "kernelspec": {
   "display_name": "Python 3",
   "language": "python",
   "name": "python3"
  },
  "language_info": {
   "codemirror_mode": {
    "name": "ipython",
    "version": 3
   },
   "file_extension": ".py",
   "mimetype": "text/x-python",
   "name": "python",
   "nbconvert_exporter": "python",
   "pygments_lexer": "ipython3",
   "version": "3.5.2"
  }
 },
 "nbformat": 4,
 "nbformat_minor": 0
}
