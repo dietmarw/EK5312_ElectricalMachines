{
 "cells": [
  {
   "cell_type": "markdown",
   "metadata": {},
   "source": [
    "# Excercises Electric Machinery Fundamentals\n",
    "## Chapter 4"
   ]
  },
  {
   "cell_type": "markdown",
   "metadata": {},
   "source": [
    "## Problem 4-1"
   ]
  },
  {
   "cell_type": "code",
   "execution_count": 1,
   "metadata": {
    "collapsed": false,
    "slideshow": {
     "slide_type": "skip"
    }
   },
   "outputs": [
    {
     "name": "stdout",
     "output_type": "stream",
     "text": [
      "Populating the interactive namespace from numpy and matplotlib\n"
     ]
    }
   ],
   "source": [
    "%pylab inline"
   ]
  },
  {
   "cell_type": "markdown",
   "metadata": {},
   "source": [
    "### Description"
   ]
  },
  {
   "cell_type": "markdown",
   "metadata": {},
   "source": [
    "At a location in Europe, it is necessary to supply 1000 kW of 60-Hz power. The only power sources available operate at 50 Hz. It is decided to generate the power by means of a motor-generator set consisting of a synchronous motor driving a synchronous generator. \n",
    "\n",
    " * How many poles should each of the two machines have in order to convert 50-Hz power to 60-Hz power?"
   ]
  },
  {
   "cell_type": "code",
   "execution_count": 2,
   "metadata": {
    "collapsed": false
   },
   "outputs": [],
   "source": [
    "fse1 = 50.0 # [Hz]\n",
    "fse2 = 60.0 # [Hz]"
   ]
  },
  {
   "cell_type": "markdown",
   "metadata": {},
   "source": [
    "### SOLUTION"
   ]
  },
  {
   "cell_type": "markdown",
   "metadata": {},
   "source": [
    "The speed of a synchronous machine is related to its frequency by the equation:\n",
    "\n",
    "$$f_{se} = \\frac{n_{sm}\\cdot p/2}{60}$$"
   ]
  },
  {
   "cell_type": "markdown",
   "metadata": {},
   "source": [
    "To make a 50 Hz and a 60 Hz machine have the same mechanical speed so that they can be coupled together, we see that:\n",
    "\n",
    "$$n_\\text{sync} = \\frac{120f_{se,1}}{p_1} = \\frac{120f_{se,2}}{p_2}$$"
   ]
  },
  {
   "cell_type": "code",
   "execution_count": 3,
   "metadata": {
    "collapsed": false
   },
   "outputs": [
    {
     "name": "stdout",
     "output_type": "stream",
     "text": [
      "p2_p1 = 1.20\n"
     ]
    }
   ],
   "source": [
    "p2_p1 = (120*fse2) / (120*fse1)\n",
    "print('p2_p1 = {:.2f}'.format(p2_p1))"
   ]
  },
  {
   "cell_type": "markdown",
   "metadata": {},
   "source": [
    "$$\\frac{p_2}{p_1} = \\frac{120f_{se,2}}{120f_{se,1}} = \\frac{60}{50} = \\frac{12}{10} = \\frac{24}{20}=\\ldots$$"
   ]
  },
  {
   "cell_type": "markdown",
   "metadata": {},
   "source": [
    "Therefore, a 10-pole synchronous motor must be coupled to a 12-pole synchronous generator to accomplish this frequency conversion."
   ]
  }
 ],
 "metadata": {
  "kernelspec": {
   "display_name": "Python 3",
   "language": "python",
   "name": "python3"
  },
  "language_info": {
   "codemirror_mode": {
    "name": "ipython",
    "version": 3
   },
   "file_extension": ".py",
   "mimetype": "text/x-python",
   "name": "python",
   "nbconvert_exporter": "python",
   "pygments_lexer": "ipython3",
   "version": "3.5.2"
  }
 },
 "nbformat": 4,
 "nbformat_minor": 0
}
