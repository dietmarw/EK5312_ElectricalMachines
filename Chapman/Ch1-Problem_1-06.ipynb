{
 "cells": [
  {
   "cell_type": "markdown",
   "metadata": {},
   "source": [
    "# Excercises Electric Machinery Fundamentals\n",
    "## Chapter 1"
   ]
  },
  {
   "cell_type": "markdown",
   "metadata": {},
   "source": [
    "## Problem 1-6"
   ]
  },
  {
   "cell_type": "code",
   "execution_count": 1,
   "metadata": {
    "slideshow": {
     "slide_type": "skip"
    }
   },
   "outputs": [
    {
     "name": "stdout",
     "output_type": "stream",
     "text": [
      "Populating the interactive namespace from numpy and matplotlib\n"
     ]
    }
   ],
   "source": [
    "%pylab inline\n",
    "%precision %.4g\n",
    "from scipy import constants as c   # we like to use some constants"
   ]
  },
  {
   "cell_type": "markdown",
   "metadata": {},
   "source": [
    "### Description"
   ]
  },
  {
   "cell_type": "markdown",
   "metadata": {},
   "source": [
    "A ferromagnetic core is shown in Figure P1-3:"
   ]
  },
  {
   "cell_type": "markdown",
   "metadata": {},
   "source": [
    "<img src=\"figs/FigC_P1-3.jpg\" width=\"70%\">"
   ]
  },
  {
   "cell_type": "markdown",
   "metadata": {},
   "source": [
    " The relative permeability of the core is:"
   ]
  },
  {
   "cell_type": "code",
   "execution_count": 2,
   "metadata": {},
   "outputs": [],
   "source": [
    "mu_r = 1500\n",
    "mu = mu_r * c.mu_0"
   ]
  },
  {
   "cell_type": "markdown",
   "metadata": {},
   "source": [
    "The dimentions are as shown in the diagram, and the depth of the core is 5 cm. \n",
    "The air gaps on the left and right sides of the core are 0.050 and 0.070 cm, respectively. \n",
    "Because of fringing effects, the effective area of the air gaps is 5 percent larger than their physical size. "
   ]
  },
  {
   "cell_type": "markdown",
   "metadata": {},
   "source": [
    "If there are 300 turns in the coil wrapped around the center leg of the core and if the current in the coil is 1.0 A, "
   ]
  },
  {
   "cell_type": "markdown",
   "metadata": {},
   "source": [
    " * What is the flux in each of the left, center, and right legs of the core?\n",
    " * What is the flux density in each air gap?"
   ]
  },
  {
   "cell_type": "markdown",
   "metadata": {},
   "source": [
    "### SOLUTION"
   ]
  },
  {
   "cell_type": "markdown",
   "metadata": {},
   "source": [
    "This core can be divided up into five regions. Let:\n",
    "\n",
    " * $\\mathcal{R}_1$ be the reluctance of the left-hand portion of the core,\n",
    " * $\\mathcal{R}_2$ be the reluctance of the left-hand air gap,\n",
    " * $\\mathcal{R}_3$ be the reluctance of the right-hand portion of the core,\n",
    " * $\\mathcal{R}_4$ be the reluctance of the right-hand air gap,\n",
    " * $\\mathcal{R}_5$ be the reluctance of the center leg of the core. "
   ]
  },
  {
   "cell_type": "markdown",
   "metadata": {},
   "source": [
    "If we assume that the mean path length of the flux is in the center of each leg of the core, and if we ignore spreading at the corners of the core, then the path lengths are:"
   ]
  },
  {
   "cell_type": "code",
   "execution_count": 3,
   "metadata": {},
   "outputs": [],
   "source": [
    "l1 = 1.11    # m\n",
    "l2 = 0.0007  # m \n",
    "l3 = 1.11    # m\n",
    "l4 = 0.0005  # m\n",
    "l5 = 0.37    # m"
   ]
  },
  {
   "cell_type": "markdown",
   "metadata": {},
   "source": [
    " * The reluctances of the regions in core are: $\\mathcal{R}_\\text{CORE} = \\frac{l}{\\mu_0 \\mu_r A}$, \n",
    " * The reluctances of the regions in the air gaps are: $\\mathcal{R}_\\text{GAP} = \\frac{l}{\\mu_0 A }$."
   ]
  },
  {
   "cell_type": "markdown",
   "metadata": {},
   "source": [
    " The areas can be calculated as:"
   ]
  },
  {
   "cell_type": "code",
   "execution_count": 4,
   "metadata": {},
   "outputs": [],
   "source": [
    "A1 = 0.07 * 0.05         # m^2\n",
    "A2 = 0.07 * 0.05 * 1.05  # m^2   5 percent larger than the physical size\n",
    "A3 = 0.07 * 0.05         # m^2\n",
    "A4 = 0.07 * 0.05 * 1.05  # m^2   5 percent larger than the physical size\n",
    "A5 = 0.07 * 0.05         # m^2"
   ]
  },
  {
   "cell_type": "markdown",
   "metadata": {},
   "source": [
    "And the reluctances are hence:"
   ]
  },
  {
   "cell_type": "code",
   "execution_count": 5,
   "metadata": {},
   "outputs": [
    {
     "name": "stdout",
     "output_type": "stream",
     "text": [
      "R1 = 168.2 kAt/Wb\n",
      "R2 = 151.6 kAt/Wb\n",
      "R3 = 168.2 kAt/Wb\n",
      "R4 = 108.3 kAt/Wb\n",
      "R5 =  56.1 kAt/Wb\n"
     ]
    }
   ],
   "source": [
    "R1 = l1 / (mu * A1)     # At /Wb  = At/Vs\n",
    "R2 = l2 / (c.mu_0 * A2) # At /Wb  = At/Vs\n",
    "R3 = l3 / (mu * A3)     # At /Wb  = At/Vs\n",
    "R4 = l4 / (c.mu_0 * A4) # At /Wb  = At/Vs\n",
    "R5 = l5 / (mu * A5)     # At /Wb  = At/Vs\n",
    "print('R1 = {:>5.1f} kAt/Wb'.format(R1/1000) )\n",
    "print('R2 = {:>5.1f} kAt/Wb'.format(R2/1000) )\n",
    "print('R3 = {:>5.1f} kAt/Wb'.format(R3/1000) )\n",
    "print('R4 = {:>5.1f} kAt/Wb'.format(R4/1000) )\n",
    "print('R5 = {:>5.1f} kAt/Wb'.format(R5/1000) )"
   ]
  },
  {
   "cell_type": "markdown",
   "metadata": {},
   "source": [
    "Then the total reluctance of the core is $\\mathcal{R}_\\text{TOT} = \\mathcal{R}_5 + \\frac{(\\mathcal{R}_1 + \\mathcal{R}_2)(\\mathcal{R}_3 + \\mathcal{R}_4)}{\\mathcal{R}_1 + \\mathcal{R}_2 + \\mathcal{R}_3 + \\mathcal{R}_4}$."
   ]
  },
  {
   "cell_type": "code",
   "execution_count": 6,
   "metadata": {},
   "outputs": [
    {
     "name": "stdout",
     "output_type": "stream",
     "text": [
      "Rtot = 204.4 kAt/Wb\n"
     ]
    }
   ],
   "source": [
    "Rtot = R5 + ((R1 + R2) * (R3 + R4)) / (R1 + R2 + R3 + R4)\n",
    "print('Rtot = {:.1f} kAt/Wb'.format(Rtot/1000))"
   ]
  },
  {
   "cell_type": "markdown",
   "metadata": {},
   "source": [
    "and the magnetomotive force is $\\mathcal{F} = \\mathcal{N} \\mathcal{I}$:"
   ]
  },
  {
   "cell_type": "code",
   "execution_count": 7,
   "metadata": {},
   "outputs": [],
   "source": [
    "N = 300   # t   given in description\n",
    "I = 1.0   # A   given in description\n",
    "F = N * I"
   ]
  },
  {
   "cell_type": "markdown",
   "metadata": {},
   "source": [
    "**The total flux in the core $\\phi_\\text{TOT}$ is equal to the flux in the center leg $\\phi_\\text{center} = \\frac{\\mathcal{F}}{\\mathcal{R}_\\text{TOT}}$ , which is:**"
   ]
  },
  {
   "cell_type": "code",
   "execution_count": 8,
   "metadata": {},
   "outputs": [
    {
     "name": "stdout",
     "output_type": "stream",
     "text": [
      "phi_center = 1.468 mWb\n"
     ]
    }
   ],
   "source": [
    "phi_cent = F / Rtot \n",
    "print('phi_center = {:.3f} mWb'.format(phi_cent*1000))"
   ]
  },
  {
   "cell_type": "markdown",
   "metadata": {},
   "source": [
    "The fluxes in the left and right legs can be found by the \"flux divider rule\", which is analogous to the current divider rule."
   ]
  },
  {
   "cell_type": "markdown",
   "metadata": {},
   "source": [
    "**Thus the flux in the left leg $\\phi_\\text{left} = \\frac{(\\mathcal{R}_3 + \\mathcal{R}_4)}{\\mathcal{R}_1 + \\mathcal{R}_2 + \\mathcal{R}_3 + \\mathcal{R}_4}\\phi_\\text{TOT}$ is:**"
   ]
  },
  {
   "cell_type": "code",
   "execution_count": 9,
   "metadata": {},
   "outputs": [
    {
     "name": "stdout",
     "output_type": "stream",
     "text": [
      "phi_left = 0.681 mWb\n"
     ]
    }
   ],
   "source": [
    "phi_left = (R3 + R4) / (R1 + R2 + R3 + R4) * phi_cent\n",
    "print('phi_left = {:.3f} mWb'.format(phi_left*1000))"
   ]
  },
  {
   "cell_type": "markdown",
   "metadata": {},
   "source": [
    "**The flux in the right leg $\\phi_\\text{right} = \\frac{(\\mathcal{R}_1 + \\mathcal{R}_2)}{\\mathcal{R}_1 + \\mathcal{R}_2 + \\mathcal{R}_3 + \\mathcal{R}_4}\\phi_\\text{TOT}$ is:**"
   ]
  },
  {
   "cell_type": "code",
   "execution_count": 10,
   "metadata": {},
   "outputs": [
    {
     "name": "stdout",
     "output_type": "stream",
     "text": [
      "phi_right = 0.787 mWb\n"
     ]
    }
   ],
   "source": [
    "phi_right = (R1 + R2) / (R1 + R2 + R3 + R4) * phi_cent\n",
    "print('phi_right = {:.3f} mWb'.format(phi_right*1000))"
   ]
  },
  {
   "cell_type": "markdown",
   "metadata": {},
   "source": [
    "**The flux density $B = \\frac{\\phi}{A}$ in the left air gap is:**"
   ]
  },
  {
   "cell_type": "code",
   "execution_count": 11,
   "metadata": {},
   "outputs": [
    {
     "name": "stdout",
     "output_type": "stream",
     "text": [
      "B2 = 0.185 T\n"
     ]
    }
   ],
   "source": [
    "B2 = phi_left / A2\n",
    "print('B2 = {:.3f} T'.format(B2))"
   ]
  },
  {
   "cell_type": "markdown",
   "metadata": {},
   "source": [
    "**The flux density $B = \\frac{\\phi}{A}$ in the right air gap is:**"
   ]
  },
  {
   "cell_type": "code",
   "execution_count": 12,
   "metadata": {},
   "outputs": [
    {
     "name": "stdout",
     "output_type": "stream",
     "text": [
      "B4 = 0.214 T\n"
     ]
    }
   ],
   "source": [
    "B4 = phi_right / A4\n",
    "print('B4 = {:.3f} T'.format(B4))"
   ]
  }
 ],
 "metadata": {
  "kernelspec": {
   "display_name": "Python 3",
   "language": "python",
   "name": "python3"
  },
  "language_info": {
   "codemirror_mode": {
    "name": "ipython",
    "version": 3
   },
   "file_extension": ".py",
   "mimetype": "text/x-python",
   "name": "python",
   "nbconvert_exporter": "python",
   "pygments_lexer": "ipython3",
   "version": "3.8.2"
  }
 },
 "nbformat": 4,
 "nbformat_minor": 1
}
