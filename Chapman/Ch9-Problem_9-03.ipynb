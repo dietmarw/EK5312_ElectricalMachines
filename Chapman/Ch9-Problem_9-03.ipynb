{
 "cells": [
  {
   "cell_type": "markdown",
   "metadata": {},
   "source": [
    "# Excercises Electric Machinery Fundamentals\n",
    "## Chapter 9"
   ]
  },
  {
   "cell_type": "markdown",
   "metadata": {},
   "source": [
    "## Problem 9-3"
   ]
  },
  {
   "cell_type": "code",
   "execution_count": null,
   "metadata": {
    "slideshow": {
     "slide_type": "skip"
    }
   },
   "outputs": [],
   "source": [
    "%pylab inline\n",
    "%precision %.4g"
   ]
  },
  {
   "cell_type": "markdown",
   "metadata": {},
   "source": [
    "### Description"
   ]
  },
  {
   "cell_type": "markdown",
   "metadata": {},
   "source": [
    "Suppose that the motor in [Problem 9-1](Ch9-Problem_9_01.ipynb) is started and the auxiliary winding fails open while the rotor is accelerating through 400 r/min. \n",
    "\n",
    " * How much induced torque will the motor be able to produce on its main winding alone? \n",
    " * Assuming that the rotational losses are still 51 W, will this motor continue accelerating or will it slow down again? Prove your answer."
   ]
  },
  {
   "cell_type": "code",
   "execution_count": null,
   "metadata": {},
   "outputs": [],
   "source": [
    "V  = 120   # [V]\n",
    "p  =   4\n",
    "R1 =   2.0  # [Ohm]\n",
    "R2 =   2.8  # [Ohm]\n",
    "X1 =   2.56 # [Ohm]\n",
    "X2 =   2.56 # [Ohm]\n",
    "Xm =  60.5  # [Ohm]\n",
    "n  = 400    # [r/min]\n",
    "Prot = 51   # [W]\n",
    "n_sync = 1800 # [r/min]"
   ]
  },
  {
   "cell_type": "markdown",
   "metadata": {},
   "source": [
    "### SOLUTION"
   ]
  },
  {
   "cell_type": "markdown",
   "metadata": {},
   "source": [
    "At a speed of 400 r/min, the slip is:\n",
    "\n",
    "$$s = \\frac{n_\\text{sync} - n}{n_\\text{sync}}$$"
   ]
  },
  {
   "cell_type": "code",
   "execution_count": null,
   "metadata": {},
   "outputs": [],
   "source": [
    "s = (n_sync - n) / n_sync\n",
    "s"
   ]
  },
  {
   "cell_type": "markdown",
   "metadata": {},
   "source": [
    "The impedances $Z_F$ and $Z_B$ are:\n",
    "$$Z_F = \\frac{(R_2/s + jX_2)(jX_M)}{R_2/s + jX_2 + jX_M}$$"
   ]
  },
  {
   "cell_type": "code",
   "execution_count": null,
   "metadata": {},
   "outputs": [],
   "source": [
    "Zf = ((R2/s + X2*1j)*(Xm*1j)) / (R2/s + X2*1j + Xm*1j)\n",
    "Zf"
   ]
  },
  {
   "cell_type": "markdown",
   "metadata": {},
   "source": [
    "$$Z_B = \\frac{(R_2/(2-s) + jX_2)(jX_M)}{R_2/(2-s) + jX_2 + jX_M}$$"
   ]
  },
  {
   "cell_type": "code",
   "execution_count": null,
   "metadata": {},
   "outputs": [],
   "source": [
    "Zb = ((R2/(2-s) + X2*1j)*(Xm*1j)) / (R2/(2-s) + X2*1j + Xm*1j)\n",
    "Zb"
   ]
  },
  {
   "cell_type": "markdown",
   "metadata": {},
   "source": [
    "The input current is:\n",
    "$$\\vec{I}_1 = \\frac{\\vec{V}}{R_1 + jX_1 + 0.5Z_F + 0.5Z_B}$$"
   ]
  },
  {
   "cell_type": "code",
   "execution_count": null,
   "metadata": {},
   "outputs": [],
   "source": [
    "I1 = V / (R1 +X1*1j + 0.5*Zf + 0.5*Zb)\n",
    "I1_angle = arctan(I1.imag/I1.real)\n",
    "print('I1 = {:.2f} V ∠{:.1f}°'.format(abs(I1), I1_angle/pi*180))"
   ]
  },
  {
   "cell_type": "markdown",
   "metadata": {},
   "source": [
    "The air-gap power is:"
   ]
  },
  {
   "cell_type": "code",
   "execution_count": null,
   "metadata": {},
   "outputs": [],
   "source": [
    "Pag_f = abs(I1)**2 * 0.5*Zf.real\n",
    "Pag_f"
   ]
  },
  {
   "cell_type": "code",
   "execution_count": null,
   "metadata": {},
   "outputs": [],
   "source": [
    "Pag_b = abs(I1)**2 * 0.5*Zb.real\n",
    "Pag_b"
   ]
  },
  {
   "cell_type": "code",
   "execution_count": null,
   "metadata": {},
   "outputs": [],
   "source": [
    "Pag = Pag_f - Pag_b\n",
    "print('Pag = {:.1f} W'.format(Pag))"
   ]
  },
  {
   "cell_type": "markdown",
   "metadata": {},
   "source": [
    "The power converted from electrical to mechanical form is:"
   ]
  },
  {
   "cell_type": "code",
   "execution_count": null,
   "metadata": {},
   "outputs": [],
   "source": [
    "Pconv_f = (1-s)*Pag_f\n",
    "Pconv_f"
   ]
  },
  {
   "cell_type": "code",
   "execution_count": null,
   "metadata": {},
   "outputs": [],
   "source": [
    "Pconv_b = (1-s)*Pag_b\n",
    "Pconv_b"
   ]
  },
  {
   "cell_type": "code",
   "execution_count": null,
   "metadata": {},
   "outputs": [],
   "source": [
    "Pconv = Pconv_f - Pconv_b\n",
    "print('Pconv = {:.1f} W'.format(Pconv))"
   ]
  },
  {
   "cell_type": "markdown",
   "metadata": {},
   "source": [
    "The output power is:"
   ]
  },
  {
   "cell_type": "code",
   "execution_count": null,
   "metadata": {},
   "outputs": [],
   "source": [
    "Pout = Pconv - Prot\n",
    "print('Pout = {:.1f} W'.format(Pout))"
   ]
  },
  {
   "cell_type": "markdown",
   "metadata": {},
   "source": [
    "The induced torque is\n",
    "\n",
    "$$\\tau_\\text{ind} = \\frac{P_\\text{AG}}{\\omega_\\text{sync}}$$"
   ]
  },
  {
   "cell_type": "code",
   "execution_count": null,
   "metadata": {},
   "outputs": [],
   "source": [
    "w_sync = n_sync * (2.0*pi/1.0) * (1.0/60.0)\n",
    "tau_ind = Pag / w_sync\n",
    "print('''\n",
    "τ_ind = {:.3f} Nm\n",
    "================'''.format(tau_ind))"
   ]
  },
  {
   "cell_type": "markdown",
   "metadata": {},
   "source": [
    "**Assuming that the rotational losses are still 51 W, this motor will slow down because $P_\\text{conv}$ is smaller than rotational losses, so there is not enough power to cover the\n",
    "rotational losses. The motor will slow down again.**"
   ]
  }
 ],
 "metadata": {
  "kernelspec": {
   "display_name": "Python 3",
   "language": "python",
   "name": "python3"
  },
  "language_info": {
   "codemirror_mode": {
    "name": "ipython",
    "version": 3
   },
   "file_extension": ".py",
   "mimetype": "text/x-python",
   "name": "python",
   "nbconvert_exporter": "python",
   "pygments_lexer": "ipython3",
   "version": "3.6.7"
  }
 },
 "nbformat": 4,
 "nbformat_minor": 1
}
