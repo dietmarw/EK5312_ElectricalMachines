{
 "cells": [
  {
   "cell_type": "markdown",
   "metadata": {},
   "source": [
    "# Excercises Electric Machinery Fundamentals\n",
    "## Chapter 6"
   ]
  },
  {
   "cell_type": "markdown",
   "metadata": {},
   "source": [
    "## Problem 6-21"
   ]
  },
  {
   "cell_type": "code",
   "execution_count": 1,
   "metadata": {
    "slideshow": {
     "slide_type": "skip"
    }
   },
   "outputs": [
    {
     "name": "stdout",
     "output_type": "stream",
     "text": [
      "Populating the interactive namespace from numpy and matplotlib\n"
     ]
    }
   ],
   "source": [
    "%pylab notebook"
   ]
  },
  {
   "cell_type": "markdown",
   "metadata": {},
   "source": [
    "### Description"
   ]
  },
  {
   "cell_type": "markdown",
   "metadata": {},
   "source": [
    "A 460-V, 10 hp, four-pole, Y-connected, Insulation class F, Service Factor 1.15 induction motor has the following parameters:\n",
    "\n",
    "| Stator                | Rotor                 | Power                    |\n",
    "|-----------------------|-----------------------|--------------------------|\n",
    "| $R_1 = 0.540\\,\\Omega$ | $R_2 = 0.488\\,\\Omega$ | $P_\\text{core} = 150\\,W$ |\n",
    "| $X_1 = 2.093\\,\\Omega$ | $X_2 = 3.209\\,\\Omega$ | $P_\\text{f\\&w} = 150\\,W$ |\n",
    "| $X_M = 51.12\\,\\Omega$ |                       | $P_\\text{misc} = 50\\,W$  | \n"
   ]
  },
  {
   "cell_type": "code",
   "execution_count": 2,
   "metadata": {},
   "outputs": [],
   "source": [
    "R1 =  0.54  # [Ohm]\n",
    "R2 =  0.488 # [Ohm]\n",
    "Xm = 51.12  # [Ohm]\n",
    "X1 =  2.093 # [Ohm]\n",
    "X2 =  3.209 # [Ohm]\n",
    "Pcore = 150 # [W]\n",
    "Pf_w  = 150 # [W]\n",
    "Pmisc =  50 # [W]\n",
    "\n",
    "V = 460  # [V]\n",
    "p = 4\n",
    "fse = 60 # [Hz]"
   ]
  },
  {
   "cell_type": "markdown",
   "metadata": {},
   "source": [
    "For a slip of 0.02, find\n",
    "\n",
    "#### (a)\n",
    " * The line current $I_L$\n",
    " \n",
    "#### (b)\n",
    " * The stator power factor\n",
    " \n",
    "#### (c)\n",
    " * The rotor power factor\n",
    "\n",
    "#### (d)\n",
    " * The rotor frequency\n",
    "\n",
    "#### (e)\n",
    " * The stator copper losses $P_{SCL}$\n",
    "\n",
    "#### (f)\n",
    " * The air-gap power $P_{AG}$\n",
    "\n",
    "#### (g)\n",
    " * The power converted from electrical to mechanical form $P_{conv}$\n",
    "\n",
    "#### (h)\n",
    " * The induced torque $\\tau_{ind}$\n",
    "\n",
    "#### (i)\n",
    " * The load torque $\\tau_{load}$\n",
    "\n",
    "#### (j)\n",
    " * The overall machine efficiency $\\eta$\n",
    "\n",
    "#### (k)\n",
    " * The motor speed in revolutions per minute and radians per second\n",
    "\n",
    "#### (l)\n",
    " * Sketch the power flow diagram for this motor."
   ]
  },
  {
   "cell_type": "markdown",
   "metadata": {},
   "source": [
    "### SOLUTION"
   ]
  },
  {
   "cell_type": "markdown",
   "metadata": {},
   "source": [
    "The equivalent circuit of this induction motor is shown below:"
   ]
  },
  {
   "cell_type": "markdown",
   "metadata": {},
   "source": [
    "<img src=\"figs/Problem_6-21a.jpg\" width=\"70%\">"
   ]
  },
  {
   "cell_type": "markdown",
   "metadata": {},
   "source": [
    "#### (a)\n",
    "The easiest way to find the line current (or armature current) is to get the equivalent impedance $Z_F$ of the rotor circuit in parallel with $jX_M$, and then calculate the current as the phase voltage divided by the sum of the series impedances, as shown below.\n",
    "<hr>\n",
    "*Note that in this case we are ignoring the $P_\\text{core}$ losses in the electrical calculations but we will consider them as part of the rotational losses later on. This is quite common practice as it is hard to determine the $P_\\text{core}$ separate from the $P_\\text{f\\&w}$ losses in practice.*\n",
    "<hr>"
   ]
  },
  {
   "cell_type": "markdown",
   "metadata": {},
   "source": [
    "<img src=\"figs/Problem_6-21b.jpg\" width=\"60%\">"
   ]
  },
  {
   "cell_type": "markdown",
   "metadata": {},
   "source": [
    "The equivalent impedance of the rotor circuit in parallel with $jX_M$ is:\n",
    "\n",
    "$$Z_F = \\frac{1}{\\frac{1}{jX_M} + \\frac{1}{Z_2}}$$"
   ]
  },
  {
   "cell_type": "code",
   "execution_count": 3,
   "metadata": {},
   "outputs": [
    {
     "name": "stdout",
     "output_type": "stream",
     "text": [
      "Zf = (17.98+11.09j)Ω = 21.12 Ω ∠31.7°\n"
     ]
    }
   ],
   "source": [
    "s = 0.02\n",
    "\n",
    "Z2 = R2 + R2*(1-s)/s + X2*1j\n",
    "Zf = 1 / (1/(Xm*1j) + 1/Z2)\n",
    "Zf_angle = arctan(Zf.imag/Zf.real)\n",
    "print('Zf = ({:.2f})Ω = {:.2f} Ω ∠{:.1f}°'.format(Zf, abs(Zf), Zf_angle/pi *180))"
   ]
  },
  {
   "cell_type": "markdown",
   "metadata": {},
   "source": [
    "The phase voltage is:"
   ]
  },
  {
   "cell_type": "code",
   "execution_count": 4,
   "metadata": {},
   "outputs": [
    {
     "name": "stdout",
     "output_type": "stream",
     "text": [
      "V_phase = 266 V\n"
     ]
    }
   ],
   "source": [
    "V_phase = V / sqrt(3)\n",
    "print('V_phase = {:.0f} V'.format(V_phase))"
   ]
  },
  {
   "cell_type": "markdown",
   "metadata": {},
   "source": [
    "so the line current $I_L$ is:\n",
    "\n",
    "$$I_L = I_A = \\frac{V_\\phi}{R_1 + jX_1 +R_F + jX_F}$$"
   ]
  },
  {
   "cell_type": "code",
   "execution_count": 5,
   "metadata": {},
   "outputs": [
    {
     "name": "stdout",
     "output_type": "stream",
     "text": [
      "\n",
      "Il = 11.68 A ∠-35.5°\n",
      "====================\n"
     ]
    }
   ],
   "source": [
    "Il = V_phase / (R1 + X1*1j + Zf)\n",
    "Ia = Il\n",
    "Il_angle = arctan(Il.imag/Il.real)\n",
    "Ia_angle = Il_angle\n",
    "print('''\n",
    "Il = {:.2f} A ∠{:.1f}°\n",
    "===================='''.format(abs(Il), Il_angle/pi *180))"
   ]
  },
  {
   "cell_type": "markdown",
   "metadata": {},
   "source": [
    "#### (b)\n",
    "The stator power factor is:"
   ]
  },
  {
   "cell_type": "code",
   "execution_count": 6,
   "metadata": {},
   "outputs": [
    {
     "name": "stdout",
     "output_type": "stream",
     "text": [
      "\n",
      "PF = 0.815 lagging\n",
      "==================\n"
     ]
    }
   ],
   "source": [
    "PF = cos(Il_angle)\n",
    "print('''\n",
    "PF = {:.3f} lagging\n",
    "=================='''.format(PF))"
   ]
  },
  {
   "cell_type": "markdown",
   "metadata": {},
   "source": [
    "#### (c)\n",
    "To find the rotor power factor, we must find the impedance angle of the rotor:\n",
    "\n",
    "$$\\theta_R = \\arctan{\\left(\\frac{X_2}{R_2/s}\\right)}$$"
   ]
  },
  {
   "cell_type": "code",
   "execution_count": 7,
   "metadata": {},
   "outputs": [
    {
     "name": "stdout",
     "output_type": "stream",
     "text": [
      "\n",
      "theta_R = 7.49°\n"
     ]
    }
   ],
   "source": [
    "theta_R = arctan(X2 / (R2/s))\n",
    "print('''\n",
    "theta_R = {:.2f}°'''.format(theta_R/pi *180))"
   ]
  },
  {
   "cell_type": "markdown",
   "metadata": {},
   "source": [
    "Therefore the rotor power factor is:"
   ]
  },
  {
   "cell_type": "code",
   "execution_count": 8,
   "metadata": {},
   "outputs": [
    {
     "name": "stdout",
     "output_type": "stream",
     "text": [
      "PF_R = 0.991 lagging\n",
      "====================\n"
     ]
    }
   ],
   "source": [
    "PF_R = cos(theta_R)\n",
    "print('''PF_R = {:.3f} lagging\n",
    "===================='''.format(PF_R))"
   ]
  },
  {
   "cell_type": "markdown",
   "metadata": {},
   "source": [
    "#### (d)\n",
    "The rotor frequency is:\n",
    "\n",
    "$$f_r = sf_s$$"
   ]
  },
  {
   "cell_type": "code",
   "execution_count": 9,
   "metadata": {},
   "outputs": [
    {
     "name": "stdout",
     "output_type": "stream",
     "text": [
      "\n",
      "fr = 1.2 Hz\n",
      "===========\n"
     ]
    }
   ],
   "source": [
    "fr = s*fse\n",
    "print('''\n",
    "fr = {:.1f} Hz\n",
    "==========='''.format(fr))"
   ]
  },
  {
   "cell_type": "markdown",
   "metadata": {},
   "source": [
    "#### (e)\n",
    "The stator copper losses are:\n",
    "$$P_{SCL} = 3I^2_AR_1$$"
   ]
  },
  {
   "cell_type": "code",
   "execution_count": 10,
   "metadata": {},
   "outputs": [
    {
     "name": "stdout",
     "output_type": "stream",
     "text": [
      "\n",
      "Pscl = 221 W\n",
      "============\n"
     ]
    }
   ],
   "source": [
    "Pscl = 3 * abs(Ia)**2 * R1\n",
    "print('''\n",
    "Pscl = {:.0f} W\n",
    "============'''.format(Pscl))"
   ]
  },
  {
   "cell_type": "markdown",
   "metadata": {},
   "source": [
    "#### (f)\n",
    "The air gap power is:\n",
    "\n",
    "$$P_{AG} = P_\\text{in} - P_{SCL} =  3I^2_2\\frac{R_2}{s} =  3I^2_A R_F$$\n",
    "\n",
    "As noted earlier $P_\\text{core}$ losses are lumbed into the rotational losses on the rotor side. \n",
    "<hr>\n",
    "Note that $3I_A^2R_F$ is equal to $3I_2^2\\frac{R_2}{s}$, since the only resistance in the original rotor circuit was $\\frac{R_2}{s}$ , and the resistance in the Thevenin equivalent circuit is $R_F$. The power consumed by the Thevenin equivalent circuit must be the same as the power consumed by the original circuit.\n",
    "<hr>"
   ]
  },
  {
   "cell_type": "code",
   "execution_count": 11,
   "metadata": {},
   "outputs": [
    {
     "name": "stdout",
     "output_type": "stream",
     "text": [
      "\n",
      "Pag = 7.36 kW\n",
      "=============\n"
     ]
    }
   ],
   "source": [
    "Pag = 3 * abs(Ia)**2 * Zf.real\n",
    "print('''\n",
    "Pag = {:.2f} kW\n",
    "============='''.format(Pag/1000))"
   ]
  },
  {
   "cell_type": "markdown",
   "metadata": {},
   "source": [
    "#### (g)\n",
    "The power converted from electrical to mechanical form is:\n",
    "\n",
    "$$P_\\text{conv} = (1-s)P_{AG}$$"
   ]
  },
  {
   "cell_type": "code",
   "execution_count": 12,
   "metadata": {},
   "outputs": [
    {
     "name": "stdout",
     "output_type": "stream",
     "text": [
      "\n",
      "Pconv = 7.21 kW\n",
      "===============\n"
     ]
    }
   ],
   "source": [
    "Pconv = (1-s) * Pag\n",
    "print('''\n",
    "Pconv = {:.2f} kW\n",
    "==============='''.format(Pconv/1000))"
   ]
  },
  {
   "cell_type": "markdown",
   "metadata": {},
   "source": [
    "#### (h)\n",
    "The synchronous speed of this motor is:\n",
    "\n",
    "$$n_\\text{sync} = \\frac{120f_{se}}{P}$$"
   ]
  },
  {
   "cell_type": "code",
   "execution_count": 13,
   "metadata": {},
   "outputs": [
    {
     "name": "stdout",
     "output_type": "stream",
     "text": [
      "\n",
      "n_sync = 1800 r/min\n",
      "w_sync = 188.5 rad/s\n"
     ]
    }
   ],
   "source": [
    "n_sync = 120*fse / p\n",
    "w_sync = n_sync * (2*pi/60.0)\n",
    "print('''\n",
    "n_sync = {:.0f} r/min\n",
    "w_sync = {:.1f} rad/s'''.format(n_sync, w_sync))"
   ]
  },
  {
   "cell_type": "markdown",
   "metadata": {},
   "source": [
    "Therefore the induced torque in the motor is:\n",
    "\n",
    "$$\\tau_\\text{ind} = \\frac{P_{AG}}{\\omega_\\text{sync}}$$"
   ]
  },
  {
   "cell_type": "code",
   "execution_count": 14,
   "metadata": {},
   "outputs": [
    {
     "name": "stdout",
     "output_type": "stream",
     "text": [
      "\n",
      "tau_ind = 39.1 Nm\n",
      "=================\n"
     ]
    }
   ],
   "source": [
    "tau_ind = Pag / w_sync\n",
    "print('''\n",
    "tau_ind = {:.1f} Nm\n",
    "================='''.format(tau_ind))"
   ]
  },
  {
   "cell_type": "markdown",
   "metadata": {},
   "source": [
    "#### (i)\n",
    "The output power of this motor is:\n",
    "\n",
    "$$P_\\text{out} = P_\\text{conv} - P_\\text{f\\&w} - P_\\text{core} - P_\\text{misc}$$\n",
    "\n",
    "*As you can see we are now taking into account the $P_\\text{core}$ losses again which we ignored earlier on the electrical side.*"
   ]
  },
  {
   "cell_type": "code",
   "execution_count": 15,
   "metadata": {},
   "outputs": [
    {
     "name": "stdout",
     "output_type": "stream",
     "text": [
      "Pout = 6.86 kW\n"
     ]
    }
   ],
   "source": [
    "Pout = Pconv - Pf_w - Pcore - Pmisc\n",
    "print('Pout = {:.2f} kW'.format(Pout/1000))"
   ]
  },
  {
   "cell_type": "markdown",
   "metadata": {},
   "source": [
    "The output speed is:\n",
    "\n",
    "$$n_m = (1-s)n_\\text{sync}$$"
   ]
  },
  {
   "cell_type": "code",
   "execution_count": 16,
   "metadata": {},
   "outputs": [
    {
     "name": "stdout",
     "output_type": "stream",
     "text": [
      "n_m = 1764 r/min\n"
     ]
    }
   ],
   "source": [
    "n_m = (1-s) * n_sync\n",
    "print('n_m = {:.0f} r/min'.format(n_m))"
   ]
  },
  {
   "cell_type": "markdown",
   "metadata": {},
   "source": [
    "Therefore the load torque is:\n",
    "\n",
    "$$\\tau_\\text{load} = \\frac{P_\\text{out}}{\\omega_m}$$"
   ]
  },
  {
   "cell_type": "code",
   "execution_count": 17,
   "metadata": {},
   "outputs": [
    {
     "name": "stdout",
     "output_type": "stream",
     "text": [
      "\n",
      "tau_load = 37.2 Nm\n",
      "==================\n"
     ]
    }
   ],
   "source": [
    "w_m = n_m * (2*pi/60.0)\n",
    "tau_load = Pout / w_m\n",
    "print('''\n",
    "tau_load = {:.1f} Nm\n",
    "=================='''.format(tau_load))"
   ]
  },
  {
   "cell_type": "markdown",
   "metadata": {},
   "source": [
    "#### (j)\n",
    "The overall efficiency is:\n",
    "\n",
    "$$\\eta = \\frac{P_\\text{out}}{P_\\text{in}} = \\frac{P_\\text{out}}{3V_\\phi I_A\\cos\\theta}$$"
   ]
  },
  {
   "cell_type": "code",
   "execution_count": 18,
   "metadata": {},
   "outputs": [
    {
     "name": "stdout",
     "output_type": "stream",
     "text": [
      "\n",
      "η = 90.5 %\n",
      "==========\n"
     ]
    }
   ],
   "source": [
    "eta = Pout / (3*V_phase*abs(Ia)*cos(Ia_angle))\n",
    "print('''\n",
    "η = {:.1f} %\n",
    "=========='''.format(eta*100))"
   ]
  },
  {
   "cell_type": "markdown",
   "metadata": {},
   "source": [
    "#### (k)\n",
    "The motor speed in revolutions per minute is (these values were already calculated in part **(i)**):"
   ]
  },
  {
   "cell_type": "code",
   "execution_count": 19,
   "metadata": {},
   "outputs": [
    {
     "name": "stdout",
     "output_type": "stream",
     "text": [
      "n_m = 1764 r/min\n"
     ]
    }
   ],
   "source": [
    "print('n_m = {:.0f} r/min'.format(n_m))"
   ]
  },
  {
   "cell_type": "markdown",
   "metadata": {},
   "source": [
    "The motor speed in radians per second is:"
   ]
  },
  {
   "cell_type": "code",
   "execution_count": 20,
   "metadata": {},
   "outputs": [
    {
     "name": "stdout",
     "output_type": "stream",
     "text": [
      "\n",
      "w_m = 184.7 rad/s\n",
      "=================\n"
     ]
    }
   ],
   "source": [
    "print('''\n",
    "w_m = {:.1f} rad/s\n",
    "================='''.format(w_m))"
   ]
  },
  {
   "cell_type": "markdown",
   "metadata": {},
   "source": [
    "#### (l)\n",
    "The power flow diagram can be calculated from:\n",
    "\n",
    "$$P_\\text{out} = P_\\text{in} - P_\\text{SCL} - P_\\text{RCL} - P_\\text{f\\&w} - P_\\text{core} - P_\\text{misc}$$\n",
    "\n",
    "This means we still need to calulate $P_\\text{in}$ and $P_\\text{RCL}$:"
   ]
  },
  {
   "cell_type": "code",
   "execution_count": 21,
   "metadata": {},
   "outputs": [],
   "source": [
    "Pin = sqrt(3)* V * abs(Il) * PF\n",
    "Prcl = 3 * abs(Ia)**2 * R2"
   ]
  },
  {
   "cell_type": "markdown",
   "metadata": {},
   "source": [
    "The diagram can then be created:"
   ]
  },
  {
   "cell_type": "code",
   "execution_count": 22,
   "metadata": {},
   "outputs": [
    {
     "data": {
      "application/javascript": [
       "/* Put everything inside the global mpl namespace */\n",
       "/* global mpl */\n",
       "window.mpl = {};\n",
       "\n",
       "mpl.get_websocket_type = function () {\n",
       "    if (typeof WebSocket !== 'undefined') {\n",
       "        return WebSocket;\n",
       "    } else if (typeof MozWebSocket !== 'undefined') {\n",
       "        return MozWebSocket;\n",
       "    } else {\n",
       "        alert(\n",
       "            'Your browser does not have WebSocket support. ' +\n",
       "                'Please try Chrome, Safari or Firefox ≥ 6. ' +\n",
       "                'Firefox 4 and 5 are also supported but you ' +\n",
       "                'have to enable WebSockets in about:config.'\n",
       "        );\n",
       "    }\n",
       "};\n",
       "\n",
       "mpl.figure = function (figure_id, websocket, ondownload, parent_element) {\n",
       "    this.id = figure_id;\n",
       "\n",
       "    this.ws = websocket;\n",
       "\n",
       "    this.supports_binary = this.ws.binaryType !== undefined;\n",
       "\n",
       "    if (!this.supports_binary) {\n",
       "        var warnings = document.getElementById('mpl-warnings');\n",
       "        if (warnings) {\n",
       "            warnings.style.display = 'block';\n",
       "            warnings.textContent =\n",
       "                'This browser does not support binary websocket messages. ' +\n",
       "                'Performance may be slow.';\n",
       "        }\n",
       "    }\n",
       "\n",
       "    this.imageObj = new Image();\n",
       "\n",
       "    this.context = undefined;\n",
       "    this.message = undefined;\n",
       "    this.canvas = undefined;\n",
       "    this.rubberband_canvas = undefined;\n",
       "    this.rubberband_context = undefined;\n",
       "    this.format_dropdown = undefined;\n",
       "\n",
       "    this.image_mode = 'full';\n",
       "\n",
       "    this.root = document.createElement('div');\n",
       "    this.root.setAttribute('style', 'display: inline-block');\n",
       "    this._root_extra_style(this.root);\n",
       "\n",
       "    parent_element.appendChild(this.root);\n",
       "\n",
       "    this._init_header(this);\n",
       "    this._init_canvas(this);\n",
       "    this._init_toolbar(this);\n",
       "\n",
       "    var fig = this;\n",
       "\n",
       "    this.waiting = false;\n",
       "\n",
       "    this.ws.onopen = function () {\n",
       "        fig.send_message('supports_binary', { value: fig.supports_binary });\n",
       "        fig.send_message('send_image_mode', {});\n",
       "        if (mpl.ratio !== 1) {\n",
       "            fig.send_message('set_dpi_ratio', { dpi_ratio: mpl.ratio });\n",
       "        }\n",
       "        fig.send_message('refresh', {});\n",
       "    };\n",
       "\n",
       "    this.imageObj.onload = function () {\n",
       "        if (fig.image_mode === 'full') {\n",
       "            // Full images could contain transparency (where diff images\n",
       "            // almost always do), so we need to clear the canvas so that\n",
       "            // there is no ghosting.\n",
       "            fig.context.clearRect(0, 0, fig.canvas.width, fig.canvas.height);\n",
       "        }\n",
       "        fig.context.drawImage(fig.imageObj, 0, 0);\n",
       "    };\n",
       "\n",
       "    this.imageObj.onunload = function () {\n",
       "        fig.ws.close();\n",
       "    };\n",
       "\n",
       "    this.ws.onmessage = this._make_on_message_function(this);\n",
       "\n",
       "    this.ondownload = ondownload;\n",
       "};\n",
       "\n",
       "mpl.figure.prototype._init_header = function () {\n",
       "    var titlebar = document.createElement('div');\n",
       "    titlebar.classList =\n",
       "        'ui-dialog-titlebar ui-widget-header ui-corner-all ui-helper-clearfix';\n",
       "    var titletext = document.createElement('div');\n",
       "    titletext.classList = 'ui-dialog-title';\n",
       "    titletext.setAttribute(\n",
       "        'style',\n",
       "        'width: 100%; text-align: center; padding: 3px;'\n",
       "    );\n",
       "    titlebar.appendChild(titletext);\n",
       "    this.root.appendChild(titlebar);\n",
       "    this.header = titletext;\n",
       "};\n",
       "\n",
       "mpl.figure.prototype._canvas_extra_style = function (_canvas_div) {};\n",
       "\n",
       "mpl.figure.prototype._root_extra_style = function (_canvas_div) {};\n",
       "\n",
       "mpl.figure.prototype._init_canvas = function () {\n",
       "    var fig = this;\n",
       "\n",
       "    var canvas_div = (this.canvas_div = document.createElement('div'));\n",
       "    canvas_div.setAttribute(\n",
       "        'style',\n",
       "        'border: 1px solid #ddd;' +\n",
       "            'box-sizing: content-box;' +\n",
       "            'clear: both;' +\n",
       "            'min-height: 1px;' +\n",
       "            'min-width: 1px;' +\n",
       "            'outline: 0;' +\n",
       "            'overflow: hidden;' +\n",
       "            'position: relative;' +\n",
       "            'resize: both;'\n",
       "    );\n",
       "\n",
       "    function on_keyboard_event_closure(name) {\n",
       "        return function (event) {\n",
       "            return fig.key_event(event, name);\n",
       "        };\n",
       "    }\n",
       "\n",
       "    canvas_div.addEventListener(\n",
       "        'keydown',\n",
       "        on_keyboard_event_closure('key_press')\n",
       "    );\n",
       "    canvas_div.addEventListener(\n",
       "        'keyup',\n",
       "        on_keyboard_event_closure('key_release')\n",
       "    );\n",
       "\n",
       "    this._canvas_extra_style(canvas_div);\n",
       "    this.root.appendChild(canvas_div);\n",
       "\n",
       "    var canvas = (this.canvas = document.createElement('canvas'));\n",
       "    canvas.classList.add('mpl-canvas');\n",
       "    canvas.setAttribute('style', 'box-sizing: content-box;');\n",
       "\n",
       "    this.context = canvas.getContext('2d');\n",
       "\n",
       "    var backingStore =\n",
       "        this.context.backingStorePixelRatio ||\n",
       "        this.context.webkitBackingStorePixelRatio ||\n",
       "        this.context.mozBackingStorePixelRatio ||\n",
       "        this.context.msBackingStorePixelRatio ||\n",
       "        this.context.oBackingStorePixelRatio ||\n",
       "        this.context.backingStorePixelRatio ||\n",
       "        1;\n",
       "\n",
       "    mpl.ratio = (window.devicePixelRatio || 1) / backingStore;\n",
       "\n",
       "    var rubberband_canvas = (this.rubberband_canvas = document.createElement(\n",
       "        'canvas'\n",
       "    ));\n",
       "    rubberband_canvas.setAttribute(\n",
       "        'style',\n",
       "        'box-sizing: content-box; position: absolute; left: 0; top: 0; z-index: 1;'\n",
       "    );\n",
       "\n",
       "    var resizeObserver = new ResizeObserver(function (entries) {\n",
       "        var nentries = entries.length;\n",
       "        for (var i = 0; i < nentries; i++) {\n",
       "            var entry = entries[i];\n",
       "            var width, height;\n",
       "            if (entry.contentBoxSize) {\n",
       "                width = entry.contentBoxSize.inlineSize;\n",
       "                height = entry.contentBoxSize.blockSize;\n",
       "            } else {\n",
       "                width = entry.contentRect.width;\n",
       "                height = entry.contentRect.height;\n",
       "            }\n",
       "\n",
       "            // Keep the size of the canvas and rubber band canvas in sync with\n",
       "            // the canvas container.\n",
       "            canvas.setAttribute('width', width * mpl.ratio);\n",
       "            canvas.setAttribute('height', height * mpl.ratio);\n",
       "            canvas.setAttribute(\n",
       "                'style',\n",
       "                'width: ' + width + 'px; height: ' + height + 'px;'\n",
       "            );\n",
       "\n",
       "            rubberband_canvas.setAttribute('width', width);\n",
       "            rubberband_canvas.setAttribute('height', height);\n",
       "\n",
       "            // And update the size in Python. We ignore the initial 0/0 size\n",
       "            // that occurs as the element is placed into the DOM, which should\n",
       "            // otherwise not happen due to the minimum size styling.\n",
       "            if (width != 0 && height != 0) {\n",
       "                fig.request_resize(width, height);\n",
       "            }\n",
       "        }\n",
       "    });\n",
       "    resizeObserver.observe(canvas_div);\n",
       "\n",
       "    function on_mouse_event_closure(name) {\n",
       "        return function (event) {\n",
       "            return fig.mouse_event(event, name);\n",
       "        };\n",
       "    }\n",
       "\n",
       "    rubberband_canvas.addEventListener(\n",
       "        'mousedown',\n",
       "        on_mouse_event_closure('button_press')\n",
       "    );\n",
       "    rubberband_canvas.addEventListener(\n",
       "        'mouseup',\n",
       "        on_mouse_event_closure('button_release')\n",
       "    );\n",
       "    // Throttle sequential mouse events to 1 every 20ms.\n",
       "    rubberband_canvas.addEventListener(\n",
       "        'mousemove',\n",
       "        on_mouse_event_closure('motion_notify')\n",
       "    );\n",
       "\n",
       "    rubberband_canvas.addEventListener(\n",
       "        'mouseenter',\n",
       "        on_mouse_event_closure('figure_enter')\n",
       "    );\n",
       "    rubberband_canvas.addEventListener(\n",
       "        'mouseleave',\n",
       "        on_mouse_event_closure('figure_leave')\n",
       "    );\n",
       "\n",
       "    canvas_div.addEventListener('wheel', function (event) {\n",
       "        if (event.deltaY < 0) {\n",
       "            event.step = 1;\n",
       "        } else {\n",
       "            event.step = -1;\n",
       "        }\n",
       "        on_mouse_event_closure('scroll')(event);\n",
       "    });\n",
       "\n",
       "    canvas_div.appendChild(canvas);\n",
       "    canvas_div.appendChild(rubberband_canvas);\n",
       "\n",
       "    this.rubberband_context = rubberband_canvas.getContext('2d');\n",
       "    this.rubberband_context.strokeStyle = '#000000';\n",
       "\n",
       "    this._resize_canvas = function (width, height, forward) {\n",
       "        if (forward) {\n",
       "            canvas_div.style.width = width + 'px';\n",
       "            canvas_div.style.height = height + 'px';\n",
       "        }\n",
       "    };\n",
       "\n",
       "    // Disable right mouse context menu.\n",
       "    this.rubberband_canvas.addEventListener('contextmenu', function (_e) {\n",
       "        return false;\n",
       "    });\n",
       "\n",
       "    function set_focus() {\n",
       "        canvas.focus();\n",
       "        canvas_div.focus();\n",
       "    }\n",
       "\n",
       "    window.setTimeout(set_focus, 100);\n",
       "};\n",
       "\n",
       "mpl.figure.prototype._init_toolbar = function () {\n",
       "    var fig = this;\n",
       "\n",
       "    var toolbar = document.createElement('div');\n",
       "    toolbar.classList = 'mpl-toolbar';\n",
       "    this.root.appendChild(toolbar);\n",
       "\n",
       "    function on_click_closure(name) {\n",
       "        return function (_event) {\n",
       "            return fig.toolbar_button_onclick(name);\n",
       "        };\n",
       "    }\n",
       "\n",
       "    function on_mouseover_closure(tooltip) {\n",
       "        return function (event) {\n",
       "            if (!event.currentTarget.disabled) {\n",
       "                return fig.toolbar_button_onmouseover(tooltip);\n",
       "            }\n",
       "        };\n",
       "    }\n",
       "\n",
       "    fig.buttons = {};\n",
       "    var buttonGroup = document.createElement('div');\n",
       "    buttonGroup.classList = 'mpl-button-group';\n",
       "    for (var toolbar_ind in mpl.toolbar_items) {\n",
       "        var name = mpl.toolbar_items[toolbar_ind][0];\n",
       "        var tooltip = mpl.toolbar_items[toolbar_ind][1];\n",
       "        var image = mpl.toolbar_items[toolbar_ind][2];\n",
       "        var method_name = mpl.toolbar_items[toolbar_ind][3];\n",
       "\n",
       "        if (!name) {\n",
       "            /* Instead of a spacer, we start a new button group. */\n",
       "            if (buttonGroup.hasChildNodes()) {\n",
       "                toolbar.appendChild(buttonGroup);\n",
       "            }\n",
       "            buttonGroup = document.createElement('div');\n",
       "            buttonGroup.classList = 'mpl-button-group';\n",
       "            continue;\n",
       "        }\n",
       "\n",
       "        var button = (fig.buttons[name] = document.createElement('button'));\n",
       "        button.classList = 'mpl-widget';\n",
       "        button.setAttribute('role', 'button');\n",
       "        button.setAttribute('aria-disabled', 'false');\n",
       "        button.addEventListener('click', on_click_closure(method_name));\n",
       "        button.addEventListener('mouseover', on_mouseover_closure(tooltip));\n",
       "\n",
       "        var icon_img = document.createElement('img');\n",
       "        icon_img.src = '_images/' + image + '.png';\n",
       "        icon_img.srcset = '_images/' + image + '_large.png 2x';\n",
       "        icon_img.alt = tooltip;\n",
       "        button.appendChild(icon_img);\n",
       "\n",
       "        buttonGroup.appendChild(button);\n",
       "    }\n",
       "\n",
       "    if (buttonGroup.hasChildNodes()) {\n",
       "        toolbar.appendChild(buttonGroup);\n",
       "    }\n",
       "\n",
       "    var fmt_picker = document.createElement('select');\n",
       "    fmt_picker.classList = 'mpl-widget';\n",
       "    toolbar.appendChild(fmt_picker);\n",
       "    this.format_dropdown = fmt_picker;\n",
       "\n",
       "    for (var ind in mpl.extensions) {\n",
       "        var fmt = mpl.extensions[ind];\n",
       "        var option = document.createElement('option');\n",
       "        option.selected = fmt === mpl.default_extension;\n",
       "        option.innerHTML = fmt;\n",
       "        fmt_picker.appendChild(option);\n",
       "    }\n",
       "\n",
       "    var status_bar = document.createElement('span');\n",
       "    status_bar.classList = 'mpl-message';\n",
       "    toolbar.appendChild(status_bar);\n",
       "    this.message = status_bar;\n",
       "};\n",
       "\n",
       "mpl.figure.prototype.request_resize = function (x_pixels, y_pixels) {\n",
       "    // Request matplotlib to resize the figure. Matplotlib will then trigger a resize in the client,\n",
       "    // which will in turn request a refresh of the image.\n",
       "    this.send_message('resize', { width: x_pixels, height: y_pixels });\n",
       "};\n",
       "\n",
       "mpl.figure.prototype.send_message = function (type, properties) {\n",
       "    properties['type'] = type;\n",
       "    properties['figure_id'] = this.id;\n",
       "    this.ws.send(JSON.stringify(properties));\n",
       "};\n",
       "\n",
       "mpl.figure.prototype.send_draw_message = function () {\n",
       "    if (!this.waiting) {\n",
       "        this.waiting = true;\n",
       "        this.ws.send(JSON.stringify({ type: 'draw', figure_id: this.id }));\n",
       "    }\n",
       "};\n",
       "\n",
       "mpl.figure.prototype.handle_save = function (fig, _msg) {\n",
       "    var format_dropdown = fig.format_dropdown;\n",
       "    var format = format_dropdown.options[format_dropdown.selectedIndex].value;\n",
       "    fig.ondownload(fig, format);\n",
       "};\n",
       "\n",
       "mpl.figure.prototype.handle_resize = function (fig, msg) {\n",
       "    var size = msg['size'];\n",
       "    if (size[0] !== fig.canvas.width || size[1] !== fig.canvas.height) {\n",
       "        fig._resize_canvas(size[0], size[1], msg['forward']);\n",
       "        fig.send_message('refresh', {});\n",
       "    }\n",
       "};\n",
       "\n",
       "mpl.figure.prototype.handle_rubberband = function (fig, msg) {\n",
       "    var x0 = msg['x0'] / mpl.ratio;\n",
       "    var y0 = (fig.canvas.height - msg['y0']) / mpl.ratio;\n",
       "    var x1 = msg['x1'] / mpl.ratio;\n",
       "    var y1 = (fig.canvas.height - msg['y1']) / mpl.ratio;\n",
       "    x0 = Math.floor(x0) + 0.5;\n",
       "    y0 = Math.floor(y0) + 0.5;\n",
       "    x1 = Math.floor(x1) + 0.5;\n",
       "    y1 = Math.floor(y1) + 0.5;\n",
       "    var min_x = Math.min(x0, x1);\n",
       "    var min_y = Math.min(y0, y1);\n",
       "    var width = Math.abs(x1 - x0);\n",
       "    var height = Math.abs(y1 - y0);\n",
       "\n",
       "    fig.rubberband_context.clearRect(\n",
       "        0,\n",
       "        0,\n",
       "        fig.canvas.width / mpl.ratio,\n",
       "        fig.canvas.height / mpl.ratio\n",
       "    );\n",
       "\n",
       "    fig.rubberband_context.strokeRect(min_x, min_y, width, height);\n",
       "};\n",
       "\n",
       "mpl.figure.prototype.handle_figure_label = function (fig, msg) {\n",
       "    // Updates the figure title.\n",
       "    fig.header.textContent = msg['label'];\n",
       "};\n",
       "\n",
       "mpl.figure.prototype.handle_cursor = function (fig, msg) {\n",
       "    var cursor = msg['cursor'];\n",
       "    switch (cursor) {\n",
       "        case 0:\n",
       "            cursor = 'pointer';\n",
       "            break;\n",
       "        case 1:\n",
       "            cursor = 'default';\n",
       "            break;\n",
       "        case 2:\n",
       "            cursor = 'crosshair';\n",
       "            break;\n",
       "        case 3:\n",
       "            cursor = 'move';\n",
       "            break;\n",
       "    }\n",
       "    fig.rubberband_canvas.style.cursor = cursor;\n",
       "};\n",
       "\n",
       "mpl.figure.prototype.handle_message = function (fig, msg) {\n",
       "    fig.message.textContent = msg['message'];\n",
       "};\n",
       "\n",
       "mpl.figure.prototype.handle_draw = function (fig, _msg) {\n",
       "    // Request the server to send over a new figure.\n",
       "    fig.send_draw_message();\n",
       "};\n",
       "\n",
       "mpl.figure.prototype.handle_image_mode = function (fig, msg) {\n",
       "    fig.image_mode = msg['mode'];\n",
       "};\n",
       "\n",
       "mpl.figure.prototype.handle_history_buttons = function (fig, msg) {\n",
       "    for (var key in msg) {\n",
       "        if (!(key in fig.buttons)) {\n",
       "            continue;\n",
       "        }\n",
       "        fig.buttons[key].disabled = !msg[key];\n",
       "        fig.buttons[key].setAttribute('aria-disabled', !msg[key]);\n",
       "    }\n",
       "};\n",
       "\n",
       "mpl.figure.prototype.handle_navigate_mode = function (fig, msg) {\n",
       "    if (msg['mode'] === 'PAN') {\n",
       "        fig.buttons['Pan'].classList.add('active');\n",
       "        fig.buttons['Zoom'].classList.remove('active');\n",
       "    } else if (msg['mode'] === 'ZOOM') {\n",
       "        fig.buttons['Pan'].classList.remove('active');\n",
       "        fig.buttons['Zoom'].classList.add('active');\n",
       "    } else {\n",
       "        fig.buttons['Pan'].classList.remove('active');\n",
       "        fig.buttons['Zoom'].classList.remove('active');\n",
       "    }\n",
       "};\n",
       "\n",
       "mpl.figure.prototype.updated_canvas_event = function () {\n",
       "    // Called whenever the canvas gets updated.\n",
       "    this.send_message('ack', {});\n",
       "};\n",
       "\n",
       "// A function to construct a web socket function for onmessage handling.\n",
       "// Called in the figure constructor.\n",
       "mpl.figure.prototype._make_on_message_function = function (fig) {\n",
       "    return function socket_on_message(evt) {\n",
       "        if (evt.data instanceof Blob) {\n",
       "            /* FIXME: We get \"Resource interpreted as Image but\n",
       "             * transferred with MIME type text/plain:\" errors on\n",
       "             * Chrome.  But how to set the MIME type?  It doesn't seem\n",
       "             * to be part of the websocket stream */\n",
       "            evt.data.type = 'image/png';\n",
       "\n",
       "            /* Free the memory for the previous frames */\n",
       "            if (fig.imageObj.src) {\n",
       "                (window.URL || window.webkitURL).revokeObjectURL(\n",
       "                    fig.imageObj.src\n",
       "                );\n",
       "            }\n",
       "\n",
       "            fig.imageObj.src = (window.URL || window.webkitURL).createObjectURL(\n",
       "                evt.data\n",
       "            );\n",
       "            fig.updated_canvas_event();\n",
       "            fig.waiting = false;\n",
       "            return;\n",
       "        } else if (\n",
       "            typeof evt.data === 'string' &&\n",
       "            evt.data.slice(0, 21) === 'data:image/png;base64'\n",
       "        ) {\n",
       "            fig.imageObj.src = evt.data;\n",
       "            fig.updated_canvas_event();\n",
       "            fig.waiting = false;\n",
       "            return;\n",
       "        }\n",
       "\n",
       "        var msg = JSON.parse(evt.data);\n",
       "        var msg_type = msg['type'];\n",
       "\n",
       "        // Call the  \"handle_{type}\" callback, which takes\n",
       "        // the figure and JSON message as its only arguments.\n",
       "        try {\n",
       "            var callback = fig['handle_' + msg_type];\n",
       "        } catch (e) {\n",
       "            console.log(\n",
       "                \"No handler for the '\" + msg_type + \"' message type: \",\n",
       "                msg\n",
       "            );\n",
       "            return;\n",
       "        }\n",
       "\n",
       "        if (callback) {\n",
       "            try {\n",
       "                // console.log(\"Handling '\" + msg_type + \"' message: \", msg);\n",
       "                callback(fig, msg);\n",
       "            } catch (e) {\n",
       "                console.log(\n",
       "                    \"Exception inside the 'handler_\" + msg_type + \"' callback:\",\n",
       "                    e,\n",
       "                    e.stack,\n",
       "                    msg\n",
       "                );\n",
       "            }\n",
       "        }\n",
       "    };\n",
       "};\n",
       "\n",
       "// from http://stackoverflow.com/questions/1114465/getting-mouse-location-in-canvas\n",
       "mpl.findpos = function (e) {\n",
       "    //this section is from http://www.quirksmode.org/js/events_properties.html\n",
       "    var targ;\n",
       "    if (!e) {\n",
       "        e = window.event;\n",
       "    }\n",
       "    if (e.target) {\n",
       "        targ = e.target;\n",
       "    } else if (e.srcElement) {\n",
       "        targ = e.srcElement;\n",
       "    }\n",
       "    if (targ.nodeType === 3) {\n",
       "        // defeat Safari bug\n",
       "        targ = targ.parentNode;\n",
       "    }\n",
       "\n",
       "    // pageX,Y are the mouse positions relative to the document\n",
       "    var boundingRect = targ.getBoundingClientRect();\n",
       "    var x = e.pageX - (boundingRect.left + document.body.scrollLeft);\n",
       "    var y = e.pageY - (boundingRect.top + document.body.scrollTop);\n",
       "\n",
       "    return { x: x, y: y };\n",
       "};\n",
       "\n",
       "/*\n",
       " * return a copy of an object with only non-object keys\n",
       " * we need this to avoid circular references\n",
       " * http://stackoverflow.com/a/24161582/3208463\n",
       " */\n",
       "function simpleKeys(original) {\n",
       "    return Object.keys(original).reduce(function (obj, key) {\n",
       "        if (typeof original[key] !== 'object') {\n",
       "            obj[key] = original[key];\n",
       "        }\n",
       "        return obj;\n",
       "    }, {});\n",
       "}\n",
       "\n",
       "mpl.figure.prototype.mouse_event = function (event, name) {\n",
       "    var canvas_pos = mpl.findpos(event);\n",
       "\n",
       "    if (name === 'button_press') {\n",
       "        this.canvas.focus();\n",
       "        this.canvas_div.focus();\n",
       "    }\n",
       "\n",
       "    var x = canvas_pos.x * mpl.ratio;\n",
       "    var y = canvas_pos.y * mpl.ratio;\n",
       "\n",
       "    this.send_message(name, {\n",
       "        x: x,\n",
       "        y: y,\n",
       "        button: event.button,\n",
       "        step: event.step,\n",
       "        guiEvent: simpleKeys(event),\n",
       "    });\n",
       "\n",
       "    /* This prevents the web browser from automatically changing to\n",
       "     * the text insertion cursor when the button is pressed.  We want\n",
       "     * to control all of the cursor setting manually through the\n",
       "     * 'cursor' event from matplotlib */\n",
       "    event.preventDefault();\n",
       "    return false;\n",
       "};\n",
       "\n",
       "mpl.figure.prototype._key_event_extra = function (_event, _name) {\n",
       "    // Handle any extra behaviour associated with a key event\n",
       "};\n",
       "\n",
       "mpl.figure.prototype.key_event = function (event, name) {\n",
       "    // Prevent repeat events\n",
       "    if (name === 'key_press') {\n",
       "        if (event.which === this._key) {\n",
       "            return;\n",
       "        } else {\n",
       "            this._key = event.which;\n",
       "        }\n",
       "    }\n",
       "    if (name === 'key_release') {\n",
       "        this._key = null;\n",
       "    }\n",
       "\n",
       "    var value = '';\n",
       "    if (event.ctrlKey && event.which !== 17) {\n",
       "        value += 'ctrl+';\n",
       "    }\n",
       "    if (event.altKey && event.which !== 18) {\n",
       "        value += 'alt+';\n",
       "    }\n",
       "    if (event.shiftKey && event.which !== 16) {\n",
       "        value += 'shift+';\n",
       "    }\n",
       "\n",
       "    value += 'k';\n",
       "    value += event.which.toString();\n",
       "\n",
       "    this._key_event_extra(event, name);\n",
       "\n",
       "    this.send_message(name, { key: value, guiEvent: simpleKeys(event) });\n",
       "    return false;\n",
       "};\n",
       "\n",
       "mpl.figure.prototype.toolbar_button_onclick = function (name) {\n",
       "    if (name === 'download') {\n",
       "        this.handle_save(this, null);\n",
       "    } else {\n",
       "        this.send_message('toolbar_button', { name: name });\n",
       "    }\n",
       "};\n",
       "\n",
       "mpl.figure.prototype.toolbar_button_onmouseover = function (tooltip) {\n",
       "    this.message.textContent = tooltip;\n",
       "};\n",
       "mpl.toolbar_items = [[\"Home\", \"Reset original view\", \"fa fa-home icon-home\", \"home\"], [\"Back\", \"Back to previous view\", \"fa fa-arrow-left icon-arrow-left\", \"back\"], [\"Forward\", \"Forward to next view\", \"fa fa-arrow-right icon-arrow-right\", \"forward\"], [\"\", \"\", \"\", \"\"], [\"Pan\", \"Left button pans, Right button zooms\\nx/y fixes axis, CTRL fixes aspect\", \"fa fa-arrows icon-move\", \"pan\"], [\"Zoom\", \"Zoom to rectangle\\nx/y fixes axis, CTRL fixes aspect\", \"fa fa-square-o icon-check-empty\", \"zoom\"], [\"\", \"\", \"\", \"\"], [\"Download\", \"Download plot\", \"fa fa-floppy-o icon-save\", \"download\"]];\n",
       "\n",
       "mpl.extensions = [\"eps\", \"jpeg\", \"pdf\", \"png\", \"ps\", \"raw\", \"svg\", \"tif\"];\n",
       "\n",
       "mpl.default_extension = \"png\";/* global mpl */\n",
       "\n",
       "var comm_websocket_adapter = function (comm) {\n",
       "    // Create a \"websocket\"-like object which calls the given IPython comm\n",
       "    // object with the appropriate methods. Currently this is a non binary\n",
       "    // socket, so there is still some room for performance tuning.\n",
       "    var ws = {};\n",
       "\n",
       "    ws.close = function () {\n",
       "        comm.close();\n",
       "    };\n",
       "    ws.send = function (m) {\n",
       "        //console.log('sending', m);\n",
       "        comm.send(m);\n",
       "    };\n",
       "    // Register the callback with on_msg.\n",
       "    comm.on_msg(function (msg) {\n",
       "        //console.log('receiving', msg['content']['data'], msg);\n",
       "        // Pass the mpl event to the overridden (by mpl) onmessage function.\n",
       "        ws.onmessage(msg['content']['data']);\n",
       "    });\n",
       "    return ws;\n",
       "};\n",
       "\n",
       "mpl.mpl_figure_comm = function (comm, msg) {\n",
       "    // This is the function which gets called when the mpl process\n",
       "    // starts-up an IPython Comm through the \"matplotlib\" channel.\n",
       "\n",
       "    var id = msg.content.data.id;\n",
       "    // Get hold of the div created by the display call when the Comm\n",
       "    // socket was opened in Python.\n",
       "    var element = document.getElementById(id);\n",
       "    var ws_proxy = comm_websocket_adapter(comm);\n",
       "\n",
       "    function ondownload(figure, _format) {\n",
       "        window.open(figure.canvas.toDataURL());\n",
       "    }\n",
       "\n",
       "    var fig = new mpl.figure(id, ws_proxy, ondownload, element);\n",
       "\n",
       "    // Call onopen now - mpl needs it, as it is assuming we've passed it a real\n",
       "    // web socket which is closed, not our websocket->open comm proxy.\n",
       "    ws_proxy.onopen();\n",
       "\n",
       "    fig.parent_element = element;\n",
       "    fig.cell_info = mpl.find_output_cell(\"<div id='\" + id + \"'></div>\");\n",
       "    if (!fig.cell_info) {\n",
       "        console.error('Failed to find cell for figure', id, fig);\n",
       "        return;\n",
       "    }\n",
       "};\n",
       "\n",
       "mpl.figure.prototype.handle_close = function (fig, msg) {\n",
       "    var width = fig.canvas.width / mpl.ratio;\n",
       "    fig.root.removeEventListener('remove', this._remove_fig_handler);\n",
       "\n",
       "    // Update the output cell to use the data from the current canvas.\n",
       "    fig.push_to_output();\n",
       "    var dataURL = fig.canvas.toDataURL();\n",
       "    // Re-enable the keyboard manager in IPython - without this line, in FF,\n",
       "    // the notebook keyboard shortcuts fail.\n",
       "    IPython.keyboard_manager.enable();\n",
       "    fig.parent_element.innerHTML =\n",
       "        '<img src=\"' + dataURL + '\" width=\"' + width + '\">';\n",
       "    fig.close_ws(fig, msg);\n",
       "};\n",
       "\n",
       "mpl.figure.prototype.close_ws = function (fig, msg) {\n",
       "    fig.send_message('closing', msg);\n",
       "    // fig.ws.close()\n",
       "};\n",
       "\n",
       "mpl.figure.prototype.push_to_output = function (_remove_interactive) {\n",
       "    // Turn the data on the canvas into data in the output cell.\n",
       "    var width = this.canvas.width / mpl.ratio;\n",
       "    var dataURL = this.canvas.toDataURL();\n",
       "    this.cell_info[1]['text/html'] =\n",
       "        '<img src=\"' + dataURL + '\" width=\"' + width + '\">';\n",
       "};\n",
       "\n",
       "mpl.figure.prototype.updated_canvas_event = function () {\n",
       "    // Tell IPython that the notebook contents must change.\n",
       "    IPython.notebook.set_dirty(true);\n",
       "    this.send_message('ack', {});\n",
       "    var fig = this;\n",
       "    // Wait a second, then push the new image to the DOM so\n",
       "    // that it is saved nicely (might be nice to debounce this).\n",
       "    setTimeout(function () {\n",
       "        fig.push_to_output();\n",
       "    }, 1000);\n",
       "};\n",
       "\n",
       "mpl.figure.prototype._init_toolbar = function () {\n",
       "    var fig = this;\n",
       "\n",
       "    var toolbar = document.createElement('div');\n",
       "    toolbar.classList = 'btn-toolbar';\n",
       "    this.root.appendChild(toolbar);\n",
       "\n",
       "    function on_click_closure(name) {\n",
       "        return function (_event) {\n",
       "            return fig.toolbar_button_onclick(name);\n",
       "        };\n",
       "    }\n",
       "\n",
       "    function on_mouseover_closure(tooltip) {\n",
       "        return function (event) {\n",
       "            if (!event.currentTarget.disabled) {\n",
       "                return fig.toolbar_button_onmouseover(tooltip);\n",
       "            }\n",
       "        };\n",
       "    }\n",
       "\n",
       "    fig.buttons = {};\n",
       "    var buttonGroup = document.createElement('div');\n",
       "    buttonGroup.classList = 'btn-group';\n",
       "    var button;\n",
       "    for (var toolbar_ind in mpl.toolbar_items) {\n",
       "        var name = mpl.toolbar_items[toolbar_ind][0];\n",
       "        var tooltip = mpl.toolbar_items[toolbar_ind][1];\n",
       "        var image = mpl.toolbar_items[toolbar_ind][2];\n",
       "        var method_name = mpl.toolbar_items[toolbar_ind][3];\n",
       "\n",
       "        if (!name) {\n",
       "            /* Instead of a spacer, we start a new button group. */\n",
       "            if (buttonGroup.hasChildNodes()) {\n",
       "                toolbar.appendChild(buttonGroup);\n",
       "            }\n",
       "            buttonGroup = document.createElement('div');\n",
       "            buttonGroup.classList = 'btn-group';\n",
       "            continue;\n",
       "        }\n",
       "\n",
       "        button = fig.buttons[name] = document.createElement('button');\n",
       "        button.classList = 'btn btn-default';\n",
       "        button.href = '#';\n",
       "        button.title = name;\n",
       "        button.innerHTML = '<i class=\"fa ' + image + ' fa-lg\"></i>';\n",
       "        button.addEventListener('click', on_click_closure(method_name));\n",
       "        button.addEventListener('mouseover', on_mouseover_closure(tooltip));\n",
       "        buttonGroup.appendChild(button);\n",
       "    }\n",
       "\n",
       "    if (buttonGroup.hasChildNodes()) {\n",
       "        toolbar.appendChild(buttonGroup);\n",
       "    }\n",
       "\n",
       "    // Add the status bar.\n",
       "    var status_bar = document.createElement('span');\n",
       "    status_bar.classList = 'mpl-message pull-right';\n",
       "    toolbar.appendChild(status_bar);\n",
       "    this.message = status_bar;\n",
       "\n",
       "    // Add the close button to the window.\n",
       "    var buttongrp = document.createElement('div');\n",
       "    buttongrp.classList = 'btn-group inline pull-right';\n",
       "    button = document.createElement('button');\n",
       "    button.classList = 'btn btn-mini btn-primary';\n",
       "    button.href = '#';\n",
       "    button.title = 'Stop Interaction';\n",
       "    button.innerHTML = '<i class=\"fa fa-power-off icon-remove icon-large\"></i>';\n",
       "    button.addEventListener('click', function (_evt) {\n",
       "        fig.handle_close(fig, {});\n",
       "    });\n",
       "    button.addEventListener(\n",
       "        'mouseover',\n",
       "        on_mouseover_closure('Stop Interaction')\n",
       "    );\n",
       "    buttongrp.appendChild(button);\n",
       "    var titlebar = this.root.querySelector('.ui-dialog-titlebar');\n",
       "    titlebar.insertBefore(buttongrp, titlebar.firstChild);\n",
       "};\n",
       "\n",
       "mpl.figure.prototype._remove_fig_handler = function () {\n",
       "    this.close_ws(this, {});\n",
       "};\n",
       "\n",
       "mpl.figure.prototype._root_extra_style = function (el) {\n",
       "    el.style.boxSizing = 'content-box'; // override notebook setting of border-box.\n",
       "    el.addEventListener('remove', this._remove_fig_handler);\n",
       "};\n",
       "\n",
       "mpl.figure.prototype._canvas_extra_style = function (el) {\n",
       "    // this is important to make the div 'focusable\n",
       "    el.setAttribute('tabindex', 0);\n",
       "    // reach out to IPython and tell the keyboard manager to turn it's self\n",
       "    // off when our div gets focus\n",
       "\n",
       "    // location in version 3\n",
       "    if (IPython.notebook.keyboard_manager) {\n",
       "        IPython.notebook.keyboard_manager.register_events(el);\n",
       "    } else {\n",
       "        // location in version 2\n",
       "        IPython.keyboard_manager.register_events(el);\n",
       "    }\n",
       "};\n",
       "\n",
       "mpl.figure.prototype._key_event_extra = function (event, _name) {\n",
       "    var manager = IPython.notebook.keyboard_manager;\n",
       "    if (!manager) {\n",
       "        manager = IPython.keyboard_manager;\n",
       "    }\n",
       "\n",
       "    // Check for shift+enter\n",
       "    if (event.shiftKey && event.which === 13) {\n",
       "        this.canvas_div.blur();\n",
       "        // select the cell after this one\n",
       "        var index = IPython.notebook.find_cell_index(this.cell_info[0]);\n",
       "        IPython.notebook.select(index + 1);\n",
       "    }\n",
       "};\n",
       "\n",
       "mpl.figure.prototype.handle_save = function (fig, _msg) {\n",
       "    fig.ondownload(fig, null);\n",
       "};\n",
       "\n",
       "mpl.find_output_cell = function (html_output) {\n",
       "    // Return the cell and output element which can be found *uniquely* in the notebook.\n",
       "    // Note - this is a bit hacky, but it is done because the \"notebook_saving.Notebook\"\n",
       "    // IPython event is triggered only after the cells have been serialised, which for\n",
       "    // our purposes (turning an active figure into a static one), is too late.\n",
       "    var cells = IPython.notebook.get_cells();\n",
       "    var ncells = cells.length;\n",
       "    for (var i = 0; i < ncells; i++) {\n",
       "        var cell = cells[i];\n",
       "        if (cell.cell_type === 'code') {\n",
       "            for (var j = 0; j < cell.output_area.outputs.length; j++) {\n",
       "                var data = cell.output_area.outputs[j];\n",
       "                if (data.data) {\n",
       "                    // IPython >= 3 moved mimebundle to data attribute of output\n",
       "                    data = data.data;\n",
       "                }\n",
       "                if (data['text/html'] === html_output) {\n",
       "                    return [cell, data, j];\n",
       "                }\n",
       "            }\n",
       "        }\n",
       "    }\n",
       "};\n",
       "\n",
       "// Register the function which deals with the matplotlib target/channel.\n",
       "// The kernel may be null if the page has been refreshed.\n",
       "if (IPython.notebook.kernel !== null) {\n",
       "    IPython.notebook.kernel.comm_manager.register_target(\n",
       "        'matplotlib',\n",
       "        mpl.mpl_figure_comm\n",
       "    );\n",
       "}\n"
      ],
      "text/plain": [
       "<IPython.core.display.Javascript object>"
      ]
     },
     "metadata": {},
     "output_type": "display_data"
    },
    {
     "data": {
      "text/html": [
       "<img src=\"data:image/png;base64,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\" width=\"640\">"
      ],
      "text/plain": [
       "<IPython.core.display.HTML object>"
      ]
     },
     "metadata": {},
     "output_type": "display_data"
    }
   ],
   "source": [
    "# This demonstrates how to create a simple diagram by implicitly calling the\n",
    "# Sankey.add() method and by appending finish() to the call to the class.\n",
    "from matplotlib.sankey import Sankey\n",
    "sankey = Sankey(unit='W', scale= 1/Pin, format='%.0f', margin=0.25)\n",
    "sankey.add(flows=[Pin, -Pag, -Pscl],\n",
    "           labels=['$P_{in}=\\sqrt{3}V_TI_LPF$', '$P_{AG}$', '$P_{scl}$'],\n",
    "           orientations=[ 0, 0, -1],\n",
    "           pathlengths=[0, 0.1, 0.6])\n",
    "sankey.add(flows=[Pag, -Pconv, -Prcl],\n",
    "           labels=[None, '$P_{conv}$',  '$P_{rcl}$'],\n",
    "           orientations=[ 0, 0, -1],\n",
    "           pathlengths=[0, 0.1, 0.5],\n",
    "           prior=0, connect=(1, 0))\n",
    "sankey.add(flows=[Pconv, -Pout, -Pmisc, -Pf_w, -Pcore],\n",
    "           labels=[None,'$P_{out}$', '$P_{misc}$', '$P_{f&w}$', '$P_{core}$'],\n",
    "           orientations=[ 0, 0, -1, -1, -1,],\n",
    "           pathlengths=[0, 0.1, 0.1, 0.3, 0.45],\n",
    "           prior=1, connect=(1, 0))\n",
    "sankey.finish()\n",
    "title(\"Sankey diagram of the power-flow\");"
   ]
  }
 ],
 "metadata": {
  "kernelspec": {
   "display_name": "Python 3",
   "language": "python",
   "name": "python3"
  },
  "language_info": {
   "codemirror_mode": {
    "name": "ipython",
    "version": 3
   },
   "file_extension": ".py",
   "mimetype": "text/x-python",
   "name": "python",
   "nbconvert_exporter": "python",
   "pygments_lexer": "ipython3",
   "version": "3.8.2"
  }
 },
 "nbformat": 4,
 "nbformat_minor": 1
}
