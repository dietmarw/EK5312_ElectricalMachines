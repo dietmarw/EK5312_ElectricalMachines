{
 "cells": [
  {
   "cell_type": "markdown",
   "metadata": {},
   "source": [
    "# Excercises Electric Machinery Fundamentals\n",
    "## Chapter 1"
   ]
  },
  {
   "cell_type": "markdown",
   "metadata": {},
   "source": [
    "## Problem 1-22"
   ]
  },
  {
   "cell_type": "code",
   "execution_count": 1,
   "metadata": {
    "collapsed": false,
    "slideshow": {
     "slide_type": "skip"
    }
   },
   "outputs": [
    {
     "name": "stdout",
     "output_type": "stream",
     "text": [
      "Populating the interactive namespace from numpy and matplotlib\n"
     ]
    },
    {
     "data": {
      "text/plain": [
       "'%.1f'"
      ]
     },
     "execution_count": 1,
     "metadata": {},
     "output_type": "execute_result"
    }
   ],
   "source": [
    "%pylab inline\n",
    "%precision 1"
   ]
  },
  {
   "cell_type": "markdown",
   "metadata": {},
   "source": [
    "### Description\n",
    "A linear machine has the following characteristics:\n",
    "\n",
    "* $B = 0.5\\,T$ into the page\n",
    "* $R = 0.25\\,\\Omega$\n",
    "* $l = 0.5\\,m$\n",
    "* $V_B = 120\\,V$\n",
    "\n",
    "<img src=\"figs/FigC_1-19.jpg\" width=\"80%\">"
   ]
  },
  {
   "cell_type": "code",
   "execution_count": 2,
   "metadata": {
    "collapsed": false
   },
   "outputs": [],
   "source": [
    "B = 0.5   # [T]\n",
    "R = 0.25  # [Ohm]\n",
    "l = 0.5   # [m]\n",
    "Vb = 120  # [V]"
   ]
  },
  {
   "cell_type": "markdown",
   "metadata": {},
   "source": [
    "#### (a)\n",
    "* If this bar has a load of 20 N attached to it opposite to the direction of motion, what is the steady-state speed of the bar?\n",
    "\n",
    "#### (b)\n",
    "* If the bar runs off into a region where the flux density falls to 0.45 T, what happens to the bar? \n",
    "* What is its final steady-state speed?\n",
    "\n",
    "#### (c)\n",
    "* Suppose V B is now decreased to 100 V with everything else remaining as in part (b). What is the new steady-state speed of the bar?\n",
    "\n",
    "#### (d)\n",
    "* From the results for parts (b) and (c), what are two methods of controlling the speed of a linear machine (or a real dc motor)?"
   ]
  },
  {
   "cell_type": "markdown",
   "metadata": {},
   "source": [
    "### SOLUTION"
   ]
  },
  {
   "cell_type": "markdown",
   "metadata": {},
   "source": [
    "#### (a)\n",
    "With a load of 20 N opposite to the direction of motion, the steady-state current flow in the bar will be given by\n",
    "$$ F_\\text{app} = F_\\text{ind} = ilB $$\n",
    "$$ \\rightarrow i = \\frac{F_\\text{app}}{Bl} $$"
   ]
  },
  {
   "cell_type": "code",
   "execution_count": 3,
   "metadata": {
    "collapsed": false
   },
   "outputs": [
    {
     "data": {
      "text/plain": [
       "80.0"
      ]
     },
     "execution_count": 3,
     "metadata": {},
     "output_type": "execute_result"
    }
   ],
   "source": [
    "Fapp = 20  # [N]\n",
    "i = Fapp / (B*l)\n",
    "i"
   ]
  },
  {
   "cell_type": "markdown",
   "metadata": {},
   "source": [
    "Amperes. The induced voltage in the bar will be\n",
    "$$ e_\\text{ind} =  V_B - iR $$"
   ]
  },
  {
   "cell_type": "code",
   "execution_count": 4,
   "metadata": {
    "collapsed": false
   },
   "outputs": [
    {
     "data": {
      "text/plain": [
       "100.0"
      ]
     },
     "execution_count": 4,
     "metadata": {},
     "output_type": "execute_result"
    }
   ],
   "source": [
    "e_ind = Vb - i*R\n",
    "e_ind"
   ]
  },
  {
   "cell_type": "markdown",
   "metadata": {},
   "source": [
    "Volts, and the velocity of the bar will be \n",
    "\n",
    "$$v = \\frac{e_\\text{ind}}{Bl}$$"
   ]
  },
  {
   "cell_type": "code",
   "execution_count": 5,
   "metadata": {
    "collapsed": false
   },
   "outputs": [
    {
     "data": {
      "text/plain": [
       "400.0"
      ]
     },
     "execution_count": 5,
     "metadata": {},
     "output_type": "execute_result"
    }
   ],
   "source": [
    "v = e_ind / (B*l)\n",
    "v"
   ]
  },
  {
   "cell_type": "markdown",
   "metadata": {},
   "source": [
    "metres/second."
   ]
  },
  {
   "cell_type": "markdown",
   "metadata": {},
   "source": [
    "#### (b)\n",
    "If the flux density drops to 0.45 T while the load on the bar remains the same, there will be a speed transient until $F_\\text{app} = F_\\text{ind} = 20\\,N$ again. The new steady state current will be\n",
    "\n",
    "$$ F_\\text{app} = F_\\text{ind} = ilB $$\n",
    "$$ \\rightarrow i = \\frac{F_\\text{app}}{Bl} $$"
   ]
  },
  {
   "cell_type": "code",
   "execution_count": 6,
   "metadata": {
    "collapsed": false
   },
   "outputs": [
    {
     "data": {
      "text/plain": [
       "88.9"
      ]
     },
     "execution_count": 6,
     "metadata": {},
     "output_type": "execute_result"
    }
   ],
   "source": [
    "B = 0.45  # [T]\n",
    "Fapp = 20 # [N]\n",
    "i = Fapp / (B*l)\n",
    "i"
   ]
  },
  {
   "cell_type": "markdown",
   "metadata": {},
   "source": [
    "Amperes. The induced voltage in the bar will be\n",
    "\n",
    "$$ e_\\text{ind} =  V_B - iR $$"
   ]
  },
  {
   "cell_type": "code",
   "execution_count": 7,
   "metadata": {
    "collapsed": false
   },
   "outputs": [
    {
     "data": {
      "text/plain": [
       "97.8"
      ]
     },
     "execution_count": 7,
     "metadata": {},
     "output_type": "execute_result"
    }
   ],
   "source": [
    "e_ind = Vb - i*R\n",
    "e_ind"
   ]
  },
  {
   "cell_type": "markdown",
   "metadata": {},
   "source": [
    "Volts, and the velocity of the bar will be \n",
    "\n",
    "$$v = \\frac{e_\\text{ind}}{Bl}$$"
   ]
  },
  {
   "cell_type": "code",
   "execution_count": 8,
   "metadata": {
    "collapsed": false
   },
   "outputs": [
    {
     "data": {
      "text/plain": [
       "434.6"
      ]
     },
     "execution_count": 8,
     "metadata": {},
     "output_type": "execute_result"
    }
   ],
   "source": [
    "v = e_ind / (B*l)\n",
    "v"
   ]
  },
  {
   "cell_type": "markdown",
   "metadata": {},
   "source": [
    "#### (c)\n",
    "If the battery voltage is decreased to 100 V while the load on the bar remains the same, there will be a speed transient until $F_\\text{app} = F_\\text{ind} = 20\\,N$ again. The new steady state current will be\n",
    "$$ F_\\text{app} = F_\\text{ind} = ilB $$\n",
    "$$ \\rightarrow i = \\frac{F_\\text{app}}{Bl} $$"
   ]
  },
  {
   "cell_type": "code",
   "execution_count": 9,
   "metadata": {
    "collapsed": false
   },
   "outputs": [
    {
     "data": {
      "text/plain": [
       "88.9"
      ]
     },
     "execution_count": 9,
     "metadata": {},
     "output_type": "execute_result"
    }
   ],
   "source": [
    "Vb = 100  # [V]\n",
    "B = 0.45  # [T]\n",
    "Fapp = 20 # [N]\n",
    "i = Fapp / (B*l)\n",
    "i"
   ]
  },
  {
   "cell_type": "markdown",
   "metadata": {},
   "source": [
    "Amperes. The induced voltage in the bar will be\n",
    "\n",
    "$$ e_\\text{ind} =  V_B - iR $$"
   ]
  },
  {
   "cell_type": "code",
   "execution_count": 10,
   "metadata": {
    "collapsed": false
   },
   "outputs": [
    {
     "data": {
      "text/plain": [
       "77.8"
      ]
     },
     "execution_count": 10,
     "metadata": {},
     "output_type": "execute_result"
    }
   ],
   "source": [
    "e_ind = Vb - i*R\n",
    "e_ind"
   ]
  },
  {
   "cell_type": "markdown",
   "metadata": {},
   "source": [
    "Volts, and the velocity of the bar will be \n",
    "\n",
    "$$v = \\frac{e_\\text{ind}}{Bl}$$"
   ]
  },
  {
   "cell_type": "code",
   "execution_count": 11,
   "metadata": {
    "collapsed": false
   },
   "outputs": [
    {
     "data": {
      "text/plain": [
       "345.7"
      ]
     },
     "execution_count": 11,
     "metadata": {},
     "output_type": "execute_result"
    }
   ],
   "source": [
    "v = e_ind/ (B*l)\n",
    "v"
   ]
  },
  {
   "cell_type": "markdown",
   "metadata": {},
   "source": [
    "m/s."
   ]
  },
  {
   "cell_type": "markdown",
   "metadata": {},
   "source": [
    "#### (d)\n",
    "From the results of the two previous parts, we can see that there are two ways to control the speed of a linear dc machine. *Reducing* the flux density $B$ of the machine *increases* the steady-state speed, and\n",
    "*reducing* the battery voltage $V_B$ *decreases* the stead-state speed of the machine. Both of these speed control methods work for real dc machines as well as for linear machines."
   ]
  }
 ],
 "metadata": {
  "kernelspec": {
   "display_name": "Python 3",
   "language": "python",
   "name": "python3"
  },
  "language_info": {
   "codemirror_mode": {
    "name": "ipython",
    "version": 3
   },
   "file_extension": ".py",
   "mimetype": "text/x-python",
   "name": "python",
   "nbconvert_exporter": "python",
   "pygments_lexer": "ipython3",
   "version": "3.5.2"
  }
 },
 "nbformat": 4,
 "nbformat_minor": 0
}
