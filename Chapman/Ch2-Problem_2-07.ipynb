{
 "cells": [
  {
   "cell_type": "markdown",
   "metadata": {},
   "source": [
    "# Excercises Electric Machinery Fundamentals\n",
    "## Chapter 2"
   ]
  },
  {
   "cell_type": "markdown",
   "metadata": {},
   "source": [
    "## Problem 2-7"
   ]
  },
  {
   "cell_type": "code",
   "execution_count": 1,
   "metadata": {
    "collapsed": false,
    "slideshow": {
     "slide_type": "skip"
    }
   },
   "outputs": [
    {
     "name": "stdout",
     "output_type": "stream",
     "text": [
      "Populating the interactive namespace from numpy and matplotlib\n"
     ]
    },
    {
     "data": {
      "text/plain": [
       "'%.4f'"
      ]
     },
     "execution_count": 1,
     "metadata": {},
     "output_type": "execute_result"
    }
   ],
   "source": [
    "%pylab inline\n",
    "%precision 4"
   ]
  },
  {
   "cell_type": "markdown",
   "metadata": {},
   "source": [
    "### Description\n",
    "A 30-kVA 8000/230-V distribution transformer has an impedance referred to the primary of\n",
    "\n",
    "* $Z_{EQ} = 20\\,\\Omega + j100\\,\\Omega$.\n",
    "\n",
    "The components of the excitation branch referred to the primary side are\n",
    "\n",
    "* $R_C = 100\\,k\\Omega$ and\n",
    "* $X_M = 20\\,k\\Omega$\n",
    "\n",
    "#### (a)\n",
    "If the primary voltage is 7967 V and the load impedance is $Z_L = (2.0 + j0.7)\\Omega$, what is the secondary voltage of the transformer? What is the voltage regulation of the transformer?\n",
    "\n",
    "#### (b)\n",
    "If the load is disconnected and a capacitor of $X_L = -j3.0\\,\\Omega$ is connected in its place, what is the secondary voltage of the transformer? What is its voltage regulation under these conditions?"
   ]
  },
  {
   "cell_type": "code",
   "execution_count": 2,
   "metadata": {
    "collapsed": false
   },
   "outputs": [],
   "source": [
    "Zeq =  20.0 + 100.0j   # [Ohm]\n",
    "Rc  = 100.0e3          # [Ohm]\n",
    "Xm  =  20.0e3          # [Ohm]\n",
    "Zload = 2.0 + 0.7j     # [Ohm]\n",
    "Xload = -3.0j          # [Ohm] \n",
    "Vp = 7967.0            # [V]"
   ]
  },
  {
   "cell_type": "markdown",
   "metadata": {},
   "source": [
    "### SOLUTION\n",
    "#### (a)"
   ]
  },
  {
   "cell_type": "markdown",
   "metadata": {},
   "source": [
    "The easiest way to solve this problem is to refer all components to the primary side of the\n",
    "transformer. The turns ratio is:"
   ]
  },
  {
   "cell_type": "code",
   "execution_count": 3,
   "metadata": {
    "collapsed": false
   },
   "outputs": [
    {
     "data": {
      "text/plain": [
       "34.7826"
      ]
     },
     "execution_count": 3,
     "metadata": {},
     "output_type": "execute_result"
    }
   ],
   "source": [
    "a = 8000/230.0\n",
    "a"
   ]
  },
  {
   "cell_type": "markdown",
   "metadata": {},
   "source": [
    "Thus the load impedance referred to the primary side is:"
   ]
  },
  {
   "cell_type": "code",
   "execution_count": 4,
   "metadata": {
    "collapsed": false
   },
   "outputs": [
    {
     "data": {
      "text/plain": [
       "(2419.6597353497164+846.8809073724007j)"
      ]
     },
     "execution_count": 4,
     "metadata": {},
     "output_type": "execute_result"
    }
   ],
   "source": [
    "Zloadp = a**2 * Zload  \n",
    "Zloadp"
   ]
  },
  {
   "cell_type": "markdown",
   "metadata": {},
   "source": [
    "The referred secondary current is $I_s' = \\frac{V_P}{Z_{EQ} Z_L'}$:"
   ]
  },
  {
   "cell_type": "code",
   "execution_count": 5,
   "metadata": {
    "collapsed": false
   },
   "outputs": [
    {
     "name": "stdout",
     "output_type": "stream",
     "text": [
      "Isp = 3.044 A ∠-21.21°\n"
     ]
    }
   ],
   "source": [
    "Isp =  Vp/ (Zeq + Zloadp)\n",
    "print('Isp = {:.3f} A ∠{:.2f}°'.format(\n",
    "            abs(Isp), angle(Isp, deg=True)))"
   ]
  },
  {
   "cell_type": "markdown",
   "metadata": {},
   "source": [
    "and the referred secondary voltage is $V_s' = I_s' Z_L'$:"
   ]
  },
  {
   "cell_type": "code",
   "execution_count": 6,
   "metadata": {
    "collapsed": false
   },
   "outputs": [
    {
     "name": "stdout",
     "output_type": "stream",
     "text": [
      "Vsp = 7804.5 V ∠-1.92°\n"
     ]
    }
   ],
   "source": [
    "Vsp =  Isp * Zloadp\n",
    "print('Vsp = {:.1f} V ∠{:.2f}°'.format(\n",
    "            abs(Vsp), angle(Vsp, deg=True)))       "
   ]
  },
  {
   "cell_type": "markdown",
   "metadata": {},
   "source": [
    "The actual secondary voltage is thus"
   ]
  },
  {
   "cell_type": "code",
   "execution_count": 7,
   "metadata": {
    "collapsed": false
   },
   "outputs": [
    {
     "name": "stdout",
     "output_type": "stream",
     "text": [
      "Vs = 224.4 V -1.92°\n",
      "===================\n"
     ]
    }
   ],
   "source": [
    "Vs = Vsp /a\n",
    "print('Vs = {:.1f} V {:.2f}°'.format(\n",
    "            abs(Vs), angle(Vs, deg=True)))\n",
    "print('===================')"
   ]
  },
  {
   "cell_type": "markdown",
   "metadata": {},
   "source": [
    "And the voltage regulation with $VR = \\frac{V_P-V_S'}{V_S'}$ is therefore:"
   ]
  },
  {
   "cell_type": "code",
   "execution_count": 8,
   "metadata": {
    "collapsed": false
   },
   "outputs": [
    {
     "name": "stdout",
     "output_type": "stream",
     "text": [
      "VR = 2.08 %\n",
      "===========\n"
     ]
    }
   ],
   "source": [
    "VR = (abs(Vp) - abs(Vsp)) / abs(Vsp) * 100\n",
    "print('VR = {:.2f} %'.format(VR))\n",
    "print('===========')"
   ]
  },
  {
   "cell_type": "markdown",
   "metadata": {},
   "source": [
    "#### (b)"
   ]
  },
  {
   "cell_type": "markdown",
   "metadata": {},
   "source": [
    "The easiest way to solve this problem is to refer all components to the primary side of the\n",
    "transformer. The turns ratio is:"
   ]
  },
  {
   "cell_type": "code",
   "execution_count": 9,
   "metadata": {
    "collapsed": false
   },
   "outputs": [
    {
     "data": {
      "text/plain": [
       "34.7826"
      ]
     },
     "execution_count": 9,
     "metadata": {},
     "output_type": "execute_result"
    }
   ],
   "source": [
    "a  # already defined earlier..."
   ]
  },
  {
   "cell_type": "markdown",
   "metadata": {},
   "source": [
    "Thus the load impedance referred to the primary side is:"
   ]
  },
  {
   "cell_type": "code",
   "execution_count": 10,
   "metadata": {
    "collapsed": false
   },
   "outputs": [
    {
     "data": {
      "text/plain": [
       "-3629.4896030245745j"
      ]
     },
     "execution_count": 10,
     "metadata": {},
     "output_type": "execute_result"
    }
   ],
   "source": [
    "Xloadp = a**2 * Xload  \n",
    "Xloadp"
   ]
  },
  {
   "cell_type": "markdown",
   "metadata": {},
   "source": [
    "The referred secondary current is $I_s' = \\frac{V_P}{Z_{EQ} X_L'}$:"
   ]
  },
  {
   "cell_type": "code",
   "execution_count": 11,
   "metadata": {
    "collapsed": false
   },
   "outputs": [
    {
     "name": "stdout",
     "output_type": "stream",
     "text": [
      "Isp = 2.257 A ∠89.68°\n"
     ]
    }
   ],
   "source": [
    "Isp =  Vp/ (Zeq + Xloadp)\n",
    "print('Isp = {:.3f} A ∠{:.2f}°'.format(\n",
    "            abs(Isp), angle(Isp, deg=True)))"
   ]
  },
  {
   "cell_type": "markdown",
   "metadata": {},
   "source": [
    "and the referred secondary voltage is $V_s' = I_s' X_L'$:"
   ]
  },
  {
   "cell_type": "code",
   "execution_count": 12,
   "metadata": {
    "collapsed": false
   },
   "outputs": [
    {
     "name": "stdout",
     "output_type": "stream",
     "text": [
      "Vsp = 8192.60 V ∠-0.32°\n"
     ]
    }
   ],
   "source": [
    "Vsp =  Isp * Xloadp\n",
    "print('Vsp = {:.2f} V ∠{:.2f}°'.format(\n",
    "            abs(Vsp), angle(Vsp, deg=True)))       "
   ]
  },
  {
   "cell_type": "markdown",
   "metadata": {},
   "source": [
    "The actual secondary voltage is thus"
   ]
  },
  {
   "cell_type": "code",
   "execution_count": 13,
   "metadata": {
    "collapsed": false
   },
   "outputs": [
    {
     "name": "stdout",
     "output_type": "stream",
     "text": [
      "Vs = 235.5 V ∠-0.32°\n",
      "====================\n"
     ]
    }
   ],
   "source": [
    "Vs = Vsp /a\n",
    "print('Vs = {:.1f} V ∠{:.2f}°'.format(\n",
    "            abs(Vs), angle(Vs, deg=True)))\n",
    "print('====================')"
   ]
  },
  {
   "cell_type": "markdown",
   "metadata": {},
   "source": [
    "And the voltage regulation with $VR = \\frac{V_P-V_S'}{V_S'}$ is therefore:"
   ]
  },
  {
   "cell_type": "code",
   "execution_count": 14,
   "metadata": {
    "collapsed": false
   },
   "outputs": [
    {
     "name": "stdout",
     "output_type": "stream",
     "text": [
      "VR = -2.75 %\n",
      "============\n"
     ]
    }
   ],
   "source": [
    "VR = (abs(Vp) - abs(Vsp)) / abs(Vsp) * 100\n",
    "print('VR = {:.2f} %'.format(VR))\n",
    "print('============')"
   ]
  }
 ],
 "metadata": {
  "kernelspec": {
   "display_name": "Python 3",
   "language": "python",
   "name": "python3"
  },
  "language_info": {
   "codemirror_mode": {
    "name": "ipython",
    "version": 3
   },
   "file_extension": ".py",
   "mimetype": "text/x-python",
   "name": "python",
   "nbconvert_exporter": "python",
   "pygments_lexer": "ipython3",
   "version": "3.5.1+"
  }
 },
 "nbformat": 4,
 "nbformat_minor": 0
}
