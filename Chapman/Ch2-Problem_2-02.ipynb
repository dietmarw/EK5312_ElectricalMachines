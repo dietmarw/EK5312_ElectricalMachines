{
 "cells": [
  {
   "cell_type": "markdown",
   "metadata": {},
   "source": [
    "# Excercises Electric Machinery Fundamentals\n",
    "## Chapter 2"
   ]
  },
  {
   "cell_type": "markdown",
   "metadata": {},
   "source": [
    "## Problem 2-2"
   ]
  },
  {
   "cell_type": "code",
   "execution_count": 1,
   "metadata": {
    "collapsed": false,
    "slideshow": {
     "slide_type": "skip"
    }
   },
   "outputs": [
    {
     "name": "stdout",
     "output_type": "stream",
     "text": [
      "Populating the interactive namespace from numpy and matplotlib\n"
     ]
    },
    {
     "data": {
      "text/plain": [
       "'%.4f'"
      ]
     },
     "execution_count": 1,
     "metadata": {},
     "output_type": "execute_result"
    }
   ],
   "source": [
    "%pylab inline\n",
    "%precision 4"
   ]
  },
  {
   "cell_type": "markdown",
   "metadata": {},
   "source": [
    "### Description\n",
    "\n",
    "A single-phase power system is shown in Figure P2-1.\n",
    "\n",
    "<img src=\"figs/FigC_P2-1.jpg\" width=\"70%\">\n",
    "\n",
    "The power source feeds a 100-kVA 14/2.4-kV transformer through a feeder impedance of $38.2 + j140 \\Omega$. The transformer’s equivalent series impedance\n",
    "referred to its low-voltage side is $0.10 + j0.4 \\Omega$ . The load on the transformer is 90 kW at 0.8 PF lagging at  $V_\\text{load} = 2300\\,V$."
   ]
  },
  {
   "cell_type": "code",
   "execution_count": 2,
   "metadata": {
    "collapsed": false
   },
   "outputs": [],
   "source": [
    "Zline = 38.2  + 140.0j # [Ohm]\n",
    "Zeq   =  0.10 +   0.4j # [Ohm]\n",
    "\n",
    "V_high =  14e3 # [V]\n",
    "V_low  = 2.4e3 # [V]\n",
    "\n",
    "Pout   =  90e3 # [W] load\n",
    "PF     =  0.8  # lagging\n",
    "\n",
    "VS     = 2.3e3 # [V] secondary voltage"
   ]
  },
  {
   "cell_type": "markdown",
   "metadata": {},
   "source": [
    "#### (a)\n",
    "\n",
    " * What is the voltage at the power source of the system?\n",
    " \n",
    "#### (b)\n",
    "\n",
    " * What is the voltage regulation of the transformer?\n",
    " \n",
    "#### (c)\n",
    "\n",
    " * How efficient is the overall power system?\n",
    " "
   ]
  },
  {
   "cell_type": "markdown",
   "metadata": {},
   "source": [
    "### SOLUTION"
   ]
  },
  {
   "cell_type": "markdown",
   "metadata": {},
   "source": [
    "To solve this problem, we will refer the circuit to the secondary (low-voltage) side. The turns ratio of this transformer $a$ is:"
   ]
  },
  {
   "cell_type": "code",
   "execution_count": 3,
   "metadata": {
    "collapsed": false
   },
   "outputs": [
    {
     "data": {
      "text/plain": [
       "5.8333"
      ]
     },
     "execution_count": 3,
     "metadata": {},
     "output_type": "execute_result"
    }
   ],
   "source": [
    "a = V_high / V_low\n",
    "a"
   ]
  },
  {
   "cell_type": "markdown",
   "metadata": {},
   "source": [
    "The feeder’s impedance referred to the secondary side is:\n",
    "$$Z'_\\text{line} = \\left(\\frac{1}{a}\\right)^2Z_\\text{line}$$"
   ]
  },
  {
   "cell_type": "code",
   "execution_count": 4,
   "metadata": {
    "collapsed": false
   },
   "outputs": [
    {
     "name": "stdout",
     "output_type": "stream",
     "text": [
      "Z_line = 1.12+4.11j Ω\n"
     ]
    }
   ],
   "source": [
    "Z_line = (1/a)**2 * Zline\n",
    "print('Z_line = {:.2f} Ω'.format(Z_line))"
   ]
  },
  {
   "cell_type": "markdown",
   "metadata": {},
   "source": [
    "The secondary current $I_S$ is given by :\n",
    "$$I_S = \\frac{P_{OUT}}{V_SPF}$$"
   ]
  },
  {
   "cell_type": "code",
   "execution_count": 5,
   "metadata": {
    "collapsed": false
   },
   "outputs": [
    {
     "name": "stdout",
     "output_type": "stream",
     "text": [
      "Is = 48.91 A\n"
     ]
    }
   ],
   "source": [
    "Is = Pout / (VS*PF)\n",
    "print('Is = {:.2f} A'.format(Is))"
   ]
  },
  {
   "cell_type": "markdown",
   "metadata": {},
   "source": [
    "The power factor is 0.80 lagging, so the impedance angel $\\theta = \\arccos(PF)$ is:"
   ]
  },
  {
   "cell_type": "code",
   "execution_count": 6,
   "metadata": {
    "collapsed": false
   },
   "outputs": [
    {
     "name": "stdout",
     "output_type": "stream",
     "text": [
      "θ = -36.87°\n"
     ]
    }
   ],
   "source": [
    "IS_angle = - arccos(PF)  # negative because lagging PF\n",
    "print('θ = {:.2f}°'.format(degrees(IS_angle)))"
   ]
  },
  {
   "cell_type": "markdown",
   "metadata": {},
   "source": [
    "The phasor current is: "
   ]
  },
  {
   "cell_type": "code",
   "execution_count": 7,
   "metadata": {
    "collapsed": false
   },
   "outputs": [
    {
     "name": "stdout",
     "output_type": "stream",
     "text": [
      "IS = 48.91 A ∠-36.87°\n"
     ]
    }
   ],
   "source": [
    "IS = Is * (cos(IS_angle)  + sin(IS_angle)*1j)\n",
    "print('IS = {:.2f} A ∠{:.2f}°'.format(abs(IS), degrees(IS_angle)))"
   ]
  },
  {
   "cell_type": "markdown",
   "metadata": {},
   "source": [
    "#### (a)\n",
    "\n",
    "The voltage at the power source of this system (referred to the secondary side) is:\n",
    "$$\\vec{V}'_\\text{source}= \\vec{V}_S + \\vec{I}_SZ'_\\text{line} + \\vec{I}_SZ_\\text{EQ}$$"
   ]
  },
  {
   "cell_type": "code",
   "execution_count": 8,
   "metadata": {
    "collapsed": false
   },
   "outputs": [
    {
     "name": "stdout",
     "output_type": "stream",
     "text": [
      "V_source = 2484.3 V ∠3.2°\n"
     ]
    }
   ],
   "source": [
    "V_source = VS + IS*Z_line + IS*Zeq\n",
    "V_source_angle = arctan(V_source.imag/V_source.real) # angle of V_source [rad]\n",
    "print('V_source = {:.1f} V ∠{:.1f}°'.format(\n",
    "        abs(V_source), degrees(V_source_angle)))"
   ]
  },
  {
   "cell_type": "markdown",
   "metadata": {},
   "source": [
    "**Therefore, the voltage at the power source is:**\n",
    "\n",
    "$$\\vec{V}_\\text{source} = \\vec{V}'_\\text{source} \\cdot a$$"
   ]
  },
  {
   "cell_type": "code",
   "execution_count": 9,
   "metadata": {
    "collapsed": false
   },
   "outputs": [
    {
     "name": "stdout",
     "output_type": "stream",
     "text": [
      "Vsource = 14.5 kV ∠3.2°\n"
     ]
    }
   ],
   "source": [
    "Vsource = V_source * a                             # [V]\n",
    "Vsource_angle = arctan(Vsource.imag/Vsource.real)  # angle of Vsource [rad]\n",
    "print('Vsource = {:.1f} kV ∠{:.1f}°'.format(\n",
    "        abs(Vsource)/1000,   # display in kV\n",
    "        degrees(Vsource_angle)))"
   ]
  },
  {
   "cell_type": "markdown",
   "metadata": {},
   "source": [
    "#### (b)\n",
    "\n",
    "To find the voltage regulation of the transformer, we must find the voltage at the primary side of the transformer (referred to the secondary side) under these conditions:\n",
    "\n",
    "$$\\vec{V}_P' = \\vec{V}_S + \\vec{I}_SZ_\\text{EQ}$$"
   ]
  },
  {
   "cell_type": "code",
   "execution_count": 10,
   "metadata": {
    "collapsed": false
   },
   "outputs": [
    {
     "name": "stdout",
     "output_type": "stream",
     "text": [
      "VP = 2315.7 V ∠0.3°\n"
     ]
    }
   ],
   "source": [
    "VP = VS + IS*Zeq\n",
    "VP_angle = arctan(VP.imag/VP.real)   # angle of VP [rad]\n",
    "print('VP = {:.1f} V ∠{:.1f}°'.format(abs(VP), degrees(VP_angle)))"
   ]
  },
  {
   "cell_type": "markdown",
   "metadata": {},
   "source": [
    "There is a voltage drop of 15 V under these load conditions. \n",
    "\n",
    "**Therefore the voltage regulation of the transformer is:**\n",
    "\n",
    "$$VR = \\frac{V_P' - V_S}{V_S} \\cdot 100\\%$$"
   ]
  },
  {
   "cell_type": "code",
   "execution_count": 11,
   "metadata": {
    "collapsed": false
   },
   "outputs": [
    {
     "name": "stdout",
     "output_type": "stream",
     "text": [
      "VR = 0.68 %\n"
     ]
    }
   ],
   "source": [
    "VR = (abs(VP)-VS) / VS * 100  # [%]\n",
    "print('VR = {:.2f} %'.format(VR))"
   ]
  },
  {
   "cell_type": "markdown",
   "metadata": {},
   "source": [
    "#### (c)\n",
    "\n",
    "The overall efficiency of the power system will be the ratio of the output power to the input power. The output power supplied to the load is $P_\\text{OUT} = 90\\,kW$. The input power supplied by the source is:\n",
    "$$P_\\text{IN} = P_\\text{OUT} + P_\\text{LOSS} = P_\\text{OUT} + I^2R$$"
   ]
  },
  {
   "cell_type": "code",
   "execution_count": 12,
   "metadata": {
    "collapsed": false
   },
   "outputs": [
    {
     "name": "stdout",
     "output_type": "stream",
     "text": [
      "Pin = 92.93 kW\n"
     ]
    }
   ],
   "source": [
    "R = Z_line.real + Zeq.real\n",
    "Pin = Pout + abs(IS)**2 * R               # [W]\n",
    "print('Pin = {:.2f} kW'.format(Pin/1000)) # [kW]"
   ]
  },
  {
   "cell_type": "markdown",
   "metadata": {},
   "source": [
    "**Therefore, the efficiency of the power system is:**"
   ]
  },
  {
   "cell_type": "code",
   "execution_count": 13,
   "metadata": {
    "collapsed": false
   },
   "outputs": [
    {
     "name": "stdout",
     "output_type": "stream",
     "text": [
      "η = 96.9 %\n"
     ]
    }
   ],
   "source": [
    "eta = Pout/Pin * 100  # [%]\n",
    "print('η = {:.1f} %'.format(eta)) "
   ]
  }
 ],
 "metadata": {
  "kernelspec": {
   "display_name": "Python 3",
   "language": "python",
   "name": "python3"
  },
  "language_info": {
   "codemirror_mode": {
    "name": "ipython",
    "version": 3
   },
   "file_extension": ".py",
   "mimetype": "text/x-python",
   "name": "python",
   "nbconvert_exporter": "python",
   "pygments_lexer": "ipython3",
   "version": "3.5.2"
  }
 },
 "nbformat": 4,
 "nbformat_minor": 0
}
