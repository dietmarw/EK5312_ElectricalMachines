{
 "cells": [
  {
   "cell_type": "markdown",
   "metadata": {},
   "source": [
    "# Excercises Electric Machinery Fundamentals\n",
    "## Chapter 6"
   ]
  },
  {
   "cell_type": "markdown",
   "metadata": {},
   "source": [
    "## Problem 6-10"
   ]
  },
  {
   "cell_type": "code",
   "execution_count": 1,
   "metadata": {
    "collapsed": false,
    "slideshow": {
     "slide_type": "skip"
    }
   },
   "outputs": [
    {
     "name": "stdout",
     "output_type": "stream",
     "text": [
      "Populating the interactive namespace from numpy and matplotlib\n"
     ]
    }
   ],
   "source": [
    "%pylab inline"
   ]
  },
  {
   "cell_type": "markdown",
   "metadata": {},
   "source": [
    "### Description"
   ]
  },
  {
   "cell_type": "markdown",
   "metadata": {},
   "source": [
    "A three-phase 60-Hz two-pole induction motor runs at a no-load speed of 3580 r/min and a full-load speed of 3440 r/min. \n",
    " \n",
    " * Calculate the slip and the electrical frequency of the rotor at no-load and full-load conditions. \n",
    " * What is the speed regulation of this motor?"
   ]
  },
  {
   "cell_type": "code",
   "execution_count": 2,
   "metadata": {
    "collapsed": false
   },
   "outputs": [],
   "source": [
    "fe = 60     # [Hz]\n",
    "p  = 2      \n",
    "n_nl = 3580 # [r/min]\n",
    "n_fl = 3440 # [r/min]"
   ]
  },
  {
   "cell_type": "markdown",
   "metadata": {},
   "source": [
    "### SOLUTION"
   ]
  },
  {
   "cell_type": "markdown",
   "metadata": {},
   "source": [
    "The synchronous speed of this machine is:\n",
    "\n",
    "$$n_\\text{sync} = \\frac{120f_{se}}{p}$$"
   ]
  },
  {
   "cell_type": "code",
   "execution_count": 3,
   "metadata": {
    "collapsed": false
   },
   "outputs": [
    {
     "name": "stdout",
     "output_type": "stream",
     "text": [
      "n_sync = 3600 r/min\n"
     ]
    }
   ],
   "source": [
    "n_sync = 120*fe / p\n",
    "print('n_sync = {:.0f} r/min'.format(n_sync))"
   ]
  },
  {
   "cell_type": "markdown",
   "metadata": {},
   "source": [
    "The slip and electrical frequency at no-load conditions is:\n",
    "\n",
    "$$S_\\text{nl} = \\frac{n_\\text{sync} - n_\\text{nl}}{n_\\text{sync}} \\cdot 100\\%$$"
   ]
  },
  {
   "cell_type": "code",
   "execution_count": 4,
   "metadata": {
    "collapsed": false
   },
   "outputs": [
    {
     "name": "stdout",
     "output_type": "stream",
     "text": [
      "\n",
      "s_nl = 0.56 %\n",
      "=============\n"
     ]
    }
   ],
   "source": [
    "s_nl = (n_sync - n_nl) / n_sync \n",
    "print('''\n",
    "s_nl = {:.2f} %\n",
    "============='''.format(s_nl*100))"
   ]
  },
  {
   "cell_type": "markdown",
   "metadata": {},
   "source": [
    "$$f_\\text{r,nl} = sf_e$$"
   ]
  },
  {
   "cell_type": "code",
   "execution_count": 5,
   "metadata": {
    "collapsed": false
   },
   "outputs": [
    {
     "name": "stdout",
     "output_type": "stream",
     "text": [
      "\n",
      "f_rnl = 0.33 Hz\n",
      "===============\n"
     ]
    }
   ],
   "source": [
    "f_rnl = s_nl * fe\n",
    "print('''\n",
    "f_rnl = {:.2f} Hz\n",
    "==============='''.format(f_rnl))"
   ]
  },
  {
   "cell_type": "markdown",
   "metadata": {},
   "source": [
    "The slip and electrical frequency at full load conditions is:\n",
    "\n",
    "$$ S_\\text{fl} = \\frac{n_\\text{sync} - n_\\text{fl}}{n_\\text{sync}} \\cdot 100\\%$$"
   ]
  },
  {
   "cell_type": "code",
   "execution_count": 6,
   "metadata": {
    "collapsed": false
   },
   "outputs": [
    {
     "name": "stdout",
     "output_type": "stream",
     "text": [
      "\n",
      "s_fl = 4.44 %\n",
      "=============\n"
     ]
    }
   ],
   "source": [
    "s_fl = (n_sync - n_fl) / n_sync \n",
    "print('''\n",
    "s_fl = {:.2f} %\n",
    "============='''.format(s_fl*100))"
   ]
  },
  {
   "cell_type": "markdown",
   "metadata": {},
   "source": [
    "$$f_\\text{r,fl} = sf_e$$"
   ]
  },
  {
   "cell_type": "code",
   "execution_count": 7,
   "metadata": {
    "collapsed": false
   },
   "outputs": [
    {
     "name": "stdout",
     "output_type": "stream",
     "text": [
      "\n",
      "f_rfl = 2.67 Hz\n",
      "===============\n"
     ]
    }
   ],
   "source": [
    "f_rfl = s_fl * fe\n",
    "print('''\n",
    "f_rfl = {:.2f} Hz\n",
    "==============='''.format(f_rfl))"
   ]
  },
  {
   "cell_type": "markdown",
   "metadata": {},
   "source": [
    "The speed regulation is:\n",
    "\n",
    "$$SR = \\frac{n_\\text{nl} - n_\\text{fl}}{n_\\text{fl}} \\cdot 100\\%$$"
   ]
  },
  {
   "cell_type": "code",
   "execution_count": 8,
   "metadata": {
    "collapsed": false
   },
   "outputs": [
    {
     "name": "stdout",
     "output_type": "stream",
     "text": [
      "\n",
      "SR = 4.07 %\n",
      "===========\n"
     ]
    }
   ],
   "source": [
    "SR = (n_nl - n_fl) / n_fl\n",
    "print('''\n",
    "SR = {:.2f} %\n",
    "==========='''.format(SR*100))"
   ]
  }
 ],
 "metadata": {
  "kernelspec": {
   "display_name": "Python 3",
   "language": "python",
   "name": "python3"
  },
  "language_info": {
   "codemirror_mode": {
    "name": "ipython",
    "version": 3
   },
   "file_extension": ".py",
   "mimetype": "text/x-python",
   "name": "python",
   "nbconvert_exporter": "python",
   "pygments_lexer": "ipython3",
   "version": "3.5.2"
  }
 },
 "nbformat": 4,
 "nbformat_minor": 0
}
