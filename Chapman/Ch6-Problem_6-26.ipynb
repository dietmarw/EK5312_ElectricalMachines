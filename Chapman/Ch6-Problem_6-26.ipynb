{
 "cells": [
  {
   "cell_type": "markdown",
   "metadata": {},
   "source": [
    "# Excercises Electric Machinery Fundamentals\n",
    "## Chapter 6"
   ]
  },
  {
   "cell_type": "markdown",
   "metadata": {},
   "source": [
    "## Problem 6-26"
   ]
  },
  {
   "cell_type": "code",
   "execution_count": 1,
   "metadata": {
    "slideshow": {
     "slide_type": "skip"
    }
   },
   "outputs": [
    {
     "name": "stdout",
     "output_type": "stream",
     "text": [
      "Populating the interactive namespace from numpy and matplotlib\n"
     ]
    }
   ],
   "source": [
    "%pylab "
   ]
  },
  {
   "cell_type": "markdown",
   "metadata": {},
   "source": [
    "### Description"
   ]
  },
  {
   "cell_type": "markdown",
   "metadata": {},
   "source": [
    "A 460-V 50-hp six-pole $\\Delta$ -connected 60-Hz three-phase induction motor has a full-load slip of 4 percent, an efficiency of 91 percent, and a power factor of 0.87 lagging. At start-up, the motor develops 1.75 times the full-load torque but draws 7 times the rated current at the rated voltage. This motor is to be started with an autotransformer reduced voltage starter.\n",
    "\n",
    "#### (a)\n",
    "\n",
    " * What should the output voltage of the starter circuit be to reduce the starting torque until it equals the rated torque of the motor?\n",
    " \n",
    "#### (b)\n",
    " \n",
    " * What will the motor starting current and the current drawn from the supply be at this voltage?"
   ]
  },
  {
   "cell_type": "code",
   "execution_count": 2,
   "metadata": {},
   "outputs": [],
   "source": [
    "Vt   = 460         # [V]\n",
    "Wperhp = 746       # official conversion rate of \"electrical horsepowers\"\n",
    "Pout = 50 * Wperhp # [W]\n",
    "PF  = 0.87\n",
    "eta = 0.91\n",
    "times_tor = 1.75\n",
    "times_cur = 7"
   ]
  },
  {
   "cell_type": "markdown",
   "metadata": {},
   "source": [
    "### SOLUTION"
   ]
  },
  {
   "cell_type": "markdown",
   "metadata": {},
   "source": [
    "#### (a)\n",
    "The starting torque of an induction motor is proportional to the square of $V_{TH}$ ,\n",
    "\n",
    "$$\\frac{\\tau_\\text{start2}}{\\tau_\\text{start1}} = \\left(\\frac{V_\\text{TH2}}{V_\\text{TH1}}\\right)^2 = \\left(\\frac{V_\\text{T2}}{V_\\text{T2}}\\right)^2$$"
   ]
  },
  {
   "cell_type": "markdown",
   "metadata": {},
   "source": [
    "If a torque of 1.75 $\\tau_{rated}$ is produced by a voltage of 460 V, then a torque of 1.00 $\\tau_\\text{rated}$ would be produced by a voltage of:\n",
    "\n",
    "$$\\frac{1.00\\tau_\\text{rated}}{1.75\\tau_\\text{rated}} = \\left(\\frac{V_{T2}}{460V}\\right)^2$$"
   ]
  },
  {
   "cell_type": "code",
   "execution_count": 3,
   "metadata": {},
   "outputs": [
    {
     "name": "stdout",
     "output_type": "stream",
     "text": [
      "\n",
      "Vt2 = 348 V\n",
      "===========\n"
     ]
    }
   ],
   "source": [
    "Vt2 = sqrt(1.00/times_tor * Vt**2)\n",
    "print('''\n",
    "Vt2 = {:.0f} V\n",
    "==========='''.format(Vt2))"
   ]
  },
  {
   "cell_type": "markdown",
   "metadata": {},
   "source": [
    "#### (b)\n",
    "The motor starting current is directly proportional to the starting voltage, so\n",
    "\n",
    "$$I_{L2} = \\left(\\frac{V_{T2}}{V_T}\\right)I_{L1}$$"
   ]
  },
  {
   "cell_type": "code",
   "execution_count": 4,
   "metadata": {},
   "outputs": [
    {
     "name": "stdout",
     "output_type": "stream",
     "text": [
      "\n",
      "Il2 = 5.29 Irated\n",
      "=================\n"
     ]
    }
   ],
   "source": [
    "Il2_Il1 = Vt2/Vt\n",
    "Il1_Irated = times_cur\n",
    "Il2_Irated = Il2_Il1 * Il1_Irated\n",
    "print('''\n",
    "Il2 = {:.2f} Irated\n",
    "================='''.format(Il2_Irated))"
   ]
  },
  {
   "cell_type": "markdown",
   "metadata": {},
   "source": [
    "The input power to this motor is:\n",
    "$$P_\\text{in} = \\frac{P_\\text{out}}{\\eta}$$"
   ]
  },
  {
   "cell_type": "code",
   "execution_count": 5,
   "metadata": {},
   "outputs": [
    {
     "name": "stdout",
     "output_type": "stream",
     "text": [
      "Pin = 41.0 kW\n"
     ]
    }
   ],
   "source": [
    "Pin = Pout / eta\n",
    "print('Pin = {:.1f} kW'.format(Pin/1000))"
   ]
  },
  {
   "cell_type": "markdown",
   "metadata": {},
   "source": [
    "The rated current is equal to:\n",
    "$$I_\\text{rated} = \\frac{P_\\text{in}}{\\sqrt{3}V_TPF}$$"
   ]
  },
  {
   "cell_type": "code",
   "execution_count": 6,
   "metadata": {},
   "outputs": [
    {
     "name": "stdout",
     "output_type": "stream",
     "text": [
      "Irated = 59.13 A\n"
     ]
    }
   ],
   "source": [
    "Irated = Pin / (sqrt(3)*Vt*PF)\n",
    "print('Irated = {:.2f} A'.format(Irated))"
   ]
  },
  {
   "cell_type": "markdown",
   "metadata": {},
   "source": [
    "Therefore, the motor starting current is"
   ]
  },
  {
   "cell_type": "code",
   "execution_count": 7,
   "metadata": {},
   "outputs": [
    {
     "name": "stdout",
     "output_type": "stream",
     "text": [
      "\n",
      "Il2 = 312.9 A\n",
      "=============\n"
     ]
    }
   ],
   "source": [
    "Il2 = Il2_Irated * Irated\n",
    "print('''\n",
    "Il2 = {:.1f} A\n",
    "============='''.format(Il2))"
   ]
  },
  {
   "cell_type": "markdown",
   "metadata": {},
   "source": [
    "The turns ratio of the autotransformer that produces this starting voltage is:\n",
    "\n",
    "$$\\frac{N_{SE}+N_C}{N_C} = \\frac{V_T}{V_{T2}} = a$$"
   ]
  },
  {
   "cell_type": "code",
   "execution_count": 8,
   "metadata": {},
   "outputs": [
    {
     "name": "stdout",
     "output_type": "stream",
     "text": [
      "a = 1.323\n"
     ]
    }
   ],
   "source": [
    "a = Vt/Vt2\n",
    "print('a = {:.3f}'.format(a))"
   ]
  },
  {
   "cell_type": "markdown",
   "metadata": {},
   "source": [
    "so the current drawn from the supply will be:\n",
    "$$I_\\text{line} = \\frac{I_\\text{start}}{a}$$"
   ]
  },
  {
   "cell_type": "code",
   "execution_count": 9,
   "metadata": {},
   "outputs": [
    {
     "name": "stdout",
     "output_type": "stream",
     "text": [
      "\n",
      "Iline = 237 A\n",
      "=============\n"
     ]
    }
   ],
   "source": [
    "Iline = Il2 / a\n",
    "print('''\n",
    "Iline = {:.0f} A\n",
    "============='''.format(Iline))"
   ]
  }
 ],
 "metadata": {
  "kernelspec": {
   "display_name": "Python 3",
   "language": "python",
   "name": "python3"
  },
  "language_info": {
   "codemirror_mode": {
    "name": "ipython",
    "version": 3
   },
   "file_extension": ".py",
   "mimetype": "text/x-python",
   "name": "python",
   "nbconvert_exporter": "python",
   "pygments_lexer": "ipython3",
   "version": "3.6.7"
  }
 },
 "nbformat": 4,
 "nbformat_minor": 1
}
