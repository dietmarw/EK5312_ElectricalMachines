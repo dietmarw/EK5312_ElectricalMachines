{
 "cells": [
  {
   "cell_type": "markdown",
   "metadata": {},
   "source": [
    "# Excercises Electric Machinery Fundamentals\n",
    "## Chapter 6"
   ]
  },
  {
   "cell_type": "markdown",
   "metadata": {},
   "source": [
    "### Problem 6-25"
   ]
  },
  {
   "cell_type": "code",
   "execution_count": 1,
   "metadata": {
    "collapsed": false,
    "slideshow": {
     "slide_type": "skip"
    }
   },
   "outputs": [
    {
     "name": "stdout",
     "output_type": "stream",
     "text": [
      "Populating the interactive namespace from numpy and matplotlib\n"
     ]
    }
   ],
   "source": [
    "%pylab inline"
   ]
  },
  {
   "cell_type": "markdown",
   "metadata": {},
   "source": [
    "### Description"
   ]
  },
  {
   "cell_type": "markdown",
   "metadata": {},
   "source": [
    "In this chapter, we learned that a step-down autotransformer could be used to reduce the starting current drawn by an induction motor. While this technique works, an autotransformer is relatively expensive. A much less expensive way to reduce the starting current is to use a device called $Y - \\Delta$ starter (described earlier in this chapter). If an induction motor is normally $\\Delta$-connected, it is possible to reduce its phase voltage $V_\\phi$ (and hence its starting current) by simply re-connecting the stator windings in Y during starting, and then restoring the connections to $\\Delta$ when the motor comes up to speed. Answer the following questions about this type of starter.\n",
    "\n",
    "#### (a)\n",
    "\n",
    " * How would the phase voltage at starting compare with the phase voltage under normal running conditions?\n",
    " \n",
    "#### (b)\n",
    " \n",
    " * How would the starting current of the Y-connected motor compare to the starting current if the motor remained in a $\\Delta$-connection during starting?"
   ]
  },
  {
   "cell_type": "markdown",
   "metadata": {},
   "source": [
    "### SOLUTION"
   ]
  },
  {
   "cell_type": "markdown",
   "metadata": {},
   "source": [
    "#### (a)\n",
    "The phase voltage at $Y$-starting divided by the phase voltage under normal $\\Delta$-running conditions would be:"
   ]
  },
  {
   "cell_type": "code",
   "execution_count": 2,
   "metadata": {
    "collapsed": false
   },
   "outputs": [
    {
     "name": "stdout",
     "output_type": "stream",
     "text": [
      "\n",
      "Vstart_Vrun = 57.7 %\n",
      "====================\n"
     ]
    }
   ],
   "source": [
    "Vstart_Vrun = 1/sqrt(3)\n",
    "print('''\n",
    "Vstart_Vrun = {:.1f} %\n",
    "===================='''.format(Vstart_Vrun*100))"
   ]
  },
  {
   "cell_type": "markdown",
   "metadata": {},
   "source": [
    "I.e., $V_{\\phi,Y\\text{-start}} = V_{\\phi,\\Delta\\text{-run}}/\\sqrt{3}$ "
   ]
  },
  {
   "cell_type": "markdown",
   "metadata": {},
   "source": [
    "#### (b)\n",
    "The starting phase current will also decrease to same percentage of the normal starting current as the phase voltage does. \n",
    "\n",
    "* For the $\\Delta$-connection: $I_{L,\\Delta} = \\sqrt{3}I_{\\phi,\\Delta}$\n",
    "\n",
    "* For the Y-connection: $I_{L,Y} = I_{\\phi,Y}$\n",
    "\n",
    "But, $I_{\\phi,\\Delta} = \\sqrt{3}I_{\\phi,Y}$ because of  $V_{L_Y} = \\sqrt{3}V_{\\phi_Y}$ gives:\n",
    "\n",
    "$$I_{L,\\Delta} = \\sqrt{3}I_{\\phi,\\Delta} = \\sqrt{3} \\cdot \\sqrt{3}I_{L,Y}  = \\mathbf{3} \\cdot I_{L,Y} $$"
   ]
  },
  {
   "cell_type": "code",
   "execution_count": 3,
   "metadata": {
    "collapsed": false
   },
   "outputs": [
    {
     "name": "stdout",
     "output_type": "stream",
     "text": [
      "\n",
      "Ild = 3 Ily\n",
      "===========\n"
     ]
    }
   ],
   "source": [
    "Ild_Iphid = sqrt(3)\n",
    "Ily_Iphiy = 1\n",
    "Iphid_Iphiy = sqrt(3)\n",
    "Ild_Ily = Ild_Iphid * Iphid_Iphiy / Ily_Iphiy\n",
    "print('''\n",
    "Ild = {:.0f} Ily\n",
    "==========='''.format(Ild_Ily))"
   ]
  }
 ],
 "metadata": {
  "kernelspec": {
   "display_name": "Python 3",
   "language": "python",
   "name": "python3"
  },
  "language_info": {
   "codemirror_mode": {
    "name": "ipython",
    "version": 3
   },
   "file_extension": ".py",
   "mimetype": "text/x-python",
   "name": "python",
   "nbconvert_exporter": "python",
   "pygments_lexer": "ipython3",
   "version": "3.5.2"
  }
 },
 "nbformat": 4,
 "nbformat_minor": 0
}
