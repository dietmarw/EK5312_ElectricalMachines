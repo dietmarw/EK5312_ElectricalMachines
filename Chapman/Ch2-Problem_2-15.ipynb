{
 "cells": [
  {
   "cell_type": "markdown",
   "metadata": {},
   "source": [
    "# Excercises Electric Machinery Fundamentals\n",
    "## Chapter 2"
   ]
  },
  {
   "cell_type": "markdown",
   "metadata": {},
   "source": [
    "## Problem 2-15"
   ]
  },
  {
   "cell_type": "code",
   "execution_count": 1,
   "metadata": {
    "slideshow": {
     "slide_type": "skip"
    }
   },
   "outputs": [
    {
     "name": "stdout",
     "output_type": "stream",
     "text": [
      "Populating the interactive namespace from numpy and matplotlib\n"
     ]
    }
   ],
   "source": [
    "%pylab inline"
   ]
  },
  {
   "cell_type": "markdown",
   "metadata": {},
   "source": [
    "### Description"
   ]
  },
  {
   "cell_type": "markdown",
   "metadata": {},
   "source": [
    "An autotransformer is used to connect a 12.6-kV distribution line to a 13.8-kV distribution line. It must be capable of handling 2000 kVA. There are three phases, connected Y-Y with their neutrals solidly grounded."
   ]
  },
  {
   "cell_type": "code",
   "execution_count": 2,
   "metadata": {},
   "outputs": [],
   "source": [
    "Vl  = 12.6e3 # [V]\n",
    "Vh  = 13.8e3 # [V]\n",
    "Sio = 2000e3 # [VA]"
   ]
  },
  {
   "cell_type": "markdown",
   "metadata": {},
   "source": [
    "#### (a)\n",
    " \n",
    " * What must the $N_C / N _{SE}$ turns ratio be to accomplish this connection?\n",
    " \n",
    "#### (b)\n",
    " \n",
    " * How much apparent power must the windings of each autotransformer handle?\n",
    " \n",
    "#### (c)\n",
    " \n",
    " * What is the power advantage of this autotransformer system?\n",
    "\n",
    "#### (d)\n",
    "\n",
    " * If one of the autotransformers were reconnected as an ordinary transformer, what would its ratings be?"
   ]
  },
  {
   "cell_type": "markdown",
   "metadata": {},
   "source": [
    "### SOLUTION"
   ]
  },
  {
   "cell_type": "markdown",
   "metadata": {},
   "source": [
    "#### (a)\n",
    "\n",
    "The transformer is connected Y-Y, so the primary and secondary phase voltages are the line\n",
    "voltages divided by 3 . The turns ratio of each autotransformer is given by:\n",
    "\n",
    "$$\\frac{V_H}{V_L} = \\frac{N_C + N_{SE}}{N_C}$$"
   ]
  },
  {
   "cell_type": "code",
   "execution_count": 3,
   "metadata": {},
   "outputs": [
    {
     "name": "stdout",
     "output_type": "stream",
     "text": [
      "\n",
      "Nc/Nse = 10.5\n",
      "=============\n",
      "\n"
     ]
    }
   ],
   "source": [
    "a = (Vh/sqrt(3)) / (Vl/sqrt(3))\n",
    "n_a = 1 / (a-1)  # n_a = Nc/Nse\n",
    "print('''\n",
    "Nc/Nse = {:.1f}\n",
    "=============\n",
    "'''.format(n_a))"
   ]
  },
  {
   "cell_type": "markdown",
   "metadata": {},
   "source": [
    "#### (b)\n",
    "\n",
    "The power advantage of this autotransformer is:\n",
    "\n",
    "$$\\frac{S_{IO}}{S_W} = \\frac{N_C + N_{SE}}{N_{SE}}$$"
   ]
  },
  {
   "cell_type": "code",
   "execution_count": 4,
   "metadata": {},
   "outputs": [
    {
     "name": "stdout",
     "output_type": "stream",
     "text": [
      "Sio/Sw = 11.5\n"
     ]
    }
   ],
   "source": [
    "n_b = (10.5 + 1) / 1  # n_b = Sio/Sw\n",
    "print('Sio/Sw = {:.1f}'.format(n_b))"
   ]
  },
  {
   "cell_type": "markdown",
   "metadata": {},
   "source": [
    "Since 1/3 of the total power is associated with each phase, **the windings in each autotransformer must handle:**"
   ]
  },
  {
   "cell_type": "code",
   "execution_count": 5,
   "metadata": {},
   "outputs": [
    {
     "name": "stdout",
     "output_type": "stream",
     "text": [
      "\n",
      "Sw = 58.0 kVA\n",
      "==============\n",
      "\n"
     ]
    }
   ],
   "source": [
    "Sw = Sio / (3*n_b)\n",
    "print('''\n",
    "Sw = {:.1f} kVA\n",
    "==============\n",
    "'''.format(Sw/1000))"
   ]
  },
  {
   "cell_type": "markdown",
   "metadata": {},
   "source": [
    "#### (c)\n",
    "\n",
    "As determined in (b), the power advantage of this autotransformer system is:"
   ]
  },
  {
   "cell_type": "code",
   "execution_count": 6,
   "metadata": {},
   "outputs": [
    {
     "name": "stdout",
     "output_type": "stream",
     "text": [
      "\n",
      "Sio/Sw = 11.5\n",
      "=============\n",
      "\n"
     ]
    }
   ],
   "source": [
    "print('''\n",
    "Sio/Sw = {:.1f}\n",
    "=============\n",
    "'''.format(n_b))"
   ]
  },
  {
   "cell_type": "markdown",
   "metadata": {},
   "source": [
    "#### (d)\n",
    "\n",
    "The voltages across each phase of the autotransformer are:"
   ]
  },
  {
   "cell_type": "code",
   "execution_count": 7,
   "metadata": {},
   "outputs": [
    {
     "name": "stdout",
     "output_type": "stream",
     "text": [
      "\n",
      "Vh_p = 7967 V\n",
      "Vl_p = 7275 V\n",
      "\n"
     ]
    }
   ],
   "source": [
    "Vh_p = Vh / sqrt(3)\n",
    "Vl_p = Vl / sqrt(3)\n",
    "print('''\n",
    "Vh_p = {:.0f} V\n",
    "Vl_p = {:.0f} V\n",
    "'''.format(Vh_p, Vl_p))"
   ]
  },
  {
   "cell_type": "markdown",
   "metadata": {},
   "source": [
    "The voltage across the common winding ( $N_C$ ) is:"
   ]
  },
  {
   "cell_type": "code",
   "execution_count": 8,
   "metadata": {},
   "outputs": [
    {
     "name": "stdout",
     "output_type": "stream",
     "text": [
      "Vnc = 7275 V\n"
     ]
    }
   ],
   "source": [
    "Vnc = Vl_p\n",
    "print('Vnc = {:.0f} V'.format(Vnc))"
   ]
  },
  {
   "cell_type": "markdown",
   "metadata": {},
   "source": [
    "and the voltage across the series winding ( $N_{SE}$ ) is:"
   ]
  },
  {
   "cell_type": "code",
   "execution_count": 9,
   "metadata": {},
   "outputs": [
    {
     "name": "stdout",
     "output_type": "stream",
     "text": [
      "Vnse = 693 V\n"
     ]
    }
   ],
   "source": [
    "Vnse = Vh_p - Vl_p\n",
    "print('Vnse = {:.0f} V'.format(Vnse))"
   ]
  },
  {
   "cell_type": "markdown",
   "metadata": {},
   "source": [
    "Therefore, a single phase of the autotransformer connected as an ordinary transformer would be rated at:"
   ]
  },
  {
   "cell_type": "code",
   "execution_count": 10,
   "metadata": {},
   "outputs": [
    {
     "name": "stdout",
     "output_type": "stream",
     "text": [
      "\n",
      "Vnc/Vnse = 7275/693   Sw = 58.0 kVA\n",
      "===================   =============\n",
      "\n"
     ]
    }
   ],
   "source": [
    "print('''\n",
    "Vnc/Vnse = {:.0f}/{:.0f}   Sw = {:.1f} kVA\n",
    "===================   =============\n",
    "'''.format(Vnc, Vnse, Sw/1000))"
   ]
  }
 ],
 "metadata": {
  "kernelspec": {
   "display_name": "Python 3",
   "language": "python",
   "name": "python3"
  },
  "language_info": {
   "codemirror_mode": {
    "name": "ipython",
    "version": 3
   },
   "file_extension": ".py",
   "mimetype": "text/x-python",
   "name": "python",
   "nbconvert_exporter": "python",
   "pygments_lexer": "ipython3",
   "version": "3.5.2"
  }
 },
 "nbformat": 4,
 "nbformat_minor": 1
}
