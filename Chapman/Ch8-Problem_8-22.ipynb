{
 "cells": [
  {
   "cell_type": "markdown",
   "metadata": {},
   "source": [
    "# Excercises Electric Machinery Fundamentals\n",
    "## Chapter 8"
   ]
  },
  {
   "cell_type": "markdown",
   "metadata": {},
   "source": [
    "## Problem 8-22"
   ]
  },
  {
   "cell_type": "code",
   "execution_count": 1,
   "metadata": {
    "slideshow": {
     "slide_type": "skip"
    }
   },
   "outputs": [
    {
     "name": "stdout",
     "output_type": "stream",
     "text": [
      "Populating the interactive namespace from numpy and matplotlib\n"
     ]
    },
    {
     "data": {
      "text/plain": [
       "'%.4g'"
      ]
     },
     "execution_count": 1,
     "metadata": {},
     "output_type": "execute_result"
    }
   ],
   "source": [
    "%pylab inline\n",
    "%precision %.4g"
   ]
  },
  {
   "cell_type": "markdown",
   "metadata": {},
   "source": [
    "### Description"
   ]
  },
  {
   "cell_type": "markdown",
   "metadata": {},
   "source": [
    "The magnetization curve for a separately excited dc generator is shown in Figure P8-7. The generator is\n",
    "rated at 6 kW, 120 V, 50 A, and 1800 r/min and is shown in Figure P8-8. Its field circuit is rated at 5A. \n",
    "\n",
    "<img src=\"figs/FigC_P8-7.jpg\" width=\"70%\">\n",
    "\n",
    "<hr>\n",
    "\n",
    "**Note**\n",
    "An electronic version of this magnetization curve can be found in file\n",
    "[p87_mag.dat](data/p87_mag.dat) , which can be used with Python programs. Column 1\n",
    "contains field current in amps, and column 2 contains the internal generated\n",
    "voltage $E_A$ in volts.\n",
    "<hr>\n",
    "\n",
    "<img src=\"figs/FigC_P8-8.jpg\" width=\"70%\">\n",
    "\n",
    "The following data are known about the machine:\n",
    "$$R_A = 0.18\\,\\Omega \\qquad \\quad V_F = 120\\,V$$\n",
    "$$R_\\text{adj} = 0\\text{ to }40\\,\\Omega \\qquad R_F = 20\\, \\Omega$$\n",
    "$$N_F = 1000 \\text{ turns per pole}$$"
   ]
  },
  {
   "cell_type": "code",
   "execution_count": 2,
   "metadata": {},
   "outputs": [],
   "source": [
    "n0       = 1800    # [r/min]\n",
    "Ra       =    0.18 # [Ohm]\n",
    "Vf       =  120    # [V]\n",
    "Radj_min =    0    # [Ohm]\n",
    "Radj_max =   40    # [Ohm]\n",
    "Rf       =   20    # [Ohm]\n",
    "Nf       = 1000"
   ]
  },
  {
   "cell_type": "markdown",
   "metadata": {},
   "source": [
    "#### (a)\n",
    "If this generator is operating at no load\n",
    "\n",
    " * What is the range of voltage adjustments that can be achieved by changing $R_\\text{adj}$ ?\n",
    " \n",
    "#### (b)\n",
    "\n",
    "If the field rheostat is allowed to vary from 0 to 30 $\\Omega$ and the generator's speed is allowed to vary\n",
    "from 1500 to 2000 r/min\n",
    "\n",
    " * What are the maximum and minimum no-load voltages in the generator?"
   ]
  },
  {
   "cell_type": "markdown",
   "metadata": {},
   "source": [
    "### SOLUTION"
   ]
  },
  {
   "cell_type": "markdown",
   "metadata": {},
   "source": [
    "#### (a)\n",
    "If the generator is operating with no load at 1800 r/min, then the terminal voltage will equal the\n",
    "internal generated voltage $E_A$ . The maximum possible field current occurs when $R_\\text{adj} = 0\\,\\Omega$ . The current is:\n",
    "\n",
    "$$I_F = \\frac{V_F}{R_F + R_\\text{adj}}$$"
   ]
  },
  {
   "cell_type": "code",
   "execution_count": 3,
   "metadata": {},
   "outputs": [
    {
     "data": {
      "text/plain": [
       "6"
      ]
     },
     "execution_count": 3,
     "metadata": {},
     "output_type": "execute_result"
    }
   ],
   "source": [
    "If_max = Vf / (Rf + Radj_min)\n",
    "If_max"
   ]
  },
  {
   "cell_type": "markdown",
   "metadata": {},
   "source": [
    "Amperes. From the magnetization curve, the voltage $E_{Ao}$ at 1800 r/min is 135 V. \n",
    "\n",
    "**Since the actual speed is 1800r/min, the maximum no-load voltage is 135 V.**"
   ]
  },
  {
   "cell_type": "markdown",
   "metadata": {},
   "source": [
    "The minimum possible field current occurs when $R_\\text{adj} = 40\\,\\Omega$.\n",
    "\n",
    "The current is:"
   ]
  },
  {
   "cell_type": "code",
   "execution_count": 4,
   "metadata": {},
   "outputs": [
    {
     "data": {
      "text/plain": [
       "2"
      ]
     },
     "execution_count": 4,
     "metadata": {},
     "output_type": "execute_result"
    }
   ],
   "source": [
    "If_min = Vf / (Rf + Radj_max)\n",
    "If_min"
   ]
  },
  {
   "cell_type": "markdown",
   "metadata": {},
   "source": [
    "Amperes. From the magnetization curve, the voltage $E_{Ao}$ at 1800 r/min is 79.5 V. \n",
    "\n",
    "**Since the actual speed is 1800r/min, the minimum no-load voltage is 79.5 V.**"
   ]
  },
  {
   "cell_type": "markdown",
   "metadata": {},
   "source": [
    "#### (b)\n",
    "The maximum voltage will occur at the highest current and speed, and the minimum voltage will\n",
    "occur at the lowest current and speed. The maximum possible field current occurs when $R_\\text{adj} = 0\\,\\Omega$. \n",
    "\n",
    "The current is"
   ]
  },
  {
   "cell_type": "code",
   "execution_count": 5,
   "metadata": {},
   "outputs": [
    {
     "data": {
      "text/plain": [
       "6"
      ]
     },
     "execution_count": 5,
     "metadata": {},
     "output_type": "execute_result"
    }
   ],
   "source": [
    "If_max = Vf / (Rf + Radj_min)\n",
    "If_max"
   ]
  },
  {
   "cell_type": "markdown",
   "metadata": {},
   "source": [
    "From the magnetization curve, the voltage $E_{Ao}$ at 1800 r/min is 135 V. Since the actual speed is 2000\n",
    "r/min, the maximum no-load voltage is:\n",
    "\n",
    "$$\\frac{E_A}{E_{A0}} = \\frac{n}{n_0}$$"
   ]
  },
  {
   "cell_type": "code",
   "execution_count": 6,
   "metadata": {},
   "outputs": [
    {
     "name": "stdout",
     "output_type": "stream",
     "text": [
      "\n",
      "Ea_max = 150 V\n",
      "==============\n"
     ]
    }
   ],
   "source": [
    "n_max   = 2000 # [r/min]\n",
    "Ea0_max =  135 # [V]\n",
    "Ea_max  = Ea0_max * n_max / n0\n",
    "print('''\n",
    "Ea_max = {:.0f} V\n",
    "=============='''.format(Ea_max))"
   ]
  },
  {
   "cell_type": "markdown",
   "metadata": {},
   "source": [
    "The minimum possible field current occurs and minimum speed and field current. The maximum adjustable resistance is $R_\\text{adj} = 30\\,\\Omega$.\n",
    "\n",
    "The current is"
   ]
  },
  {
   "cell_type": "code",
   "execution_count": 7,
   "metadata": {},
   "outputs": [
    {
     "data": {
      "text/plain": [
       "2.4"
      ]
     },
     "execution_count": 7,
     "metadata": {},
     "output_type": "execute_result"
    }
   ],
   "source": [
    "Radj_max_b = 30.0 # [Ohm]\n",
    "If_min = Vf / (Rf + Radj_max_b)\n",
    "If_min"
   ]
  },
  {
   "cell_type": "markdown",
   "metadata": {},
   "source": [
    "Amperes. From the magnetization curve, the voltage $E_{Ao}$ at 1800 r/min is 93.1 V. \n",
    "\n",
    "Since the actual speed is 1500 r/min, the maximum no-load voltage is"
   ]
  },
  {
   "cell_type": "code",
   "execution_count": 8,
   "metadata": {},
   "outputs": [
    {
     "name": "stdout",
     "output_type": "stream",
     "text": [
      "\n",
      "Ea_min = 77.6 V\n",
      "===============\n"
     ]
    }
   ],
   "source": [
    "n_min   = 1500   # [r/min]\n",
    "Ea0_min =   93.1 # [V]\n",
    "Ea_min  = Ea0_min * n_min / n0\n",
    "print('''\n",
    "Ea_min = {:.1f} V\n",
    "==============='''.format(Ea_min))"
   ]
  }
 ],
 "metadata": {
  "kernelspec": {
   "display_name": "Python 3",
   "language": "python",
   "name": "python3"
  },
  "language_info": {
   "codemirror_mode": {
    "name": "ipython",
    "version": 3
   },
   "file_extension": ".py",
   "mimetype": "text/x-python",
   "name": "python",
   "nbconvert_exporter": "python",
   "pygments_lexer": "ipython3",
   "version": "3.6.7"
  }
 },
 "nbformat": 4,
 "nbformat_minor": 1
}
