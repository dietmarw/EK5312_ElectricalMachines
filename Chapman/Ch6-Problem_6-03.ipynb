{
 "cells": [
  {
   "cell_type": "markdown",
   "metadata": {},
   "source": [
    "# Excercises Electric Machinery Fundamentals\n",
    "## Chapter 6"
   ]
  },
  {
   "cell_type": "markdown",
   "metadata": {},
   "source": [
    "## Problem 6-3"
   ]
  },
  {
   "cell_type": "code",
   "execution_count": 1,
   "metadata": {
    "slideshow": {
     "slide_type": "skip"
    }
   },
   "outputs": [
    {
     "name": "stdout",
     "output_type": "stream",
     "text": [
      "Populating the interactive namespace from numpy and matplotlib\n"
     ]
    },
    {
     "data": {
      "text/plain": [
       "'%.4f'"
      ]
     },
     "execution_count": 1,
     "metadata": {},
     "output_type": "execute_result"
    }
   ],
   "source": [
    "%pylab inline\n",
    "%precision 4"
   ]
  },
  {
   "cell_type": "markdown",
   "metadata": {},
   "source": [
    "### Description"
   ]
  },
  {
   "cell_type": "markdown",
   "metadata": {},
   "source": [
    "A three-phase 60-Hz induction motor runs at 715 r/min at no-load and at 670 r/min at full load.\n",
    "\n",
    "##### Note:\n",
    "The *no-load* speed is near but not identical with the synchronous speed. You will always have some losses that the machine needs to overcome. Hence the speed of the rotor will never reach synchronous speed even with no-load.    "
   ]
  },
  {
   "cell_type": "code",
   "execution_count": 2,
   "metadata": {},
   "outputs": [],
   "source": [
    "fe       =  60.0 # [Hz]\n",
    "n_noload = 715.0 # [r/min]\n",
    "n_m      = 670.0 # [r/min]"
   ]
  },
  {
   "cell_type": "markdown",
   "metadata": {},
   "source": [
    "#### (a)\n",
    " * How many poles does this motor have?\n",
    " \n",
    "#### (b)\n",
    " * What is the slip at rated load?\n",
    " \n",
    "#### (c)\n",
    " * What is the speed at one-quarter of the rated load?\n",
    " \n",
    "#### (d)\n",
    " * What is the rotor’s electrical frequency at one-quarter of the rated load?"
   ]
  },
  {
   "cell_type": "markdown",
   "metadata": {},
   "source": [
    "### SOLUTION"
   ]
  },
  {
   "cell_type": "markdown",
   "metadata": {},
   "source": [
    "#### (a)\n",
    "This machine produces a synchronous speed of:\n",
    "\n",
    "$$n_\\text{sync} = \\frac{120f_e}{p}$$"
   ]
  },
  {
   "cell_type": "code",
   "execution_count": 3,
   "metadata": {},
   "outputs": [
    {
     "data": {
      "text/plain": [
       "10.0699"
      ]
     },
     "execution_count": 3,
     "metadata": {},
     "output_type": "execute_result"
    }
   ],
   "source": [
    "p = 120*fe / n_noload\n",
    "p"
   ]
  },
  {
   "cell_type": "markdown",
   "metadata": {},
   "source": [
    "So nearest even number of poles is:"
   ]
  },
  {
   "cell_type": "code",
   "execution_count": 4,
   "metadata": {},
   "outputs": [],
   "source": [
    "p=floor(p/2)*2 # nearest even number"
   ]
  },
  {
   "cell_type": "code",
   "execution_count": 5,
   "metadata": {},
   "outputs": [
    {
     "name": "stdout",
     "output_type": "stream",
     "text": [
      "\n",
      "p = 10 \n",
      "======\n"
     ]
    }
   ],
   "source": [
    "p=floor(p/2)*2 # nearest even number\n",
    "print('''\n",
    "p = {:.0f} \n",
    "======'''.format(p))"
   ]
  },
  {
   "cell_type": "markdown",
   "metadata": {},
   "source": [
    "which produces a syncronous speed of"
   ]
  },
  {
   "cell_type": "code",
   "execution_count": 6,
   "metadata": {},
   "outputs": [
    {
     "name": "stdout",
     "output_type": "stream",
     "text": [
      "n_sync = 720 rpm\n"
     ]
    }
   ],
   "source": [
    "n_sync = 120*fe / p\n",
    "print('n_sync = {:.0f} rpm'.format(n_sync))"
   ]
  },
  {
   "cell_type": "markdown",
   "metadata": {},
   "source": [
    "#### (b)\n",
    "The slip at rated load is:\n",
    "\n",
    "$$s = \\frac{n_\\text{sync} - n_m}{n_\\text{sync}} \\cdot 100\\%$$"
   ]
  },
  {
   "cell_type": "code",
   "execution_count": 7,
   "metadata": {},
   "outputs": [
    {
     "name": "stdout",
     "output_type": "stream",
     "text": [
      "\n",
      "s = 6.94 %\n",
      "==========\n"
     ]
    }
   ],
   "source": [
    "s = (n_sync - n_m) / n_sync\n",
    "print('''\n",
    "s = {:.2f} %\n",
    "=========='''.format(s*100))"
   ]
  },
  {
   "cell_type": "markdown",
   "metadata": {},
   "source": [
    "#### (c)\n",
    "The motor is operating in the linear region of its torque-speed curve, so the slip at $\\frac14$ load will approximatly be:"
   ]
  },
  {
   "cell_type": "code",
   "execution_count": 8,
   "metadata": {},
   "outputs": [
    {
     "data": {
      "text/plain": [
       "0.0174"
      ]
     },
     "execution_count": 8,
     "metadata": {},
     "output_type": "execute_result"
    }
   ],
   "source": [
    "s_c = 1/4 * s\n",
    "s_c"
   ]
  },
  {
   "cell_type": "markdown",
   "metadata": {},
   "source": [
    "The resulting speed is:"
   ]
  },
  {
   "cell_type": "code",
   "execution_count": 9,
   "metadata": {},
   "outputs": [
    {
     "name": "stdout",
     "output_type": "stream",
     "text": [
      "\n",
      "n_m_c = 708 r/min\n",
      "=================\n"
     ]
    }
   ],
   "source": [
    "n_m_c = (1 - s_c) * n_sync\n",
    "print('''\n",
    "n_m_c = {:.0f} r/min\n",
    "================='''.format(n_m_c))"
   ]
  },
  {
   "cell_type": "markdown",
   "metadata": {},
   "source": [
    "#### (d)\n",
    "The electrical frequency at $\\frac14$ load is:\n",
    "\n",
    "$$f_r = sf_e$$"
   ]
  },
  {
   "cell_type": "code",
   "execution_count": 10,
   "metadata": {},
   "outputs": [
    {
     "name": "stdout",
     "output_type": "stream",
     "text": [
      "\n",
      "fr_d = 1.04 Hz\n",
      "==============\n"
     ]
    }
   ],
   "source": [
    "fr_d = s_c * fe\n",
    "print('''\n",
    "fr_d = {:.2f} Hz\n",
    "=============='''.format(fr_d))"
   ]
  }
 ],
 "metadata": {
  "kernelspec": {
   "display_name": "Python 3",
   "language": "python",
   "name": "python3"
  },
  "language_info": {
   "codemirror_mode": {
    "name": "ipython",
    "version": 3
   },
   "file_extension": ".py",
   "mimetype": "text/x-python",
   "name": "python",
   "nbconvert_exporter": "python",
   "pygments_lexer": "ipython3",
   "version": "3.5.2"
  }
 },
 "nbformat": 4,
 "nbformat_minor": 1
}
