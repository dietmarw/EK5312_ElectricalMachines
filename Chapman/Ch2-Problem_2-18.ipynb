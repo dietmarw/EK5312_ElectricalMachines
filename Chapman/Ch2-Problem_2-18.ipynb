{
 "cells": [
  {
   "cell_type": "markdown",
   "metadata": {},
   "source": [
    "# Excercises Electric Machinery Fundamentals\n",
    "## Chapter 2"
   ]
  },
  {
   "cell_type": "markdown",
   "metadata": {},
   "source": [
    "## Problem 2-18"
   ]
  },
  {
   "cell_type": "code",
   "execution_count": 1,
   "metadata": {
    "collapsed": false,
    "slideshow": {
     "slide_type": "skip"
    }
   },
   "outputs": [
    {
     "name": "stdout",
     "output_type": "stream",
     "text": [
      "Populating the interactive namespace from numpy and matplotlib\n"
     ]
    }
   ],
   "source": [
    "%pylab inline"
   ]
  },
  {
   "cell_type": "markdown",
   "metadata": {},
   "source": [
    "### Description"
   ]
  },
  {
   "cell_type": "markdown",
   "metadata": {},
   "source": [
    "A 10-kVA 480/120-V conventional transformer is to be used to supply power from a 600-V source to a 480-V load. Consider the transformer to be ideal, and assume that all insulation can handle 600 V."
   ]
  },
  {
   "cell_type": "code",
   "execution_count": 2,
   "metadata": {
    "collapsed": false
   },
   "outputs": [],
   "source": [
    "Sw = 10e3  # [VA]\n",
    "Vp = 600   # [V]\n",
    "\n",
    "Vh = 480   # [V] which is also the load voltage\n",
    "Vl = 120   # [V]"
   ]
  },
  {
   "cell_type": "markdown",
   "metadata": {},
   "source": [
    "#### (a)\n",
    " \n",
    " * Sketch the transformer connection that will do the required job.\n",
    "\n",
    "#### (b)\n",
    "\n",
    " * Find the kilovoltampere rating of the transformer in the configuration.\n",
    "\n",
    "#### (c)\n",
    "\n",
    " * Find the maximum primary and secondary currents under these conditions.\n",
    "\n",
    "#### (d)\n",
    "\n",
    "The transformer in Problem 2-18 is identical to the transformer in Problem 2-17, but there is a significant difference in the apparent power capability of the transformer in the two situations.\n",
    "\n",
    " * Why? \n",
    " * What does that say about the best circumstances in which to use an autotransformer?"
   ]
  },
  {
   "cell_type": "markdown",
   "metadata": {},
   "source": [
    "### SOLUTION"
   ]
  },
  {
   "cell_type": "markdown",
   "metadata": {},
   "source": [
    "#### (a)\n",
    "\n",
    "For this configuration, the common winding must be the larger of the two windings.\n",
    "The transformer connection is shown below:"
   ]
  },
  {
   "cell_type": "markdown",
   "metadata": {},
   "source": [
    "<img src=\"figs/Problem_2-18.jpg\" width=\"40%\">"
   ]
  },
  {
   "cell_type": "markdown",
   "metadata": {},
   "source": [
    "#### (b)\n",
    "\n",
    "**The kVA rating of the autotransformer can be found from the equation:**\n",
    "\n",
    "$$S_{IO} = \\frac{N_{SE} + N_C}{N_{SE}}S_W = \\frac{N_{SE} + 4N_{SE}}{N_{SE}}S_W$$"
   ]
  },
  {
   "cell_type": "code",
   "execution_count": 3,
   "metadata": {
    "collapsed": false
   },
   "outputs": [
    {
     "data": {
      "text/plain": [
       "4.0"
      ]
     },
     "execution_count": 3,
     "metadata": {},
     "output_type": "execute_result"
    }
   ],
   "source": [
    "n = Vh/Vl  # = Nc/Nse\n",
    "n"
   ]
  },
  {
   "cell_type": "code",
   "execution_count": 4,
   "metadata": {
    "collapsed": false
   },
   "outputs": [
    {
     "name": "stdout",
     "output_type": "stream",
     "text": [
      "\n",
      "Sio = 50.0 kVA\n",
      "==============\n",
      "\n"
     ]
    }
   ],
   "source": [
    "Sio = (1 + n)/1 * Sw\n",
    "print('''\n",
    "Sio = {:.1f} kVA\n",
    "==============\n",
    "'''.format(Sio/1000))"
   ]
  },
  {
   "cell_type": "markdown",
   "metadata": {},
   "source": [
    "#### (c)\n",
    "\n",
    "**The maximum primary current for this configuration will be:**\n",
    "\n",
    "$$I_P = \\frac{S}{V_P}$$"
   ]
  },
  {
   "cell_type": "code",
   "execution_count": 5,
   "metadata": {
    "collapsed": false
   },
   "outputs": [
    {
     "name": "stdout",
     "output_type": "stream",
     "text": [
      "\n",
      "Ip = 83.3 A\n",
      "===========\n",
      "\n"
     ]
    }
   ],
   "source": [
    "Ip = Sio/Vp\n",
    "print('''\n",
    "Ip = {:.1f} A\n",
    "===========\n",
    "'''.format(Ip))"
   ]
  },
  {
   "cell_type": "markdown",
   "metadata": {},
   "source": [
    "**and the maximum secondary current is:**\n",
    "\n",
    "$$I_S = \\frac{S}{V_S}$$"
   ]
  },
  {
   "cell_type": "code",
   "execution_count": 6,
   "metadata": {
    "collapsed": false
   },
   "outputs": [
    {
     "name": "stdout",
     "output_type": "stream",
     "text": [
      "\n",
      "s = 104 A\n",
      "=========\n",
      "\n"
     ]
    }
   ],
   "source": [
    "Is = Sio/Vh\n",
    "print('''\n",
    "s = {:.0f} A\n",
    "=========\n",
    "'''.format(Is))"
   ]
  },
  {
   "cell_type": "markdown",
   "metadata": {},
   "source": [
    "#### (d)\n",
    "\n",
    "Note that the apparent power handling capability of the autotransformer is much higher when there is only a small difference between primary and secondary voltages. Autotransformers are normally only used when there is a small difference between the two voltage levels."
   ]
  }
 ],
 "metadata": {
  "kernelspec": {
   "display_name": "Python 3",
   "language": "python",
   "name": "python3"
  },
  "language_info": {
   "codemirror_mode": {
    "name": "ipython",
    "version": 3
   },
   "file_extension": ".py",
   "mimetype": "text/x-python",
   "name": "python",
   "nbconvert_exporter": "python",
   "pygments_lexer": "ipython3",
   "version": "3.5.1+"
  }
 },
 "nbformat": 4,
 "nbformat_minor": 0
}
