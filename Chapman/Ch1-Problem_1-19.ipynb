{
 "cells": [
  {
   "cell_type": "markdown",
   "metadata": {},
   "source": [
    "# Excercises Electric Machinery Fundamentals\n",
    "## Chapter 1"
   ]
  },
  {
   "cell_type": "markdown",
   "metadata": {},
   "source": [
    "## Problem 1-19"
   ]
  },
  {
   "cell_type": "code",
   "execution_count": 1,
   "metadata": {
    "collapsed": false,
    "slideshow": {
     "slide_type": "skip"
    }
   },
   "outputs": [
    {
     "name": "stdout",
     "output_type": "stream",
     "text": [
      "Populating the interactive namespace from numpy and matplotlib\n"
     ]
    },
    {
     "data": {
      "text/plain": [
       "'%.4g'"
      ]
     },
     "execution_count": 1,
     "metadata": {},
     "output_type": "execute_result"
    }
   ],
   "source": [
    "%pylab inline\n",
    "%precision %.4g"
   ]
  },
  {
   "cell_type": "markdown",
   "metadata": {},
   "source": [
    "### Description"
   ]
  },
  {
   "cell_type": "markdown",
   "metadata": {},
   "source": [
    "Figure P1-14 shows a simple single-phase ac power system with three loads. The voltage source is\n",
    "$\\vec{V} = 240\\,V\\angle 0^\\circ$, impedances of these three loads are:\n",
    "\n",
    "$$\\vec{Z}_1 =  10\\,\\Omega\\angle 30^\\circ \\quad \\vec{Z}_2 =  10\\,\\Omega\\angle 45^\\circ \\quad \\vec{Z}_3 =  10\\,\\Omega\\angle -90^\\circ $$\n",
    "\n",
    "<img src=\"figs/FigC_P1-14.jpg\" width=\"80%\">"
   ]
  },
  {
   "cell_type": "code",
   "execution_count": 2,
   "metadata": {
    "collapsed": false
   },
   "outputs": [],
   "source": [
    "V  = 240  # [V]\n",
    "Z1 = 10.0 * exp(1j* 30/180*pi)  \n",
    "Z2 = 10.0 * exp(1j* 45/180*pi)  \n",
    "Z3 = 10.0 * exp(1j*-90/180*pi)  "
   ]
  },
  {
   "cell_type": "markdown",
   "metadata": {},
   "source": [
    "Answer the following questions about this power system.\n",
    "\n",
    "#### (a)\n",
    "\n",
    " * Assume that the switch shown in the figure is initially open, and calculate the current I , the power factor, and the real, reactive, and apparent power being supplied by the source.\n",
    "\n",
    "#### (b)\n",
    "\n",
    " * How much real, reactive, and apparent power is being consumed by each load with the switch open?\n",
    "\n",
    "#### (c)\n",
    "\n",
    " * Assume that the switch shown in the figure is now closed, and calculate the current I , the power factor, and the real, reactive, and apparent power being supplied by the source.\n",
    "\n",
    "#### (d)\n",
    "\n",
    " * How much real, reactive, and apparent power is being consumed by each load with the switch closed?\n",
    " \n",
    "#### (e)\n",
    "\n",
    " * What happened to the current flowing from the source when the switch closed? Why?"
   ]
  },
  {
   "cell_type": "markdown",
   "metadata": {},
   "source": [
    "### SOLUTION"
   ]
  },
  {
   "cell_type": "markdown",
   "metadata": {},
   "source": [
    "#### (a)\n",
    "With the switch open, only loads 1 and 2 are connected to the source. The current $\\vec{I}_1$ in Load 1 and the current $\\vec{I}_2$ in Load 2 are:"
   ]
  },
  {
   "cell_type": "code",
   "execution_count": 3,
   "metadata": {
    "collapsed": false
   },
   "outputs": [
    {
     "name": "stdout",
     "output_type": "stream",
     "text": [
      "I1 = 24.0 A ∠-30.0°\n",
      "I2 = 24.0 A ∠-45.0°\n"
     ]
    }
   ],
   "source": [
    "I1 = V/Z1\n",
    "I2 = V/Z2\n",
    "I1_angle = arctan(I1.imag/I1.real)\n",
    "I2_angle = arctan(I2.imag/I2.real)\n",
    "print('''I1 = {:.1f} A ∠{:.1f}°\n",
    "I2 = {:.1f} A ∠{:.1f}°'''.format(\n",
    "        abs(I1), I1_angle/pi*180,\n",
    "        abs(I2), I2_angle/pi*180))"
   ]
  },
  {
   "cell_type": "markdown",
   "metadata": {},
   "source": [
    "Therefore the total current from the source is $\\vec{I} = \\vec{I}_1 + \\vec{I}_2$:"
   ]
  },
  {
   "cell_type": "code",
   "execution_count": 4,
   "metadata": {
    "collapsed": false
   },
   "outputs": [
    {
     "name": "stdout",
     "output_type": "stream",
     "text": [
      "I = 47.6 A ∠-37.5°\n",
      "==================\n"
     ]
    }
   ],
   "source": [
    "I = I1 + I2\n",
    "I_angle = arctan(I.imag/I.real)\n",
    "print('I = {:.1f} A ∠{:.1f}°'.format(\n",
    "        abs(I), I_angle/pi*180))\n",
    "print('==================')           "
   ]
  },
  {
   "cell_type": "markdown",
   "metadata": {},
   "source": [
    "The power factor supplied by the source is:"
   ]
  },
  {
   "cell_type": "code",
   "execution_count": 5,
   "metadata": {
    "collapsed": false
   },
   "outputs": [
    {
     "data": {
      "text/plain": [
       "0.7934"
      ]
     },
     "execution_count": 5,
     "metadata": {},
     "output_type": "execute_result"
    }
   ],
   "source": [
    "PF = cos(-I_angle)\n",
    "PF"
   ]
  },
  {
   "cell_type": "markdown",
   "metadata": {},
   "source": [
    "lagging (because current laggs behind voltage). \n",
    "\n",
    "Note that the angle $\\theta$ used in the power factor and power calculations is the impedance angle, which is the negative of the current angle as long as voltage is at $0^\\circ$.\n",
    "\n",
    "The real, reactive, and apparent power supplied by the source are\n",
    "\n",
    "$$S = VI^* \\quad P = VI\\cos\\theta = real(S) \\quad Q = VI\\sin\\theta = imag(S)$$"
   ]
  },
  {
   "cell_type": "code",
   "execution_count": 6,
   "metadata": {
    "collapsed": false
   },
   "outputs": [
    {
     "data": {
      "text/plain": [
       "(9061.2413854328806+6952.935059634513j)"
      ]
     },
     "execution_count": 6,
     "metadata": {},
     "output_type": "execute_result"
    }
   ],
   "source": [
    "So = V*conj(I)    # I use index \"o\" for open switch\n",
    "So"
   ]
  },
  {
   "cell_type": "markdown",
   "metadata": {},
   "source": [
    "Let's pretty-print that:"
   ]
  },
  {
   "cell_type": "code",
   "execution_count": 7,
   "metadata": {
    "collapsed": false
   },
   "outputs": [
    {
     "name": "stdout",
     "output_type": "stream",
     "text": [
      "\n",
      "So = 11421.4 VA\n",
      "Po =  9061.2 W\n",
      "Qo =  6952.9 var\n",
      "================\n"
     ]
    }
   ],
   "source": [
    "print('''\n",
    "So = {:>7.1f} VA\n",
    "Po = {:>7.1f} W\n",
    "Qo = {:>7.1f} var\n",
    "================'''.format(abs(So), So.real, So.imag))"
   ]
  },
  {
   "cell_type": "markdown",
   "metadata": {},
   "source": [
    "#### (b)\n",
    "\n",
    "The real, reactive, and apparent power consumed by Load 1 and by Load 2 respectively are:"
   ]
  },
  {
   "cell_type": "code",
   "execution_count": 8,
   "metadata": {
    "collapsed": false
   },
   "outputs": [
    {
     "data": {
      "text/plain": [
       "(4988.3063257983667+2879.9999999999991j)"
      ]
     },
     "execution_count": 8,
     "metadata": {},
     "output_type": "execute_result"
    }
   ],
   "source": [
    "S1o = V*conj(I1)\n",
    "S1o"
   ]
  },
  {
   "cell_type": "code",
   "execution_count": 9,
   "metadata": {
    "collapsed": false
   },
   "outputs": [
    {
     "data": {
      "text/plain": [
       "(4072.9350596345143+4072.9350596345143j)"
      ]
     },
     "execution_count": 9,
     "metadata": {},
     "output_type": "execute_result"
    }
   ],
   "source": [
    "S2o = V*conj(I2)\n",
    "S2o"
   ]
  },
  {
   "cell_type": "markdown",
   "metadata": {},
   "source": [
    "Let's pretty-print that:"
   ]
  },
  {
   "cell_type": "code",
   "execution_count": 10,
   "metadata": {
    "collapsed": false
   },
   "outputs": [
    {
     "name": "stdout",
     "output_type": "stream",
     "text": [
      "\n",
      "S1o = 5760.0 VA\n",
      "P1o = 4988.3 W\n",
      "Q1o = 2880.0 var\n",
      "----------------\n",
      "S2o = 5760.0 VA\n",
      "P2o = 4072.9 W\n",
      "Q2o = 4072.9 var\n",
      "================\n"
     ]
    }
   ],
   "source": [
    "print('''\n",
    "S1o = {:>6.1f} VA\n",
    "P1o = {:>6.1f} W\n",
    "Q1o = {:>6.1f} var\n",
    "----------------\n",
    "S2o = {:>6.1f} VA\n",
    "P2o = {:>6.1f} W\n",
    "Q2o = {:>6.1f} var\n",
    "================'''.format(abs(S1o), S1o.real, S1o.imag,\n",
    "                           abs(S2o), S2o.real, S2o.imag))"
   ]
  },
  {
   "cell_type": "markdown",
   "metadata": {},
   "source": [
    "As expected, the real and reactive power supplied by the source are equal to the sum of the\n",
    "real and reactive powers consumed by the loads."
   ]
  },
  {
   "cell_type": "markdown",
   "metadata": {},
   "source": [
    "#### (c)\n",
    "With the switch closed, all three loads are connected to the source. The current in Loads 1 and 2 is the same as before. The current $\\vec{I}_3$  in Load 3 is:"
   ]
  },
  {
   "cell_type": "code",
   "execution_count": 11,
   "metadata": {
    "collapsed": false
   },
   "outputs": [
    {
     "name": "stdout",
     "output_type": "stream",
     "text": [
      "I3 = 24.0 A ∠90.0°\n"
     ]
    }
   ],
   "source": [
    "I3 = V/Z3\n",
    "I3_angle = arctan(I3.imag/I3.real)\n",
    "print('I3 = {:.1f} A ∠{:.1f}°'.format(abs(I3), I3_angle/pi*180))           "
   ]
  },
  {
   "cell_type": "markdown",
   "metadata": {},
   "source": [
    "Therefore the total current from the source is $\\vec{I} = \\vec{I}_1 + \\vec{I}_2 + \\vec{I}_3$:"
   ]
  },
  {
   "cell_type": "code",
   "execution_count": 12,
   "metadata": {
    "collapsed": false
   },
   "outputs": [
    {
     "name": "stdout",
     "output_type": "stream",
     "text": [
      "I = 38.1 A ∠-7.5°\n",
      "=================\n"
     ]
    }
   ],
   "source": [
    "I = I1 + I2 + I3\n",
    "I_angle = arctan(I.imag/I.real)\n",
    "print('I = {:.1f} A ∠{:.1f}°'.format(abs(I), I_angle/pi*180))\n",
    "print('=================')           "
   ]
  },
  {
   "cell_type": "markdown",
   "metadata": {},
   "source": [
    "The power factor supplied by the source is:"
   ]
  },
  {
   "cell_type": "code",
   "execution_count": 13,
   "metadata": {
    "collapsed": false
   },
   "outputs": [
    {
     "data": {
      "text/plain": [
       "0.9914"
      ]
     },
     "execution_count": 13,
     "metadata": {},
     "output_type": "execute_result"
    }
   ],
   "source": [
    "PF = cos(-I_angle)\n",
    "PF"
   ]
  },
  {
   "cell_type": "markdown",
   "metadata": {},
   "source": [
    "lagging (because current laggs behind voltage). \n",
    "\n",
    "The real, reactive, and apparent power supplied by the source are\n",
    "\n",
    "$$S = VI^* \\quad P = VI\\cos\\theta = real(S) \\quad Q = VI\\sin\\theta = imag(S)$$"
   ]
  },
  {
   "cell_type": "code",
   "execution_count": 14,
   "metadata": {
    "collapsed": false
   },
   "outputs": [
    {
     "data": {
      "text/plain": [
       "(9061.2413854328806+1192.9350596345134j)"
      ]
     },
     "execution_count": 14,
     "metadata": {},
     "output_type": "execute_result"
    }
   ],
   "source": [
    "Sc = V*conj(I)    # I use index \"c\" for closed switch\n",
    "Sc"
   ]
  },
  {
   "cell_type": "markdown",
   "metadata": {},
   "source": [
    "Let's pretty-print that:"
   ]
  },
  {
   "cell_type": "code",
   "execution_count": 15,
   "metadata": {
    "collapsed": false
   },
   "outputs": [
    {
     "name": "stdout",
     "output_type": "stream",
     "text": [
      "\n",
      "Sc = 9139.4 VA\n",
      "Pc = 9061.2 W\n",
      "Qc = 1192.9 var\n",
      "===============\n"
     ]
    }
   ],
   "source": [
    "print('''\n",
    "Sc = {:.1f} VA\n",
    "Pc = {:.1f} W\n",
    "Qc = {:.1f} var\n",
    "==============='''.format(abs(Sc), Sc.real, Sc.imag))"
   ]
  },
  {
   "cell_type": "markdown",
   "metadata": {},
   "source": [
    "#### (d)\n",
    "\n",
    "The real, reactive, and apparent power consumed by Load 1, Load 2 and by Load 3 respectively are:"
   ]
  },
  {
   "cell_type": "code",
   "execution_count": 16,
   "metadata": {
    "collapsed": false
   },
   "outputs": [
    {
     "data": {
      "text/plain": [
       "(4988.3063257983667+2879.9999999999991j)"
      ]
     },
     "execution_count": 16,
     "metadata": {},
     "output_type": "execute_result"
    }
   ],
   "source": [
    "S1c = V*conj(I1)\n",
    "S1c"
   ]
  },
  {
   "cell_type": "code",
   "execution_count": 17,
   "metadata": {
    "collapsed": false
   },
   "outputs": [
    {
     "data": {
      "text/plain": [
       "(4072.9350596345143+4072.9350596345143j)"
      ]
     },
     "execution_count": 17,
     "metadata": {},
     "output_type": "execute_result"
    }
   ],
   "source": [
    "S2c = V*conj(I2)\n",
    "S2c"
   ]
  },
  {
   "cell_type": "code",
   "execution_count": 18,
   "metadata": {
    "collapsed": false
   },
   "outputs": [
    {
     "data": {
      "text/plain": [
       "(3.5269827815443778e-13-5760j)"
      ]
     },
     "execution_count": 18,
     "metadata": {},
     "output_type": "execute_result"
    }
   ],
   "source": [
    "S3c = V*conj(I3)\n",
    "S3c"
   ]
  },
  {
   "cell_type": "code",
   "execution_count": 19,
   "metadata": {
    "collapsed": false
   },
   "outputs": [
    {
     "name": "stdout",
     "output_type": "stream",
     "text": [
      "\n",
      "S1c =  5760.0 VA\n",
      "P1c =  4988.3 W\n",
      "Q1c =  2880.0 var\n",
      "-----------------\n",
      "S2c =  5760.0 VA\n",
      "P2c =  4072.9 W\n",
      "Q2c =  4072.9 var\n",
      "-----------------\n",
      "S3c =  5760.0 VA\n",
      "P3c =     0.0 W\n",
      "Q3c = -5760.0 var\n",
      "=================\n"
     ]
    }
   ],
   "source": [
    "print('''\n",
    "S1c = {:>7.1f} VA\n",
    "P1c = {:>7.1f} W\n",
    "Q1c = {:>7.1f} var\n",
    "-----------------\n",
    "S2c = {:>7.1f} VA\n",
    "P2c = {:>7.1f} W\n",
    "Q2c = {:>7.1f} var\n",
    "-----------------\n",
    "S3c = {:>7.1f} VA\n",
    "P3c = {:>7.1f} W\n",
    "Q3c = {:>7.1f} var\n",
    "================='''.format(abs(S1c), S1c.real, S1c.imag,\n",
    "                            abs(S2c), S2c.real, S2c.imag,\n",
    "                            abs(S3c), S3c.real, S3c.imag))"
   ]
  },
  {
   "cell_type": "markdown",
   "metadata": {},
   "source": [
    "#### (e)\n",
    "\n",
    "The current flowing decreased when the switch closed, because most of the reactive power being\n",
    "consumed by Loads 1 and 2 is being supplied by Load 3. Since less reactive power has to be supplied by the source, the total current flow decreases."
   ]
  }
 ],
 "metadata": {
  "kernelspec": {
   "display_name": "Python 3",
   "language": "python",
   "name": "python3"
  },
  "language_info": {
   "codemirror_mode": {
    "name": "ipython",
    "version": 3
   },
   "file_extension": ".py",
   "mimetype": "text/x-python",
   "name": "python",
   "nbconvert_exporter": "python",
   "pygments_lexer": "ipython3",
   "version": "3.5.2"
  }
 },
 "nbformat": 4,
 "nbformat_minor": 0
}
