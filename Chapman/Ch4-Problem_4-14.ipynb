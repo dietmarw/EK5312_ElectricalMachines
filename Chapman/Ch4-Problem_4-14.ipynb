{
 "cells": [
  {
   "cell_type": "markdown",
   "metadata": {},
   "source": [
    "# Excercises Electric Machinery Fundamentals\n",
    "## Chapter 4"
   ]
  },
  {
   "cell_type": "markdown",
   "metadata": {},
   "source": [
    "## Problem 4-14"
   ]
  },
  {
   "cell_type": "code",
   "execution_count": 1,
   "metadata": {
    "collapsed": false,
    "slideshow": {
     "slide_type": "skip"
    }
   },
   "outputs": [
    {
     "name": "stdout",
     "output_type": "stream",
     "text": [
      "Populating the interactive namespace from numpy and matplotlib\n"
     ]
    }
   ],
   "source": [
    "%pylab inline"
   ]
  },
  {
   "cell_type": "markdown",
   "metadata": {},
   "source": [
    "### Description"
   ]
  },
  {
   "cell_type": "markdown",
   "metadata": {},
   "source": [
    "During a short-circuit test, a Y-connected synchronous generator produces 100 A of short-circuit armature\n",
    "current per phase at a field current of 2.5 A. At the same field current, the open-circuit line voltage is\n",
    "measured to be 440 V.\n",
    "\n",
    "#### (a)\n",
    "\n",
    " * Calculate the saturated synchronous reactance under these conditions.\n",
    "\n",
    "#### (b)\n",
    "If the armature resistance is $0.3\\,\\Omega$ per phase, and the generator supplies 60 A to a purely resistive Y-connected load ~~of 3&nbsp;Ohms per phase at this~~ at a matching field current setting, \n",
    " \n",
    " * Determine the voltage regulation under these load conditions."
   ]
  },
  {
   "cell_type": "markdown",
   "metadata": {},
   "source": [
    "### SOLUTION"
   ]
  },
  {
   "cell_type": "markdown",
   "metadata": {},
   "source": [
    "#### (a)\n",
    "The saturated synchronous reactance at a field current of 2.5 A can be found from the information\n",
    "supplied in the problem. The open circuit line voltage at $I_F = 2.5\\,A$ is 440 V, and the short-circuit current is 100 A."
   ]
  },
  {
   "cell_type": "code",
   "execution_count": 2,
   "metadata": {
    "collapsed": false
   },
   "outputs": [],
   "source": [
    "If   =   2.5 # [A]\n",
    "Vocc = 440.0 # [V]\n",
    "Isc  = 100.0 # [A]"
   ]
  },
  {
   "cell_type": "markdown",
   "metadata": {},
   "source": [
    "Since this generator is Y-connected, the corresponding phase voltage is:"
   ]
  },
  {
   "cell_type": "code",
   "execution_count": 3,
   "metadata": {
    "collapsed": false
   },
   "outputs": [
    {
     "name": "stdout",
     "output_type": "stream",
     "text": [
      "Vphi = 254 V\n"
     ]
    }
   ],
   "source": [
    "Vphi = Vocc / sqrt(3)\n",
    "print('Vphi = {:.0f} V'.format(Vphi)) "
   ]
  },
  {
   "cell_type": "markdown",
   "metadata": {},
   "source": [
    "and the armature current is $I_A = I_{SC}$ . Therefore, the saturated synchronous\n",
    "reactance is:"
   ]
  },
  {
   "cell_type": "code",
   "execution_count": 4,
   "metadata": {
    "collapsed": false
   },
   "outputs": [
    {
     "name": "stdout",
     "output_type": "stream",
     "text": [
      "\n",
      "Xs = 2.54 Ω\n",
      "===========\n"
     ]
    }
   ],
   "source": [
    "Ia = Isc\n",
    "Xs = Vphi / Ia\n",
    "print('''\n",
    "Xs = {:.2f} Ω\n",
    "==========='''.format(Xs))"
   ]
  },
  {
   "cell_type": "markdown",
   "metadata": {},
   "source": [
    "#### (b)\n",
    "Assume that the desired line voltage is 440 V, which means that the phase voltage $\\vec{V}_\\phi = 254\\,V\\angle 0°$ (as calulated above).\n",
    "The armature current is $\\vec{I}_A = 60\\,A \\angle 0°$, so the internal generated voltage is:\n",
    "\n",
    "$$\\vec{E}_A = \\vec{V}_\\phi + R_A\\vec{I}_A + jX_S\\vec{I}_A$$"
   ]
  },
  {
   "cell_type": "code",
   "execution_count": 5,
   "metadata": {
    "collapsed": false
   },
   "outputs": [
    {
     "name": "stdout",
     "output_type": "stream",
     "text": [
      "EA = 312 V ∠29.3°\n"
     ]
    }
   ],
   "source": [
    "Vl_desired = 440   # [V]\n",
    "Ra         =   0.3 # [Ohm]\n",
    "Ia_b       =  60.0 # [A]\n",
    "EA         = Vphi + Ra * Ia_b + Xs*1j * Ia_b\n",
    "EA_angle   = arctan(EA.imag/EA.real)\n",
    "print('EA = {:.0f} V ∠{:.1f}°'.format(abs(EA), EA_angle/pi*180))"
   ]
  },
  {
   "cell_type": "markdown",
   "metadata": {},
   "source": [
    "This is also the phase voltage at no load conditions. The corresponding line voltage at no load conditions\n",
    "would be:"
   ]
  },
  {
   "cell_type": "code",
   "execution_count": 6,
   "metadata": {
    "collapsed": false
   },
   "outputs": [
    {
     "name": "stdout",
     "output_type": "stream",
     "text": [
      "Vl_nl = 540 V\n"
     ]
    }
   ],
   "source": [
    "Vl_nl = abs(EA) * sqrt(3)\n",
    "print('Vl_nl = {:.0f} V'.format(Vl_nl))"
   ]
  },
  {
   "cell_type": "markdown",
   "metadata": {},
   "source": [
    "The voltage regulation is:\n",
    "\n",
    "$$VR = \\frac{V_\\text{T,nl} - V_\\text{T,fl}}{V_\\text{T,fl}} \\cdot 100\\%$$"
   ]
  },
  {
   "cell_type": "code",
   "execution_count": 7,
   "metadata": {
    "collapsed": false
   },
   "outputs": [
    {
     "name": "stdout",
     "output_type": "stream",
     "text": [
      "\n",
      "VR = 22.7 %\n",
      "===========\n"
     ]
    }
   ],
   "source": [
    "VR = (Vl_nl - Vl_desired) / Vl_desired\n",
    "print('''\n",
    "VR = {:.1f} %\n",
    "==========='''.format(VR*100))"
   ]
  }
 ],
 "metadata": {
  "kernelspec": {
   "display_name": "Python 3",
   "language": "python",
   "name": "python3"
  },
  "language_info": {
   "codemirror_mode": {
    "name": "ipython",
    "version": 3
   },
   "file_extension": ".py",
   "mimetype": "text/x-python",
   "name": "python",
   "nbconvert_exporter": "python",
   "pygments_lexer": "ipython3",
   "version": "3.5.2"
  }
 },
 "nbformat": 4,
 "nbformat_minor": 0
}
